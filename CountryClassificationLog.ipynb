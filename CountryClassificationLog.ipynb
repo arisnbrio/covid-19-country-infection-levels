{
  "nbformat": 4,
  "nbformat_minor": 0,
  "metadata": {
    "colab": {
      "name": "CountryClassificationLog.ipynb",
      "provenance": [],
      "collapsed_sections": [],
      "include_colab_link": true
    },
    "kernelspec": {
      "display_name": "Python 3",
      "name": "python3"
    }
  },
  "cells": [
    {
      "cell_type": "markdown",
      "metadata": {
        "id": "view-in-github",
        "colab_type": "text"
      },
      "source": [
        "<a href=\"https://colab.research.google.com/github/arisnbrio/covid-19-country-infection-levels/blob/main/CountryClassificationLog.ipynb\" target=\"_parent\"><img src=\"https://colab.research.google.com/assets/colab-badge.svg\" alt=\"Open In Colab\"/></a>"
      ]
    },
    {
      "cell_type": "markdown",
      "metadata": {
        "id": "O5HMq0GbFkbj"
      },
      "source": [
        "## Import Datasets and merge together into one dataset by key values "
      ]
    },
    {
      "cell_type": "code",
      "metadata": {
        "id": "cSUKW3abLx3d"
      },
      "source": [
        "import pandas as pd\n",
        "pd.set_option('display.float_format', lambda x: '%.5f' % x)\n",
        "import numpy as np\n",
        "from functools import reduce\n",
        "import plotly.offline as pyo\n",
        "\n",
        "epid = pd.read_csv(\"https://storage.googleapis.com/covid19-open-data/v2/epidemiology.csv\", parse_dates = True)\n",
        "# deceased, deaths, recover etc\n",
        "demo = pd.read_csv(\"https://storage.googleapis.com/covid19-open-data/v2/demographics.csv\")\n",
        "# population\n",
        "ind = pd.read_csv(\"https://storage.googleapis.com/covid19-open-data/v2/index.csv\")\n",
        "\n",
        "eco = pd.read_csv(\"https://storage.googleapis.com/covid19-open-data/v2/economy.csv\")\n",
        "\n",
        "geo = pd.read_csv(\"https://storage.googleapis.com/covid19-open-data/v2/geography.csv\")\n",
        "# needed for country/country code/subregion1_code(city)\n",
        "\n",
        "\n",
        "data = epid.merge(demo,on='key').merge(ind,on='key').merge(eco,on='key').merge(geo,on='key')\n",
        "\n",
        "cases_per_100T = data['new_confirmed']/data['population'] # cases per 1 million pop\n",
        "cases_per_100T = cases_per_100T.apply(lambda x: x*100000)\n",
        "data = data.assign(cases_per_100T = cases_per_100T)"
      ],
      "execution_count": 297,
      "outputs": []
    },
    {
      "cell_type": "markdown",
      "metadata": {
        "id": "F21_N45PFrYN"
      },
      "source": [
        "# Data Cleaning/Exploratary Data Analysis\n",
        "\n",
        "\n"
      ]
    },
    {
      "cell_type": "code",
      "metadata": {
        "colab": {
          "base_uri": "https://localhost:8080/"
        },
        "id": "KCcNNunAZCJh",
        "outputId": "d7f350fb-8bb1-4dd8-feac-b9d9f57c0485"
      },
      "source": [
        "# info about entire dataset\n",
        "data.info()"
      ],
      "execution_count": 298,
      "outputs": [
        {
          "output_type": "stream",
          "text": [
            "<class 'pandas.core.frame.DataFrame'>\n",
            "Int64Index: 153133 entries, 0 to 153132\n",
            "Data columns (total 55 columns):\n",
            " #   Column                       Non-Null Count   Dtype  \n",
            "---  ------                       --------------   -----  \n",
            " 0   date                         153133 non-null  object \n",
            " 1   key                          152681 non-null  object \n",
            " 2   new_confirmed                153016 non-null  float64\n",
            " 3   new_deceased                 142188 non-null  float64\n",
            " 4   new_recovered                31440 non-null   float64\n",
            " 5   new_tested                   52802 non-null   float64\n",
            " 6   total_confirmed              153061 non-null  float64\n",
            " 7   total_deceased               142489 non-null  float64\n",
            " 8   total_recovered              30571 non-null   float64\n",
            " 9   total_tested                 53139 non-null   float64\n",
            " 10  population                   153133 non-null  float64\n",
            " 11  population_male              152227 non-null  float64\n",
            " 12  population_female            152227 non-null  float64\n",
            " 13  rural_population             91344 non-null   float64\n",
            " 14  urban_population             91344 non-null   float64\n",
            " 15  largest_city_population      66481 non-null   float64\n",
            " 16  clustered_population         52868 non-null   float64\n",
            " 17  population_density           151943 non-null  float64\n",
            " 18  human_development_index      85519 non-null   float64\n",
            " 19  population_age_00_09         152227 non-null  float64\n",
            " 20  population_age_10_19         152227 non-null  float64\n",
            " 21  population_age_20_29         152227 non-null  float64\n",
            " 22  population_age_30_39         152227 non-null  float64\n",
            " 23  population_age_40_49         152227 non-null  float64\n",
            " 24  population_age_50_59         152227 non-null  float64\n",
            " 25  population_age_60_69         152227 non-null  float64\n",
            " 26  population_age_70_79         152227 non-null  float64\n",
            " 27  population_age_80_89         141142 non-null  float64\n",
            " 28  population_age_90_99         141142 non-null  float64\n",
            " 29  population_age_80_and_older  152227 non-null  float64\n",
            " 30  place_id                     136910 non-null  object \n",
            " 31  wikidata                     153133 non-null  object \n",
            " 32  datacommons                  147701 non-null  object \n",
            " 33  country_code                 152681 non-null  object \n",
            " 34  country_name                 153133 non-null  object \n",
            " 35  subregion1_code              61789 non-null   object \n",
            " 36  subregion1_name              61789 non-null   object \n",
            " 37  subregion2_code              3151 non-null    object \n",
            " 38  subregion2_name              3151 non-null    object \n",
            " 39  locality_code                412 non-null     object \n",
            " 40  locality_name                412 non-null     object \n",
            " 41  3166-1-alpha-2               152681 non-null  object \n",
            " 42  3166-1-alpha-3               153133 non-null  object \n",
            " 43  aggregation_level            153133 non-null  int64  \n",
            " 44  gdp                          140938 non-null  float64\n",
            " 45  gdp_per_capita               153133 non-null  int64  \n",
            " 46  human_capital_index          70098 non-null   float64\n",
            " 47  open_street_maps             150873 non-null  float64\n",
            " 48  latitude                     151642 non-null  float64\n",
            " 49  longitude                    151642 non-null  float64\n",
            " 50  elevation                    31982 non-null   float64\n",
            " 51  area                         152998 non-null  float64\n",
            " 52  rural_area                   75970 non-null   float64\n",
            " 53  urban_area                   75970 non-null   float64\n",
            " 54  cases_per_100T               153016 non-null  float64\n",
            "dtypes: float64(38), int64(2), object(15)\n",
            "memory usage: 65.4+ MB\n"
          ],
          "name": "stdout"
        }
      ]
    },
    {
      "cell_type": "code",
      "metadata": {
        "colab": {
          "base_uri": "https://localhost:8080/"
        },
        "id": "wUfasccb411b",
        "outputId": "bd68daaa-49d4-4d87-ed5d-e9bde966cc01"
      },
      "source": [
        "# number of days of observations we have for each country\n",
        "num_days = data['date'].nunique()\n",
        "num_days"
      ],
      "execution_count": 299,
      "outputs": [
        {
          "output_type": "execute_result",
          "data": {
            "text/plain": [
              "456"
            ]
          },
          "metadata": {
            "tags": []
          },
          "execution_count": 299
        }
      ]
    },
    {
      "cell_type": "markdown",
      "metadata": {
        "id": "UBhQDuOxBSjE"
      },
      "source": [
        "## Taking only the data from Jan 2021 and Feb 2021 to reduce the amount of data we are working with"
      ]
    },
    {
      "cell_type": "code",
      "metadata": {
        "colab": {
          "base_uri": "https://localhost:8080/"
        },
        "id": "y2_Sl4g4nyx5",
        "outputId": "a98e2062-1331-4baa-f726-d002c3c21d86"
      },
      "source": [
        "country_data = data[data['subregion1_code'].isnull()] # collect rows that don't specify subregions\n",
        "country_data = country_data[(country_data['date'] >= '2021-01-01') & (country_data['date'] <= '2021-02-28')] # filter dates between jan and feb\n",
        "country_data = country_data.drop(['subregion1_code','subregion1_name','subregion2_code','subregion2_name'], axis=1) # drop column\n",
        "country_data=country_data[[\"date\",\"country_name\",\"cases_per_100T\",\"new_confirmed\", \"new_deceased\",\"population\",\"population_density\",\"gdp_per_capita\"]]\n",
        "country_data.info()\n",
        "\n"
      ],
      "execution_count": 300,
      "outputs": [
        {
          "output_type": "stream",
          "text": [
            "<class 'pandas.core.frame.DataFrame'>\n",
            "Int64Index: 11921 entries, 367 to 113280\n",
            "Data columns (total 8 columns):\n",
            " #   Column              Non-Null Count  Dtype  \n",
            "---  ------              --------------  -----  \n",
            " 0   date                11921 non-null  object \n",
            " 1   country_name        11921 non-null  object \n",
            " 2   cases_per_100T      11921 non-null  float64\n",
            " 3   new_confirmed       11921 non-null  float64\n",
            " 4   new_deceased        11921 non-null  float64\n",
            " 5   population          11921 non-null  float64\n",
            " 6   population_density  11921 non-null  float64\n",
            " 7   gdp_per_capita      11921 non-null  int64  \n",
            "dtypes: float64(5), int64(1), object(2)\n",
            "memory usage: 838.2+ KB\n"
          ],
          "name": "stdout"
        }
      ]
    },
    {
      "cell_type": "markdown",
      "metadata": {
        "id": "pIay3u9lGdWY"
      },
      "source": [
        "## Now let's take a look at the correlation matrix of all variables in the data subset we are working with to see if we have a problem with multicollinearity\n",
        "Since the Pearson method relies on the assumption of the data being normally distributed, we use the Spearman method instead because it doesn't have assumptions of the population distribution of the data, so it generalizes to our dataset better. "
      ]
    },
    {
      "cell_type": "code",
      "metadata": {
        "colab": {
          "base_uri": "https://localhost:8080/"
        },
        "id": "-cdW5a3ULL22",
        "outputId": "9e88f60b-7aae-474f-e9f1-f943e7560ce8"
      },
      "source": [
        "corrMatrix = country_data.corr(method = 'spearman')\n",
        "print(corrMatrix)"
      ],
      "execution_count": 301,
      "outputs": [
        {
          "output_type": "stream",
          "text": [
            "                    cases_per_100T  ...  gdp_per_capita\n",
            "cases_per_100T             1.00000  ...         0.45841\n",
            "new_confirmed              0.78593  ...         0.24029\n",
            "new_deceased               0.63938  ...         0.18181\n",
            "population                 0.06896  ...        -0.29946\n",
            "population_density        -0.25544  ...        -0.20348\n",
            "gdp_per_capita             0.45841  ...         1.00000\n",
            "\n",
            "[6 rows x 6 columns]\n"
          ],
          "name": "stdout"
        }
      ]
    },
    {
      "cell_type": "markdown",
      "metadata": {
        "id": "lR7Ov7BTomeB"
      },
      "source": [
        "## Visualize the correlation matrix with a heatmap"
      ]
    },
    {
      "cell_type": "code",
      "metadata": {
        "colab": {
          "base_uri": "https://localhost:8080/",
          "height": 367
        },
        "id": "-6Y0wYpfLVXG",
        "outputId": "56c23d77-0a36-4b46-c003-003e783450c5"
      },
      "source": [
        "import seaborn as sn\n",
        "import matplotlib.pyplot as plt\n",
        "sn.heatmap(corrMatrix, annot = True, cmap = 'Blues')\n",
        "plt.show()"
      ],
      "execution_count": 302,
      "outputs": [
        {
          "output_type": "display_data",
          "data": {
            "image/png": "[encoded data removed]",
            "text/plain": [
              "<Figure size 432x288 with 2 Axes>"
            ]
          },
          "metadata": {
            "tags": []
          }
        }
      ]
    },
    {
      "cell_type": "code",
      "metadata": {
        "colab": {
          "base_uri": "https://localhost:8080/",
          "height": 527
        },
        "id": "dd9igUtFo6gF",
        "outputId": "c31cec0c-9a32-4b87-b546-8ab92ecd0ef3"
      },
      "source": [
        "import seaborn as sn\n",
        "import matplotlib.pyplot as plt\n",
        "covMatrix = pd.DataFrame.cov(country_data)\n",
        "print(covMatrix)\n",
        "sn.heatmap(covMatrix, annot = False, cmap = 'Blues', robust = True)\n",
        "plt.show()"
      ],
      "execution_count": 303,
      "outputs": [
        {
          "output_type": "stream",
          "text": [
            "                     cases_per_100T  ...      gdp_per_capita\n",
            "cases_per_100T            408.50161  ...        146697.65111\n",
            "new_confirmed           61504.13969  ...      39575583.08551\n",
            "new_deceased             1042.01429  ...        806596.92338\n",
            "population         -184943392.37570  ... -236798757206.62366\n",
            "population_density    3741984.17204  ...   24789402267.63024\n",
            "gdp_per_capita         146697.65111  ...     689430612.06290\n",
            "\n",
            "[6 rows x 6 columns]\n"
          ],
          "name": "stdout"
        },
        {
          "output_type": "display_data",
          "data": {
            "image/png": "[encoded data removed]",
            "text/plain": [
              "<Figure size 432x288 with 2 Axes>"
            ]
          },
          "metadata": {
            "tags": []
          }
        }
      ]
    },
    {
      "cell_type": "markdown",
      "metadata": {
        "id": "m81cZtyhXkNf"
      },
      "source": [
        "## Split into Months \n",
        "Using January data as our training set, and February data as our test set. CDC recognizes infection severity levels by the last 28 days which is roughly a month so we use these constraints to determine our levels for the months of January and February. We then summarize our data to get our CDC levels."
      ]
    },
    {
      "cell_type": "code",
      "metadata": {
        "colab": {
          "base_uri": "https://localhost:8080/"
        },
        "id": "BTCYSrMS6PzQ",
        "outputId": "00985897-f373-41a8-b379-8a77c0fb4a01"
      },
      "source": [
        "jan_data = country_data[(country_data['date'] >= '2021-01-01') & (country_data['date'] < '2021-02-01')]\n",
        "\n",
        "jan_data = jan_data.groupby(\n",
        "   ['country_name']\n",
        ").agg(\n",
        "    {   'cases_per_100T': ['sum'], # sum of total new cases in the time span per 1M ppl\n",
        "        'new_confirmed':['sum'],   # cumulative number of cases over the past 59 days \n",
        "        'population': ['mean'],\n",
        "        'population_density': ['mean'],\n",
        "        'new_deceased': ['sum'],\n",
        "        'gdp_per_capita': ['mean']\n",
        "    }\n",
        ").reset_index()\n",
        "\n",
        "\n",
        "\n",
        "conditions = [  # if else basically\n",
        "    (jan_data['cases_per_100T'] < 5), # low\n",
        "    (jan_data['cases_per_100T'] >= 5) & (jan_data['cases_per_100T'] <= 50), # medium\n",
        "    (jan_data['cases_per_100T'] > 50) & (jan_data['cases_per_100T'] <= 100), # high\n",
        "    (jan_data['cases_per_100T'] > 100) # extreme\n",
        "    ]\n",
        "values = ['low', 'moderate', 'high', 'extreme']\n",
        "\n",
        "## true labels for our training data\n",
        "jan_data['levels'] = np.select(conditions, values)\n",
        "\n",
        "jan_data.info()"
      ],
      "execution_count": 304,
      "outputs": [
        {
          "output_type": "stream",
          "text": [
            "<class 'pandas.core.frame.DataFrame'>\n",
            "RangeIndex: 203 entries, 0 to 202\n",
            "Data columns (total 8 columns):\n",
            " #   Column                      Non-Null Count  Dtype  \n",
            "---  ------                      --------------  -----  \n",
            " 0   (country_name, )            203 non-null    object \n",
            " 1   (cases_per_100T, sum)       203 non-null    float64\n",
            " 2   (new_confirmed, sum)        203 non-null    float64\n",
            " 3   (population, mean)          203 non-null    float64\n",
            " 4   (population_density, mean)  203 non-null    float64\n",
            " 5   (new_deceased, sum)         203 non-null    float64\n",
            " 6   (gdp_per_capita, mean)      203 non-null    int64  \n",
            " 7   (levels, )                  203 non-null    object \n",
            "dtypes: float64(5), int64(1), object(2)\n",
            "memory usage: 12.8+ KB\n"
          ],
          "name": "stdout"
        }
      ]
    },
    {
      "cell_type": "code",
      "metadata": {
        "colab": {
          "base_uri": "https://localhost:8080/"
        },
        "id": "Klx4sKkzg6WB",
        "outputId": "16cf3a72-f6f2-4820-e626-b431bb458d8f"
      },
      "source": [
        "feb_data = country_data[(country_data['date'] >= '2021-02-01') & (country_data['date'] <= '2021-02-28')]\n",
        "\n",
        "feb_data = feb_data.groupby(\n",
        "   ['country_name']\n",
        ").agg(\n",
        "    {   'cases_per_100T': ['sum'], # sum of total new cases in the time span per 1M ppl\n",
        "        'new_confirmed':['sum'],   # cumulative number of cases over the past 59 days \n",
        "        'population': ['mean'],\n",
        "        'population_density': ['mean'],\n",
        "        'new_deceased': ['sum'],\n",
        "        'gdp_per_capita': ['mean']\n",
        "    }\n",
        ").reset_index()\n",
        "\n",
        "\n",
        "conditions = [  # if else basically\n",
        "    (feb_data['cases_per_100T'] < 5), # low\n",
        "    (feb_data['cases_per_100T'] >= 5) & (feb_data['cases_per_100T'] <= 50), # medium\n",
        "    (feb_data['cases_per_100T'] > 50) & (feb_data['cases_per_100T'] <= 100), # high\n",
        "    (feb_data['cases_per_100T'] > 100) # extreme\n",
        "    ]\n",
        "values = ['low', 'moderate', 'high', 'extreme']\n",
        "\n",
        "## true labels for our training data\n",
        "feb_data['levels'] = np.select(conditions, values)\n",
        "\n",
        "feb_data.info()"
      ],
      "execution_count": 305,
      "outputs": [
        {
          "output_type": "stream",
          "text": [
            "<class 'pandas.core.frame.DataFrame'>\n",
            "RangeIndex: 202 entries, 0 to 201\n",
            "Data columns (total 8 columns):\n",
            " #   Column                      Non-Null Count  Dtype  \n",
            "---  ------                      --------------  -----  \n",
            " 0   (country_name, )            202 non-null    object \n",
            " 1   (cases_per_100T, sum)       202 non-null    float64\n",
            " 2   (new_confirmed, sum)        202 non-null    float64\n",
            " 3   (population, mean)          202 non-null    float64\n",
            " 4   (population_density, mean)  202 non-null    float64\n",
            " 5   (new_deceased, sum)         202 non-null    float64\n",
            " 6   (gdp_per_capita, mean)      202 non-null    int64  \n",
            " 7   (levels, )                  202 non-null    object \n",
            "dtypes: float64(5), int64(1), object(2)\n",
            "memory usage: 12.8+ KB\n"
          ],
          "name": "stdout"
        }
      ]
    },
    {
      "cell_type": "markdown",
      "metadata": {
        "id": "6o4Dn9kx-mEz"
      },
      "source": [
        "## Uneven dimensions most likely due to a missing country in february dataset"
      ]
    },
    {
      "cell_type": "code",
      "metadata": {
        "id": "e7lSRYOl-k55"
      },
      "source": [
        ""
      ],
      "execution_count": 305,
      "outputs": []
    },
    {
      "cell_type": "markdown",
      "metadata": {
        "id": "LdfHagLl_ca-"
      },
      "source": [
        "## Now we remove the missing row in feb_data from jan_data so that our dimensions match"
      ]
    },
    {
      "cell_type": "code",
      "metadata": {
        "colab": {
          "base_uri": "https://localhost:8080/"
        },
        "id": "_nTFFhNj_a5S",
        "outputId": "38bd4038-bd5a-449d-d2d8-df57057980b8"
      },
      "source": [
        "jan_data = jan_data[jan_data.country_name != 'Macau']\n",
        "print('Shape of January Data:', jan_data.shape)\n",
        "print('Shape of February Data:', feb_data.shape)"
      ],
      "execution_count": 306,
      "outputs": [
        {
          "output_type": "stream",
          "text": [
            "Shape of January Data: (202, 8)\n",
            "Shape of February Data: (202, 8)\n"
          ],
          "name": "stdout"
        }
      ]
    },
    {
      "cell_type": "markdown",
      "metadata": {
        "id": "IcMxqBj3ATlr"
      },
      "source": [
        "## Infection Levels for January and February"
      ]
    },
    {
      "cell_type": "code",
      "metadata": {
        "colab": {
          "base_uri": "https://localhost:8080/",
          "height": 542
        },
        "id": "6UMO8xGREYrD",
        "outputId": "1c9d471e-ad23-497c-c360-a295088b2e71"
      },
      "source": [
        "import plotly.express as px\n",
        "fig = px.histogram(jan_data, x='levels',color='levels',title=\"Infection levels for the Month of January (2021)\")\n",
        "fig.show(renderer=\"colab\")\n"
      ],
      "execution_count": 307,
      "outputs": [
        {
          "output_type": "display_data",
          "data": {
            "text/html": [
              "<html>\n",
              "<head><meta charset=\"utf-8\" /></head>\n",
              "<body>\n",
              "    <div>\n",
              "            <script src=\"https://cdnjs.cloudflare.com/ajax/libs/mathjax/2.7.5/MathJax.js?config=TeX-AMS-MML_SVG\"></script><script type=\"text/javascript\">if (window.MathJax) {MathJax.Hub.Config({SVG: {font: \"STIX-Web\"}});}</script>\n",
              "                <script type=\"text/javascript\">window.PlotlyConfig = {MathJaxConfig: 'local'};</script>\n",
              "        <script src=\"https://cdn.plot.ly/plotly-latest.min.js\"></script>    \n",
              "            <div id=\"9c26a55f-60a4-4442-b974-fe8490b847c4\" class=\"plotly-graph-div\" style=\"height:525px; width:100%;\"></div>\n",
              "            <script type=\"text/javascript\">\n",
              "                \n",
              "                    window.PLOTLYENV=window.PLOTLYENV || {};\n",
              "                    \n",
              "                if (document.getElementById(\"9c26a55f-60a4-4442-b974-fe8490b847c4\")) {\n",
              "                    Plotly.newPlot(\n",
              "                        '9c26a55f-60a4-4442-b974-fe8490b847c4',\n",
              "                        [{\"alignmentgroup\": \"True\", \"bingroup\": \"x\", \"hoverlabel\": {\"namelength\": 0}, \"hovertemplate\": \"levels=%{x}<br>count=%{y}\", \"legendgroup\": \"levels=moderate\", \"marker\": {\"color\": \"#636efa\"}, \"name\": \"levels=moderate\", \"offsetgroup\": \"levels=moderate\", \"orientation\": \"v\", \"showlegend\": true, \"type\": \"histogram\", \"x\": [\"moderate\", \"moderate\", \"moderate\", \"moderate\", \"moderate\", \"moderate\", \"moderate\", \"moderate\", \"moderate\", \"moderate\", \"moderate\", \"moderate\", \"moderate\", \"moderate\", \"moderate\", \"moderate\", \"moderate\", \"moderate\", \"moderate\", \"moderate\", \"moderate\", \"moderate\", \"moderate\", \"moderate\", \"moderate\", \"moderate\", \"moderate\", \"moderate\", \"moderate\", \"moderate\", \"moderate\", \"moderate\", \"moderate\", \"moderate\", \"moderate\", \"moderate\", \"moderate\", \"moderate\", \"moderate\", \"moderate\", \"moderate\", \"moderate\", \"moderate\", \"moderate\", \"moderate\", \"moderate\", \"moderate\"], \"xaxis\": \"x\", \"yaxis\": \"y\"}, {\"alignmentgroup\": \"True\", \"bingroup\": \"x\", \"hoverlabel\": {\"namelength\": 0}, \"hovertemplate\": \"levels=%{x}<br>count=%{y}\", \"legendgroup\": \"levels=extreme\", \"marker\": {\"color\": \"#EF553B\"}, \"name\": \"levels=extreme\", \"offsetgroup\": \"levels=extreme\", \"orientation\": \"v\", \"showlegend\": true, \"type\": \"histogram\", \"x\": [\"extreme\", \"extreme\", \"extreme\", \"extreme\", \"extreme\", \"extreme\", \"extreme\", \"extreme\", \"extreme\", \"extreme\", \"extreme\", \"extreme\", \"extreme\", \"extreme\", \"extreme\", \"extreme\", \"extreme\", \"extreme\", \"extreme\", \"extreme\", \"extreme\", \"extreme\", \"extreme\", \"extreme\", \"extreme\", \"extreme\", \"extreme\", \"extreme\", \"extreme\", \"extreme\", \"extreme\", \"extreme\", \"extreme\", \"extreme\", \"extreme\", \"extreme\", \"extreme\", \"extreme\", \"extreme\", \"extreme\", \"extreme\", \"extreme\", \"extreme\", \"extreme\", \"extreme\", \"extreme\", \"extreme\", \"extreme\", \"extreme\", \"extreme\", \"extreme\", \"extreme\", \"extreme\", \"extreme\", \"extreme\", \"extreme\", \"extreme\", \"extreme\", \"extreme\", \"extreme\", \"extreme\", \"extreme\", \"extreme\", \"extreme\", \"extreme\", \"extreme\", \"extreme\", \"extreme\", \"extreme\", \"extreme\", \"extreme\", \"extreme\", \"extreme\", \"extreme\", \"extreme\", \"extreme\", \"extreme\", \"extreme\", \"extreme\", \"extreme\", \"extreme\", \"extreme\", \"extreme\", \"extreme\", \"extreme\", \"extreme\", \"extreme\", \"extreme\", \"extreme\", \"extreme\", \"extreme\", \"extreme\", \"extreme\", \"extreme\", \"extreme\", \"extreme\", \"extreme\", \"extreme\", \"extreme\", \"extreme\", \"extreme\", \"extreme\", \"extreme\", \"extreme\", \"extreme\", \"extreme\"], \"xaxis\": \"x\", \"yaxis\": \"y\"}, {\"alignmentgroup\": \"True\", \"bingroup\": \"x\", \"hoverlabel\": {\"namelength\": 0}, \"hovertemplate\": \"levels=%{x}<br>count=%{y}\", \"legendgroup\": \"levels=low\", \"marker\": {\"color\": \"#00cc96\"}, \"name\": \"levels=low\", \"offsetgroup\": \"levels=low\", \"orientation\": \"v\", \"showlegend\": true, \"type\": \"histogram\", \"x\": [\"low\", \"low\", \"low\", \"low\", \"low\", \"low\", \"low\", \"low\", \"low\", \"low\", \"low\", \"low\", \"low\", \"low\", \"low\", \"low\", \"low\", \"low\", \"low\", \"low\", \"low\", \"low\", \"low\", \"low\", \"low\", \"low\", \"low\", \"low\", \"low\", \"low\", \"low\", \"low\"], \"xaxis\": \"x\", \"yaxis\": \"y\"}, {\"alignmentgroup\": \"True\", \"bingroup\": \"x\", \"hoverlabel\": {\"namelength\": 0}, \"hovertemplate\": \"levels=%{x}<br>count=%{y}\", \"legendgroup\": \"levels=high\", \"marker\": {\"color\": \"#ab63fa\"}, \"name\": \"levels=high\", \"offsetgroup\": \"levels=high\", \"orientation\": \"v\", \"showlegend\": true, \"type\": \"histogram\", \"x\": [\"high\", \"high\", \"high\", \"high\", \"high\", \"high\", \"high\", \"high\", \"high\", \"high\", \"high\", \"high\", \"high\", \"high\", \"high\", \"high\", \"high\"], \"xaxis\": \"x\", \"yaxis\": \"y\"}],\n",
              "                        {\"barmode\": \"relative\", \"legend\": {\"tracegroupgap\": 0}, \"template\": {\"data\": {\"bar\": [{\"error_x\": {\"color\": \"#2a3f5f\"}, \"error_y\": {\"color\": \"#2a3f5f\"}, \"marker\": {\"line\": {\"color\": \"#E5ECF6\", \"width\": 0.5}}, \"type\": \"bar\"}], \"barpolar\": [{\"marker\": {\"line\": {\"color\": \"#E5ECF6\", \"width\": 0.5}}, \"type\": \"barpolar\"}], \"carpet\": [{\"aaxis\": {\"endlinecolor\": \"#2a3f5f\", \"gridcolor\": \"white\", \"linecolor\": \"white\", \"minorgridcolor\": \"white\", \"startlinecolor\": \"#2a3f5f\"}, \"baxis\": {\"endlinecolor\": \"#2a3f5f\", \"gridcolor\": \"white\", \"linecolor\": \"white\", \"minorgridcolor\": \"white\", \"startlinecolor\": \"#2a3f5f\"}, \"type\": \"carpet\"}], \"choropleth\": [{\"colorbar\": {\"outlinewidth\": 0, \"ticks\": \"\"}, \"type\": \"choropleth\"}], \"contour\": [{\"colorbar\": {\"outlinewidth\": 0, \"ticks\": \"\"}, \"colorscale\": [[0.0, \"#0d0887\"], [0.1111111111111111, \"#46039f\"], [0.2222222222222222, \"#7201a8\"], [0.3333333333333333, \"#9c179e\"], [0.4444444444444444, \"#bd3786\"], [0.5555555555555556, \"#d8576b\"], [0.6666666666666666, \"#ed7953\"], [0.7777777777777778, \"#fb9f3a\"], [0.8888888888888888, \"#fdca26\"], [1.0, \"#f0f921\"]], \"type\": \"contour\"}], \"contourcarpet\": [{\"colorbar\": {\"outlinewidth\": 0, \"ticks\": \"\"}, \"type\": \"contourcarpet\"}], \"heatmap\": [{\"colorbar\": {\"outlinewidth\": 0, \"ticks\": \"\"}, \"colorscale\": [[0.0, \"#0d0887\"], [0.1111111111111111, \"#46039f\"], [0.2222222222222222, \"#7201a8\"], [0.3333333333333333, \"#9c179e\"], [0.4444444444444444, \"#bd3786\"], [0.5555555555555556, \"#d8576b\"], [0.6666666666666666, \"#ed7953\"], [0.7777777777777778, \"#fb9f3a\"], [0.8888888888888888, \"#fdca26\"], [1.0, \"#f0f921\"]], \"type\": \"heatmap\"}], \"heatmapgl\": [{\"colorbar\": {\"outlinewidth\": 0, \"ticks\": \"\"}, \"colorscale\": [[0.0, \"#0d0887\"], [0.1111111111111111, \"#46039f\"], [0.2222222222222222, \"#7201a8\"], [0.3333333333333333, \"#9c179e\"], [0.4444444444444444, \"#bd3786\"], [0.5555555555555556, \"#d8576b\"], [0.6666666666666666, \"#ed7953\"], [0.7777777777777778, \"#fb9f3a\"], [0.8888888888888888, \"#fdca26\"], [1.0, \"#f0f921\"]], \"type\": \"heatmapgl\"}], \"histogram\": [{\"marker\": {\"colorbar\": {\"outlinewidth\": 0, \"ticks\": \"\"}}, \"type\": \"histogram\"}], \"histogram2d\": [{\"colorbar\": {\"outlinewidth\": 0, \"ticks\": \"\"}, \"colorscale\": [[0.0, \"#0d0887\"], [0.1111111111111111, \"#46039f\"], [0.2222222222222222, \"#7201a8\"], [0.3333333333333333, \"#9c179e\"], [0.4444444444444444, \"#bd3786\"], [0.5555555555555556, \"#d8576b\"], [0.6666666666666666, \"#ed7953\"], [0.7777777777777778, \"#fb9f3a\"], [0.8888888888888888, \"#fdca26\"], [1.0, \"#f0f921\"]], \"type\": \"histogram2d\"}], \"histogram2dcontour\": [{\"colorbar\": {\"outlinewidth\": 0, \"ticks\": \"\"}, \"colorscale\": [[0.0, \"#0d0887\"], [0.1111111111111111, \"#46039f\"], [0.2222222222222222, \"#7201a8\"], [0.3333333333333333, \"#9c179e\"], [0.4444444444444444, \"#bd3786\"], [0.5555555555555556, \"#d8576b\"], [0.6666666666666666, \"#ed7953\"], [0.7777777777777778, \"#fb9f3a\"], [0.8888888888888888, \"#fdca26\"], [1.0, \"#f0f921\"]], \"type\": \"histogram2dcontour\"}], \"mesh3d\": [{\"colorbar\": {\"outlinewidth\": 0, \"ticks\": \"\"}, \"type\": \"mesh3d\"}], \"parcoords\": [{\"line\": {\"colorbar\": {\"outlinewidth\": 0, \"ticks\": \"\"}}, \"type\": \"parcoords\"}], \"pie\": [{\"automargin\": true, \"type\": \"pie\"}], \"scatter\": [{\"marker\": {\"colorbar\": {\"outlinewidth\": 0, \"ticks\": \"\"}}, \"type\": \"scatter\"}], \"scatter3d\": [{\"line\": {\"colorbar\": {\"outlinewidth\": 0, \"ticks\": \"\"}}, \"marker\": {\"colorbar\": {\"outlinewidth\": 0, \"ticks\": \"\"}}, \"type\": \"scatter3d\"}], \"scattercarpet\": [{\"marker\": {\"colorbar\": {\"outlinewidth\": 0, \"ticks\": \"\"}}, \"type\": \"scattercarpet\"}], \"scattergeo\": [{\"marker\": {\"colorbar\": {\"outlinewidth\": 0, \"ticks\": \"\"}}, \"type\": \"scattergeo\"}], \"scattergl\": [{\"marker\": {\"colorbar\": {\"outlinewidth\": 0, \"ticks\": \"\"}}, \"type\": \"scattergl\"}], \"scattermapbox\": [{\"marker\": {\"colorbar\": {\"outlinewidth\": 0, \"ticks\": \"\"}}, \"type\": \"scattermapbox\"}], \"scatterpolar\": [{\"marker\": {\"colorbar\": {\"outlinewidth\": 0, \"ticks\": \"\"}}, \"type\": \"scatterpolar\"}], \"scatterpolargl\": [{\"marker\": {\"colorbar\": {\"outlinewidth\": 0, \"ticks\": \"\"}}, \"type\": \"scatterpolargl\"}], \"scatterternary\": [{\"marker\": {\"colorbar\": {\"outlinewidth\": 0, \"ticks\": \"\"}}, \"type\": \"scatterternary\"}], \"surface\": [{\"colorbar\": {\"outlinewidth\": 0, \"ticks\": \"\"}, \"colorscale\": [[0.0, \"#0d0887\"], [0.1111111111111111, \"#46039f\"], [0.2222222222222222, \"#7201a8\"], [0.3333333333333333, \"#9c179e\"], [0.4444444444444444, \"#bd3786\"], [0.5555555555555556, \"#d8576b\"], [0.6666666666666666, \"#ed7953\"], [0.7777777777777778, \"#fb9f3a\"], [0.8888888888888888, \"#fdca26\"], [1.0, \"#f0f921\"]], \"type\": \"surface\"}], \"table\": [{\"cells\": {\"fill\": {\"color\": \"#EBF0F8\"}, \"line\": {\"color\": \"white\"}}, \"header\": {\"fill\": {\"color\": \"#C8D4E3\"}, \"line\": {\"color\": \"white\"}}, \"type\": \"table\"}]}, \"layout\": {\"annotationdefaults\": {\"arrowcolor\": \"#2a3f5f\", \"arrowhead\": 0, \"arrowwidth\": 1}, \"coloraxis\": {\"colorbar\": {\"outlinewidth\": 0, \"ticks\": \"\"}}, \"colorscale\": {\"diverging\": [[0, \"#8e0152\"], [0.1, \"#c51b7d\"], [0.2, \"#de77ae\"], [0.3, \"#f1b6da\"], [0.4, \"#fde0ef\"], [0.5, \"#f7f7f7\"], [0.6, \"#e6f5d0\"], [0.7, \"#b8e186\"], [0.8, \"#7fbc41\"], [0.9, \"#4d9221\"], [1, \"#276419\"]], \"sequential\": [[0.0, \"#0d0887\"], [0.1111111111111111, \"#46039f\"], [0.2222222222222222, \"#7201a8\"], [0.3333333333333333, \"#9c179e\"], [0.4444444444444444, \"#bd3786\"], [0.5555555555555556, \"#d8576b\"], [0.6666666666666666, \"#ed7953\"], [0.7777777777777778, \"#fb9f3a\"], [0.8888888888888888, \"#fdca26\"], [1.0, \"#f0f921\"]], \"sequentialminus\": [[0.0, \"#0d0887\"], [0.1111111111111111, \"#46039f\"], [0.2222222222222222, \"#7201a8\"], [0.3333333333333333, \"#9c179e\"], [0.4444444444444444, \"#bd3786\"], [0.5555555555555556, \"#d8576b\"], [0.6666666666666666, \"#ed7953\"], [0.7777777777777778, \"#fb9f3a\"], [0.8888888888888888, \"#fdca26\"], [1.0, \"#f0f921\"]]}, \"colorway\": [\"#636efa\", \"#EF553B\", \"#00cc96\", \"#ab63fa\", \"#FFA15A\", \"#19d3f3\", \"#FF6692\", \"#B6E880\", \"#FF97FF\", \"#FECB52\"], \"font\": {\"color\": \"#2a3f5f\"}, \"geo\": {\"bgcolor\": \"white\", \"lakecolor\": \"white\", \"landcolor\": \"#E5ECF6\", \"showlakes\": true, \"showland\": true, \"subunitcolor\": \"white\"}, \"hoverlabel\": {\"align\": \"left\"}, \"hovermode\": \"closest\", \"mapbox\": {\"style\": \"light\"}, \"paper_bgcolor\": \"white\", \"plot_bgcolor\": \"#E5ECF6\", \"polar\": {\"angularaxis\": {\"gridcolor\": \"white\", \"linecolor\": \"white\", \"ticks\": \"\"}, \"bgcolor\": \"#E5ECF6\", \"radialaxis\": {\"gridcolor\": \"white\", \"linecolor\": \"white\", \"ticks\": \"\"}}, \"scene\": {\"xaxis\": {\"backgroundcolor\": \"#E5ECF6\", \"gridcolor\": \"white\", \"gridwidth\": 2, \"linecolor\": \"white\", \"showbackground\": true, \"ticks\": \"\", \"zerolinecolor\": \"white\"}, \"yaxis\": {\"backgroundcolor\": \"#E5ECF6\", \"gridcolor\": \"white\", \"gridwidth\": 2, \"linecolor\": \"white\", \"showbackground\": true, \"ticks\": \"\", \"zerolinecolor\": \"white\"}, \"zaxis\": {\"backgroundcolor\": \"#E5ECF6\", \"gridcolor\": \"white\", \"gridwidth\": 2, \"linecolor\": \"white\", \"showbackground\": true, \"ticks\": \"\", \"zerolinecolor\": \"white\"}}, \"shapedefaults\": {\"line\": {\"color\": \"#2a3f5f\"}}, \"ternary\": {\"aaxis\": {\"gridcolor\": \"white\", \"linecolor\": \"white\", \"ticks\": \"\"}, \"baxis\": {\"gridcolor\": \"white\", \"linecolor\": \"white\", \"ticks\": \"\"}, \"bgcolor\": \"#E5ECF6\", \"caxis\": {\"gridcolor\": \"white\", \"linecolor\": \"white\", \"ticks\": \"\"}}, \"title\": {\"x\": 0.05}, \"xaxis\": {\"automargin\": true, \"gridcolor\": \"white\", \"linecolor\": \"white\", \"ticks\": \"\", \"title\": {\"standoff\": 15}, \"zerolinecolor\": \"white\", \"zerolinewidth\": 2}, \"yaxis\": {\"automargin\": true, \"gridcolor\": \"white\", \"linecolor\": \"white\", \"ticks\": \"\", \"title\": {\"standoff\": 15}, \"zerolinecolor\": \"white\", \"zerolinewidth\": 2}}}, \"title\": {\"text\": \"Infection levels for the Month of January (2021)\"}, \"xaxis\": {\"anchor\": \"y\", \"categoryarray\": [\"moderate\", \"extreme\", \"low\", \"high\"], \"categoryorder\": \"array\", \"domain\": [0.0, 1.0], \"title\": {\"text\": \"levels\"}}, \"yaxis\": {\"anchor\": \"x\", \"domain\": [0.0, 1.0], \"title\": {\"text\": \"count\"}}},\n",
              "                        {\"responsive\": true}\n",
              "                    ).then(function(){\n",
              "                            \n",
              "var gd = document.getElementById('9c26a55f-60a4-4442-b974-fe8490b847c4');\n",
              "var x = new MutationObserver(function (mutations, observer) {{\n",
              "        var display = window.getComputedStyle(gd).display;\n",
              "        if (!display || display === 'none') {{\n",
              "            console.log([gd, 'removed!']);\n",
              "            Plotly.purge(gd);\n",
              "            observer.disconnect();\n",
              "        }}\n",
              "}});\n",
              "\n",
              "// Listen for the removal of the full notebook cells\n",
              "var notebookContainer = gd.closest('#notebook-container');\n",
              "if (notebookContainer) {{\n",
              "    x.observe(notebookContainer, {childList: true});\n",
              "}}\n",
              "\n",
              "// Listen for the clearing of the current output cell\n",
              "var outputEl = gd.closest('.output');\n",
              "if (outputEl) {{\n",
              "    x.observe(outputEl, {childList: true});\n",
              "}}\n",
              "\n",
              "                        })\n",
              "                };\n",
              "                \n",
              "            </script>\n",
              "        </div>\n",
              "</body>\n",
              "</html>"
            ]
          },
          "metadata": {
            "tags": []
          }
        }
      ]
    },
    {
      "cell_type": "code",
      "metadata": {
        "colab": {
          "base_uri": "https://localhost:8080/",
          "height": 542
        },
        "id": "qdISoETl-OZp",
        "outputId": "acc51193-c11b-4158-9dd0-445444b55b3f"
      },
      "source": [
        "fig = px.histogram(feb_data, x='levels',color='levels',title=\"Infection levels for the Month of February (2021)\")\n",
        "fig.show(renderer=\"colab\")"
      ],
      "execution_count": 308,
      "outputs": [
        {
          "output_type": "display_data",
          "data": {
            "text/html": [
              "<html>\n",
              "<head><meta charset=\"utf-8\" /></head>\n",
              "<body>\n",
              "    <div>\n",
              "            <script src=\"https://cdnjs.cloudflare.com/ajax/libs/mathjax/2.7.5/MathJax.js?config=TeX-AMS-MML_SVG\"></script><script type=\"text/javascript\">if (window.MathJax) {MathJax.Hub.Config({SVG: {font: \"STIX-Web\"}});}</script>\n",
              "                <script type=\"text/javascript\">window.PlotlyConfig = {MathJaxConfig: 'local'};</script>\n",
              "        <script src=\"https://cdn.plot.ly/plotly-latest.min.js\"></script>    \n",
              "            <div id=\"ec06a022-3079-4081-a61b-1afc8e98003c\" class=\"plotly-graph-div\" style=\"height:525px; width:100%;\"></div>\n",
              "            <script type=\"text/javascript\">\n",
              "                \n",
              "                    window.PLOTLYENV=window.PLOTLYENV || {};\n",
              "                    \n",
              "                if (document.getElementById(\"ec06a022-3079-4081-a61b-1afc8e98003c\")) {\n",
              "                    Plotly.newPlot(\n",
              "                        'ec06a022-3079-4081-a61b-1afc8e98003c',\n",
              "                        [{\"alignmentgroup\": \"True\", \"bingroup\": \"x\", \"hoverlabel\": {\"namelength\": 0}, \"hovertemplate\": \"levels=%{x}<br>count=%{y}\", \"legendgroup\": \"levels=low\", \"marker\": {\"color\": \"#636efa\"}, \"name\": \"levels=low\", \"offsetgroup\": \"levels=low\", \"orientation\": \"v\", \"showlegend\": true, \"type\": \"histogram\", \"x\": [\"low\", \"low\", \"low\", \"low\", \"low\", \"low\", \"low\", \"low\", \"low\", \"low\", \"low\", \"low\", \"low\", \"low\", \"low\", \"low\", \"low\", \"low\", \"low\", \"low\", \"low\", \"low\", \"low\", \"low\", \"low\", \"low\", \"low\", \"low\", \"low\", \"low\", \"low\", \"low\", \"low\", \"low\", \"low\", \"low\", \"low\", \"low\", \"low\", \"low\", \"low\", \"low\", \"low\", \"low\"], \"xaxis\": \"x\", \"yaxis\": \"y\"}, {\"alignmentgroup\": \"True\", \"bingroup\": \"x\", \"hoverlabel\": {\"namelength\": 0}, \"hovertemplate\": \"levels=%{x}<br>count=%{y}\", \"legendgroup\": \"levels=extreme\", \"marker\": {\"color\": \"#EF553B\"}, \"name\": \"levels=extreme\", \"offsetgroup\": \"levels=extreme\", \"orientation\": \"v\", \"showlegend\": true, \"type\": \"histogram\", \"x\": [\"extreme\", \"extreme\", \"extreme\", \"extreme\", \"extreme\", \"extreme\", \"extreme\", \"extreme\", \"extreme\", \"extreme\", \"extreme\", \"extreme\", \"extreme\", \"extreme\", \"extreme\", \"extreme\", \"extreme\", \"extreme\", \"extreme\", \"extreme\", \"extreme\", \"extreme\", \"extreme\", \"extreme\", \"extreme\", \"extreme\", \"extreme\", \"extreme\", \"extreme\", \"extreme\", \"extreme\", \"extreme\", \"extreme\", \"extreme\", \"extreme\", \"extreme\", \"extreme\", \"extreme\", \"extreme\", \"extreme\", \"extreme\", \"extreme\", \"extreme\", \"extreme\", \"extreme\", \"extreme\", \"extreme\", \"extreme\", \"extreme\", \"extreme\", \"extreme\", \"extreme\", \"extreme\", \"extreme\", \"extreme\", \"extreme\", \"extreme\", \"extreme\", \"extreme\", \"extreme\", \"extreme\", \"extreme\", \"extreme\", \"extreme\", \"extreme\", \"extreme\", \"extreme\", \"extreme\", \"extreme\", \"extreme\", \"extreme\", \"extreme\", \"extreme\", \"extreme\", \"extreme\", \"extreme\", \"extreme\", \"extreme\", \"extreme\", \"extreme\", \"extreme\", \"extreme\", \"extreme\", \"extreme\", \"extreme\", \"extreme\", \"extreme\", \"extreme\", \"extreme\", \"extreme\", \"extreme\", \"extreme\", \"extreme\", \"extreme\", \"extreme\", \"extreme\", \"extreme\"], \"xaxis\": \"x\", \"yaxis\": \"y\"}, {\"alignmentgroup\": \"True\", \"bingroup\": \"x\", \"hoverlabel\": {\"namelength\": 0}, \"hovertemplate\": \"levels=%{x}<br>count=%{y}\", \"legendgroup\": \"levels=moderate\", \"marker\": {\"color\": \"#00cc96\"}, \"name\": \"levels=moderate\", \"offsetgroup\": \"levels=moderate\", \"orientation\": \"v\", \"showlegend\": true, \"type\": \"histogram\", \"x\": [\"moderate\", \"moderate\", \"moderate\", \"moderate\", \"moderate\", \"moderate\", \"moderate\", \"moderate\", \"moderate\", \"moderate\", \"moderate\", \"moderate\", \"moderate\", \"moderate\", \"moderate\", \"moderate\", \"moderate\", \"moderate\", \"moderate\", \"moderate\", \"moderate\", \"moderate\", \"moderate\", \"moderate\", \"moderate\", \"moderate\", \"moderate\", \"moderate\", \"moderate\", \"moderate\", \"moderate\", \"moderate\", \"moderate\", \"moderate\", \"moderate\", \"moderate\", \"moderate\", \"moderate\", \"moderate\", \"moderate\", \"moderate\", \"moderate\", \"moderate\", \"moderate\"], \"xaxis\": \"x\", \"yaxis\": \"y\"}, {\"alignmentgroup\": \"True\", \"bingroup\": \"x\", \"hoverlabel\": {\"namelength\": 0}, \"hovertemplate\": \"levels=%{x}<br>count=%{y}\", \"legendgroup\": \"levels=high\", \"marker\": {\"color\": \"#ab63fa\"}, \"name\": \"levels=high\", \"offsetgroup\": \"levels=high\", \"orientation\": \"v\", \"showlegend\": true, \"type\": \"histogram\", \"x\": [\"high\", \"high\", \"high\", \"high\", \"high\", \"high\", \"high\", \"high\", \"high\", \"high\", \"high\", \"high\", \"high\", \"high\", \"high\", \"high\", \"high\"], \"xaxis\": \"x\", \"yaxis\": \"y\"}],\n",
              "                        {\"barmode\": \"relative\", \"legend\": {\"tracegroupgap\": 0}, \"template\": {\"data\": {\"bar\": [{\"error_x\": {\"color\": \"#2a3f5f\"}, \"error_y\": {\"color\": \"#2a3f5f\"}, \"marker\": {\"line\": {\"color\": \"#E5ECF6\", \"width\": 0.5}}, \"type\": \"bar\"}], \"barpolar\": [{\"marker\": {\"line\": {\"color\": \"#E5ECF6\", \"width\": 0.5}}, \"type\": \"barpolar\"}], \"carpet\": [{\"aaxis\": {\"endlinecolor\": \"#2a3f5f\", \"gridcolor\": \"white\", \"linecolor\": \"white\", \"minorgridcolor\": \"white\", \"startlinecolor\": \"#2a3f5f\"}, \"baxis\": {\"endlinecolor\": \"#2a3f5f\", \"gridcolor\": \"white\", \"linecolor\": \"white\", \"minorgridcolor\": \"white\", \"startlinecolor\": \"#2a3f5f\"}, \"type\": \"carpet\"}], \"choropleth\": [{\"colorbar\": {\"outlinewidth\": 0, \"ticks\": \"\"}, \"type\": \"choropleth\"}], \"contour\": [{\"colorbar\": {\"outlinewidth\": 0, \"ticks\": \"\"}, \"colorscale\": [[0.0, \"#0d0887\"], [0.1111111111111111, \"#46039f\"], [0.2222222222222222, \"#7201a8\"], [0.3333333333333333, \"#9c179e\"], [0.4444444444444444, \"#bd3786\"], [0.5555555555555556, \"#d8576b\"], [0.6666666666666666, \"#ed7953\"], [0.7777777777777778, \"#fb9f3a\"], [0.8888888888888888, \"#fdca26\"], [1.0, \"#f0f921\"]], \"type\": \"contour\"}], \"contourcarpet\": [{\"colorbar\": {\"outlinewidth\": 0, \"ticks\": \"\"}, \"type\": \"contourcarpet\"}], \"heatmap\": [{\"colorbar\": {\"outlinewidth\": 0, \"ticks\": \"\"}, \"colorscale\": [[0.0, \"#0d0887\"], [0.1111111111111111, \"#46039f\"], [0.2222222222222222, \"#7201a8\"], [0.3333333333333333, \"#9c179e\"], [0.4444444444444444, \"#bd3786\"], [0.5555555555555556, \"#d8576b\"], [0.6666666666666666, \"#ed7953\"], [0.7777777777777778, \"#fb9f3a\"], [0.8888888888888888, \"#fdca26\"], [1.0, \"#f0f921\"]], \"type\": \"heatmap\"}], \"heatmapgl\": [{\"colorbar\": {\"outlinewidth\": 0, \"ticks\": \"\"}, \"colorscale\": [[0.0, \"#0d0887\"], [0.1111111111111111, \"#46039f\"], [0.2222222222222222, \"#7201a8\"], [0.3333333333333333, \"#9c179e\"], [0.4444444444444444, \"#bd3786\"], [0.5555555555555556, \"#d8576b\"], [0.6666666666666666, \"#ed7953\"], [0.7777777777777778, \"#fb9f3a\"], [0.8888888888888888, \"#fdca26\"], [1.0, \"#f0f921\"]], \"type\": \"heatmapgl\"}], \"histogram\": [{\"marker\": {\"colorbar\": {\"outlinewidth\": 0, \"ticks\": \"\"}}, \"type\": \"histogram\"}], \"histogram2d\": [{\"colorbar\": {\"outlinewidth\": 0, \"ticks\": \"\"}, \"colorscale\": [[0.0, \"#0d0887\"], [0.1111111111111111, \"#46039f\"], [0.2222222222222222, \"#7201a8\"], [0.3333333333333333, \"#9c179e\"], [0.4444444444444444, \"#bd3786\"], [0.5555555555555556, \"#d8576b\"], [0.6666666666666666, \"#ed7953\"], [0.7777777777777778, \"#fb9f3a\"], [0.8888888888888888, \"#fdca26\"], [1.0, \"#f0f921\"]], \"type\": \"histogram2d\"}], \"histogram2dcontour\": [{\"colorbar\": {\"outlinewidth\": 0, \"ticks\": \"\"}, \"colorscale\": [[0.0, \"#0d0887\"], [0.1111111111111111, \"#46039f\"], [0.2222222222222222, \"#7201a8\"], [0.3333333333333333, \"#9c179e\"], [0.4444444444444444, \"#bd3786\"], [0.5555555555555556, \"#d8576b\"], [0.6666666666666666, \"#ed7953\"], [0.7777777777777778, \"#fb9f3a\"], [0.8888888888888888, \"#fdca26\"], [1.0, \"#f0f921\"]], \"type\": \"histogram2dcontour\"}], \"mesh3d\": [{\"colorbar\": {\"outlinewidth\": 0, \"ticks\": \"\"}, \"type\": \"mesh3d\"}], \"parcoords\": [{\"line\": {\"colorbar\": {\"outlinewidth\": 0, \"ticks\": \"\"}}, \"type\": \"parcoords\"}], \"pie\": [{\"automargin\": true, \"type\": \"pie\"}], \"scatter\": [{\"marker\": {\"colorbar\": {\"outlinewidth\": 0, \"ticks\": \"\"}}, \"type\": \"scatter\"}], \"scatter3d\": [{\"line\": {\"colorbar\": {\"outlinewidth\": 0, \"ticks\": \"\"}}, \"marker\": {\"colorbar\": {\"outlinewidth\": 0, \"ticks\": \"\"}}, \"type\": \"scatter3d\"}], \"scattercarpet\": [{\"marker\": {\"colorbar\": {\"outlinewidth\": 0, \"ticks\": \"\"}}, \"type\": \"scattercarpet\"}], \"scattergeo\": [{\"marker\": {\"colorbar\": {\"outlinewidth\": 0, \"ticks\": \"\"}}, \"type\": \"scattergeo\"}], \"scattergl\": [{\"marker\": {\"colorbar\": {\"outlinewidth\": 0, \"ticks\": \"\"}}, \"type\": \"scattergl\"}], \"scattermapbox\": [{\"marker\": {\"colorbar\": {\"outlinewidth\": 0, \"ticks\": \"\"}}, \"type\": \"scattermapbox\"}], \"scatterpolar\": [{\"marker\": {\"colorbar\": {\"outlinewidth\": 0, \"ticks\": \"\"}}, \"type\": \"scatterpolar\"}], \"scatterpolargl\": [{\"marker\": {\"colorbar\": {\"outlinewidth\": 0, \"ticks\": \"\"}}, \"type\": \"scatterpolargl\"}], \"scatterternary\": [{\"marker\": {\"colorbar\": {\"outlinewidth\": 0, \"ticks\": \"\"}}, \"type\": \"scatterternary\"}], \"surface\": [{\"colorbar\": {\"outlinewidth\": 0, \"ticks\": \"\"}, \"colorscale\": [[0.0, \"#0d0887\"], [0.1111111111111111, \"#46039f\"], [0.2222222222222222, \"#7201a8\"], [0.3333333333333333, \"#9c179e\"], [0.4444444444444444, \"#bd3786\"], [0.5555555555555556, \"#d8576b\"], [0.6666666666666666, \"#ed7953\"], [0.7777777777777778, \"#fb9f3a\"], [0.8888888888888888, \"#fdca26\"], [1.0, \"#f0f921\"]], \"type\": \"surface\"}], \"table\": [{\"cells\": {\"fill\": {\"color\": \"#EBF0F8\"}, \"line\": {\"color\": \"white\"}}, \"header\": {\"fill\": {\"color\": \"#C8D4E3\"}, \"line\": {\"color\": \"white\"}}, \"type\": \"table\"}]}, \"layout\": {\"annotationdefaults\": {\"arrowcolor\": \"#2a3f5f\", \"arrowhead\": 0, \"arrowwidth\": 1}, \"coloraxis\": {\"colorbar\": {\"outlinewidth\": 0, \"ticks\": \"\"}}, \"colorscale\": {\"diverging\": [[0, \"#8e0152\"], [0.1, \"#c51b7d\"], [0.2, \"#de77ae\"], [0.3, \"#f1b6da\"], [0.4, \"#fde0ef\"], [0.5, \"#f7f7f7\"], [0.6, \"#e6f5d0\"], [0.7, \"#b8e186\"], [0.8, \"#7fbc41\"], [0.9, \"#4d9221\"], [1, \"#276419\"]], \"sequential\": [[0.0, \"#0d0887\"], [0.1111111111111111, \"#46039f\"], [0.2222222222222222, \"#7201a8\"], [0.3333333333333333, \"#9c179e\"], [0.4444444444444444, \"#bd3786\"], [0.5555555555555556, \"#d8576b\"], [0.6666666666666666, \"#ed7953\"], [0.7777777777777778, \"#fb9f3a\"], [0.8888888888888888, \"#fdca26\"], [1.0, \"#f0f921\"]], \"sequentialminus\": [[0.0, \"#0d0887\"], [0.1111111111111111, \"#46039f\"], [0.2222222222222222, \"#7201a8\"], [0.3333333333333333, \"#9c179e\"], [0.4444444444444444, \"#bd3786\"], [0.5555555555555556, \"#d8576b\"], [0.6666666666666666, \"#ed7953\"], [0.7777777777777778, \"#fb9f3a\"], [0.8888888888888888, \"#fdca26\"], [1.0, \"#f0f921\"]]}, \"colorway\": [\"#636efa\", \"#EF553B\", \"#00cc96\", \"#ab63fa\", \"#FFA15A\", \"#19d3f3\", \"#FF6692\", \"#B6E880\", \"#FF97FF\", \"#FECB52\"], \"font\": {\"color\": \"#2a3f5f\"}, \"geo\": {\"bgcolor\": \"white\", \"lakecolor\": \"white\", \"landcolor\": \"#E5ECF6\", \"showlakes\": true, \"showland\": true, \"subunitcolor\": \"white\"}, \"hoverlabel\": {\"align\": \"left\"}, \"hovermode\": \"closest\", \"mapbox\": {\"style\": \"light\"}, \"paper_bgcolor\": \"white\", \"plot_bgcolor\": \"#E5ECF6\", \"polar\": {\"angularaxis\": {\"gridcolor\": \"white\", \"linecolor\": \"white\", \"ticks\": \"\"}, \"bgcolor\": \"#E5ECF6\", \"radialaxis\": {\"gridcolor\": \"white\", \"linecolor\": \"white\", \"ticks\": \"\"}}, \"scene\": {\"xaxis\": {\"backgroundcolor\": \"#E5ECF6\", \"gridcolor\": \"white\", \"gridwidth\": 2, \"linecolor\": \"white\", \"showbackground\": true, \"ticks\": \"\", \"zerolinecolor\": \"white\"}, \"yaxis\": {\"backgroundcolor\": \"#E5ECF6\", \"gridcolor\": \"white\", \"gridwidth\": 2, \"linecolor\": \"white\", \"showbackground\": true, \"ticks\": \"\", \"zerolinecolor\": \"white\"}, \"zaxis\": {\"backgroundcolor\": \"#E5ECF6\", \"gridcolor\": \"white\", \"gridwidth\": 2, \"linecolor\": \"white\", \"showbackground\": true, \"ticks\": \"\", \"zerolinecolor\": \"white\"}}, \"shapedefaults\": {\"line\": {\"color\": \"#2a3f5f\"}}, \"ternary\": {\"aaxis\": {\"gridcolor\": \"white\", \"linecolor\": \"white\", \"ticks\": \"\"}, \"baxis\": {\"gridcolor\": \"white\", \"linecolor\": \"white\", \"ticks\": \"\"}, \"bgcolor\": \"#E5ECF6\", \"caxis\": {\"gridcolor\": \"white\", \"linecolor\": \"white\", \"ticks\": \"\"}}, \"title\": {\"x\": 0.05}, \"xaxis\": {\"automargin\": true, \"gridcolor\": \"white\", \"linecolor\": \"white\", \"ticks\": \"\", \"title\": {\"standoff\": 15}, \"zerolinecolor\": \"white\", \"zerolinewidth\": 2}, \"yaxis\": {\"automargin\": true, \"gridcolor\": \"white\", \"linecolor\": \"white\", \"ticks\": \"\", \"title\": {\"standoff\": 15}, \"zerolinecolor\": \"white\", \"zerolinewidth\": 2}}}, \"title\": {\"text\": \"Infection levels for the Month of February (2021)\"}, \"xaxis\": {\"anchor\": \"y\", \"categoryarray\": [\"low\", \"extreme\", \"moderate\", \"high\"], \"categoryorder\": \"array\", \"domain\": [0.0, 1.0], \"title\": {\"text\": \"levels\"}}, \"yaxis\": {\"anchor\": \"x\", \"domain\": [0.0, 1.0], \"title\": {\"text\": \"count\"}}},\n",
              "                        {\"responsive\": true}\n",
              "                    ).then(function(){\n",
              "                            \n",
              "var gd = document.getElementById('ec06a022-3079-4081-a61b-1afc8e98003c');\n",
              "var x = new MutationObserver(function (mutations, observer) {{\n",
              "        var display = window.getComputedStyle(gd).display;\n",
              "        if (!display || display === 'none') {{\n",
              "            console.log([gd, 'removed!']);\n",
              "            Plotly.purge(gd);\n",
              "            observer.disconnect();\n",
              "        }}\n",
              "}});\n",
              "\n",
              "// Listen for the removal of the full notebook cells\n",
              "var notebookContainer = gd.closest('#notebook-container');\n",
              "if (notebookContainer) {{\n",
              "    x.observe(notebookContainer, {childList: true});\n",
              "}}\n",
              "\n",
              "// Listen for the clearing of the current output cell\n",
              "var outputEl = gd.closest('.output');\n",
              "if (outputEl) {{\n",
              "    x.observe(outputEl, {childList: true});\n",
              "}}\n",
              "\n",
              "                        })\n",
              "                };\n",
              "                \n",
              "            </script>\n",
              "        </div>\n",
              "</body>\n",
              "</html>"
            ]
          },
          "metadata": {
            "tags": []
          }
        }
      ]
    },
    {
      "cell_type": "markdown",
      "metadata": {
        "id": "6P_Ie3LkdlfB"
      },
      "source": [
        "## World Map of New Confirmed Cases Per Million Population (January)"
      ]
    },
    {
      "cell_type": "code",
      "metadata": {
        "colab": {
          "base_uri": "https://localhost:8080/",
          "height": 542
        },
        "id": "kk9Dn_dwdLkW",
        "outputId": "8b52b31c-a19a-4933-cd6b-70b9c63aba88"
      },
      "source": [
        "\n",
        "\n",
        "colorscale = [\"#f7fbff\", \"#ebf3fb\", \"#deebf7\", \"#c6dbef\", \"#b3d2e9\",\n",
        "    \"#85bcdb\", \"#6baed6\", \"#57a0ce\", \"#4292c6\", \"#3082be\", \"#1361a9\",\n",
        "    \"#08519c\", \"#0b4083\"]\n",
        "\n",
        "fig = px.choropleth(jan_data,\n",
        "    locationmode=\"country names\",\n",
        "    locations='country_name',\n",
        "    color='cases_per_100T',\n",
        "    color_continuous_scale=colorscale,\n",
        "    labels={'cases_per_100T':'New Cases Per 100,000 Population'})\n",
        "\n",
        "fig.show(renderer=\"colab\")"
      ],
      "execution_count": 309,
      "outputs": [
        {
          "output_type": "display_data",
          "data": {
            "text/html": [
              "<html>\n",
              "<head><meta charset=\"utf-8\" /></head>\n",
              "<body>\n",
              "    <div>\n",
              "            <script src=\"https://cdnjs.cloudflare.com/ajax/libs/mathjax/2.7.5/MathJax.js?config=TeX-AMS-MML_SVG\"></script><script type=\"text/javascript\">if (window.MathJax) {MathJax.Hub.Config({SVG: {font: \"STIX-Web\"}});}</script>\n",
              "                <script type=\"text/javascript\">window.PlotlyConfig = {MathJaxConfig: 'local'};</script>\n",
              "        <script src=\"https://cdn.plot.ly/plotly-latest.min.js\"></script>    \n",
              "            <div id=\"0d4f3b18-d4bd-4cd2-89a9-ddc0852c895b\" class=\"plotly-graph-div\" style=\"height:525px; width:100%;\"></div>\n",
              "            <script type=\"text/javascript\">\n",
              "                \n",
              "                    window.PLOTLYENV=window.PLOTLYENV || {};\n",
              "                    \n",
              "                if (document.getElementById(\"0d4f3b18-d4bd-4cd2-89a9-ddc0852c895b\")) {\n",
              "                    Plotly.newPlot(\n",
              "                        '0d4f3b18-d4bd-4cd2-89a9-ddc0852c895b',\n",
              "                        [{\"coloraxis\": \"coloraxis\", \"geo\": \"geo\", \"hoverlabel\": {\"namelength\": 0}, \"hovertemplate\": \"country_name=%{location}<br>New Cases Per 100,000 Population=%{z}\", \"locationmode\": \"country names\", \"locations\": [\"Afghanistan\", \"Albania\", \"Algeria\", \"American Samoa\", \"Andorra\", \"Angola\", \"Antigua and Barbuda\", \"Argentina\", \"Armenia\", \"Aruba\", \"Australia\", \"Austria\", \"Azerbaijan\", \"Bahamas\", \"Bahrain\", \"Bangladesh\", \"Barbados\", \"Belarus\", \"Belgium\", \"Belize\", \"Benin\", \"Bhutan\", \"Bolivia\", \"Bosnia and Herzegovina\", \"Botswana\", \"Brazil\", \"Brunei\", \"Bulgaria\", \"Burkina Faso\", \"Burundi\", \"Cambodia\", \"Cameroon\", \"Canada\", \"Cape Verde\", \"Cayman Islands\", \"Central African Republic\", \"Chad\", \"Chile\", \"China\", \"Colombia\", \"Comoros\", \"Costa Rica\", \"Croatia\", \"Cuba\", \"Cura\\u00e7ao\", \"Cyprus\", \"Czech Republic\", \"Democratic Republic of the Congo\", \"Denmark\", \"Djibouti\", \"Dominica\", \"Dominican Republic\", \"East Timor\", \"Ecuador\", \"Egypt\", \"El Salvador\", \"Equatorial Guinea\", \"Estonia\", \"Ethiopia\", \"Faroe Islands\", \"Fiji\", \"Finland\", \"France\", \"Gabon\", \"Gambia\", \"Georgia\", \"Germany\", \"Ghana\", \"Greece\", \"Greenland\", \"Grenada\", \"Guam\", \"Guatemala\", \"Guinea\", \"Guinea-Bissau\", \"Guyana\", \"Haiti\", \"Honduras\", \"Hong Kong\", \"Hungary\", \"Iceland\", \"India\", \"Indonesia\", \"Iran\", \"Iraq\", \"Ireland\", \"Isle of Man\", \"Israel\", \"Italy\", \"Ivory Coast\", \"Jamaica\", \"Japan\", \"Jordan\", \"Kazakhstan\", \"Kenya\", \"Kiribati\", \"Kuwait\", \"Kyrgyzstan\", \"Laos\", \"Latvia\", \"Lebanon\", \"Lesotho\", \"Liberia\", \"Libya\", \"Liechtenstein\", \"Lithuania\", \"Luxembourg\", \"Macedonia\", \"Madagascar\", \"Malawi\", \"Malaysia\", \"Maldives\", \"Mali\", \"Malta\", \"Marshall Islands\", \"Mauritania\", \"Mauritius\", \"Mexico\", \"Micronesia\", \"Moldova\", \"Monaco\", \"Mongolia\", \"Montenegro\", \"Morocco\", \"Mozambique\", \"Myanmar\", \"Namibia\", \"Nauru\", \"Nepal\", \"Netherlands\", \"New Zealand\", \"Nicaragua\", \"Niger\", \"Nigeria\", \"Northern Mariana Islands\", \"Norway\", \"Oman\", \"Pakistan\", \"Palau\", \"Palestine\", \"Panama\", \"Papua New Guinea\", \"Paraguay\", \"Peru\", \"Philippines\", \"Poland\", \"Portugal\", \"Puerto Rico\", \"Qatar\", \"Republic of the Congo\", \"Romania\", \"Russia\", \"Rwanda\", \"Saint Kitts and Nevis\", \"Saint Lucia\", \"Saint Vincent and the Grenadines\", \"Samoa\", \"San Marino\", \"Saudi Arabia\", \"Senegal\", \"Serbia\", \"Seychelles\", \"Sierra Leone\", \"Singapore\", \"Slovakia\", \"Slovenia\", \"Solomon Islands\", \"South Africa\", \"South Korea\", \"South Sudan\", \"Spain\", \"Sri Lanka\", \"Sudan\", \"Suriname\", \"Swaziland\", \"Sweden\", \"Switzerland\", \"S\\u00e3o Tom\\u00e9 and Pr\\u00edncipe\", \"Tajikistan\", \"Tanzania\", \"Thailand\", \"Togo\", \"Tonga\", \"Trinidad and Tobago\", \"Tunisia\", \"Turkey\", \"Turkmenistan\", \"Turks and Caicos Islands\", \"Tuvalu\", \"Uganda\", \"Ukraine\", \"United Arab Emirates\", \"United Kingdom\", \"United States Virgin Islands\", \"United States of America\", \"Uruguay\", \"Uzbekistan\", \"Vanuatu\", \"Vietnam\", \"Yemen\", \"Zambia\", \"Zimbabwe\"], \"name\": \"\", \"type\": \"choropleth\", \"z\": [6.51196515155886, 708.1053944781823, 18.170605428929022, 0.0, 2400.8283181259303, 6.925033500153819, 76.58688015684992, 658.7727747960379, 252.86561911749112, 1427.4207144596592, 1.5333404889222813, 574.3909287683681, 113.60884884618324, 81.37358613394095, 627.0047520483878, 12.801068056706482, 404.3553455289503, 561.6488211163532, 553.8989547309029, 284.69321288362534, 5.295632390067373, 22.031798364981366, 485.8293837725737, 306.50920579185356, 309.06288204964653, 690.564114242527, 5.2573471426318275, 243.42721519122964, 19.427574947814403, 6.887688874263179, 0.5203669532054336, 13.052881347274338, 525.7410168687497, 406.123873177119, 79.12355447352404, 0.5383285808581951, 7.743887245105416, 671.9869115761502, 0.27061319144166374, 854.5152432790562, 235.28194159350042, 489.95762560476675, 506.470904847254, 137.163650643758, 216.33150517976847, 933.6692929207592, 2398.270390054274, 6.104191935177792, 536.0069899128171, 9.412936411059896, 29.17031295578614, 395.1731500549, 2.3512600478443493, 213.16030212446142, 26.404609992203696, 142.3791831304642, 18.318086080749257, 1221.9773252215396, 12.282150252745689, 90.04399877212725, 0.6693111895444668, 165.47905106979644, 860.5643783449818, 62.04711447220865, 14.027607490163087, 763.4911980547355, 569.4272240330682, 39.387962743795285, 168.2860123721176, 5.284295075036991, 15.997440409534473, 149.8966128105319, 119.42686491585782, 6.274370293841555, 9.552860090742008, 166.42108220743773, 13.812720384146225, 253.21547304042727, 21.421936382984736, 435.90569538418833, 71.430372194257, 33.36634325259771, 122.51812065620469, 229.98000796566825, 60.729686563762584, 2121.042200218587, 63.50550381033023, 2542.0825803956104, 738.2179448467025, 23.59896543651925, 96.68508287292818, 121.45659550333075, 316.539810293694, 188.97882360309507, 8.17908438144512, 0.0, 350.6329259163253, 52.60422326691538, 0.041233962050460475, 1304.0321505358424, 1746.172884653167, 295.15668558134143, 2.847156906223944, 271.53577947417705, 940.6430767627286, 1299.3775642548956, 638.5467197920163, 433.77118064716154, 4.878838153265504, 92.95369487277935, 321.6183848247164, 416.61964587330107, 4.9874489119806125, 1064.3104471805802, 0.0, 60.60658198663988, 3.2238609745338573, 374.6884244842508, 0.0, 367.579069906955, 1564.5703801855059, 18.119191335000057, 2241.3055986833433, 82.5454873914396, 66.60601588171784, 28.121775281854593, 393.51950241566425, 0.0, 34.660627020661536, 1050.181045046271, 3.02764300273338, 2.460543004102616, 5.490230034441794, 21.542684084255974, 19.11182153033567, 275.6647070349303, 110.77773134569195, 29.086568876852496, 0.0, 444.7784693504705, 1705.5146418069291, 0.9723900464366542, 354.6427424770733, 449.0590188158117, 51.51649739551085, 546.2724224900699, 2974.63649759449, 600.6627424113198, 266.4991357347643, 30.572161536995033, 496.9492323710504, 467.1624508700686, 54.63161184564052, 11.279891713039554, 576.1617173757958, 748.1049510126455, 0.5040068544932211, 1879.8986386940892, 15.657553928151673, 46.50640560489683, 818.5946565679134, 953.8336383973966, 13.463733478250239, 15.999061935342937, 1208.1452056639293, 2026.4711366384288, 0.0, 672.3264331078635, 31.72471072925036, 4.279181673953336, 1833.1335622640192, 98.66321086243329, 8.333092166257092, 379.7938748862153, 555.6111032578153, 1175.1204890234144, 808.2483676393086, 111.79047271399892, 0.4508451879405831, 0.0, 17.045850644823986, 17.623463291980805, 0.0, 29.582183808255994, 587.9536846017021, 327.8027740198934, 0.0, 1578.0773800299603, 0.0, 9.597516451323756, 375.92926782259906, 977.3214430154493, 1794.8294593770245, 368.696251747716, 1849.9592240420968, 651.1450093804149, 4.837283378069491, 0.0, 0.387307877699432, 0.07040844643863516, 186.66820133816688, 132.41671711097018]}],\n",
              "                        {\"coloraxis\": {\"colorbar\": {\"title\": {\"text\": \"New Cases Per 100,000 Population\"}}, \"colorscale\": [[0.0, \"#f7fbff\"], [0.08333333333333333, \"#ebf3fb\"], [0.16666666666666666, \"#deebf7\"], [0.25, \"#c6dbef\"], [0.3333333333333333, \"#b3d2e9\"], [0.4166666666666667, \"#85bcdb\"], [0.5, \"#6baed6\"], [0.5833333333333334, \"#57a0ce\"], [0.6666666666666666, \"#4292c6\"], [0.75, \"#3082be\"], [0.8333333333333334, \"#1361a9\"], [0.9166666666666666, \"#08519c\"], [1.0, \"#0b4083\"]]}, \"geo\": {\"center\": {}, \"domain\": {\"x\": [0.0, 1.0], \"y\": [0.0, 1.0]}}, \"legend\": {\"tracegroupgap\": 0}, \"margin\": {\"t\": 60}, \"template\": {\"data\": {\"bar\": [{\"error_x\": {\"color\": \"#2a3f5f\"}, \"error_y\": {\"color\": \"#2a3f5f\"}, \"marker\": {\"line\": {\"color\": \"#E5ECF6\", \"width\": 0.5}}, \"type\": \"bar\"}], \"barpolar\": [{\"marker\": {\"line\": {\"color\": \"#E5ECF6\", \"width\": 0.5}}, \"type\": \"barpolar\"}], \"carpet\": [{\"aaxis\": {\"endlinecolor\": \"#2a3f5f\", \"gridcolor\": \"white\", \"linecolor\": \"white\", \"minorgridcolor\": \"white\", \"startlinecolor\": \"#2a3f5f\"}, \"baxis\": {\"endlinecolor\": \"#2a3f5f\", \"gridcolor\": \"white\", \"linecolor\": \"white\", \"minorgridcolor\": \"white\", \"startlinecolor\": \"#2a3f5f\"}, \"type\": \"carpet\"}], \"choropleth\": [{\"colorbar\": {\"outlinewidth\": 0, \"ticks\": \"\"}, \"type\": \"choropleth\"}], \"contour\": [{\"colorbar\": {\"outlinewidth\": 0, \"ticks\": \"\"}, \"colorscale\": [[0.0, \"#0d0887\"], [0.1111111111111111, \"#46039f\"], [0.2222222222222222, \"#7201a8\"], [0.3333333333333333, \"#9c179e\"], [0.4444444444444444, \"#bd3786\"], [0.5555555555555556, \"#d8576b\"], [0.6666666666666666, \"#ed7953\"], [0.7777777777777778, \"#fb9f3a\"], [0.8888888888888888, \"#fdca26\"], [1.0, \"#f0f921\"]], \"type\": \"contour\"}], \"contourcarpet\": [{\"colorbar\": {\"outlinewidth\": 0, \"ticks\": \"\"}, \"type\": \"contourcarpet\"}], \"heatmap\": [{\"colorbar\": {\"outlinewidth\": 0, \"ticks\": \"\"}, \"colorscale\": [[0.0, \"#0d0887\"], [0.1111111111111111, \"#46039f\"], [0.2222222222222222, \"#7201a8\"], [0.3333333333333333, \"#9c179e\"], [0.4444444444444444, \"#bd3786\"], [0.5555555555555556, \"#d8576b\"], [0.6666666666666666, \"#ed7953\"], [0.7777777777777778, \"#fb9f3a\"], [0.8888888888888888, \"#fdca26\"], [1.0, \"#f0f921\"]], \"type\": \"heatmap\"}], \"heatmapgl\": [{\"colorbar\": {\"outlinewidth\": 0, \"ticks\": \"\"}, \"colorscale\": [[0.0, \"#0d0887\"], [0.1111111111111111, \"#46039f\"], [0.2222222222222222, \"#7201a8\"], [0.3333333333333333, \"#9c179e\"], [0.4444444444444444, \"#bd3786\"], [0.5555555555555556, \"#d8576b\"], [0.6666666666666666, \"#ed7953\"], [0.7777777777777778, \"#fb9f3a\"], [0.8888888888888888, \"#fdca26\"], [1.0, \"#f0f921\"]], \"type\": \"heatmapgl\"}], \"histogram\": [{\"marker\": {\"colorbar\": {\"outlinewidth\": 0, \"ticks\": \"\"}}, \"type\": \"histogram\"}], \"histogram2d\": [{\"colorbar\": {\"outlinewidth\": 0, \"ticks\": \"\"}, \"colorscale\": [[0.0, \"#0d0887\"], [0.1111111111111111, \"#46039f\"], [0.2222222222222222, \"#7201a8\"], [0.3333333333333333, \"#9c179e\"], [0.4444444444444444, \"#bd3786\"], [0.5555555555555556, \"#d8576b\"], [0.6666666666666666, \"#ed7953\"], [0.7777777777777778, \"#fb9f3a\"], [0.8888888888888888, \"#fdca26\"], [1.0, \"#f0f921\"]], \"type\": \"histogram2d\"}], \"histogram2dcontour\": [{\"colorbar\": {\"outlinewidth\": 0, \"ticks\": \"\"}, \"colorscale\": [[0.0, \"#0d0887\"], [0.1111111111111111, \"#46039f\"], [0.2222222222222222, \"#7201a8\"], [0.3333333333333333, \"#9c179e\"], [0.4444444444444444, \"#bd3786\"], [0.5555555555555556, \"#d8576b\"], [0.6666666666666666, \"#ed7953\"], [0.7777777777777778, \"#fb9f3a\"], [0.8888888888888888, \"#fdca26\"], [1.0, \"#f0f921\"]], \"type\": \"histogram2dcontour\"}], \"mesh3d\": [{\"colorbar\": {\"outlinewidth\": 0, \"ticks\": \"\"}, \"type\": \"mesh3d\"}], \"parcoords\": [{\"line\": {\"colorbar\": {\"outlinewidth\": 0, \"ticks\": \"\"}}, \"type\": \"parcoords\"}], \"pie\": [{\"automargin\": true, \"type\": \"pie\"}], \"scatter\": [{\"marker\": {\"colorbar\": {\"outlinewidth\": 0, \"ticks\": \"\"}}, \"type\": \"scatter\"}], \"scatter3d\": [{\"line\": {\"colorbar\": {\"outlinewidth\": 0, \"ticks\": \"\"}}, \"marker\": {\"colorbar\": {\"outlinewidth\": 0, \"ticks\": \"\"}}, \"type\": \"scatter3d\"}], \"scattercarpet\": [{\"marker\": {\"colorbar\": {\"outlinewidth\": 0, \"ticks\": \"\"}}, \"type\": \"scattercarpet\"}], \"scattergeo\": [{\"marker\": {\"colorbar\": {\"outlinewidth\": 0, \"ticks\": \"\"}}, \"type\": \"scattergeo\"}], \"scattergl\": [{\"marker\": {\"colorbar\": {\"outlinewidth\": 0, \"ticks\": \"\"}}, \"type\": \"scattergl\"}], \"scattermapbox\": [{\"marker\": {\"colorbar\": {\"outlinewidth\": 0, \"ticks\": \"\"}}, \"type\": \"scattermapbox\"}], \"scatterpolar\": [{\"marker\": {\"colorbar\": {\"outlinewidth\": 0, \"ticks\": \"\"}}, \"type\": \"scatterpolar\"}], \"scatterpolargl\": [{\"marker\": {\"colorbar\": {\"outlinewidth\": 0, \"ticks\": \"\"}}, \"type\": \"scatterpolargl\"}], \"scatterternary\": [{\"marker\": {\"colorbar\": {\"outlinewidth\": 0, \"ticks\": \"\"}}, \"type\": \"scatterternary\"}], \"surface\": [{\"colorbar\": {\"outlinewidth\": 0, \"ticks\": \"\"}, \"colorscale\": [[0.0, \"#0d0887\"], [0.1111111111111111, \"#46039f\"], [0.2222222222222222, \"#7201a8\"], [0.3333333333333333, \"#9c179e\"], [0.4444444444444444, \"#bd3786\"], [0.5555555555555556, \"#d8576b\"], [0.6666666666666666, \"#ed7953\"], [0.7777777777777778, \"#fb9f3a\"], [0.8888888888888888, \"#fdca26\"], [1.0, \"#f0f921\"]], \"type\": \"surface\"}], \"table\": [{\"cells\": {\"fill\": {\"color\": \"#EBF0F8\"}, \"line\": {\"color\": \"white\"}}, \"header\": {\"fill\": {\"color\": \"#C8D4E3\"}, \"line\": {\"color\": \"white\"}}, \"type\": \"table\"}]}, \"layout\": {\"annotationdefaults\": {\"arrowcolor\": \"#2a3f5f\", \"arrowhead\": 0, \"arrowwidth\": 1}, \"coloraxis\": {\"colorbar\": {\"outlinewidth\": 0, \"ticks\": \"\"}}, \"colorscale\": {\"diverging\": [[0, \"#8e0152\"], [0.1, \"#c51b7d\"], [0.2, \"#de77ae\"], [0.3, \"#f1b6da\"], [0.4, \"#fde0ef\"], [0.5, \"#f7f7f7\"], [0.6, \"#e6f5d0\"], [0.7, \"#b8e186\"], [0.8, \"#7fbc41\"], [0.9, \"#4d9221\"], [1, \"#276419\"]], \"sequential\": [[0.0, \"#0d0887\"], [0.1111111111111111, \"#46039f\"], [0.2222222222222222, \"#7201a8\"], [0.3333333333333333, \"#9c179e\"], [0.4444444444444444, \"#bd3786\"], [0.5555555555555556, \"#d8576b\"], [0.6666666666666666, \"#ed7953\"], [0.7777777777777778, \"#fb9f3a\"], [0.8888888888888888, \"#fdca26\"], [1.0, \"#f0f921\"]], \"sequentialminus\": [[0.0, \"#0d0887\"], [0.1111111111111111, \"#46039f\"], [0.2222222222222222, \"#7201a8\"], [0.3333333333333333, \"#9c179e\"], [0.4444444444444444, \"#bd3786\"], [0.5555555555555556, \"#d8576b\"], [0.6666666666666666, \"#ed7953\"], [0.7777777777777778, \"#fb9f3a\"], [0.8888888888888888, \"#fdca26\"], [1.0, \"#f0f921\"]]}, \"colorway\": [\"#636efa\", \"#EF553B\", \"#00cc96\", \"#ab63fa\", \"#FFA15A\", \"#19d3f3\", \"#FF6692\", \"#B6E880\", \"#FF97FF\", \"#FECB52\"], \"font\": {\"color\": \"#2a3f5f\"}, \"geo\": {\"bgcolor\": \"white\", \"lakecolor\": \"white\", \"landcolor\": \"#E5ECF6\", \"showlakes\": true, \"showland\": true, \"subunitcolor\": \"white\"}, \"hoverlabel\": {\"align\": \"left\"}, \"hovermode\": \"closest\", \"mapbox\": {\"style\": \"light\"}, \"paper_bgcolor\": \"white\", \"plot_bgcolor\": \"#E5ECF6\", \"polar\": {\"angularaxis\": {\"gridcolor\": \"white\", \"linecolor\": \"white\", \"ticks\": \"\"}, \"bgcolor\": \"#E5ECF6\", \"radialaxis\": {\"gridcolor\": \"white\", \"linecolor\": \"white\", \"ticks\": \"\"}}, \"scene\": {\"xaxis\": {\"backgroundcolor\": \"#E5ECF6\", \"gridcolor\": \"white\", \"gridwidth\": 2, \"linecolor\": \"white\", \"showbackground\": true, \"ticks\": \"\", \"zerolinecolor\": \"white\"}, \"yaxis\": {\"backgroundcolor\": \"#E5ECF6\", \"gridcolor\": \"white\", \"gridwidth\": 2, \"linecolor\": \"white\", \"showbackground\": true, \"ticks\": \"\", \"zerolinecolor\": \"white\"}, \"zaxis\": {\"backgroundcolor\": \"#E5ECF6\", \"gridcolor\": \"white\", \"gridwidth\": 2, \"linecolor\": \"white\", \"showbackground\": true, \"ticks\": \"\", \"zerolinecolor\": \"white\"}}, \"shapedefaults\": {\"line\": {\"color\": \"#2a3f5f\"}}, \"ternary\": {\"aaxis\": {\"gridcolor\": \"white\", \"linecolor\": \"white\", \"ticks\": \"\"}, \"baxis\": {\"gridcolor\": \"white\", \"linecolor\": \"white\", \"ticks\": \"\"}, \"bgcolor\": \"#E5ECF6\", \"caxis\": {\"gridcolor\": \"white\", \"linecolor\": \"white\", \"ticks\": \"\"}}, \"title\": {\"x\": 0.05}, \"xaxis\": {\"automargin\": true, \"gridcolor\": \"white\", \"linecolor\": \"white\", \"ticks\": \"\", \"title\": {\"standoff\": 15}, \"zerolinecolor\": \"white\", \"zerolinewidth\": 2}, \"yaxis\": {\"automargin\": true, \"gridcolor\": \"white\", \"linecolor\": \"white\", \"ticks\": \"\", \"title\": {\"standoff\": 15}, \"zerolinecolor\": \"white\", \"zerolinewidth\": 2}}}},\n",
              "                        {\"responsive\": true}\n",
              "                    ).then(function(){\n",
              "                            \n",
              "var gd = document.getElementById('0d4f3b18-d4bd-4cd2-89a9-ddc0852c895b');\n",
              "var x = new MutationObserver(function (mutations, observer) {{\n",
              "        var display = window.getComputedStyle(gd).display;\n",
              "        if (!display || display === 'none') {{\n",
              "            console.log([gd, 'removed!']);\n",
              "            Plotly.purge(gd);\n",
              "            observer.disconnect();\n",
              "        }}\n",
              "}});\n",
              "\n",
              "// Listen for the removal of the full notebook cells\n",
              "var notebookContainer = gd.closest('#notebook-container');\n",
              "if (notebookContainer) {{\n",
              "    x.observe(notebookContainer, {childList: true});\n",
              "}}\n",
              "\n",
              "// Listen for the clearing of the current output cell\n",
              "var outputEl = gd.closest('.output');\n",
              "if (outputEl) {{\n",
              "    x.observe(outputEl, {childList: true});\n",
              "}}\n",
              "\n",
              "                        })\n",
              "                };\n",
              "                \n",
              "            </script>\n",
              "        </div>\n",
              "</body>\n",
              "</html>"
            ]
          },
          "metadata": {
            "tags": []
          }
        }
      ]
    },
    {
      "cell_type": "markdown",
      "metadata": {
        "id": "KdFJJABXd9IN"
      },
      "source": [
        "## World Map of New Confirmed Cases Per Million Population (February)"
      ]
    },
    {
      "cell_type": "code",
      "metadata": {
        "colab": {
          "base_uri": "https://localhost:8080/",
          "height": 542
        },
        "id": "MweExcaRdzPG",
        "outputId": "f91a6b37-9bb8-456d-ee90-3eb4f643bed1"
      },
      "source": [
        "import plotly.express as px\n",
        "\n",
        "colorscale = [\"#f7fbff\", \"#ebf3fb\", \"#deebf7\", \"#c6dbef\", \"#b3d2e9\",\n",
        "    \"#85bcdb\", \"#6baed6\", \"#57a0ce\", \"#4292c6\", \"#3082be\", \"#1361a9\",\n",
        "    \"#08519c\", \"#0b4083\"]\n",
        "\n",
        "fig = px.choropleth(feb_data,\n",
        "    locationmode=\"country names\",\n",
        "    locations='country_name',\n",
        "    color='cases_per_100T',\n",
        "    color_continuous_scale=colorscale,\n",
        "    labels={'cases_per_100T':'New Cases Per 100,000 Population'})\n",
        "\n",
        "fig.show(renderer=\"colab\")"
      ],
      "execution_count": 310,
      "outputs": [
        {
          "output_type": "display_data",
          "data": {
            "text/html": [
              "<html>\n",
              "<head><meta charset=\"utf-8\" /></head>\n",
              "<body>\n",
              "    <div>\n",
              "            <script src=\"https://cdnjs.cloudflare.com/ajax/libs/mathjax/2.7.5/MathJax.js?config=TeX-AMS-MML_SVG\"></script><script type=\"text/javascript\">if (window.MathJax) {MathJax.Hub.Config({SVG: {font: \"STIX-Web\"}});}</script>\n",
              "                <script type=\"text/javascript\">window.PlotlyConfig = {MathJaxConfig: 'local'};</script>\n",
              "        <script src=\"https://cdn.plot.ly/plotly-latest.min.js\"></script>    \n",
              "            <div id=\"59f0fe41-9c01-46e0-8438-bbb2505db032\" class=\"plotly-graph-div\" style=\"height:525px; width:100%;\"></div>\n",
              "            <script type=\"text/javascript\">\n",
              "                \n",
              "                    window.PLOTLYENV=window.PLOTLYENV || {};\n",
              "                    \n",
              "                if (document.getElementById(\"59f0fe41-9c01-46e0-8438-bbb2505db032\")) {\n",
              "                    Plotly.newPlot(\n",
              "                        '59f0fe41-9c01-46e0-8438-bbb2505db032',\n",
              "                        [{\"coloraxis\": \"coloraxis\", \"geo\": \"geo\", \"hoverlabel\": {\"namelength\": 0}, \"hovertemplate\": \"country_name=%{location}<br>New Cases Per 100,000 Population=%{z}\", \"locationmode\": \"country names\", \"locations\": [\"Afghanistan\", \"Albania\", \"Algeria\", \"American Samoa\", \"Andorra\", \"Angola\", \"Antigua and Barbuda\", \"Argentina\", \"Armenia\", \"Aruba\", \"Australia\", \"Austria\", \"Azerbaijan\", \"Bahamas\", \"Bahrain\", \"Bangladesh\", \"Barbados\", \"Belarus\", \"Belgium\", \"Belize\", \"Benin\", \"Bhutan\", \"Bolivia\", \"Bosnia and Herzegovina\", \"Botswana\", \"Brazil\", \"Brunei\", \"Bulgaria\", \"Burkina Faso\", \"Burundi\", \"Cambodia\", \"Cameroon\", \"Canada\", \"Cape Verde\", \"Cayman Islands\", \"Central African Republic\", \"Chad\", \"Chile\", \"China\", \"Colombia\", \"Comoros\", \"Costa Rica\", \"Croatia\", \"Cuba\", \"Cura\\u00e7ao\", \"Cyprus\", \"Czech Republic\", \"Democratic Republic of the Congo\", \"Denmark\", \"Djibouti\", \"Dominica\", \"Dominican Republic\", \"East Timor\", \"Ecuador\", \"Egypt\", \"El Salvador\", \"Equatorial Guinea\", \"Estonia\", \"Ethiopia\", \"Faroe Islands\", \"Fiji\", \"Finland\", \"France\", \"Gabon\", \"Gambia\", \"Georgia\", \"Germany\", \"Ghana\", \"Greece\", \"Greenland\", \"Grenada\", \"Guam\", \"Guatemala\", \"Guinea\", \"Guinea-Bissau\", \"Guyana\", \"Haiti\", \"Honduras\", \"Hong Kong\", \"Hungary\", \"Iceland\", \"India\", \"Indonesia\", \"Iran\", \"Iraq\", \"Ireland\", \"Isle of Man\", \"Israel\", \"Italy\", \"Ivory Coast\", \"Jamaica\", \"Japan\", \"Jordan\", \"Kazakhstan\", \"Kenya\", \"Kiribati\", \"Kuwait\", \"Kyrgyzstan\", \"Laos\", \"Latvia\", \"Lebanon\", \"Lesotho\", \"Liberia\", \"Libya\", \"Liechtenstein\", \"Lithuania\", \"Luxembourg\", \"Macedonia\", \"Madagascar\", \"Malawi\", \"Malaysia\", \"Maldives\", \"Mali\", \"Malta\", \"Marshall Islands\", \"Mauritania\", \"Mauritius\", \"Mexico\", \"Micronesia\", \"Moldova\", \"Monaco\", \"Mongolia\", \"Montenegro\", \"Morocco\", \"Mozambique\", \"Myanmar\", \"Namibia\", \"Nauru\", \"Nepal\", \"Netherlands\", \"New Zealand\", \"Nicaragua\", \"Niger\", \"Nigeria\", \"Northern Mariana Islands\", \"Norway\", \"Oman\", \"Pakistan\", \"Palau\", \"Palestine\", \"Panama\", \"Papua New Guinea\", \"Paraguay\", \"Peru\", \"Philippines\", \"Poland\", \"Portugal\", \"Puerto Rico\", \"Qatar\", \"Republic of the Congo\", \"Romania\", \"Russia\", \"Rwanda\", \"Saint Kitts and Nevis\", \"Saint Lucia\", \"Saint Vincent and the Grenadines\", \"Samoa\", \"San Marino\", \"Saudi Arabia\", \"Senegal\", \"Serbia\", \"Seychelles\", \"Sierra Leone\", \"Singapore\", \"Slovakia\", \"Slovenia\", \"Solomon Islands\", \"South Africa\", \"South Korea\", \"South Sudan\", \"Spain\", \"Sri Lanka\", \"Sudan\", \"Suriname\", \"Swaziland\", \"Sweden\", \"Switzerland\", \"S\\u00e3o Tom\\u00e9 and Pr\\u00edncipe\", \"Tajikistan\", \"Tanzania\", \"Thailand\", \"Togo\", \"Tonga\", \"Trinidad and Tobago\", \"Tunisia\", \"Turkey\", \"Turkmenistan\", \"Turks and Caicos Islands\", \"Tuvalu\", \"Uganda\", \"Ukraine\", \"United Arab Emirates\", \"United Kingdom\", \"United States Virgin Islands\", \"United States of America\", \"Uruguay\", \"Uzbekistan\", \"Vanuatu\", \"Vietnam\", \"Yemen\", \"Zambia\", \"Zimbabwe\"], \"name\": \"\", \"type\": \"choropleth\", \"z\": [1.6389087837059382, 1010.9952148998035, 12.946100278618228, 0.0, 1186.8245648094223, 3.1186991817476564, 546.3197451188628, 383.34877065457505, 176.3276204309211, 866.3806829889667, 0.6274539085103965, 509.9915055975573, 42.587291372325666, 89.25665229066648, 1143.4653163938028, 6.81221812580353, 529.976928778478, 412.4317503871442, 527.2829629107158, 96.82587187296446, 14.36089718241012, 1.0367905112932405, 275.6354221029882, 309.74011030795697, 401.1694041354383, 633.4831312971897, 1.6000621738444694, 429.2261800255684, 6.037330604319573, 4.902958014280138, 2.260904693237401, 20.34591981432286, 232.7397451078379, 239.93323596912163, 82.16676810712111, 0.16563956334098312, 3.6588649640788953, 560.3105905922515, 0.06294622630196339, 244.88784873121583, 88.20197908221644, 208.59368282688607, 258.8411003653852, 203.04387471068148, 88.36075563680683, 458.15784696637405, 2371.847358635843, 3.4836434676705164, 221.0096621111555, 15.587012981755096, 34.72656304260255, 229.64807115255368, 2.8821897360672675, 200.5377751931921, 16.141199357951987, 72.01441953463977, 39.986172339690015, 1662.188070832264, 18.778120372257362, 8.18581807019339, 0.4462074596963112, 225.33857419799025, 833.950092850057, 175.08877994076548, 23.710380801957083, 305.07561087192204, 268.52338385814375, 54.75181061853005, 324.2545478856598, 0.0, 0.0, 75.24454477050412, 83.84328556277343, 11.10959497416848, 31.859804664336384, 120.01642597694514, 7.919293020243836, 226.7732352456553, 7.376295653667846, 679.4500957559975, 12.885478905630674, 25.96238127170878, 93.71037099571011, 256.0726731443768, 195.08482602388023, 463.2725967734043, 58.80139241697243, 1517.3748238267256, 617.1401620548968, 16.361949369320016, 264.1194666954842, 33.11130044454597, 677.2032923198152, 137.47884546528843, 9.798907595687663, 0.0, 613.2212544341343, 25.474422805831402, 0.013744654016820158, 1031.5796929948833, 1081.966718340983, 74.45435924438392, 1.384034607192195, 214.29758563389737, 203.24144040856743, 513.745694628557, 773.2605303195666, 494.2873153944959, 2.766239841155719, 39.95304745881525, 257.6994536056018, 725.7543831087743, 1.4320397866082948, 938.0844032830928, 0.0, 16.065690824705463, 4.0101685292982125, 172.673779332453, 0.0, 653.4766564484247, 1177.250025481602, 34.71319821419203, 2310.5779337878625, 33.39965762641681, 64.45918925780428, 2.8708066786652418, 193.1193317685433, 0.0, 10.632599515794572, 637.7384590111783, 1.5552960630479695, 2.264303378008542, 0.8386130150426518, 11.69062204437229, 17.37438320939607, 150.81982473670342, 142.63832333781508, 15.816302830359467, 0.0, 599.2061811857727, 475.94679482187695, 5.566094748568435, 367.9900399998318, 652.082078875541, 50.71633342527626, 525.3574583836456, 765.1837175599715, 221.82296108835163, 430.9872060977557, 16.908018206293043, 377.30128752499814, 266.9438047737319, 27.230878318198723, 5.639945856519777, 1077.7164826906428, 610.2012672717603, 0.5040068544932211, 2003.6537214921327, 26.917434940508045, 46.61390724877612, 943.8286535844696, 1436.8517388651617, 3.171624366850382, 6.546624702175582, 1112.6663426549985, 1136.1867031122952, 0.14558626131569216, 97.20329348026402, 22.48524225556705, 35.49308724554615, 617.2372108521497, 86.71733622873687, 2.068449533332015, 83.69784226621707, 105.24374140207765, 891.6358795075553, 376.84941483595287, 259.62766928271583, 0.0, 0.0, 10.27077687617609, 22.23769425670779, 0.0, 10.6467279889617, 199.88800721031848, 273.31023182536654, 0.0, 1575.4946019939046, 0.0, 1.6637152663912023, 293.5809839716728, 886.8296529968455, 501.59712846972275, 215.4718354369769, 714.4175496578428, 467.9699930362979, 3.465873204793458, 0.0, 0.6379792892608678, 0.630323234783972, 130.33103429969043, 17.271160653618225]}],\n",
              "                        {\"coloraxis\": {\"colorbar\": {\"title\": {\"text\": \"New Cases Per 100,000 Population\"}}, \"colorscale\": [[0.0, \"#f7fbff\"], [0.08333333333333333, \"#ebf3fb\"], [0.16666666666666666, \"#deebf7\"], [0.25, \"#c6dbef\"], [0.3333333333333333, \"#b3d2e9\"], [0.4166666666666667, \"#85bcdb\"], [0.5, \"#6baed6\"], [0.5833333333333334, \"#57a0ce\"], [0.6666666666666666, \"#4292c6\"], [0.75, \"#3082be\"], [0.8333333333333334, \"#1361a9\"], [0.9166666666666666, \"#08519c\"], [1.0, \"#0b4083\"]]}, \"geo\": {\"center\": {}, \"domain\": {\"x\": [0.0, 1.0], \"y\": [0.0, 1.0]}}, \"legend\": {\"tracegroupgap\": 0}, \"margin\": {\"t\": 60}, \"template\": {\"data\": {\"bar\": [{\"error_x\": {\"color\": \"#2a3f5f\"}, \"error_y\": {\"color\": \"#2a3f5f\"}, \"marker\": {\"line\": {\"color\": \"#E5ECF6\", \"width\": 0.5}}, \"type\": \"bar\"}], \"barpolar\": [{\"marker\": {\"line\": {\"color\": \"#E5ECF6\", \"width\": 0.5}}, \"type\": \"barpolar\"}], \"carpet\": [{\"aaxis\": {\"endlinecolor\": \"#2a3f5f\", \"gridcolor\": \"white\", \"linecolor\": \"white\", \"minorgridcolor\": \"white\", \"startlinecolor\": \"#2a3f5f\"}, \"baxis\": {\"endlinecolor\": \"#2a3f5f\", \"gridcolor\": \"white\", \"linecolor\": \"white\", \"minorgridcolor\": \"white\", \"startlinecolor\": \"#2a3f5f\"}, \"type\": \"carpet\"}], \"choropleth\": [{\"colorbar\": {\"outlinewidth\": 0, \"ticks\": \"\"}, \"type\": \"choropleth\"}], \"contour\": [{\"colorbar\": {\"outlinewidth\": 0, \"ticks\": \"\"}, \"colorscale\": [[0.0, \"#0d0887\"], [0.1111111111111111, \"#46039f\"], [0.2222222222222222, \"#7201a8\"], [0.3333333333333333, \"#9c179e\"], [0.4444444444444444, \"#bd3786\"], [0.5555555555555556, \"#d8576b\"], [0.6666666666666666, \"#ed7953\"], [0.7777777777777778, \"#fb9f3a\"], [0.8888888888888888, \"#fdca26\"], [1.0, \"#f0f921\"]], \"type\": \"contour\"}], \"contourcarpet\": [{\"colorbar\": {\"outlinewidth\": 0, \"ticks\": \"\"}, \"type\": \"contourcarpet\"}], \"heatmap\": [{\"colorbar\": {\"outlinewidth\": 0, \"ticks\": \"\"}, \"colorscale\": [[0.0, \"#0d0887\"], [0.1111111111111111, \"#46039f\"], [0.2222222222222222, \"#7201a8\"], [0.3333333333333333, \"#9c179e\"], [0.4444444444444444, \"#bd3786\"], [0.5555555555555556, \"#d8576b\"], [0.6666666666666666, \"#ed7953\"], [0.7777777777777778, \"#fb9f3a\"], [0.8888888888888888, \"#fdca26\"], [1.0, \"#f0f921\"]], \"type\": \"heatmap\"}], \"heatmapgl\": [{\"colorbar\": {\"outlinewidth\": 0, \"ticks\": \"\"}, \"colorscale\": [[0.0, \"#0d0887\"], [0.1111111111111111, \"#46039f\"], [0.2222222222222222, \"#7201a8\"], [0.3333333333333333, \"#9c179e\"], [0.4444444444444444, \"#bd3786\"], [0.5555555555555556, \"#d8576b\"], [0.6666666666666666, \"#ed7953\"], [0.7777777777777778, \"#fb9f3a\"], [0.8888888888888888, \"#fdca26\"], [1.0, \"#f0f921\"]], \"type\": \"heatmapgl\"}], \"histogram\": [{\"marker\": {\"colorbar\": {\"outlinewidth\": 0, \"ticks\": \"\"}}, \"type\": \"histogram\"}], \"histogram2d\": [{\"colorbar\": {\"outlinewidth\": 0, \"ticks\": \"\"}, \"colorscale\": [[0.0, \"#0d0887\"], [0.1111111111111111, \"#46039f\"], [0.2222222222222222, \"#7201a8\"], [0.3333333333333333, \"#9c179e\"], [0.4444444444444444, \"#bd3786\"], [0.5555555555555556, \"#d8576b\"], [0.6666666666666666, \"#ed7953\"], [0.7777777777777778, \"#fb9f3a\"], [0.8888888888888888, \"#fdca26\"], [1.0, \"#f0f921\"]], \"type\": \"histogram2d\"}], \"histogram2dcontour\": [{\"colorbar\": {\"outlinewidth\": 0, \"ticks\": \"\"}, \"colorscale\": [[0.0, \"#0d0887\"], [0.1111111111111111, \"#46039f\"], [0.2222222222222222, \"#7201a8\"], [0.3333333333333333, \"#9c179e\"], [0.4444444444444444, \"#bd3786\"], [0.5555555555555556, \"#d8576b\"], [0.6666666666666666, \"#ed7953\"], [0.7777777777777778, \"#fb9f3a\"], [0.8888888888888888, \"#fdca26\"], [1.0, \"#f0f921\"]], \"type\": \"histogram2dcontour\"}], \"mesh3d\": [{\"colorbar\": {\"outlinewidth\": 0, \"ticks\": \"\"}, \"type\": \"mesh3d\"}], \"parcoords\": [{\"line\": {\"colorbar\": {\"outlinewidth\": 0, \"ticks\": \"\"}}, \"type\": \"parcoords\"}], \"pie\": [{\"automargin\": true, \"type\": \"pie\"}], \"scatter\": [{\"marker\": {\"colorbar\": {\"outlinewidth\": 0, \"ticks\": \"\"}}, \"type\": \"scatter\"}], \"scatter3d\": [{\"line\": {\"colorbar\": {\"outlinewidth\": 0, \"ticks\": \"\"}}, \"marker\": {\"colorbar\": {\"outlinewidth\": 0, \"ticks\": \"\"}}, \"type\": \"scatter3d\"}], \"scattercarpet\": [{\"marker\": {\"colorbar\": {\"outlinewidth\": 0, \"ticks\": \"\"}}, \"type\": \"scattercarpet\"}], \"scattergeo\": [{\"marker\": {\"colorbar\": {\"outlinewidth\": 0, \"ticks\": \"\"}}, \"type\": \"scattergeo\"}], \"scattergl\": [{\"marker\": {\"colorbar\": {\"outlinewidth\": 0, \"ticks\": \"\"}}, \"type\": \"scattergl\"}], \"scattermapbox\": [{\"marker\": {\"colorbar\": {\"outlinewidth\": 0, \"ticks\": \"\"}}, \"type\": \"scattermapbox\"}], \"scatterpolar\": [{\"marker\": {\"colorbar\": {\"outlinewidth\": 0, \"ticks\": \"\"}}, \"type\": \"scatterpolar\"}], \"scatterpolargl\": [{\"marker\": {\"colorbar\": {\"outlinewidth\": 0, \"ticks\": \"\"}}, \"type\": \"scatterpolargl\"}], \"scatterternary\": [{\"marker\": {\"colorbar\": {\"outlinewidth\": 0, \"ticks\": \"\"}}, \"type\": \"scatterternary\"}], \"surface\": [{\"colorbar\": {\"outlinewidth\": 0, \"ticks\": \"\"}, \"colorscale\": [[0.0, \"#0d0887\"], [0.1111111111111111, \"#46039f\"], [0.2222222222222222, \"#7201a8\"], [0.3333333333333333, \"#9c179e\"], [0.4444444444444444, \"#bd3786\"], [0.5555555555555556, \"#d8576b\"], [0.6666666666666666, \"#ed7953\"], [0.7777777777777778, \"#fb9f3a\"], [0.8888888888888888, \"#fdca26\"], [1.0, \"#f0f921\"]], \"type\": \"surface\"}], \"table\": [{\"cells\": {\"fill\": {\"color\": \"#EBF0F8\"}, \"line\": {\"color\": \"white\"}}, \"header\": {\"fill\": {\"color\": \"#C8D4E3\"}, \"line\": {\"color\": \"white\"}}, \"type\": \"table\"}]}, \"layout\": {\"annotationdefaults\": {\"arrowcolor\": \"#2a3f5f\", \"arrowhead\": 0, \"arrowwidth\": 1}, \"coloraxis\": {\"colorbar\": {\"outlinewidth\": 0, \"ticks\": \"\"}}, \"colorscale\": {\"diverging\": [[0, \"#8e0152\"], [0.1, \"#c51b7d\"], [0.2, \"#de77ae\"], [0.3, \"#f1b6da\"], [0.4, \"#fde0ef\"], [0.5, \"#f7f7f7\"], [0.6, \"#e6f5d0\"], [0.7, \"#b8e186\"], [0.8, \"#7fbc41\"], [0.9, \"#4d9221\"], [1, \"#276419\"]], \"sequential\": [[0.0, \"#0d0887\"], [0.1111111111111111, \"#46039f\"], [0.2222222222222222, \"#7201a8\"], [0.3333333333333333, \"#9c179e\"], [0.4444444444444444, \"#bd3786\"], [0.5555555555555556, \"#d8576b\"], [0.6666666666666666, \"#ed7953\"], [0.7777777777777778, \"#fb9f3a\"], [0.8888888888888888, \"#fdca26\"], [1.0, \"#f0f921\"]], \"sequentialminus\": [[0.0, \"#0d0887\"], [0.1111111111111111, \"#46039f\"], [0.2222222222222222, \"#7201a8\"], [0.3333333333333333, \"#9c179e\"], [0.4444444444444444, \"#bd3786\"], [0.5555555555555556, \"#d8576b\"], [0.6666666666666666, \"#ed7953\"], [0.7777777777777778, \"#fb9f3a\"], [0.8888888888888888, \"#fdca26\"], [1.0, \"#f0f921\"]]}, \"colorway\": [\"#636efa\", \"#EF553B\", \"#00cc96\", \"#ab63fa\", \"#FFA15A\", \"#19d3f3\", \"#FF6692\", \"#B6E880\", \"#FF97FF\", \"#FECB52\"], \"font\": {\"color\": \"#2a3f5f\"}, \"geo\": {\"bgcolor\": \"white\", \"lakecolor\": \"white\", \"landcolor\": \"#E5ECF6\", \"showlakes\": true, \"showland\": true, \"subunitcolor\": \"white\"}, \"hoverlabel\": {\"align\": \"left\"}, \"hovermode\": \"closest\", \"mapbox\": {\"style\": \"light\"}, \"paper_bgcolor\": \"white\", \"plot_bgcolor\": \"#E5ECF6\", \"polar\": {\"angularaxis\": {\"gridcolor\": \"white\", \"linecolor\": \"white\", \"ticks\": \"\"}, \"bgcolor\": \"#E5ECF6\", \"radialaxis\": {\"gridcolor\": \"white\", \"linecolor\": \"white\", \"ticks\": \"\"}}, \"scene\": {\"xaxis\": {\"backgroundcolor\": \"#E5ECF6\", \"gridcolor\": \"white\", \"gridwidth\": 2, \"linecolor\": \"white\", \"showbackground\": true, \"ticks\": \"\", \"zerolinecolor\": \"white\"}, \"yaxis\": {\"backgroundcolor\": \"#E5ECF6\", \"gridcolor\": \"white\", \"gridwidth\": 2, \"linecolor\": \"white\", \"showbackground\": true, \"ticks\": \"\", \"zerolinecolor\": \"white\"}, \"zaxis\": {\"backgroundcolor\": \"#E5ECF6\", \"gridcolor\": \"white\", \"gridwidth\": 2, \"linecolor\": \"white\", \"showbackground\": true, \"ticks\": \"\", \"zerolinecolor\": \"white\"}}, \"shapedefaults\": {\"line\": {\"color\": \"#2a3f5f\"}}, \"ternary\": {\"aaxis\": {\"gridcolor\": \"white\", \"linecolor\": \"white\", \"ticks\": \"\"}, \"baxis\": {\"gridcolor\": \"white\", \"linecolor\": \"white\", \"ticks\": \"\"}, \"bgcolor\": \"#E5ECF6\", \"caxis\": {\"gridcolor\": \"white\", \"linecolor\": \"white\", \"ticks\": \"\"}}, \"title\": {\"x\": 0.05}, \"xaxis\": {\"automargin\": true, \"gridcolor\": \"white\", \"linecolor\": \"white\", \"ticks\": \"\", \"title\": {\"standoff\": 15}, \"zerolinecolor\": \"white\", \"zerolinewidth\": 2}, \"yaxis\": {\"automargin\": true, \"gridcolor\": \"white\", \"linecolor\": \"white\", \"ticks\": \"\", \"title\": {\"standoff\": 15}, \"zerolinecolor\": \"white\", \"zerolinewidth\": 2}}}},\n",
              "                        {\"responsive\": true}\n",
              "                    ).then(function(){\n",
              "                            \n",
              "var gd = document.getElementById('59f0fe41-9c01-46e0-8438-bbb2505db032');\n",
              "var x = new MutationObserver(function (mutations, observer) {{\n",
              "        var display = window.getComputedStyle(gd).display;\n",
              "        if (!display || display === 'none') {{\n",
              "            console.log([gd, 'removed!']);\n",
              "            Plotly.purge(gd);\n",
              "            observer.disconnect();\n",
              "        }}\n",
              "}});\n",
              "\n",
              "// Listen for the removal of the full notebook cells\n",
              "var notebookContainer = gd.closest('#notebook-container');\n",
              "if (notebookContainer) {{\n",
              "    x.observe(notebookContainer, {childList: true});\n",
              "}}\n",
              "\n",
              "// Listen for the clearing of the current output cell\n",
              "var outputEl = gd.closest('.output');\n",
              "if (outputEl) {{\n",
              "    x.observe(outputEl, {childList: true});\n",
              "}}\n",
              "\n",
              "                        })\n",
              "                };\n",
              "                \n",
              "            </script>\n",
              "        </div>\n",
              "</body>\n",
              "</html>"
            ]
          },
          "metadata": {
            "tags": []
          }
        }
      ]
    },
    {
      "cell_type": "markdown",
      "metadata": {
        "id": "j4fVAMZiGv9I"
      },
      "source": [
        "## Training set\n",
        "\n",
        "Turning country_name into a dummy variable since it is categorical"
      ]
    },
    {
      "cell_type": "code",
      "metadata": {
        "colab": {
          "base_uri": "https://localhost:8080/"
        },
        "id": "p4GklmPacRnj",
        "outputId": "442e6a0b-4253-4fc3-b15c-c208a5f1697e"
      },
      "source": [
        "\n",
        "train_X = jan_data.drop(['levels'], axis = 1)\n",
        "train_X['population_density'].fillna((feb_data['population_density'].mean()), inplace=True)\n",
        "train_X\n",
        "\n",
        "country_name=pd.get_dummies(train_X['country_name'],drop_first=True)\n",
        "train_X.drop(['country_name'],axis=1,inplace=True)\n",
        "train_X = pd.concat([train_X,country_name],axis=1)\n",
        "train_X.info()"
      ],
      "execution_count": 311,
      "outputs": [
        {
          "output_type": "stream",
          "text": [
            "<class 'pandas.core.frame.DataFrame'>\n",
            "Int64Index: 202 entries, 0 to 202\n",
            "Columns: 207 entries, ('cases_per_100T', 'sum') to Zimbabwe\n",
            "dtypes: float64(5), int64(1), uint8(201)\n",
            "memory usage: 50.7 KB\n"
          ],
          "name": "stdout"
        }
      ]
    },
    {
      "cell_type": "markdown",
      "metadata": {
        "id": "Tug90srQ3Hk7"
      },
      "source": [
        "## Transforming Categorical Into Numerical (Train)"
      ]
    },
    {
      "cell_type": "code",
      "metadata": {
        "id": "0hXqDIe6YKzO"
      },
      "source": [
        "from sklearn import preprocessing\n",
        "num=preprocessing.LabelEncoder()\n",
        "num.fit(jan_data['levels'])\n",
        "jan_data['levels']=num.transform(jan_data['levels'])\n",
        "train_Y=jan_data['levels'] # checking transformation from categorical > numerical"
      ],
      "execution_count": 312,
      "outputs": []
    },
    {
      "cell_type": "markdown",
      "metadata": {
        "id": "Vuvax-xBG0ZM"
      },
      "source": [
        "## Testing Set\n",
        "\n",
        "Turning country_name into a dummy variable since it is categorical"
      ]
    },
    {
      "cell_type": "code",
      "metadata": {
        "colab": {
          "base_uri": "https://localhost:8080/"
        },
        "id": "B2ug8FNUcXND",
        "outputId": "6677c4c4-1da9-47f3-d8c9-a972ab8f056d"
      },
      "source": [
        "import statistics\n",
        "\n",
        "test_X = feb_data.drop(['levels'],axis = 1).fillna(0)\n",
        "test_X['population_density'].fillna((feb_data['population_density'].mean()), inplace=True)\n",
        "\n",
        "country_name=pd.get_dummies(test_X['country_name'],drop_first=True)\n",
        "test_X.drop(['country_name'],axis=1,inplace=True)\n",
        "test_X=pd.concat([test_X,country_name],axis=1)\n",
        "test_X.info()"
      ],
      "execution_count": 313,
      "outputs": [
        {
          "output_type": "stream",
          "text": [
            "<class 'pandas.core.frame.DataFrame'>\n",
            "RangeIndex: 202 entries, 0 to 201\n",
            "Columns: 207 entries, ('cases_per_100T', 'sum') to Zimbabwe\n",
            "dtypes: float64(5), int64(1), uint8(201)\n",
            "memory usage: 49.2 KB\n"
          ],
          "name": "stdout"
        }
      ]
    },
    {
      "cell_type": "markdown",
      "metadata": {
        "id": "EH66OzgS3MmE"
      },
      "source": [
        "## Transforming Categorical Into Numerical (Test)"
      ]
    },
    {
      "cell_type": "code",
      "metadata": {
        "colab": {
          "base_uri": "https://localhost:8080/"
        },
        "id": "SlceEPhfcZSp",
        "outputId": "6e2e7db1-a523-400c-983e-81376c3ce2e5"
      },
      "source": [
        "num.fit(feb_data['levels'])\n",
        "feb_data['levels']=num.transform(feb_data['levels'])\n",
        "test_Y=feb_data['levels'] # checking transformation from categorical > numerical\n",
        "test_Y"
      ],
      "execution_count": 314,
      "outputs": [
        {
          "output_type": "execute_result",
          "data": {
            "text/plain": [
              "0      2\n",
              "1      0\n",
              "2      3\n",
              "3      2\n",
              "4      0\n",
              "      ..\n",
              "197    2\n",
              "198    2\n",
              "199    2\n",
              "200    0\n",
              "201    3\n",
              "Name: levels, Length: 202, dtype: int64"
            ]
          },
          "metadata": {
            "tags": []
          },
          "execution_count": 314
        }
      ]
    },
    {
      "cell_type": "code",
      "metadata": {
        "colab": {
          "base_uri": "https://localhost:8080/",
          "height": 235
        },
        "id": "kOoWPB8L52iU",
        "outputId": "f7d5cce2-723f-477d-ef18-dbed111a3531"
      },
      "source": [
        "jan_data.head()\n"
      ],
      "execution_count": 315,
      "outputs": [
        {
          "output_type": "execute_result",
          "data": {
            "text/html": [
              "<div>\n",
              "<style scoped>\n",
              "    .dataframe tbody tr th:only-of-type {\n",
              "        vertical-align: middle;\n",
              "    }\n",
              "\n",
              "    .dataframe tbody tr th {\n",
              "        vertical-align: top;\n",
              "    }\n",
              "\n",
              "    .dataframe thead tr th {\n",
              "        text-align: left;\n",
              "    }\n",
              "</style>\n",
              "<table border=\"1\" class=\"dataframe\">\n",
              "  <thead>\n",
              "    <tr>\n",
              "      <th></th>\n",
              "      <th>country_name</th>\n",
              "      <th>cases_per_100T</th>\n",
              "      <th>new_confirmed</th>\n",
              "      <th>population</th>\n",
              "      <th>population_density</th>\n",
              "      <th>new_deceased</th>\n",
              "      <th>gdp_per_capita</th>\n",
              "      <th>levels</th>\n",
              "    </tr>\n",
              "    <tr>\n",
              "      <th></th>\n",
              "      <th></th>\n",
              "      <th>sum</th>\n",
              "      <th>sum</th>\n",
              "      <th>mean</th>\n",
              "      <th>mean</th>\n",
              "      <th>sum</th>\n",
              "      <th>mean</th>\n",
              "      <th></th>\n",
              "    </tr>\n",
              "  </thead>\n",
              "  <tbody>\n",
              "    <tr>\n",
              "      <th>0</th>\n",
              "      <td>Afghanistan</td>\n",
              "      <td>6.51197</td>\n",
              "      <td>2535.00000</td>\n",
              "      <td>38928341.00000</td>\n",
              "      <td>59627.00000</td>\n",
              "      <td>194.00000</td>\n",
              "      <td>502</td>\n",
              "      <td>3</td>\n",
              "    </tr>\n",
              "    <tr>\n",
              "      <th>1</th>\n",
              "      <td>Albania</td>\n",
              "      <td>708.10539</td>\n",
              "      <td>20269.00000</td>\n",
              "      <td>2862427.00000</td>\n",
              "      <td>99.60000</td>\n",
              "      <td>207.00000</td>\n",
              "      <td>5352</td>\n",
              "      <td>0</td>\n",
              "    </tr>\n",
              "    <tr>\n",
              "      <th>2</th>\n",
              "      <td>Algeria</td>\n",
              "      <td>18.17061</td>\n",
              "      <td>7968.00000</td>\n",
              "      <td>43851043.00000</td>\n",
              "      <td>18411.00000</td>\n",
              "      <td>138.00000</td>\n",
              "      <td>3948</td>\n",
              "      <td>3</td>\n",
              "    </tr>\n",
              "    <tr>\n",
              "      <th>3</th>\n",
              "      <td>American Samoa</td>\n",
              "      <td>0.00000</td>\n",
              "      <td>0.00000</td>\n",
              "      <td>55196.00000</td>\n",
              "      <td>275985.00000</td>\n",
              "      <td>0.00000</td>\n",
              "      <td>11466</td>\n",
              "      <td>2</td>\n",
              "    </tr>\n",
              "    <tr>\n",
              "      <th>4</th>\n",
              "      <td>Andorra</td>\n",
              "      <td>2400.82832</td>\n",
              "      <td>1855.00000</td>\n",
              "      <td>77265.00000</td>\n",
              "      <td>164394.00000</td>\n",
              "      <td>17.00000</td>\n",
              "      <td>40886</td>\n",
              "      <td>0</td>\n",
              "    </tr>\n",
              "  </tbody>\n",
              "</table>\n",
              "</div>"
            ],
            "text/plain": [
              "     country_name cases_per_100T  ... gdp_per_capita levels\n",
              "                             sum  ...           mean       \n",
              "0     Afghanistan        6.51197  ...            502      3\n",
              "1         Albania      708.10539  ...           5352      0\n",
              "2         Algeria       18.17061  ...           3948      3\n",
              "3  American Samoa        0.00000  ...          11466      2\n",
              "4         Andorra     2400.82832  ...          40886      0\n",
              "\n",
              "[5 rows x 8 columns]"
            ]
          },
          "metadata": {
            "tags": []
          },
          "execution_count": 315
        }
      ]
    },
    {
      "cell_type": "code",
      "metadata": {
        "colab": {
          "base_uri": "https://localhost:8080/",
          "height": 235
        },
        "id": "eF1IHHrF5FEY",
        "outputId": "b62853d7-7a19-4548-befc-62865b7390fb"
      },
      "source": [
        "feb_data.head()"
      ],
      "execution_count": 316,
      "outputs": [
        {
          "output_type": "execute_result",
          "data": {
            "text/html": [
              "<div>\n",
              "<style scoped>\n",
              "    .dataframe tbody tr th:only-of-type {\n",
              "        vertical-align: middle;\n",
              "    }\n",
              "\n",
              "    .dataframe tbody tr th {\n",
              "        vertical-align: top;\n",
              "    }\n",
              "\n",
              "    .dataframe thead tr th {\n",
              "        text-align: left;\n",
              "    }\n",
              "</style>\n",
              "<table border=\"1\" class=\"dataframe\">\n",
              "  <thead>\n",
              "    <tr>\n",
              "      <th></th>\n",
              "      <th>country_name</th>\n",
              "      <th>cases_per_100T</th>\n",
              "      <th>new_confirmed</th>\n",
              "      <th>population</th>\n",
              "      <th>population_density</th>\n",
              "      <th>new_deceased</th>\n",
              "      <th>gdp_per_capita</th>\n",
              "      <th>levels</th>\n",
              "    </tr>\n",
              "    <tr>\n",
              "      <th></th>\n",
              "      <th></th>\n",
              "      <th>sum</th>\n",
              "      <th>sum</th>\n",
              "      <th>mean</th>\n",
              "      <th>mean</th>\n",
              "      <th>sum</th>\n",
              "      <th>mean</th>\n",
              "      <th></th>\n",
              "    </tr>\n",
              "  </thead>\n",
              "  <tbody>\n",
              "    <tr>\n",
              "      <th>0</th>\n",
              "      <td>Afghanistan</td>\n",
              "      <td>1.63891</td>\n",
              "      <td>638.00000</td>\n",
              "      <td>38928341.00000</td>\n",
              "      <td>59627.00000</td>\n",
              "      <td>41.00000</td>\n",
              "      <td>502</td>\n",
              "      <td>2</td>\n",
              "    </tr>\n",
              "    <tr>\n",
              "      <th>1</th>\n",
              "      <td>Albania</td>\n",
              "      <td>1010.99521</td>\n",
              "      <td>28939.00000</td>\n",
              "      <td>2862427.00000</td>\n",
              "      <td>99.60000</td>\n",
              "      <td>423.00000</td>\n",
              "      <td>5352</td>\n",
              "      <td>0</td>\n",
              "    </tr>\n",
              "    <tr>\n",
              "      <th>2</th>\n",
              "      <td>Algeria</td>\n",
              "      <td>12.94610</td>\n",
              "      <td>5677.00000</td>\n",
              "      <td>43851043.00000</td>\n",
              "      <td>18411.00000</td>\n",
              "      <td>93.00000</td>\n",
              "      <td>3948</td>\n",
              "      <td>3</td>\n",
              "    </tr>\n",
              "    <tr>\n",
              "      <th>3</th>\n",
              "      <td>American Samoa</td>\n",
              "      <td>0.00000</td>\n",
              "      <td>0.00000</td>\n",
              "      <td>55196.00000</td>\n",
              "      <td>275985.00000</td>\n",
              "      <td>0.00000</td>\n",
              "      <td>11466</td>\n",
              "      <td>2</td>\n",
              "    </tr>\n",
              "    <tr>\n",
              "      <th>4</th>\n",
              "      <td>Andorra</td>\n",
              "      <td>1186.82456</td>\n",
              "      <td>917.00000</td>\n",
              "      <td>77265.00000</td>\n",
              "      <td>164394.00000</td>\n",
              "      <td>9.00000</td>\n",
              "      <td>40886</td>\n",
              "      <td>0</td>\n",
              "    </tr>\n",
              "  </tbody>\n",
              "</table>\n",
              "</div>"
            ],
            "text/plain": [
              "     country_name cases_per_100T  ... gdp_per_capita levels\n",
              "                             sum  ...           mean       \n",
              "0     Afghanistan        1.63891  ...            502      2\n",
              "1         Albania     1010.99521  ...           5352      0\n",
              "2         Algeria       12.94610  ...           3948      3\n",
              "3  American Samoa        0.00000  ...          11466      2\n",
              "4         Andorra     1186.82456  ...          40886      0\n",
              "\n",
              "[5 rows x 8 columns]"
            ]
          },
          "metadata": {
            "tags": []
          },
          "execution_count": 316
        }
      ]
    },
    {
      "cell_type": "markdown",
      "metadata": {
        "id": "FKFRq9NZ4tFM"
      },
      "source": [
        "After checking dataframe for jan_data and feb_data, our levels converted into\n",
        "\n",
        "*   3 = moderate\n",
        "*   0 = extreme\n",
        "*   2 = low\n",
        "*   1 = high\n",
        "\n",
        "\n",
        "\n"
      ]
    },
    {
      "cell_type": "markdown",
      "metadata": {
        "id": "JoWXmw4yciXX"
      },
      "source": [
        "## Oversampling\n",
        "\n",
        "Since there is class imbalance, we use the SMOTEEN package to oversample."
      ]
    },
    {
      "cell_type": "code",
      "metadata": {
        "colab": {
          "base_uri": "https://localhost:8080/"
        },
        "id": "ijd5IFBC4ND5",
        "outputId": "9bbee529-53ab-4d4a-f396-f59b7a772800"
      },
      "source": [
        "import seaborn as sns\n",
        "train_Y.value_counts()"
      ],
      "execution_count": 317,
      "outputs": [
        {
          "output_type": "execute_result",
          "data": {
            "text/plain": [
              "0    106\n",
              "3     47\n",
              "2     32\n",
              "1     17\n",
              "Name: levels, dtype: int64"
            ]
          },
          "metadata": {
            "tags": []
          },
          "execution_count": 317
        }
      ]
    },
    {
      "cell_type": "code",
      "metadata": {
        "id": "VLsTr8wpUO5u"
      },
      "source": [
        "from collections import Counter\n",
        "from imblearn.combine import SMOTEENN"
      ],
      "execution_count": 318,
      "outputs": []
    },
    {
      "cell_type": "code",
      "metadata": {
        "colab": {
          "base_uri": "https://localhost:8080/",
          "height": 467
        },
        "id": "rUZKcY8mcl5Y",
        "outputId": "0262d6f9-d59a-469e-8f4c-5b987e4aad62"
      },
      "source": [
        "from imblearn.over_sampling import SMOTE\n",
        "os = SMOTE(random_state=0)\n",
        "columns = train_X.columns\n",
        "os_data_X,os_data_y=os.fit_sample(train_X, train_Y)\n",
        "os_data_X = pd.DataFrame(data=os_data_X,columns=columns )\n",
        "os_data_y = pd.DataFrame(data=os_data_y,columns=['levels'])\n",
        "# we can Check the numbers of our data\n",
        "print(\"length of oversampled data is \",len(os_data_X))\n",
        "print(\"Number of countries level low in oversampled data\",len(os_data_y[os_data_y['levels']==2]))\n",
        "print(\"Number of countries level moderate in oversampled data\",len(os_data_y[os_data_y['levels']==3]))\n",
        "print(\"Number of countries level high in oversampled data\",len(os_data_y[os_data_y['levels']==1]))\n",
        "print(\"Number of countries level extreme in oversampled data\",len(os_data_y[os_data_y['levels']==0]))\n",
        "\n",
        "sns.set_theme(style=\"ticks\")\n",
        "sns.color_palette(\"husl\", 4)\n",
        "y_os = sns.catplot(x = \"levels\", kind = \"count\", data = os_data_y, order = [2, 3, 1, 0])\n"
      ],
      "execution_count": 319,
      "outputs": [
        {
          "output_type": "stream",
          "text": [
            "length of oversampled data is  424\n",
            "Number of countries level low in oversampled data 106\n",
            "Number of countries level moderate in oversampled data 106\n",
            "Number of countries level high in oversampled data 106\n",
            "Number of countries level extreme in oversampled data 106\n"
          ],
          "name": "stdout"
        },
        {
          "output_type": "display_data",
          "data": {
            "image/png": "[encoded data removed]",
            "text/plain": [
              "<Figure size 360x360 with 1 Axes>"
            ]
          },
          "metadata": {
            "tags": []
          }
        }
      ]
    },
    {
      "cell_type": "markdown",
      "metadata": {
        "id": "hl2XlOSqc8Tm"
      },
      "source": [
        "## OVR Logistic Regression\n",
        "\n",
        "Regular Logistic Regression is for binary responses which is why we opt for different variants of logistic regression for multi-classification.\n",
        "\n"
      ]
    },
    {
      "cell_type": "code",
      "metadata": {
        "id": "7L64bGL4c6VW"
      },
      "source": [
        "from sklearn.linear_model import LogisticRegression\n",
        "logmod_ovr = LogisticRegression(multi_class='ovr',max_iter=1000).fit(os_data_X, os_data_y.values.ravel())"
      ],
      "execution_count": 320,
      "outputs": []
    },
    {
      "cell_type": "code",
      "metadata": {
        "colab": {
          "base_uri": "https://localhost:8080/"
        },
        "id": "w_zGvojNUbUl",
        "outputId": "d30b8070-91f4-4eb4-9d9b-6f096194b87a"
      },
      "source": [
        "# accuracy for both training and testing sets to check for signs of overfitting\n",
        "print('OVR Logistic Regression Accuracy (Training):', logmod_ovr.score(train_X, train_Y)) # accuracy\n",
        "print('OVR Logistic Regression Accuracy (Testing):', logmod_ovr.score(test_X, test_Y)) # accuracy"
      ],
      "execution_count": 321,
      "outputs": [
        {
          "output_type": "stream",
          "text": [
            "OVR Logistic Regression Accuracy (Training): 0.8910891089108911\n",
            "OVR Logistic Regression Accuracy (Testing): 0.8861386138613861\n"
          ],
          "name": "stdout"
        }
      ]
    },
    {
      "cell_type": "code",
      "metadata": {
        "colab": {
          "base_uri": "https://localhost:8080/",
          "height": 285
        },
        "id": "ojZyoc-qdCIl",
        "outputId": "a53e0852-8fbc-4f55-8dcb-d78cf6e3803d"
      },
      "source": [
        "from sklearn.metrics import plot_confusion_matrix, accuracy_score\n",
        "import matplotlib.pyplot as plt\n",
        "\n",
        "\n",
        "ovrdisp = plot_confusion_matrix(logmod_ovr, test_X, test_Y,\n",
        "                                 display_labels='levels',\n",
        "                                 cmap=plt.cm.Blues)\n",
        "plt.show()"
      ],
      "execution_count": 322,
      "outputs": [
        {
          "output_type": "display_data",
          "data": {
            "image/png": "[encoded data removed]",
            "text/plain": [
              "<Figure size 432x288 with 2 Axes>"
            ]
          },
          "metadata": {
            "tags": []
          }
        }
      ]
    },
    {
      "cell_type": "code",
      "metadata": {
        "colab": {
          "base_uri": "https://localhost:8080/"
        },
        "id": "PcW2j4LZdE65",
        "outputId": "eecec93a-2395-4b81-dcf7-d6dc548953db"
      },
      "source": [
        "import sklearn.metrics as metrics\n",
        "import plotly.figure_factory as ff\n",
        "print(metrics.classification_report(test_Y, logmod_ovr.predict(test_X))) # classification report\n",
        "\n"
      ],
      "execution_count": 323,
      "outputs": [
        {
          "output_type": "stream",
          "text": [
            "              precision    recall  f1-score   support\n",
            "\n",
            "           0       1.00      0.98      0.99        97\n",
            "           1       0.39      0.41      0.40        17\n",
            "           2       0.98      0.98      0.98        44\n",
            "           3       0.76      0.77      0.76        44\n",
            "\n",
            "    accuracy                           0.89       202\n",
            "   macro avg       0.78      0.79      0.78       202\n",
            "weighted avg       0.89      0.89      0.89       202\n",
            "\n"
          ],
          "name": "stdout"
        }
      ]
    },
    {
      "cell_type": "markdown",
      "metadata": {
        "id": "rvMXOP12dSCn"
      },
      "source": [
        "## Multinomial Logistic Regression"
      ]
    },
    {
      "cell_type": "code",
      "metadata": {
        "id": "9PYhwzgIiOnQ"
      },
      "source": [
        "logmod_multi = LogisticRegression(multi_class='multinomial',\n",
        "    solver='lbfgs',max_iter=10000).fit(os_data_X, os_data_y.values.ravel())"
      ],
      "execution_count": 324,
      "outputs": []
    },
    {
      "cell_type": "code",
      "metadata": {
        "colab": {
          "base_uri": "https://localhost:8080/"
        },
        "id": "QlvXYdsan2He",
        "outputId": "048c4440-4d6d-4014-ce4f-d52d01afc65e"
      },
      "source": [
        "print('Multinomial Logistic Regression Accuracy (Training):', logmod_multi.score(train_X, train_Y)) \n",
        "print('Multinomial Logistic Regression Accuracy (Testing):', logmod_multi.score(test_X, test_Y)) \n"
      ],
      "execution_count": 325,
      "outputs": [
        {
          "output_type": "stream",
          "text": [
            "Multinomial Logistic Regression Accuracy (Training): 0.995049504950495\n",
            "Multinomial Logistic Regression Accuracy (Testing): 0.9702970297029703\n"
          ],
          "name": "stdout"
        }
      ]
    },
    {
      "cell_type": "code",
      "metadata": {
        "colab": {
          "base_uri": "https://localhost:8080/",
          "height": 285
        },
        "id": "XYJRhbwPivJt",
        "outputId": "429f8ef9-640a-442b-eacd-d8ecec741de6"
      },
      "source": [
        "multidisp = plot_confusion_matrix(logmod_multi, test_X, test_Y,\n",
        "                                 display_labels='levels',\n",
        "                                 cmap=plt.cm.Blues)\n",
        "plt.show()"
      ],
      "execution_count": 326,
      "outputs": [
        {
          "output_type": "display_data",
          "data": {
            "image/png": "[encoded data removed]",
            "text/plain": [
              "<Figure size 432x288 with 2 Axes>"
            ]
          },
          "metadata": {
            "tags": []
          }
        }
      ]
    },
    {
      "cell_type": "code",
      "metadata": {
        "colab": {
          "base_uri": "https://localhost:8080/"
        },
        "id": "08AqKKvQj9es",
        "outputId": "70fd3b27-5db2-4ae4-fc57-bb8a64dfa8ba"
      },
      "source": [
        "print(metrics.classification_report(test_Y, logmod_multi.predict(test_X)))# classification report\n",
        "\n"
      ],
      "execution_count": 327,
      "outputs": [
        {
          "output_type": "stream",
          "text": [
            "              precision    recall  f1-score   support\n",
            "\n",
            "           0       1.00      0.99      0.99        97\n",
            "           1       1.00      1.00      1.00        17\n",
            "           2       0.91      0.95      0.93        44\n",
            "           3       0.95      0.93      0.94        44\n",
            "\n",
            "    accuracy                           0.97       202\n",
            "   macro avg       0.97      0.97      0.97       202\n",
            "weighted avg       0.97      0.97      0.97       202\n",
            "\n"
          ],
          "name": "stdout"
        }
      ]
    },
    {
      "cell_type": "markdown",
      "metadata": {
        "id": "Q2zuHqIo748q"
      },
      "source": [
        "## Ordinal Logistic Regression"
      ]
    },
    {
      "cell_type": "code",
      "metadata": {
        "colab": {
          "base_uri": "https://localhost:8080/"
        },
        "id": "lQ9lrPrh4dIW",
        "outputId": "e2bde941-919d-4bcb-e867-21ac063e32a0"
      },
      "source": [
        "!pip install mord\n",
        "from mord import LogisticAT\n",
        "ord = LogisticAT(alpha=0)\n",
        "ord.fit(os_data_X,os_data_y.values.ravel())\n",
        "ord_y = ord.predict(test_X)\n",
        "ord_ytrain = ord.predict(train_X)\n",
        "print('Multinomial Logistic Regression Accuracy (Training):',(metrics.accuracy_score(train_Y, np.round(ord_ytrain)))) # accuracy\n",
        "print('Multinomial Logistic Regression Accuracy (Testing):',(metrics.accuracy_score(test_Y, np.round(ord_y))))\n"
      ],
      "execution_count": 328,
      "outputs": [
        {
          "output_type": "stream",
          "text": [
            "Requirement already satisfied: mord in /usr/local/lib/python3.7/dist-packages (0.6)\n",
            "Multinomial Logistic Regression Accuracy (Training): 0.6188118811881188\n",
            "Multinomial Logistic Regression Accuracy (Testing): 0.594059405940594\n"
          ],
          "name": "stdout"
        }
      ]
    },
    {
      "cell_type": "code",
      "metadata": {
        "colab": {
          "base_uri": "https://localhost:8080/"
        },
        "id": "MPd_KEVu7_-6",
        "outputId": "78440c9d-0d0d-4cf1-a9e7-dbaa2335f168"
      },
      "source": [
        "metrics.confusion_matrix(test_Y,ord_y) # confusion matrix"
      ],
      "execution_count": 329,
      "outputs": [
        {
          "output_type": "execute_result",
          "data": {
            "text/plain": [
              "array([[94,  1,  1,  1],\n",
              "       [10,  3,  3,  1],\n",
              "       [ 0, 26, 12,  6],\n",
              "       [ 6, 17, 10, 11]])"
            ]
          },
          "metadata": {
            "tags": []
          },
          "execution_count": 329
        }
      ]
    },
    {
      "cell_type": "code",
      "metadata": {
        "colab": {
          "base_uri": "https://localhost:8080/"
        },
        "id": "URYGJvX-7pz9",
        "outputId": "ea93e733-c0d9-4335-b95e-e8e7ef6c070b"
      },
      "source": [
        "print(metrics.classification_report(test_Y, ord.predict(test_X))) # classification report"
      ],
      "execution_count": 330,
      "outputs": [
        {
          "output_type": "stream",
          "text": [
            "              precision    recall  f1-score   support\n",
            "\n",
            "           0       0.85      0.97      0.91        97\n",
            "           1       0.06      0.18      0.09        17\n",
            "           2       0.46      0.27      0.34        44\n",
            "           3       0.58      0.25      0.35        44\n",
            "\n",
            "    accuracy                           0.59       202\n",
            "   macro avg       0.49      0.42      0.42       202\n",
            "weighted avg       0.64      0.59      0.59       202\n",
            "\n"
          ],
          "name": "stdout"
        }
      ]
    },
    {
      "cell_type": "markdown",
      "metadata": {
        "id": "DTgZmZrYCJ4q"
      },
      "source": [
        "## Multiclass Logistic Regression with Built in Cross Validation"
      ]
    },
    {
      "cell_type": "code",
      "metadata": {
        "colab": {
          "base_uri": "https://localhost:8080/"
        },
        "id": "12zGDT2S-Vxy",
        "outputId": "ac40fe2f-b1c1-477d-94c9-0e262fb98333"
      },
      "source": [
        "from sklearn.linear_model import LogisticRegressionCV\n",
        "from sklearn.metrics import accuracy_score\n",
        "import warnings\n",
        "warnings.filterwarnings(\"ignore\")\n",
        "clf = LogisticRegressionCV(cv = 10, random_state = 0, penalty = 'l2', solver = 'newton-cg', max_iter = 1000)\n",
        "clf.fit(os_data_X, os_data_y.values.ravel())\n",
        "clf_pred = clf.predict(test_X)\n",
        "print(accuracy_score(test_Y, clf_pred))"
      ],
      "execution_count": 331,
      "outputs": [
        {
          "output_type": "stream",
          "text": [
            "0.9851485148514851\n"
          ],
          "name": "stdout"
        }
      ]
    },
    {
      "cell_type": "code",
      "metadata": {
        "colab": {
          "base_uri": "https://localhost:8080/"
        },
        "id": "-U4j0fS3PKVt",
        "outputId": "02ca6478-f1dc-4e40-82bd-33bcf7ae8bce"
      },
      "source": [
        "print('Multiclass Logistic Regression with Built in Cross Validation (Training):', clf.score(train_X, train_Y)) \n",
        "print('Multiclass Logistic Regression with Built in Cross Validation (Testing):', clf.score(test_X, test_Y)) "
      ],
      "execution_count": 332,
      "outputs": [
        {
          "output_type": "stream",
          "text": [
            "Multiclass Logistic Regression with Built in Cross Validation (Training): 1.0\n",
            "Multiclass Logistic Regression with Built in Cross Validation (Testing): 0.9851485148514851\n"
          ],
          "name": "stdout"
        }
      ]
    },
    {
      "cell_type": "code",
      "metadata": {
        "colab": {
          "base_uri": "https://localhost:8080/"
        },
        "id": "hCU5ZEYAEgz0",
        "outputId": "b891bd52-a841-469f-88dc-105a4ce71b2e"
      },
      "source": [
        "print(metrics.classification_report(test_Y, clf_pred)) # classification report"
      ],
      "execution_count": 340,
      "outputs": [
        {
          "output_type": "stream",
          "text": [
            "              precision    recall  f1-score   support\n",
            "\n",
            "           0       1.00      0.99      0.99        97\n",
            "           1       0.94      1.00      0.97        17\n",
            "           2       1.00      0.95      0.98        44\n",
            "           3       0.96      1.00      0.98        44\n",
            "\n",
            "    accuracy                           0.99       202\n",
            "   macro avg       0.98      0.99      0.98       202\n",
            "weighted avg       0.99      0.99      0.99       202\n",
            "\n"
          ],
          "name": "stdout"
        }
      ]
    },
    {
      "cell_type": "code",
      "metadata": {
        "colab": {
          "base_uri": "https://localhost:8080/",
          "height": 285
        },
        "id": "LmqLA5XsE_y2",
        "outputId": "d8e72e06-e952-45bb-c466-2846aa1cb03b"
      },
      "source": [
        "logcv_disp = plot_confusion_matrix(clf, test_X, test_Y,\n",
        "                                 display_labels='levels',\n",
        "                                 cmap=plt.cm.Blues)\n",
        "plt.show()"
      ],
      "execution_count": 343,
      "outputs": [
        {
          "output_type": "display_data",
          "data": {
            "image/png": "[encoded data removed]",
            "text/plain": [
              "<Figure size 432x288 with 2 Axes>"
            ]
          },
          "metadata": {
            "tags": []
          }
        }
      ]
    },
    {
      "cell_type": "markdown",
      "metadata": {
        "id": "hWCcfHx8MdDN"
      },
      "source": [
        "## SVM - RBF"
      ]
    },
    {
      "cell_type": "code",
      "metadata": {
        "id": "7wLYSbiOMbvs"
      },
      "source": [
        "from sklearn.svm import SVC\n",
        "from sklearn.metrics import accuracy_score\n",
        "\n",
        "#fit the model\n",
        "rbf_SVM = SVC(kernel='rbf', C=1E7, decision_function_shape='ovo',probability=True)\n",
        "rbf_SVM.fit(os_data_X,os_data_y)\n",
        "rbf_pred=rbf_SVM.predict(test_X)"
      ],
      "execution_count": 335,
      "outputs": []
    },
    {
      "cell_type": "code",
      "metadata": {
        "colab": {
          "base_uri": "https://localhost:8080/"
        },
        "id": "M_uFFPY5PwHY",
        "outputId": "0b718660-f0bf-43f8-9c92-73927a470a8b"
      },
      "source": [
        "print('SVM RBF Accuracy (Training):', rbf_SVM.score(train_X, train_Y)) \n",
        "print('SVM RBF Accuracy  (Testing):', rbf_SVM.score(test_X, test_Y)) "
      ],
      "execution_count": 336,
      "outputs": [
        {
          "output_type": "stream",
          "text": [
            "SVM RBF Accuracy (Training): 0.7277227722772277\n",
            "SVM RBF Accuracy  (Testing): 0.6534653465346535\n"
          ],
          "name": "stdout"
        }
      ]
    },
    {
      "cell_type": "code",
      "metadata": {
        "colab": {
          "base_uri": "https://localhost:8080/",
          "height": 285
        },
        "id": "TAZZdWstlZ3r",
        "outputId": "9af07fe8-95bd-4568-ef41-67350f1a83c8"
      },
      "source": [
        "svmrbf_disp = plot_confusion_matrix(rbf_SVM, test_X, test_Y,\n",
        "                                 display_labels='levels',\n",
        "                                 cmap=plt.cm.Blues)"
      ],
      "execution_count": 342,
      "outputs": [
        {
          "output_type": "display_data",
          "data": {
            "image/png": "[encoded data removed]",
            "text/plain": [
              "<Figure size 432x288 with 2 Axes>"
            ]
          },
          "metadata": {
            "tags": []
          }
        }
      ]
    },
    {
      "cell_type": "code",
      "metadata": {
        "colab": {
          "base_uri": "https://localhost:8080/"
        },
        "id": "uYz62jiFMkr2",
        "outputId": "7b645180-be34-4107-d652-c443bb62787c"
      },
      "source": [
        "\n",
        "print(metrics.classification_report(test_Y, rbf_pred)) # classification report"
      ],
      "execution_count": 338,
      "outputs": [
        {
          "output_type": "stream",
          "text": [
            "              precision    recall  f1-score   support\n",
            "\n",
            "           0       0.95      0.76      0.85        97\n",
            "           1       0.33      0.65      0.44        17\n",
            "           2       0.47      0.66      0.55        44\n",
            "           3       0.62      0.41      0.49        44\n",
            "\n",
            "    accuracy                           0.65       202\n",
            "   macro avg       0.59      0.62      0.58       202\n",
            "weighted avg       0.72      0.65      0.67       202\n",
            "\n"
          ],
          "name": "stdout"
        }
      ]
    },
    {
      "cell_type": "markdown",
      "metadata": {
        "id": "vTZ-_HzxVBYz"
      },
      "source": [
        "## Model Selection/Conclusion\n",
        "\n",
        "Out of all the logistic regression variants we have tried, the best accuracy, classification matrix, and classification report is Multinomial Logistic Regression and the multiclass logistic regression with cross validation model. These two are pretty close in performance with Multiclass Logistic Regression CV having slightly better performance in these measures."
      ]
    },
    {
      "cell_type": "code",
      "metadata": {
        "colab": {
          "base_uri": "https://localhost:8080/"
        },
        "id": "MYNsv06clQG-",
        "outputId": "3ae80572-7383-4a10-b123-6096d15aa038"
      },
      "source": [
        "print('OVR Logistic Regression Accuracy:', np.round(logmod_ovr.score(test_X, test_Y)*100))\n",
        "print('Multinomial Logistic Regression Accuracy:', np.round(logmod_multi.score(test_X, test_Y)*100))\n",
        "print('Ordinal Logistic Regression Accuracy:', np.round(metrics.accuracy_score(test_Y, np.round(ord_y))*100))\n",
        "print('Multiclass Logistic Regression CV Accuracy:', np.round(accuracy_score(test_Y, clf_pred)*100))\n",
        "print('SVM RBF Accuracy:', np.round(accuracy_score(test_Y, rbf_pred)*100))"
      ],
      "execution_count": 344,
      "outputs": [
        {
          "output_type": "stream",
          "text": [
            "OVR Logistic Regression Accuracy: 89.0\n",
            "Multinomial Logistic Regression Accuracy: 97.0\n",
            "Ordinal Logistic Regression Accuracy: 59.0\n",
            "Multiclass Logistic Regression CV Accuracy: 99.0\n",
            "SVM RBF Accuracy: 65.0\n"
          ],
          "name": "stdout"
        }
      ]
    }
  ]
}