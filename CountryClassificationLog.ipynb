{
  "nbformat": 4,
  "nbformat_minor": 0,
  "metadata": {
    "colab": {
      "name": "CountryClassificationLog.ipynb",
      "provenance": [],
      "collapsed_sections": [],
      "include_colab_link": true
    },
    "kernelspec": {
      "display_name": "Python 3",
      "name": "python3"
    }
  },
  "cells": [
    {
      "cell_type": "markdown",
      "metadata": {
        "id": "view-in-github",
        "colab_type": "text"
      },
      "source": [
        "<a href=\"https://colab.research.google.com/github/arisnbrio/covid-19-country-infection-levels/blob/main/CountryClassificationLog.ipynb\" target=\"_parent\"><img src=\"https://colab.research.google.com/assets/colab-badge.svg\" alt=\"Open In Colab\"/></a>"
      ]
    },
    {
      "cell_type": "markdown",
      "metadata": {
        "id": "O5HMq0GbFkbj"
      },
      "source": [
        "## Import Datasets and merge together into one dataset by key values "
      ]
    },
    {
      "cell_type": "code",
      "metadata": {
        "id": "cSUKW3abLx3d"
      },
      "source": [
        "import pandas as pd\n",
        "pd.set_option('display.float_format', lambda x: '%.5f' % x)\n",
        "import numpy as np\n",
        "from functools import reduce\n",
        "\n",
        "epid = pd.read_csv(\"https://storage.googleapis.com/covid19-open-data/v2/epidemiology.csv\", parse_dates = True)\n",
        "# deceased, deaths, recover etc\n",
        "demo = pd.read_csv(\"https://storage.googleapis.com/covid19-open-data/v2/demographics.csv\")\n",
        "# population\n",
        "ind = pd.read_csv(\"https://storage.googleapis.com/covid19-open-data/v2/index.csv\")\n",
        "\n",
        "eco = pd.read_csv(\"https://storage.googleapis.com/covid19-open-data/v2/economy.csv\")\n",
        "\n",
        "geo = pd.read_csv(\"https://storage.googleapis.com/covid19-open-data/v2/geography.csv\")\n",
        "# needed for country/country code/subregion1_code(city)\n",
        "\n",
        "\n",
        "data = epid.merge(demo,on='key').merge(ind,on='key').merge(eco,on='key').merge(geo,on='key')\n",
        "\n",
        "cases_per_1M = data['new_confirmed']/data['population'] # cases per 1 million pop\n",
        "cases_per_1M = cases_per_1M.apply(lambda x: x*1000000)\n",
        "data = data.assign(cases_per_1M = cases_per_1M)"
      ],
      "execution_count": 5,
      "outputs": []
    },
    {
      "cell_type": "markdown",
      "metadata": {
        "id": "F21_N45PFrYN"
      },
      "source": [
        "## Summary and shape of our dataset"
      ]
    },
    {
      "cell_type": "code",
      "metadata": {
        "colab": {
          "base_uri": "https://localhost:8080/"
        },
        "id": "KCcNNunAZCJh",
        "outputId": "7562ba1c-f79f-48cf-c3e6-e39e527e1c9f"
      },
      "source": [
        "#data.describe()\n",
        "#data.info()\n",
        "data.head()\n",
        "data.info"
      ],
      "execution_count": 18,
      "outputs": [
        {
          "output_type": "execute_result",
          "data": {
            "text/plain": [
              "<bound method DataFrame.info of               date           key  ...  urban_area  cases_per_1M\n",
              "0       2019-12-31            AR  ... 55032.00000           nan\n",
              "1       2020-01-01            AR  ... 55032.00000       0.06676\n",
              "2       2020-01-02            AR  ... 55032.00000       0.28928\n",
              "3       2020-01-03            AR  ... 55032.00000       0.00000\n",
              "4       2020-01-04            AR  ... 55032.00000       0.15577\n",
              "...            ...           ...  ...         ...           ...\n",
              "151086  2021-03-18  BR_SP_350400  ...         nan     851.34113\n",
              "151087  2021-03-19  BR_SP_350400  ...         nan    1166.65265\n",
              "151088  2021-03-20  BR_SP_350400  ...         nan    1282.26688\n",
              "151089  2021-03-21  BR_SP_350400  ...         nan     620.11267\n",
              "151090  2021-03-22  BR_SP_350400  ...         nan     493.98806\n",
              "\n",
              "[151091 rows x 55 columns]>"
            ]
          },
          "metadata": {
            "tags": []
          },
          "execution_count": 18
        }
      ]
    },
    {
      "cell_type": "code",
      "metadata": {
        "colab": {
          "base_uri": "https://localhost:8080/"
        },
        "id": "wUfasccb411b",
        "outputId": "1be0c8b3-4726-4383-9426-14fd087e6b99"
      },
      "source": [
        "# number of days of observations we have for each country\n",
        "num_days = data['date'].unique()\n",
        "num_days.shape"
      ],
      "execution_count": 17,
      "outputs": [
        {
          "output_type": "execute_result",
          "data": {
            "text/plain": [
              "(449,)"
            ]
          },
          "metadata": {
            "tags": []
          },
          "execution_count": 17
        }
      ]
    },
    {
      "cell_type": "markdown",
      "metadata": {
        "id": "UBhQDuOxBSjE"
      },
      "source": [
        "## Taking only the data from Jan 2021 and Feb 2021 to reduce the amount of data we are working with"
      ]
    },
    {
      "cell_type": "code",
      "metadata": {
        "colab": {
          "base_uri": "https://localhost:8080/"
        },
        "id": "y2_Sl4g4nyx5",
        "outputId": "8c131d35-4317-49a5-ef04-ea552d56c095"
      },
      "source": [
        "country_data = data[data['subregion1_code'].isnull()] # collect rows that don't specify subregions\n",
        "country_data = country_data[(country_data['date'] >= '2021-01-01') & (country_data['date'] <= '2021-02-28')] # filter dates between jan and feb\n",
        "country_data = country_data.drop(['subregion1_code','subregion1_name','subregion2_code','subregion2_name'], axis=1) # drop column\n",
        "country_data=country_data[[\"cases_per_1M\",\"new_confirmed\", \"new_deceased\",\"new_tested\",\"population\",\"population_density\",\"gdp_per_capita\"]]\n",
        "country_data.info()\n",
        "\n"
      ],
      "execution_count": 10,
      "outputs": [
        {
          "output_type": "stream",
          "text": [
            "<class 'pandas.core.frame.DataFrame'>\n",
            "Int64Index: 11921 entries, 367 to 111850\n",
            "Data columns (total 7 columns):\n",
            " #   Column              Non-Null Count  Dtype  \n",
            "---  ------              --------------  -----  \n",
            " 0   cases_per_1M        11921 non-null  float64\n",
            " 1   new_confirmed       11921 non-null  float64\n",
            " 2   new_deceased        11921 non-null  float64\n",
            " 3   new_tested          5598 non-null   float64\n",
            " 4   population          11921 non-null  float64\n",
            " 5   population_density  11921 non-null  float64\n",
            " 6   gdp_per_capita      11921 non-null  int64  \n",
            "dtypes: float64(6), int64(1)\n",
            "memory usage: 745.1 KB\n"
          ],
          "name": "stdout"
        }
      ]
    },
    {
      "cell_type": "markdown",
      "metadata": {
        "id": "pIay3u9lGdWY"
      },
      "source": [
        "## Now let's take a look at the correlation matrix of all variables in the data subset we are working with to see if we have a problem with multicollinearity\n",
        "Since the Pearson method relies on the assumption of the data being normally distributed, we use the Spearman method instead because it doesn't have assumptions of the population distribution of the data, so it generalizes to our dataset better. "
      ]
    },
    {
      "cell_type": "code",
      "metadata": {
        "colab": {
          "base_uri": "https://localhost:8080/"
        },
        "id": "-cdW5a3ULL22",
        "outputId": "c663dd5c-844e-4416-8990-12dd91aa4c4d"
      },
      "source": [
        "corrMatrix = country_data.corr(method = 'spearman')\n",
        "print(corrMatrix)"
      ],
      "execution_count": 11,
      "outputs": [
        {
          "output_type": "stream",
          "text": [
            "                    cases_per_1M  ...  gdp_per_capita\n",
            "cases_per_1M             1.00000  ...         0.45886\n",
            "new_confirmed            0.78579  ...         0.24050\n",
            "new_deceased             0.63929  ...         0.18178\n",
            "new_tested               0.36786  ...         0.38943\n",
            "population               0.06858  ...        -0.29946\n",
            "population_density      -0.25575  ...        -0.20348\n",
            "gdp_per_capita           0.45886  ...         1.00000\n",
            "\n",
            "[7 rows x 7 columns]\n"
          ],
          "name": "stdout"
        }
      ]
    },
    {
      "cell_type": "markdown",
      "metadata": {
        "id": "lR7Ov7BTomeB"
      },
      "source": [
        "## Visualize the correlation matrix with a heatmap"
      ]
    },
    {
      "cell_type": "code",
      "metadata": {
        "colab": {
          "base_uri": "https://localhost:8080/",
          "height": 354
        },
        "id": "-6Y0wYpfLVXG",
        "outputId": "ef339ef8-3dee-4a7b-8429-618fa369c799"
      },
      "source": [
        "import seaborn as sn\n",
        "import matplotlib.pyplot as plt\n",
        "sn.heatmap(corrMatrix, annot = True, cmap = 'RdPu')\n",
        "plt.show()"
      ],
      "execution_count": 12,
      "outputs": [
        {
          "output_type": "display_data",
          "data": {
            "image/png": "[encoded data removed]",
            "text/plain": [
              "<Figure size 432x288 with 2 Axes>"
            ]
          },
          "metadata": {
            "tags": [],
            "needs_background": "light"
          }
        }
      ]
    },
    {
      "cell_type": "code",
      "metadata": {
        "colab": {
          "base_uri": "https://localhost:8080/",
          "height": 531
        },
        "id": "dd9igUtFo6gF",
        "outputId": "4d35fe49-48cc-48a4-aaa7-8355bfb63c5c"
      },
      "source": [
        "import seaborn as sn\n",
        "import matplotlib.pyplot as plt\n",
        "covMatrix = pd.DataFrame.cov(country_data)\n",
        "print(covMatrix)\n",
        "sn.heatmap(covMatrix, annot = False, cmap = 'Blues', robust = True)\n",
        "plt.show()"
      ],
      "execution_count": 14,
      "outputs": [
        {
          "output_type": "stream",
          "text": [
            "                        cases_per_1M  ...      gdp_per_capita\n",
            "cases_per_1M             40728.36074  ...       1465468.11758\n",
            "new_confirmed           614940.51417  ...      39585506.24182\n",
            "new_deceased             10407.17418  ...        806672.39846\n",
            "new_tested             7058306.67765  ...     855047887.51099\n",
            "population         -1849687300.26591  ... -236798757206.61606\n",
            "population_density    37419928.75623  ...   24789402267.63067\n",
            "gdp_per_capita         1465468.11758  ...     689430612.06289\n",
            "\n",
            "[7 rows x 7 columns]\n"
          ],
          "name": "stdout"
        },
        {
          "output_type": "display_data",
          "data": {
            "image/png": "[encoded data removed]",
            "text/plain": [
              "<Figure size 432x288 with 2 Axes>"
            ]
          },
          "metadata": {
            "tags": [],
            "needs_background": "light"
          }
        }
      ]
    },
    {
      "cell_type": "markdown",
      "metadata": {
        "id": "m81cZtyhXkNf"
      },
      "source": [
        "## Split into Months\n",
        "Using January data as our training set, and February data as our test set. CDC recognizes infection severity levels by the last 28 days which is roughly a month so we use these constraints to determine our levels for the months of January and February."
      ]
    },
    {
      "cell_type": "code",
      "metadata": {
        "colab": {
          "base_uri": "https://localhost:8080/"
        },
        "id": "BTCYSrMS6PzQ",
        "outputId": "7bf3143d-f4fc-47f1-c9f0-6e5260fda68a"
      },
      "source": [
        "jan_data = country_data[(country_data['date'] >= '2021-01-01') & (country_data['date'] < '2021-02-01')]\n",
        "\n",
        "jan_data = jan_data.groupby(\n",
        "   ['country_name']\n",
        ").agg(\n",
        "    {   'cases_per_1M': ['sum'], # sum of total new cases in the time span per 1M ppl\n",
        "        'new_confirmed':['sum'],   # cumulative number of cases over the past 59 days \n",
        "        'population': ['mean'],\n",
        "        'population_density': ['mean'],\n",
        "        'new_deceased': ['sum'],\n",
        "        'new_tested':\t['sum'],\n",
        "        'gdp_per_capita': ['mean']\n",
        "    }\n",
        ").reset_index()\n",
        "\n",
        "\n",
        "\n",
        "conditions = [  # if else basically\n",
        "    (jan_data['cases_per_1M'] < 500), # level 1\n",
        "    (jan_data['cases_per_1M'] >= 500) & (jan_data['cases_per_1M'] < 1000), # level 2\n",
        "    (jan_data['cases_per_1M'] >=  1000) # level 3\n",
        "    ]\n",
        "values = [1, 2, 3]\n",
        "\n",
        "## true labels for our training data\n",
        "jan_data['levels'] = np.select(conditions, values)\n",
        "\n",
        "jan_data.info()"
      ],
      "execution_count": null,
      "outputs": [
        {
          "output_type": "stream",
          "text": [
            "<class 'pandas.core.frame.DataFrame'>\n",
            "RangeIndex: 203 entries, 0 to 202\n",
            "Data columns (total 9 columns):\n",
            " #   Column                      Non-Null Count  Dtype  \n",
            "---  ------                      --------------  -----  \n",
            " 0   (country_name, )            203 non-null    object \n",
            " 1   (cases_per_1M, sum)         203 non-null    float64\n",
            " 2   (new_confirmed, sum)        203 non-null    float64\n",
            " 3   (population, mean)          203 non-null    float64\n",
            " 4   (population_density, mean)  203 non-null    float64\n",
            " 5   (new_deceased, sum)         203 non-null    float64\n",
            " 6   (new_tested, sum)           203 non-null    float64\n",
            " 7   (gdp_per_capita, mean)      203 non-null    int64  \n",
            " 8   (levels, )                  203 non-null    int64  \n",
            "dtypes: float64(6), int64(2), object(1)\n",
            "memory usage: 14.4+ KB\n"
          ],
          "name": "stdout"
        }
      ]
    },
    {
      "cell_type": "code",
      "metadata": {
        "id": "b2t_Vs29adZh"
      },
      "source": [
        "jan_data = jan_data.set_index(['country_name'])"
      ],
      "execution_count": null,
      "outputs": []
    },
    {
      "cell_type": "code",
      "metadata": {
        "colab": {
          "base_uri": "https://localhost:8080/"
        },
        "id": "Klx4sKkzg6WB",
        "outputId": "eab87096-8461-4fe0-d8d9-8876d99a188b"
      },
      "source": [
        "feb_data = country_data[(country_data['date'] >= '2021-02-01') & (country_data['date'] <= '2021-02-28')]\n",
        "\n",
        "feb_data = feb_data.groupby(\n",
        "   ['country_name']\n",
        ").agg(\n",
        "    {   'cases_per_1M': ['sum'], # sum of total new cases in the time span per 1M ppl\n",
        "        'new_confirmed':['sum'],   # cumulative number of cases over the past 59 days \n",
        "        'population': ['mean'],\n",
        "        'population_density': ['mean'],\n",
        "        'new_deceased': ['sum'],\n",
        "        'new_tested':\t['sum'],\n",
        "        'gdp_per_capita': ['mean']\n",
        "    }\n",
        ").reset_index()\n",
        "\n",
        "\n",
        "conditions = [  # if else basically\n",
        "    (feb_data['cases_per_1M'] < 500), # level 1\n",
        "    (feb_data['cases_per_1M'] >= 500) & (feb_data['cases_per_1M'] < 1000), # level 2\n",
        "    (feb_data['cases_per_1M'] >=  1000) # level 3\n",
        "    ]\n",
        "values = [1, 2, 3]\n",
        "\n",
        "## true labels for our testing data \n",
        "feb_data['levels'] = np.select(conditions, values)\n",
        "\n",
        "feb_data.info()"
      ],
      "execution_count": null,
      "outputs": [
        {
          "output_type": "stream",
          "text": [
            "<class 'pandas.core.frame.DataFrame'>\n",
            "RangeIndex: 202 entries, 0 to 201\n",
            "Data columns (total 9 columns):\n",
            " #   Column                      Non-Null Count  Dtype  \n",
            "---  ------                      --------------  -----  \n",
            " 0   (country_name, )            202 non-null    object \n",
            " 1   (cases_per_1M, sum)         202 non-null    float64\n",
            " 2   (new_confirmed, sum)        202 non-null    float64\n",
            " 3   (population, mean)          202 non-null    float64\n",
            " 4   (population_density, mean)  202 non-null    float64\n",
            " 5   (new_deceased, sum)         202 non-null    float64\n",
            " 6   (new_tested, sum)           202 non-null    float64\n",
            " 7   (gdp_per_capita, mean)      202 non-null    int64  \n",
            " 8   (levels, )                  202 non-null    int64  \n",
            "dtypes: float64(6), int64(2), object(1)\n",
            "memory usage: 14.3+ KB\n"
          ],
          "name": "stdout"
        }
      ]
    },
    {
      "cell_type": "code",
      "metadata": {
        "id": "uoGAkf56_dIu"
      },
      "source": [
        "feb_data = feb_data.set_index(['country_name'])"
      ],
      "execution_count": null,
      "outputs": []
    },
    {
      "cell_type": "markdown",
      "metadata": {
        "id": "znJ6lEK4UAga"
      },
      "source": [
        "## Construct our Response Variable: Each countries labels (overall for january and february)"
      ]
    },
    {
      "cell_type": "code",
      "metadata": {
        "colab": {
          "base_uri": "https://localhost:8080/",
          "height": 433
        },
        "id": "Bsu20ot-b-4A",
        "outputId": "bd4a3d78-b834-46d2-d9f2-9838062c0fcb"
      },
      "source": [
        "response_var = country_data_sum[['levels']].copy() # new dataframe containing only the 'levels' column, indexed by country \n",
        "response_var"
      ],
      "execution_count": null,
      "outputs": [
        {
          "output_type": "execute_result",
          "data": {
            "text/html": [
              "<div>\n",
              "<style scoped>\n",
              "    .dataframe tbody tr th:only-of-type {\n",
              "        vertical-align: middle;\n",
              "    }\n",
              "\n",
              "    .dataframe tbody tr th {\n",
              "        vertical-align: top;\n",
              "    }\n",
              "\n",
              "    .dataframe thead tr th {\n",
              "        text-align: left;\n",
              "    }\n",
              "</style>\n",
              "<table border=\"1\" class=\"dataframe\">\n",
              "  <thead>\n",
              "    <tr>\n",
              "      <th></th>\n",
              "      <th>levels</th>\n",
              "    </tr>\n",
              "    <tr>\n",
              "      <th></th>\n",
              "      <th></th>\n",
              "    </tr>\n",
              "  </thead>\n",
              "  <tbody>\n",
              "    <tr>\n",
              "      <th>0</th>\n",
              "      <td>1</td>\n",
              "    </tr>\n",
              "    <tr>\n",
              "      <th>1</th>\n",
              "      <td>3</td>\n",
              "    </tr>\n",
              "    <tr>\n",
              "      <th>2</th>\n",
              "      <td>1</td>\n",
              "    </tr>\n",
              "    <tr>\n",
              "      <th>3</th>\n",
              "      <td>1</td>\n",
              "    </tr>\n",
              "    <tr>\n",
              "      <th>4</th>\n",
              "      <td>3</td>\n",
              "    </tr>\n",
              "    <tr>\n",
              "      <th>...</th>\n",
              "      <td>...</td>\n",
              "    </tr>\n",
              "    <tr>\n",
              "      <th>198</th>\n",
              "      <td>1</td>\n",
              "    </tr>\n",
              "    <tr>\n",
              "      <th>199</th>\n",
              "      <td>1</td>\n",
              "    </tr>\n",
              "    <tr>\n",
              "      <th>200</th>\n",
              "      <td>1</td>\n",
              "    </tr>\n",
              "    <tr>\n",
              "      <th>201</th>\n",
              "      <td>3</td>\n",
              "    </tr>\n",
              "    <tr>\n",
              "      <th>202</th>\n",
              "      <td>3</td>\n",
              "    </tr>\n",
              "  </tbody>\n",
              "</table>\n",
              "<p>203 rows × 1 columns</p>\n",
              "</div>"
            ],
            "text/plain": [
              "    levels\n",
              "          \n",
              "0        1\n",
              "1        3\n",
              "2        1\n",
              "3        1\n",
              "4        3\n",
              "..     ...\n",
              "198      1\n",
              "199      1\n",
              "200      1\n",
              "201      3\n",
              "202      3\n",
              "\n",
              "[203 rows x 1 columns]"
            ]
          },
          "metadata": {
            "tags": []
          },
          "execution_count": 41
        }
      ]
    },
    {
      "cell_type": "code",
      "metadata": {
        "colab": {
          "base_uri": "https://localhost:8080/"
        },
        "id": "0u3VUv8qcJI2",
        "outputId": "fb0f8506-19be-469c-b565-7e1d78fcf1cd"
      },
      "source": [
        "response_var.value_counts()"
      ],
      "execution_count": null,
      "outputs": [
        {
          "output_type": "execute_result",
          "data": {
            "text/plain": [
              "(levels, )\n",
              "3             118\n",
              "1              73\n",
              "2              12\n",
              "dtype: int64"
            ]
          },
          "metadata": {
            "tags": []
          },
          "execution_count": 42
        }
      ]
    },
    {
      "cell_type": "code",
      "metadata": {
        "colab": {
          "base_uri": "https://localhost:8080/",
          "height": 382
        },
        "id": "7qLZYbX9cJrO",
        "outputId": "d27c3f11-9c16-405f-8473-d32e4db559eb"
      },
      "source": [
        "import seaborn as sns\n",
        "sns.set_theme(style=\"ticks\")\n",
        "sns.color_palette(\"husl\", 3)\n",
        "g = sns.catplot(x = \"levels\", kind = \"count\", palette = \"husl\", data = response_var, order = [1, 2, 3])"
      ],
      "execution_count": null,
      "outputs": [
        {
          "output_type": "display_data",
          "data": {
            "image/png": "[encoded data removed]",
            "text/plain": [
              "<Figure size 360x360 with 1 Axes>"
            ]
          },
          "metadata": {
            "tags": []
          }
        }
      ]
    },
    {
      "cell_type": "markdown",
      "metadata": {
        "id": "LOd8bC1mcRGK"
      },
      "source": [
        "We can see that the classes are severity imbalanced, with level 2 being the minority class"
      ]
    },
    {
      "cell_type": "markdown",
      "metadata": {
        "id": "j4fVAMZiGv9I"
      },
      "source": [
        "## Training set"
      ]
    },
    {
      "cell_type": "code",
      "metadata": {
        "colab": {
          "base_uri": "https://localhost:8080/",
          "height": 566
        },
        "id": "p4GklmPacRnj",
        "outputId": "1fe692de-c3d9-4771-87d2-4519bb95ad1c"
      },
      "source": [
        "\n",
        "\n",
        "\n",
        "train_X = jan_data.drop(['levels'], axis = 1)\n",
        "train_X['population_density'].fillna((feb_data['population_density'].mean()), inplace=True)\n",
        "train_X"
      ],
      "execution_count": null,
      "outputs": [
        {
          "output_type": "stream",
          "text": [
            "/usr/local/lib/python3.7/dist-packages/pandas/core/series.py:4536: SettingWithCopyWarning: \n",
            "A value is trying to be set on a copy of a slice from a DataFrame\n",
            "\n",
            "See the caveats in the documentation: https://pandas.pydata.org/pandas-docs/stable/user_guide/indexing.html#returning-a-view-versus-a-copy\n",
            "  downcast=downcast,\n"
          ],
          "name": "stderr"
        },
        {
          "output_type": "execute_result",
          "data": {
            "text/html": [
              "<div>\n",
              "<style scoped>\n",
              "    .dataframe tbody tr th:only-of-type {\n",
              "        vertical-align: middle;\n",
              "    }\n",
              "\n",
              "    .dataframe tbody tr th {\n",
              "        vertical-align: top;\n",
              "    }\n",
              "\n",
              "    .dataframe thead tr th {\n",
              "        text-align: left;\n",
              "    }\n",
              "\n",
              "    .dataframe thead tr:last-of-type th {\n",
              "        text-align: right;\n",
              "    }\n",
              "</style>\n",
              "<table border=\"1\" class=\"dataframe\">\n",
              "  <thead>\n",
              "    <tr>\n",
              "      <th></th>\n",
              "      <th>cases_per_1M</th>\n",
              "      <th>new_confirmed</th>\n",
              "      <th>population</th>\n",
              "      <th>population_density</th>\n",
              "      <th>new_deceased</th>\n",
              "      <th>new_tested</th>\n",
              "      <th>gdp_per_capita</th>\n",
              "    </tr>\n",
              "    <tr>\n",
              "      <th></th>\n",
              "      <th>sum</th>\n",
              "      <th>sum</th>\n",
              "      <th>mean</th>\n",
              "      <th>mean</th>\n",
              "      <th>sum</th>\n",
              "      <th>sum</th>\n",
              "      <th>mean</th>\n",
              "    </tr>\n",
              "    <tr>\n",
              "      <th>country_name</th>\n",
              "      <th></th>\n",
              "      <th></th>\n",
              "      <th></th>\n",
              "      <th></th>\n",
              "      <th></th>\n",
              "      <th></th>\n",
              "      <th></th>\n",
              "    </tr>\n",
              "  </thead>\n",
              "  <tbody>\n",
              "    <tr>\n",
              "      <th>Afghanistan</th>\n",
              "      <td>65.11965</td>\n",
              "      <td>2535.00000</td>\n",
              "      <td>38928341.00000</td>\n",
              "      <td>59627.00000</td>\n",
              "      <td>194.00000</td>\n",
              "      <td>0.00000</td>\n",
              "      <td>502</td>\n",
              "    </tr>\n",
              "    <tr>\n",
              "      <th>Albania</th>\n",
              "      <td>7081.05394</td>\n",
              "      <td>20269.00000</td>\n",
              "      <td>2862427.00000</td>\n",
              "      <td>99.60000</td>\n",
              "      <td>207.00000</td>\n",
              "      <td>96685.00000</td>\n",
              "      <td>5352</td>\n",
              "    </tr>\n",
              "    <tr>\n",
              "      <th>Algeria</th>\n",
              "      <td>181.70605</td>\n",
              "      <td>7968.00000</td>\n",
              "      <td>43851043.00000</td>\n",
              "      <td>18411.00000</td>\n",
              "      <td>138.00000</td>\n",
              "      <td>0.00000</td>\n",
              "      <td>3948</td>\n",
              "    </tr>\n",
              "    <tr>\n",
              "      <th>American Samoa</th>\n",
              "      <td>0.00000</td>\n",
              "      <td>0.00000</td>\n",
              "      <td>55196.00000</td>\n",
              "      <td>275985.00000</td>\n",
              "      <td>0.00000</td>\n",
              "      <td>0.00000</td>\n",
              "      <td>11466</td>\n",
              "    </tr>\n",
              "    <tr>\n",
              "      <th>Andorra</th>\n",
              "      <td>24008.28318</td>\n",
              "      <td>1855.00000</td>\n",
              "      <td>77265.00000</td>\n",
              "      <td>164394.00000</td>\n",
              "      <td>17.00000</td>\n",
              "      <td>0.00000</td>\n",
              "      <td>40886</td>\n",
              "    </tr>\n",
              "    <tr>\n",
              "      <th>...</th>\n",
              "      <td>...</td>\n",
              "      <td>...</td>\n",
              "      <td>...</td>\n",
              "      <td>...</td>\n",
              "      <td>...</td>\n",
              "      <td>...</td>\n",
              "      <td>...</td>\n",
              "    </tr>\n",
              "    <tr>\n",
              "      <th>Vanuatu</th>\n",
              "      <td>0.00000</td>\n",
              "      <td>0.00000</td>\n",
              "      <td>307150.00000</td>\n",
              "      <td>25197.00000</td>\n",
              "      <td>0.00000</td>\n",
              "      <td>0.00000</td>\n",
              "      <td>3058</td>\n",
              "    </tr>\n",
              "    <tr>\n",
              "      <th>Vietnam</th>\n",
              "      <td>3.87308</td>\n",
              "      <td>377.00000</td>\n",
              "      <td>97338583.00000</td>\n",
              "      <td>313925.00000</td>\n",
              "      <td>0.00000</td>\n",
              "      <td>0.00000</td>\n",
              "      <td>2715</td>\n",
              "    </tr>\n",
              "    <tr>\n",
              "      <th>Yemen</th>\n",
              "      <td>0.70408</td>\n",
              "      <td>21.00000</td>\n",
              "      <td>29825967.00000</td>\n",
              "      <td>56492.00000</td>\n",
              "      <td>5.00000</td>\n",
              "      <td>0.00000</td>\n",
              "      <td>968</td>\n",
              "    </tr>\n",
              "    <tr>\n",
              "      <th>Zambia</th>\n",
              "      <td>1866.68201</td>\n",
              "      <td>34317.00000</td>\n",
              "      <td>18383956.00000</td>\n",
              "      <td>24730.00000</td>\n",
              "      <td>392.00000</td>\n",
              "      <td>307827.00000</td>\n",
              "      <td>1291</td>\n",
              "    </tr>\n",
              "    <tr>\n",
              "      <th>Zimbabwe</th>\n",
              "      <td>1324.16717</td>\n",
              "      <td>19681.00000</td>\n",
              "      <td>14862927.00000</td>\n",
              "      <td>38420.00000</td>\n",
              "      <td>871.00000</td>\n",
              "      <td>100760.00000</td>\n",
              "      <td>1463</td>\n",
              "    </tr>\n",
              "  </tbody>\n",
              "</table>\n",
              "<p>203 rows × 7 columns</p>\n",
              "</div>"
            ],
            "text/plain": [
              "               cases_per_1M new_confirmed  ...   new_tested gdp_per_capita\n",
              "                        sum           sum  ...          sum           mean\n",
              "country_name                               ...                            \n",
              "Afghanistan        65.11965    2535.00000  ...      0.00000            502\n",
              "Albania          7081.05394   20269.00000  ...  96685.00000           5352\n",
              "Algeria           181.70605    7968.00000  ...      0.00000           3948\n",
              "American Samoa      0.00000       0.00000  ...      0.00000          11466\n",
              "Andorra         24008.28318    1855.00000  ...      0.00000          40886\n",
              "...                     ...           ...  ...          ...            ...\n",
              "Vanuatu             0.00000       0.00000  ...      0.00000           3058\n",
              "Vietnam             3.87308     377.00000  ...      0.00000           2715\n",
              "Yemen               0.70408      21.00000  ...      0.00000            968\n",
              "Zambia           1866.68201   34317.00000  ... 307827.00000           1291\n",
              "Zimbabwe         1324.16717   19681.00000  ... 100760.00000           1463\n",
              "\n",
              "[203 rows x 7 columns]"
            ]
          },
          "metadata": {
            "tags": []
          },
          "execution_count": 44
        }
      ]
    },
    {
      "cell_type": "code",
      "metadata": {
        "colab": {
          "base_uri": "https://localhost:8080/"
        },
        "id": "0hXqDIe6YKzO",
        "outputId": "f7f0d3a8-8d7f-40af-fa27-4f907789f0b3"
      },
      "source": [
        "train_Y = jan_data['levels']\n",
        "train_Y"
      ],
      "execution_count": null,
      "outputs": [
        {
          "output_type": "execute_result",
          "data": {
            "text/plain": [
              "country_name\n",
              "Afghanistan       1\n",
              "Albania           3\n",
              "Algeria           1\n",
              "American Samoa    1\n",
              "Andorra           3\n",
              "                 ..\n",
              "Vanuatu           1\n",
              "Vietnam           1\n",
              "Yemen             1\n",
              "Zambia            3\n",
              "Zimbabwe          3\n",
              "Name: levels, Length: 203, dtype: int64"
            ]
          },
          "metadata": {
            "tags": []
          },
          "execution_count": 45
        }
      ]
    },
    {
      "cell_type": "markdown",
      "metadata": {
        "id": "Vuvax-xBG0ZM"
      },
      "source": [
        "## Testing Set"
      ]
    },
    {
      "cell_type": "code",
      "metadata": {
        "id": "B2ug8FNUcXND",
        "colab": {
          "base_uri": "https://localhost:8080/"
        },
        "outputId": "041647e6-ceee-4f04-abb7-190e49bddefb"
      },
      "source": [
        "import statistics\n",
        "\n",
        "test_X = feb_data.drop(['levels'],axis = 1).fillna(0)\n",
        "test_X['population_density'].fillna((feb_data['population_density'].mean()), inplace=True)"
      ],
      "execution_count": null,
      "outputs": [
        {
          "output_type": "stream",
          "text": [
            "/usr/local/lib/python3.7/dist-packages/pandas/core/series.py:4536: SettingWithCopyWarning: \n",
            "A value is trying to be set on a copy of a slice from a DataFrame\n",
            "\n",
            "See the caveats in the documentation: https://pandas.pydata.org/pandas-docs/stable/user_guide/indexing.html#returning-a-view-versus-a-copy\n",
            "  downcast=downcast,\n"
          ],
          "name": "stderr"
        }
      ]
    },
    {
      "cell_type": "code",
      "metadata": {
        "colab": {
          "base_uri": "https://localhost:8080/"
        },
        "id": "SlceEPhfcZSp",
        "outputId": "0290c470-6bcd-4948-a9c4-8a7c8a9c70d2"
      },
      "source": [
        "test_Y = feb_data['levels']\n",
        "test_Y"
      ],
      "execution_count": null,
      "outputs": [
        {
          "output_type": "execute_result",
          "data": {
            "text/plain": [
              "country_name\n",
              "Afghanistan       1\n",
              "Albania           3\n",
              "Algeria           1\n",
              "American Samoa    1\n",
              "Andorra           3\n",
              "                 ..\n",
              "Vanuatu           1\n",
              "Vietnam           1\n",
              "Yemen             1\n",
              "Zambia            3\n",
              "Zimbabwe          1\n",
              "Name: levels, Length: 202, dtype: int64"
            ]
          },
          "metadata": {
            "tags": []
          },
          "execution_count": 47
        }
      ]
    },
    {
      "cell_type": "code",
      "metadata": {
        "colab": {
          "base_uri": "https://localhost:8080/"
        },
        "id": "kOoWPB8L52iU",
        "outputId": "7cc0f7eb-e52c-4a41-8a7e-1e94d2cffb83"
      },
      "source": [
        "print('Training Set Shape:')\n",
        "print('Features:', train_X.shape)\n",
        "print('True Class Levels:', train_Y.shape)\n",
        "print('Testing Set Shape:')\n",
        "print('Features', test_X.shape)\n",
        "print('True Class Levels:', test_Y.shape)"
      ],
      "execution_count": null,
      "outputs": [
        {
          "output_type": "stream",
          "text": [
            "Training Set Shape:\n",
            "Features: (203, 7)\n",
            "True Class Levels: (203,)\n",
            "Testing Set Shape:\n",
            "Features (202, 7)\n",
            "True Class Levels: (202,)\n"
          ],
          "name": "stdout"
        }
      ]
    },
    {
      "cell_type": "markdown",
      "metadata": {
        "id": "JoWXmw4yciXX"
      },
      "source": [
        "## Oversampling\n",
        "\n",
        "Since there is class imbalance especially among level 2, we use the SMOTEEN package to oversample."
      ]
    },
    {
      "cell_type": "code",
      "metadata": {
        "id": "VLsTr8wpUO5u"
      },
      "source": [
        "from collections import Counter\n",
        "from imblearn.combine import SMOTEENN"
      ],
      "execution_count": null,
      "outputs": []
    },
    {
      "cell_type": "code",
      "metadata": {
        "colab": {
          "base_uri": "https://localhost:8080/",
          "height": 518
        },
        "id": "rUZKcY8mcl5Y",
        "outputId": "a938af10-e493-4d7c-e72b-b6c799233d00"
      },
      "source": [
        "from imblearn.over_sampling import SMOTE\n",
        "os = SMOTE(random_state=0)\n",
        "columns = train_X.columns\n",
        "os_data_X,os_data_y=os.fit_sample(train_X, train_Y)\n",
        "os_data_X = pd.DataFrame(data=os_data_X,columns=columns )\n",
        "os_data_y = pd.DataFrame(data=os_data_y,columns=['levels'])\n",
        "# we can Check the numbers of our data\n",
        "print(\"length of oversampled data is \",len(os_data_X))\n",
        "print(\"Number of countries level 1 in oversampled data\",len(os_data_y[os_data_y['levels']==1]))\n",
        "print(\"Number of countries level 2 in oversampled data\",len(os_data_y[os_data_y['levels']==2]))\n",
        "print(\"Number of countries level 3 in oversampled data\",len(os_data_y[os_data_y['levels']==3]))\n",
        "sns.set_theme(style=\"ticks\")\n",
        "sns.color_palette(\"husl\", 3)\n",
        "\n",
        "y_os = sns.catplot(x = \"levels\", kind = \"count\", data = os_data_y, order = [1, 2, 3])"
      ],
      "execution_count": null,
      "outputs": [
        {
          "output_type": "stream",
          "text": [
            "/usr/local/lib/python3.7/dist-packages/sklearn/utils/deprecation.py:87: FutureWarning: Function safe_indexing is deprecated; safe_indexing is deprecated in version 0.22 and will be removed in version 0.24.\n",
            "  warnings.warn(msg, category=FutureWarning)\n",
            "/usr/local/lib/python3.7/dist-packages/sklearn/utils/deprecation.py:87: FutureWarning: Function safe_indexing is deprecated; safe_indexing is deprecated in version 0.22 and will be removed in version 0.24.\n",
            "  warnings.warn(msg, category=FutureWarning)\n"
          ],
          "name": "stderr"
        },
        {
          "output_type": "stream",
          "text": [
            "length of oversampled data is  318\n",
            "Number of countries level 1 in oversampled data 106\n",
            "Number of countries level 2 in oversampled data 106\n",
            "Number of countries level 3 in oversampled data 106\n"
          ],
          "name": "stdout"
        },
        {
          "output_type": "display_data",
          "data": {
            "image/png": "[encoded data removed]",
            "text/plain": [
              "<Figure size 360x360 with 1 Axes>"
            ]
          },
          "metadata": {
            "tags": []
          }
        }
      ]
    },
    {
      "cell_type": "markdown",
      "metadata": {
        "id": "hl2XlOSqc8Tm"
      },
      "source": [
        "## OVR Logistic Regression\n",
        "\n",
        "Regular Logistic Regression is for binary responses which is why we opt for different variants of logistic regression for multi-classification.\n",
        "\n"
      ]
    },
    {
      "cell_type": "code",
      "metadata": {
        "id": "7L64bGL4c6VW",
        "colab": {
          "base_uri": "https://localhost:8080/"
        },
        "outputId": "14d70586-3691-419d-bee0-ad31d4ab416b"
      },
      "source": [
        "from sklearn.linear_model import LogisticRegression\n",
        "logmod_ovr = LogisticRegression(multi_class='ovr').fit(os_data_X, os_data_y.values.ravel())"
      ],
      "execution_count": null,
      "outputs": [
        {
          "output_type": "stream",
          "text": [
            "/usr/local/lib/python3.7/dist-packages/sklearn/linear_model/_logistic.py:940: ConvergenceWarning: lbfgs failed to converge (status=1):\n",
            "STOP: TOTAL NO. of ITERATIONS REACHED LIMIT.\n",
            "\n",
            "Increase the number of iterations (max_iter) or scale the data as shown in:\n",
            "    https://scikit-learn.org/stable/modules/preprocessing.html\n",
            "Please also refer to the documentation for alternative solver options:\n",
            "    https://scikit-learn.org/stable/modules/linear_model.html#logistic-regression\n",
            "  extra_warning_msg=_LOGISTIC_SOLVER_CONVERGENCE_MSG)\n",
            "/usr/local/lib/python3.7/dist-packages/sklearn/linear_model/_logistic.py:940: ConvergenceWarning: lbfgs failed to converge (status=1):\n",
            "STOP: TOTAL NO. of ITERATIONS REACHED LIMIT.\n",
            "\n",
            "Increase the number of iterations (max_iter) or scale the data as shown in:\n",
            "    https://scikit-learn.org/stable/modules/preprocessing.html\n",
            "Please also refer to the documentation for alternative solver options:\n",
            "    https://scikit-learn.org/stable/modules/linear_model.html#logistic-regression\n",
            "  extra_warning_msg=_LOGISTIC_SOLVER_CONVERGENCE_MSG)\n"
          ],
          "name": "stderr"
        }
      ]
    },
    {
      "cell_type": "code",
      "metadata": {
        "colab": {
          "base_uri": "https://localhost:8080/"
        },
        "id": "w_zGvojNUbUl",
        "outputId": "fbc400c5-d19f-4050-9dc8-315ec7c2f1aa"
      },
      "source": [
        "print(logmod_ovr.score(test_X, test_Y)) # accuracy"
      ],
      "execution_count": null,
      "outputs": [
        {
          "output_type": "stream",
          "text": [
            "0.9702970297029703\n"
          ],
          "name": "stdout"
        }
      ]
    },
    {
      "cell_type": "code",
      "metadata": {
        "colab": {
          "base_uri": "https://localhost:8080/",
          "height": 285
        },
        "id": "ojZyoc-qdCIl",
        "outputId": "0ea21895-8da1-485f-d1f3-3aa18d3cadac"
      },
      "source": [
        "from sklearn.metrics import plot_confusion_matrix, accuracy_score\n",
        "import matplotlib.pyplot as plt\n",
        "\n",
        "\n",
        "levels = ['1','2','3']\n",
        "ovrdisp = plot_confusion_matrix(logmod_ovr, test_X, test_Y,\n",
        "                                 display_labels=levels,\n",
        "                                 cmap=plt.cm.Blues)\n",
        "plt.show()"
      ],
      "execution_count": null,
      "outputs": [
        {
          "output_type": "display_data",
          "data": {
            "image/png": "[encoded data removed]",
            "text/plain": [
              "<Figure size 432x288 with 2 Axes>"
            ]
          },
          "metadata": {
            "tags": []
          }
        }
      ]
    },
    {
      "cell_type": "code",
      "metadata": {
        "colab": {
          "base_uri": "https://localhost:8080/"
        },
        "id": "PcW2j4LZdE65",
        "outputId": "2782573b-6753-43af-80d9-82503649473f"
      },
      "source": [
        "import sklearn.metrics as metrics\n",
        "import plotly.figure_factory as ff\n",
        "print(metrics.classification_report(test_Y, logmod_ovr.predict(test_X))) # classification report\n",
        "\n"
      ],
      "execution_count": null,
      "outputs": [
        {
          "output_type": "stream",
          "text": [
            "              precision    recall  f1-score   support\n",
            "\n",
            "           1       0.98      0.99      0.98        88\n",
            "           2       0.83      0.88      0.86        17\n",
            "           3       0.99      0.97      0.98        97\n",
            "\n",
            "    accuracy                           0.97       202\n",
            "   macro avg       0.93      0.95      0.94       202\n",
            "weighted avg       0.97      0.97      0.97       202\n",
            "\n"
          ],
          "name": "stdout"
        }
      ]
    },
    {
      "cell_type": "markdown",
      "metadata": {
        "id": "rvMXOP12dSCn"
      },
      "source": [
        "## Multinomial Logistic Regression"
      ]
    },
    {
      "cell_type": "code",
      "metadata": {
        "id": "9PYhwzgIiOnQ",
        "colab": {
          "base_uri": "https://localhost:8080/"
        },
        "outputId": "babc98c3-78b1-4ef4-ca11-9bc861c491b7"
      },
      "source": [
        "logmod_multi = LogisticRegression(multi_class='multinomial',\n",
        "    solver='lbfgs').fit(os_data_X, os_data_y.values.ravel())"
      ],
      "execution_count": null,
      "outputs": [
        {
          "output_type": "stream",
          "text": [
            "/usr/local/lib/python3.7/dist-packages/sklearn/linear_model/_logistic.py:940: ConvergenceWarning:\n",
            "\n",
            "lbfgs failed to converge (status=1):\n",
            "STOP: TOTAL NO. of ITERATIONS REACHED LIMIT.\n",
            "\n",
            "Increase the number of iterations (max_iter) or scale the data as shown in:\n",
            "    https://scikit-learn.org/stable/modules/preprocessing.html\n",
            "Please also refer to the documentation for alternative solver options:\n",
            "    https://scikit-learn.org/stable/modules/linear_model.html#logistic-regression\n",
            "\n"
          ],
          "name": "stderr"
        }
      ]
    },
    {
      "cell_type": "code",
      "metadata": {
        "colab": {
          "base_uri": "https://localhost:8080/"
        },
        "id": "QlvXYdsan2He",
        "outputId": "6a918878-df0c-4c66-e4ce-aa2550ab0f04"
      },
      "source": [
        "logmod_multi.score(test_X, test_Y)\n"
      ],
      "execution_count": null,
      "outputs": [
        {
          "output_type": "execute_result",
          "data": {
            "text/plain": [
              "0.7574257425742574"
            ]
          },
          "metadata": {
            "tags": []
          },
          "execution_count": 56
        }
      ]
    },
    {
      "cell_type": "code",
      "metadata": {
        "colab": {
          "base_uri": "https://localhost:8080/",
          "height": 285
        },
        "id": "XYJRhbwPivJt",
        "outputId": "926d7a8e-0087-4b8a-e792-1c7860c8ebb4"
      },
      "source": [
        "multidisp = plot_confusion_matrix(logmod_multi, test_X, test_Y,\n",
        "                                 display_labels=levels,\n",
        "                                 cmap=plt.cm.Blues)\n",
        "plt.show()"
      ],
      "execution_count": null,
      "outputs": [
        {
          "output_type": "display_data",
          "data": {
            "image/png": "[encoded data removed]",
            "text/plain": [
              "<Figure size 432x288 with 2 Axes>"
            ]
          },
          "metadata": {
            "tags": []
          }
        }
      ]
    },
    {
      "cell_type": "code",
      "metadata": {
        "colab": {
          "base_uri": "https://localhost:8080/"
        },
        "id": "08AqKKvQj9es",
        "outputId": "5123d49d-373d-476f-a285-cdac79cc250b"
      },
      "source": [
        "print(metrics.classification_report(test_Y, logmod_multi.predict(test_X)))# classification report\n",
        "\n"
      ],
      "execution_count": null,
      "outputs": [
        {
          "output_type": "stream",
          "text": [
            "              precision    recall  f1-score   support\n",
            "\n",
            "           1       0.92      0.64      0.75        88\n",
            "           2       0.24      0.65      0.35        17\n",
            "           3       0.91      0.89      0.90        97\n",
            "\n",
            "    accuracy                           0.76       202\n",
            "   macro avg       0.69      0.72      0.67       202\n",
            "weighted avg       0.85      0.76      0.79       202\n",
            "\n"
          ],
          "name": "stdout"
        }
      ]
    },
    {
      "cell_type": "markdown",
      "metadata": {
        "id": "Q2zuHqIo748q"
      },
      "source": [
        "## Ordinal Logistic Regression"
      ]
    },
    {
      "cell_type": "code",
      "metadata": {
        "colab": {
          "base_uri": "https://localhost:8080/"
        },
        "id": "lQ9lrPrh4dIW",
        "outputId": "740c06d1-bb82-48b9-d33e-5e490ac22efa"
      },
      "source": [
        "!pip install mord\n",
        "from mord import LogisticAT\n",
        "ord = LogisticAT(alpha=0)\n",
        "ord.fit(os_data_X,os_data_y.values.ravel())\n",
        "ord_y = ord.predict(test_X)\n",
        "print((metrics.accuracy_score(test_Y, np.round(ord_y)))) # accuracy\n"
      ],
      "execution_count": null,
      "outputs": [
        {
          "output_type": "stream",
          "text": [
            "Collecting mord\n",
            "  Downloading https://files.pythonhosted.org/packages/67/9d/c791c841501d9ff4ecb76b57f208dec6cf9f925109c59c995ddec80f9b32/mord-0.6.tar.gz\n",
            "Building wheels for collected packages: mord\n",
            "  Building wheel for mord (setup.py) ... \u001b[?25l\u001b[?25hdone\n",
            "  Created wheel for mord: filename=mord-0.6-cp37-none-any.whl size=6007 sha256=4d530b6dcf4cb8936f432c7c35b49e7fa36da7bcbbcf8d754d6349c5b6368655\n",
            "  Stored in directory: /root/.cache/pip/wheels/98/14/b2/244c2cec93a0c6edb29b488bd6b2710ded7e9d457033b86366\n",
            "Successfully built mord\n",
            "Installing collected packages: mord\n",
            "Successfully installed mord-0.6\n",
            "0.9207920792079208\n"
          ],
          "name": "stdout"
        }
      ]
    },
    {
      "cell_type": "code",
      "metadata": {
        "colab": {
          "base_uri": "https://localhost:8080/"
        },
        "id": "MPd_KEVu7_-6",
        "outputId": "b95af652-01ba-4490-8e0c-a27f371c230b"
      },
      "source": [
        "metrics.confusion_matrix(test_Y,ord_y) # confusion matrix"
      ],
      "execution_count": null,
      "outputs": [
        {
          "output_type": "execute_result",
          "data": {
            "text/plain": [
              "array([[83,  5,  0],\n",
              "       [ 3,  7,  7],\n",
              "       [ 1,  0, 96]])"
            ]
          },
          "metadata": {
            "tags": []
          },
          "execution_count": 60
        }
      ]
    },
    {
      "cell_type": "code",
      "metadata": {
        "colab": {
          "base_uri": "https://localhost:8080/"
        },
        "id": "MG7iWDE1FoYv",
        "outputId": "630a0317-a894-46dd-815e-a579c87437f1"
      },
      "source": [
        "from sklearn.metrics import roc_auc_score\n",
        "roc_auc_score(test_Y, ord.predict_proba(test_X), multi_class = 'ovr')"
      ],
      "execution_count": null,
      "outputs": [
        {
          "output_type": "execute_result",
          "data": {
            "text/plain": [
              "0.9454971234897666"
            ]
          },
          "metadata": {
            "tags": []
          },
          "execution_count": 61
        }
      ]
    },
    {
      "cell_type": "code",
      "metadata": {
        "colab": {
          "base_uri": "https://localhost:8080/"
        },
        "id": "URYGJvX-7pz9",
        "outputId": "45dba2ad-5646-4948-baef-e362430eec8e"
      },
      "source": [
        "print(metrics.classification_report(test_Y, ord.predict(test_X))) # classification report"
      ],
      "execution_count": null,
      "outputs": [
        {
          "output_type": "stream",
          "text": [
            "              precision    recall  f1-score   support\n",
            "\n",
            "           1       0.95      0.94      0.95        88\n",
            "           2       0.58      0.41      0.48        17\n",
            "           3       0.93      0.99      0.96        97\n",
            "\n",
            "    accuracy                           0.92       202\n",
            "   macro avg       0.82      0.78      0.80       202\n",
            "weighted avg       0.91      0.92      0.91       202\n",
            "\n"
          ],
          "name": "stdout"
        }
      ]
    },
    {
      "cell_type": "markdown",
      "metadata": {
        "id": "DTgZmZrYCJ4q"
      },
      "source": [
        "## Multiclass Logistic Regression with Built in Cross Validation\n",
        "We use the L-2 Ridge Penalty and 10-fold Cross Validation: this model gives the best accuracy out of all of them at 97.4%"
      ]
    },
    {
      "cell_type": "code",
      "metadata": {
        "colab": {
          "base_uri": "https://localhost:8080/"
        },
        "id": "12zGDT2S-Vxy",
        "outputId": "3ca97988-cc6e-4b36-e5ab-6d17127a8c04"
      },
      "source": [
        "from sklearn.linear_model import LogisticRegressionCV\n",
        "from sklearn.metrics import accuracy_score\n",
        "import warnings\n",
        "warnings.filterwarnings(\"ignore\")\n",
        "clf = LogisticRegressionCV(cv = 10, random_state = 0, penalty = 'l2', solver = 'newton-cg', max_iter = 1000)\n",
        "clf.fit(os_data_X, os_data_y.values.ravel())\n",
        "clf_pred = clf.predict(test_X)\n",
        "print(accuracy_score(test_Y, clf_pred))"
      ],
      "execution_count": null,
      "outputs": [
        {
          "output_type": "stream",
          "text": [
            "0.9554455445544554\n"
          ],
          "name": "stdout"
        }
      ]
    },
    {
      "cell_type": "code",
      "metadata": {
        "colab": {
          "base_uri": "https://localhost:8080/"
        },
        "id": "9FQWtRLyEyYk",
        "outputId": "d3671246-e1fb-4e59-c3df-7abc7f1c90ac"
      },
      "source": [
        "from sklearn.metrics import roc_auc_score\n",
        "roc_auc_score(test_Y, clf.predict_proba(test_X), multi_class = 'ovr')"
      ],
      "execution_count": null,
      "outputs": [
        {
          "output_type": "execute_result",
          "data": {
            "text/plain": [
              "0.9801550553423698"
            ]
          },
          "metadata": {
            "tags": []
          },
          "execution_count": 64
        }
      ]
    },
    {
      "cell_type": "code",
      "metadata": {
        "id": "hCU5ZEYAEgz0",
        "colab": {
          "base_uri": "https://localhost:8080/"
        },
        "outputId": "fa8bed80-284b-4aa6-cf2f-18c032f89433"
      },
      "source": [
        "print(metrics.classification_report(test_Y, clf_pred)) # classification report"
      ],
      "execution_count": null,
      "outputs": [
        {
          "output_type": "stream",
          "text": [
            "              precision    recall  f1-score   support\n",
            "\n",
            "           1       0.99      1.00      0.99        88\n",
            "           2       0.70      0.94      0.80        17\n",
            "           3       0.99      0.92      0.95        97\n",
            "\n",
            "    accuracy                           0.96       202\n",
            "   macro avg       0.89      0.95      0.92       202\n",
            "weighted avg       0.96      0.96      0.96       202\n",
            "\n"
          ],
          "name": "stdout"
        }
      ]
    },
    {
      "cell_type": "code",
      "metadata": {
        "colab": {
          "base_uri": "https://localhost:8080/",
          "height": 285
        },
        "id": "LmqLA5XsE_y2",
        "outputId": "1d84bd1c-e0b4-4d42-ebd4-23be534189a5"
      },
      "source": [
        "logcv_disp = plot_confusion_matrix(clf, test_X, test_Y,\n",
        "                                 display_labels=levels,\n",
        "                                 cmap=plt.cm.Blues)\n",
        "plt.show()"
      ],
      "execution_count": null,
      "outputs": [
        {
          "output_type": "display_data",
          "data": {
            "image/png": "[encoded data removed]",
            "text/plain": [
              "<Figure size 432x288 with 2 Axes>"
            ]
          },
          "metadata": {
            "tags": []
          }
        }
      ]
    },
    {
      "cell_type": "markdown",
      "metadata": {
        "id": "vTZ-_HzxVBYz"
      },
      "source": [
        "## Model Selection/Conclusion\n",
        "\n",
        "Out of all the logistic regression variants we have tried, the best accuracy, classification matrix, and classification report is OVR and the multiclass logistic regression with cross validation model. These two are pretty close in performs with OVR having the better classification report and logistic regression CV having the better confusion matrix."
      ]
    },
    {
      "cell_type": "code",
      "metadata": {
        "colab": {
          "base_uri": "https://localhost:8080/"
        },
        "id": "MYNsv06clQG-",
        "outputId": "4c937aca-a880-4288-cd5f-738f50cddabe"
      },
      "source": [
        "print('OVR Logistic Regression Accuracy:', np.round(logmod_ovr.score(test_X, test_Y)*100))\n",
        "print('Multinomial Logistic Regression Accuracy:', np.round(logmod_multi.score(test_X, test_Y)*100))\n",
        "print('Ordinal Logistic Regression Accuracy:', np.round(metrics.accuracy_score(test_Y, np.round(ord_y))*100))\n",
        "print('Multiclass Logistic Regression CV Accuracy:', np.round(accuracy_score(test_Y, clf_pred)*100))"
      ],
      "execution_count": null,
      "outputs": [
        {
          "output_type": "stream",
          "text": [
            "OVR Logistic Regression Accuracy: 97.0\n",
            "Multinomial Logistic Regression Accuracy: 76.0\n",
            "Ordinal Logistic Regression Accuracy: 92.0\n",
            "Multiclass Logistic Regression CV Accuracy: 96.0\n"
          ],
          "name": "stdout"
        }
      ]
    }
  ]
}