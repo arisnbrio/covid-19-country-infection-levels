{
  "nbformat": 4,
  "nbformat_minor": 0,
  "metadata": {
    "colab": {
      "name": "CountryClassificationLog.ipynb",
      "provenance": [],
      "collapsed_sections": [],
      "include_colab_link": true
    },
    "kernelspec": {
      "display_name": "Python 3",
      "name": "python3"
    }
  },
  "cells": [
    {
      "cell_type": "markdown",
      "metadata": {
        "id": "view-in-github",
        "colab_type": "text"
      },
      "source": [
        "<a href=\"https://colab.research.google.com/github/arisnbrio/covid-19-country-infection-levels/blob/main/CountryClassificationLog.ipynb\" target=\"_parent\"><img src=\"https://colab.research.google.com/assets/colab-badge.svg\" alt=\"Open In Colab\"/></a>"
      ]
    },
    {
      "cell_type": "markdown",
      "metadata": {
        "id": "O5HMq0GbFkbj"
      },
      "source": [
        "## Import Datasets and merge together into one dataset by key values "
      ]
    },
    {
      "cell_type": "code",
      "metadata": {
        "id": "cSUKW3abLx3d"
      },
      "source": [
        "import pandas as pd\n",
        "pd.set_option('display.float_format', lambda x: '%.5f' % x)\n",
        "import numpy as np\n",
        "from functools import reduce\n",
        "import matplotlib.pyplot as plt\n",
        "import seaborn as sns\n",
        "#!pip install plotly --upgrade\n",
        "\n",
        "epid = pd.read_csv(\"https://storage.googleapis.com/covid19-open-data/v2/epidemiology.csv\", parse_dates = True)\n",
        "# deceased, deaths, recover etc\n",
        "demo = pd.read_csv(\"https://storage.googleapis.com/covid19-open-data/v2/demographics.csv\")\n",
        "# population\n",
        "ind = pd.read_csv(\"https://storage.googleapis.com/covid19-open-data/v2/index.csv\")\n",
        "\n",
        "eco = pd.read_csv(\"https://storage.googleapis.com/covid19-open-data/v2/economy.csv\")\n",
        "\n",
        "geo = pd.read_csv(\"https://storage.googleapis.com/covid19-open-data/v2/geography.csv\")\n",
        "# needed for country/country code/subregion1_code(city)\n",
        "\n",
        "\n",
        "data = epid.merge(demo,on='key').merge(ind,on='key').merge(eco,on='key').merge(geo,on='key')\n",
        "\n",
        "cases_per_100T = data['new_confirmed']/data['population'] # cases per 1 million pop\n",
        "cases_per_100T = cases_per_100T.apply(lambda x: x*100000)\n",
        "data = data.assign(cases_per_100T = cases_per_100T)"
      ],
      "execution_count": 1,
      "outputs": []
    },
    {
      "cell_type": "markdown",
      "metadata": {
        "id": "F21_N45PFrYN"
      },
      "source": [
        "# Data Cleaning/Exploratary Data Analysis\n",
        "\n",
        "\n"
      ]
    },
    {
      "cell_type": "code",
      "metadata": {
        "colab": {
          "base_uri": "https://localhost:8080/"
        },
        "id": "KCcNNunAZCJh",
        "outputId": "5ea763c6-738c-458a-ecbe-b1e80524cf9e"
      },
      "source": [
        "# info about entire dataset\n",
        "data.info()"
      ],
      "execution_count": 2,
      "outputs": [
        {
          "output_type": "stream",
          "text": [
            "<class 'pandas.core.frame.DataFrame'>\n",
            "Int64Index: 168610 entries, 0 to 168609\n",
            "Data columns (total 55 columns):\n",
            " #   Column                       Non-Null Count   Dtype  \n",
            "---  ------                       --------------   -----  \n",
            " 0   date                         168610 non-null  object \n",
            " 1   key                          168115 non-null  object \n",
            " 2   new_confirmed                168500 non-null  float64\n",
            " 3   new_deceased                 156519 non-null  float64\n",
            " 4   new_recovered                35115 non-null   float64\n",
            " 5   new_tested                   58937 non-null   float64\n",
            " 6   total_confirmed              168545 non-null  float64\n",
            " 7   total_deceased               156802 non-null  float64\n",
            " 8   total_recovered              34175 non-null   float64\n",
            " 9   total_tested                 59449 non-null   float64\n",
            " 10  population                   168610 non-null  float64\n",
            " 11  population_male              167587 non-null  float64\n",
            " 12  population_female            167587 non-null  float64\n",
            " 13  rural_population             100017 non-null  float64\n",
            " 14  urban_population             100017 non-null  float64\n",
            " 15  largest_city_population      72789 non-null   float64\n",
            " 16  clustered_population         57886 non-null   float64\n",
            " 17  population_density           166790 non-null  float64\n",
            " 18  human_development_index      93679 non-null   float64\n",
            " 19  population_age_00_09         167587 non-null  float64\n",
            " 20  population_age_10_19         167587 non-null  float64\n",
            " 21  population_age_20_29         167587 non-null  float64\n",
            " 22  population_age_30_39         167587 non-null  float64\n",
            " 23  population_age_40_49         167587 non-null  float64\n",
            " 24  population_age_50_59         167587 non-null  float64\n",
            " 25  population_age_60_69         167587 non-null  float64\n",
            " 26  population_age_70_79         167587 non-null  float64\n",
            " 27  population_age_80_89         155355 non-null  float64\n",
            " 28  population_age_90_99         155355 non-null  float64\n",
            " 29  population_age_80_and_older  167587 non-null  float64\n",
            " 30  place_id                     150788 non-null  object \n",
            " 31  wikidata                     168610 non-null  object \n",
            " 32  datacommons                  162118 non-null  object \n",
            " 33  country_code                 168115 non-null  object \n",
            " 34  country_name                 168610 non-null  object \n",
            " 35  subregion1_code              68593 non-null   object \n",
            " 36  subregion1_name              68593 non-null   object \n",
            " 37  subregion2_code              3524 non-null    object \n",
            " 38  subregion2_name              3524 non-null    object \n",
            " 39  locality_code                455 non-null     object \n",
            " 40  locality_name                455 non-null     object \n",
            " 41  3166-1-alpha-2               168115 non-null  object \n",
            " 42  3166-1-alpha-3               168610 non-null  object \n",
            " 43  aggregation_level            168610 non-null  int64  \n",
            " 44  gdp                          155086 non-null  float64\n",
            " 45  gdp_per_capita               168138 non-null  float64\n",
            " 46  human_capital_index          76750 non-null   float64\n",
            " 47  open_street_maps             166135 non-null  float64\n",
            " 48  latitude                     166495 non-null  float64\n",
            " 49  longitude                    166495 non-null  float64\n",
            " 50  elevation                    35359 non-null   float64\n",
            " 51  area                         168475 non-null  float64\n",
            " 52  rural_area                   83183 non-null   float64\n",
            " 53  urban_area                   83183 non-null   float64\n",
            " 54  cases_per_100T               168500 non-null  float64\n",
            "dtypes: float64(39), int64(1), object(15)\n",
            "memory usage: 72.0+ MB\n"
          ],
          "name": "stdout"
        }
      ]
    },
    {
      "cell_type": "code",
      "metadata": {
        "colab": {
          "base_uri": "https://localhost:8080/"
        },
        "id": "wUfasccb411b",
        "outputId": "377da7fd-f708-41d0-8db8-071aa1f445c9"
      },
      "source": [
        "# number of days of observations we have for each country\n",
        "num_days = data['date'].nunique()\n",
        "num_days"
      ],
      "execution_count": 3,
      "outputs": [
        {
          "output_type": "execute_result",
          "data": {
            "text/plain": [
              "498"
            ]
          },
          "metadata": {
            "tags": []
          },
          "execution_count": 3
        }
      ]
    },
    {
      "cell_type": "markdown",
      "metadata": {
        "id": "UBhQDuOxBSjE"
      },
      "source": [
        "## Taking only the data from Jan 2021 and Feb 2021 to reduce the amount of data we are working with"
      ]
    },
    {
      "cell_type": "code",
      "metadata": {
        "colab": {
          "base_uri": "https://localhost:8080/"
        },
        "id": "y2_Sl4g4nyx5",
        "outputId": "23efaadc-6e7a-492b-c929-118a6154fb28"
      },
      "source": [
        "country_data = data[data['subregion1_code'].isnull()] # collect rows that don't specify subregions\n",
        "country_data = country_data[(country_data['date'] >= '2021-01-01') & (country_data['date'] <= '2021-02-28')] # filter dates between jan and feb\n",
        "country_data = country_data.drop(['subregion1_code','subregion1_name','subregion2_code','subregion2_name'], axis=1) # drop column\n",
        "country_data=country_data[[\"date\",\"country_name\",\"cases_per_100T\", \"new_deceased\",\"population\",\"population_density\",\"gdp_per_capita\"]]\n",
        "country_data.info()\n",
        "\n"
      ],
      "execution_count": 4,
      "outputs": [
        {
          "output_type": "stream",
          "text": [
            "<class 'pandas.core.frame.DataFrame'>\n",
            "Int64Index: 11921 entries, 367 to 123765\n",
            "Data columns (total 7 columns):\n",
            " #   Column              Non-Null Count  Dtype  \n",
            "---  ------              --------------  -----  \n",
            " 0   date                11921 non-null  object \n",
            " 1   country_name        11921 non-null  object \n",
            " 2   cases_per_100T      11921 non-null  float64\n",
            " 3   new_deceased        11921 non-null  float64\n",
            " 4   population          11921 non-null  float64\n",
            " 5   population_density  11921 non-null  float64\n",
            " 6   gdp_per_capita      11921 non-null  float64\n",
            "dtypes: float64(5), object(2)\n",
            "memory usage: 745.1+ KB\n"
          ],
          "name": "stdout"
        }
      ]
    },
    {
      "cell_type": "markdown",
      "metadata": {
        "id": "pIay3u9lGdWY"
      },
      "source": [
        "## Now let's take a look at the correlation matrix of all variables in the data subset we are working with to see if we have a problem with multicollinearity\n",
        "Since the Pearson method relies on the assumption of the data being normally distributed, we use the Spearman method instead because it doesn't have assumptions of the population distribution of the data, so it generalizes to our dataset better. "
      ]
    },
    {
      "cell_type": "code",
      "metadata": {
        "colab": {
          "base_uri": "https://localhost:8080/"
        },
        "id": "-cdW5a3ULL22",
        "outputId": "b4312925-cb4c-4fab-e816-f55c66469200"
      },
      "source": [
        "corrMatrix = country_data.corr(method = 'spearman')\n",
        "print(corrMatrix)"
      ],
      "execution_count": 5,
      "outputs": [
        {
          "output_type": "stream",
          "text": [
            "                    cases_per_100T  ...  gdp_per_capita\n",
            "cases_per_100T             1.00000  ...         0.45835\n",
            "new_deceased               0.63941  ...         0.18183\n",
            "population                 0.06928  ...        -0.29946\n",
            "population_density        -0.25539  ...        -0.20348\n",
            "gdp_per_capita             0.45835  ...         1.00000\n",
            "\n",
            "[5 rows x 5 columns]\n"
          ],
          "name": "stdout"
        }
      ]
    },
    {
      "cell_type": "markdown",
      "metadata": {
        "id": "lR7Ov7BTomeB"
      },
      "source": [
        "## Visualize the correlation matrix with a heatmap"
      ]
    },
    {
      "cell_type": "code",
      "metadata": {
        "colab": {
          "base_uri": "https://localhost:8080/",
          "height": 354
        },
        "id": "-6Y0wYpfLVXG",
        "outputId": "573c38ab-a947-4352-86e9-5ba52b295765"
      },
      "source": [
        "sns.heatmap(corrMatrix, annot = True, cmap = 'Blues')\n",
        "plt.show()"
      ],
      "execution_count": 6,
      "outputs": [
        {
          "output_type": "display_data",
          "data": {
            "image/png": "[encoded data removed]",
            "text/plain": [
              "<Figure size 432x288 with 2 Axes>"
            ]
          },
          "metadata": {
            "tags": [],
            "needs_background": "light"
          }
        }
      ]
    },
    {
      "cell_type": "code",
      "metadata": {
        "colab": {
          "base_uri": "https://localhost:8080/"
        },
        "id": "dd9igUtFo6gF",
        "outputId": "4ee31983-67eb-4fb1-9ae6-4e42c650df9c"
      },
      "source": [
        "covMatrix = pd.DataFrame.cov(country_data)\n",
        "print(covMatrix)\n",
        "sns.heatmap(covMatrix, annot = False, cmap = 'Blues', robust = True)\n",
        "plt.show()"
      ],
      "execution_count": null,
      "outputs": [
        {
          "output_type": "stream",
          "text": [
            "                     cases_per_100T  ...      gdp_per_capita\n",
            "cases_per_100T            408.53622  ...        146657.46274\n",
            "new_deceased             1045.47119  ...        805677.72818\n",
            "population         -184900221.43885  ... -236798757206.62381\n",
            "population_density    3741535.18303  ...   24789402267.63024\n",
            "gdp_per_capita         146657.46274  ...     689430612.06290\n",
            "\n",
            "[5 rows x 5 columns]\n"
          ],
          "name": "stdout"
        }
      ]
    },
    {
      "cell_type": "markdown",
      "metadata": {
        "id": "m81cZtyhXkNf"
      },
      "source": [
        "## Split into Months \n",
        "Using January data as our training set, and February data as our test set. CDC recognizes infection severity levels by the last 28 days which is roughly a month so we use these constraints to determine our levels for the months of January and February. We then summarize our data to get our CDC levels."
      ]
    },
    {
      "cell_type": "code",
      "metadata": {
        "colab": {
          "base_uri": "https://localhost:8080/"
        },
        "id": "BTCYSrMS6PzQ",
        "outputId": "bfb6d17d-4e5c-496c-a1ea-48d5f7d4b6b1"
      },
      "source": [
        "jan_data = country_data[(country_data['date'] >= '2021-01-01') & (country_data['date'] < '2021-02-01')]\n",
        "\n",
        "jan_data = jan_data.groupby(\n",
        "   ['country_name']\n",
        ").agg(\n",
        "    {   'cases_per_100T': ['sum'], # sum of total new cases in the time span per 1M ppl\n",
        "        'population': ['mean'],\n",
        "        'population_density': ['mean'],\n",
        "        'new_deceased': ['sum'],\n",
        "        'gdp_per_capita': ['mean']\n",
        "    }\n",
        ").reset_index()\n",
        "\n",
        "\n",
        "\n",
        "conditions = [  # if else basically\n",
        "    (jan_data['cases_per_100T'] < 5), # low\n",
        "    (jan_data['cases_per_100T'] >= 5) & (jan_data['cases_per_100T'] <= 50), # medium\n",
        "    (jan_data['cases_per_100T'] > 50) & (jan_data['cases_per_100T'] <= 100), # high\n",
        "    (jan_data['cases_per_100T'] > 100) # extreme\n",
        "    ]\n",
        "values = ['low', 'moderate', 'high', 'extreme']\n",
        "\n",
        "## true labels for our training data\n",
        "jan_data['levels'] = np.select(conditions, values)\n",
        "\n",
        "jan_data.info()"
      ],
      "execution_count": 7,
      "outputs": [
        {
          "output_type": "stream",
          "text": [
            "<class 'pandas.core.frame.DataFrame'>\n",
            "RangeIndex: 203 entries, 0 to 202\n",
            "Data columns (total 7 columns):\n",
            " #   Column                      Non-Null Count  Dtype  \n",
            "---  ------                      --------------  -----  \n",
            " 0   (country_name, )            203 non-null    object \n",
            " 1   (cases_per_100T, sum)       203 non-null    float64\n",
            " 2   (population, mean)          203 non-null    float64\n",
            " 3   (population_density, mean)  203 non-null    float64\n",
            " 4   (new_deceased, sum)         203 non-null    float64\n",
            " 5   (gdp_per_capita, mean)      203 non-null    float64\n",
            " 6   (levels, )                  203 non-null    object \n",
            "dtypes: float64(5), object(2)\n",
            "memory usage: 11.2+ KB\n"
          ],
          "name": "stdout"
        }
      ]
    },
    {
      "cell_type": "code",
      "metadata": {
        "colab": {
          "base_uri": "https://localhost:8080/"
        },
        "id": "Klx4sKkzg6WB",
        "outputId": "4637b78a-c71e-4c55-9c5e-450ca4e0bf29"
      },
      "source": [
        "feb_data = country_data[(country_data['date'] >= '2021-02-01') & (country_data['date'] <= '2021-02-28')]\n",
        "\n",
        "feb_data = feb_data.groupby(\n",
        "   ['country_name']\n",
        ").agg(\n",
        "    {   'cases_per_100T': ['sum'], # sum of total new cases in the time span per 1M ppl\n",
        "        'population': ['mean'],\n",
        "        'population_density': ['mean'],\n",
        "        'new_deceased': ['sum'],\n",
        "        'gdp_per_capita': ['mean']\n",
        "    }\n",
        ").reset_index()\n",
        "\n",
        "\n",
        "conditions = [  # if else basically\n",
        "    (feb_data['cases_per_100T'] < 5), # low\n",
        "    (feb_data['cases_per_100T'] >= 5) & (feb_data['cases_per_100T'] <= 50), # medium\n",
        "    (feb_data['cases_per_100T'] > 50) & (feb_data['cases_per_100T'] <= 100), # high\n",
        "    (feb_data['cases_per_100T'] > 100) # extreme\n",
        "    ]\n",
        "values = ['low', 'moderate', 'high', 'extreme']\n",
        "\n",
        "## true labels for our training data\n",
        "feb_data['levels'] = np.select(conditions, values)\n",
        "\n",
        "feb_data.info()"
      ],
      "execution_count": 8,
      "outputs": [
        {
          "output_type": "stream",
          "text": [
            "<class 'pandas.core.frame.DataFrame'>\n",
            "RangeIndex: 202 entries, 0 to 201\n",
            "Data columns (total 7 columns):\n",
            " #   Column                      Non-Null Count  Dtype  \n",
            "---  ------                      --------------  -----  \n",
            " 0   (country_name, )            202 non-null    object \n",
            " 1   (cases_per_100T, sum)       202 non-null    float64\n",
            " 2   (population, mean)          202 non-null    float64\n",
            " 3   (population_density, mean)  202 non-null    float64\n",
            " 4   (new_deceased, sum)         202 non-null    float64\n",
            " 5   (gdp_per_capita, mean)      202 non-null    float64\n",
            " 6   (levels, )                  202 non-null    object \n",
            "dtypes: float64(5), object(2)\n",
            "memory usage: 11.2+ KB\n"
          ],
          "name": "stdout"
        }
      ]
    },
    {
      "cell_type": "markdown",
      "metadata": {
        "id": "bIK8WoyT8_lG"
      },
      "source": [
        "## Uneven Dimensions Most Likely Due to Missing country_name in February Data"
      ]
    },
    {
      "cell_type": "code",
      "metadata": {
        "colab": {
          "base_uri": "https://localhost:8080/",
          "height": 111
        },
        "id": "7ZJj4RzG9J2F",
        "outputId": "4a471893-5fe8-4557-db84-3cc8c2569f9a"
      },
      "source": [
        "# Finding missing country from February data\n",
        "jan_data.loc[~jan_data.country_name.isin(feb_data['country_name'])]"
      ],
      "execution_count": 9,
      "outputs": [
        {
          "output_type": "execute_result",
          "data": {
            "text/html": [
              "<div>\n",
              "<style scoped>\n",
              "    .dataframe tbody tr th:only-of-type {\n",
              "        vertical-align: middle;\n",
              "    }\n",
              "\n",
              "    .dataframe tbody tr th {\n",
              "        vertical-align: top;\n",
              "    }\n",
              "\n",
              "    .dataframe thead tr th {\n",
              "        text-align: left;\n",
              "    }\n",
              "</style>\n",
              "<table border=\"1\" class=\"dataframe\">\n",
              "  <thead>\n",
              "    <tr>\n",
              "      <th></th>\n",
              "      <th>country_name</th>\n",
              "      <th>cases_per_100T</th>\n",
              "      <th>population</th>\n",
              "      <th>population_density</th>\n",
              "      <th>new_deceased</th>\n",
              "      <th>gdp_per_capita</th>\n",
              "      <th>levels</th>\n",
              "    </tr>\n",
              "    <tr>\n",
              "      <th></th>\n",
              "      <th></th>\n",
              "      <th>sum</th>\n",
              "      <th>mean</th>\n",
              "      <th>mean</th>\n",
              "      <th>sum</th>\n",
              "      <th>mean</th>\n",
              "      <th></th>\n",
              "    </tr>\n",
              "  </thead>\n",
              "  <tbody>\n",
              "    <tr>\n",
              "      <th>107</th>\n",
              "      <td>Macau</td>\n",
              "      <td>0.15400</td>\n",
              "      <td>649342.00000</td>\n",
              "      <td>21717124.00000</td>\n",
              "      <td>0.00000</td>\n",
              "      <td>84096.00000</td>\n",
              "      <td>low</td>\n",
              "    </tr>\n",
              "  </tbody>\n",
              "</table>\n",
              "</div>"
            ],
            "text/plain": [
              "    country_name cases_per_100T   population  ... new_deceased gdp_per_capita levels\n",
              "                            sum         mean  ...          sum           mean       \n",
              "107        Macau        0.15400 649342.00000  ...      0.00000    84096.00000    low\n",
              "\n",
              "[1 rows x 7 columns]"
            ]
          },
          "metadata": {
            "tags": []
          },
          "execution_count": 9
        }
      ]
    },
    {
      "cell_type": "code",
      "metadata": {
        "colab": {
          "base_uri": "https://localhost:8080/"
        },
        "id": "9JYZOiT89Snu",
        "outputId": "5c935003-ba84-4ede-99e3-57f98eb8c880"
      },
      "source": [
        "\n",
        "jan_data = jan_data[jan_data.country_name != 'Macau']\n",
        "print('Shape of January Data:', jan_data.shape)\n",
        "print('Shape of February Data:', feb_data.shape)\n",
        "# removing Macau so that dimensions match"
      ],
      "execution_count": 10,
      "outputs": [
        {
          "output_type": "stream",
          "text": [
            "Shape of January Data: (202, 7)\n",
            "Shape of February Data: (202, 7)\n"
          ],
          "name": "stdout"
        }
      ]
    },
    {
      "cell_type": "markdown",
      "metadata": {
        "id": "IcMxqBj3ATlr"
      },
      "source": [
        "## Infection Levels for January and February"
      ]
    },
    {
      "cell_type": "code",
      "metadata": {
        "colab": {
          "base_uri": "https://localhost:8080/",
          "height": 350
        },
        "id": "6UMO8xGREYrD",
        "outputId": "356d8525-6562-4e89-c51c-905b5e90e0aa"
      },
      "source": [
        "import seaborn as sns\n",
        "sns.countplot(jan_data['levels'])"
      ],
      "execution_count": 11,
      "outputs": [
        {
          "output_type": "stream",
          "text": [
            "/usr/local/lib/python3.7/dist-packages/seaborn/_decorators.py:43: FutureWarning: Pass the following variable as a keyword arg: x. From version 0.12, the only valid positional argument will be `data`, and passing other arguments without an explicit keyword will result in an error or misinterpretation.\n",
            "  FutureWarning\n"
          ],
          "name": "stderr"
        },
        {
          "output_type": "execute_result",
          "data": {
            "text/plain": [
              "<matplotlib.axes._subplots.AxesSubplot at 0x7f9c1f4d6690>"
            ]
          },
          "metadata": {
            "tags": []
          },
          "execution_count": 11
        },
        {
          "output_type": "display_data",
          "data": {
            "image/png": "[encoded data removed]",
            "text/plain": [
              "<Figure size 432x288 with 1 Axes>"
            ]
          },
          "metadata": {
            "tags": [],
            "needs_background": "light"
          }
        }
      ]
    },
    {
      "cell_type": "code",
      "metadata": {
        "colab": {
          "base_uri": "https://localhost:8080/",
          "height": 350
        },
        "id": "qdISoETl-OZp",
        "outputId": "c06c3005-c169-4166-d07a-ca4eb7941126"
      },
      "source": [
        "sns.countplot(feb_data['levels'])"
      ],
      "execution_count": 12,
      "outputs": [
        {
          "output_type": "stream",
          "text": [
            "/usr/local/lib/python3.7/dist-packages/seaborn/_decorators.py:43: FutureWarning: Pass the following variable as a keyword arg: x. From version 0.12, the only valid positional argument will be `data`, and passing other arguments without an explicit keyword will result in an error or misinterpretation.\n",
            "  FutureWarning\n"
          ],
          "name": "stderr"
        },
        {
          "output_type": "execute_result",
          "data": {
            "text/plain": [
              "<matplotlib.axes._subplots.AxesSubplot at 0x7f9c1f48a750>"
            ]
          },
          "metadata": {
            "tags": []
          },
          "execution_count": 12
        },
        {
          "output_type": "display_data",
          "data": {
            "image/png": "[encoded data removed]",
            "text/plain": [
              "<Figure size 432x288 with 1 Axes>"
            ]
          },
          "metadata": {
            "tags": [],
            "needs_background": "light"
          }
        }
      ]
    },
    {
      "cell_type": "markdown",
      "metadata": {
        "id": "j4fVAMZiGv9I"
      },
      "source": [
        "## Training set\n",
        "\n",
        "Turning country_name into a dummy variable since it is categorical"
      ]
    },
    {
      "cell_type": "code",
      "metadata": {
        "colab": {
          "base_uri": "https://localhost:8080/"
        },
        "id": "p4GklmPacRnj",
        "outputId": "83831339-2053-4893-db03-b634b8976235"
      },
      "source": [
        "\n",
        "train_X = jan_data.drop(['levels','cases_per_100T'], axis = 1) # dropping cases per 100T since it was used mainly for creating our levels\n",
        "train_X['population_density'].fillna((feb_data['population_density'].mean()), inplace=True)\n",
        "train_X\n",
        "\n",
        "country_name=pd.get_dummies(train_X['country_name'],drop_first=True)\n",
        "train_X.drop(['country_name'],axis=1,inplace=True)\n",
        "train_X = pd.concat([train_X,country_name],axis=1)\n",
        "train_X.info()"
      ],
      "execution_count": 13,
      "outputs": [
        {
          "output_type": "stream",
          "text": [
            "<class 'pandas.core.frame.DataFrame'>\n",
            "Int64Index: 202 entries, 0 to 202\n",
            "Columns: 205 entries, ('population', 'mean') to Zimbabwe\n",
            "dtypes: float64(4), uint8(201)\n",
            "memory usage: 57.5 KB\n"
          ],
          "name": "stdout"
        },
        {
          "output_type": "stream",
          "text": [
            "/usr/local/lib/python3.7/dist-packages/pandas/core/generic.py:3889: PerformanceWarning: dropping on a non-lexsorted multi-index without a level parameter may impact performance.\n",
            "  obj = obj._drop_axis(labels, axis, level=level, errors=errors)\n",
            "/usr/local/lib/python3.7/dist-packages/pandas/core/series.py:4536: SettingWithCopyWarning: \n",
            "A value is trying to be set on a copy of a slice from a DataFrame\n",
            "\n",
            "See the caveats in the documentation: https://pandas.pydata.org/pandas-docs/stable/user_guide/indexing.html#returning-a-view-versus-a-copy\n",
            "  downcast=downcast,\n"
          ],
          "name": "stderr"
        }
      ]
    },
    {
      "cell_type": "markdown",
      "metadata": {
        "id": "Tug90srQ3Hk7"
      },
      "source": [
        "## Transforming Categorical Into Numerical (Train)"
      ]
    },
    {
      "cell_type": "code",
      "metadata": {
        "id": "0hXqDIe6YKzO"
      },
      "source": [
        "from sklearn import preprocessing\n",
        "num=preprocessing.LabelEncoder()\n",
        "num.fit(jan_data['levels'])\n",
        "jan_data['levels']=num.transform(jan_data['levels'])\n",
        "train_Y=jan_data['levels'] # checking transformation from categorical > numerical"
      ],
      "execution_count": 14,
      "outputs": []
    },
    {
      "cell_type": "markdown",
      "metadata": {
        "id": "Vuvax-xBG0ZM"
      },
      "source": [
        "## Testing Set\n",
        "\n",
        "Turning country_name into a dummy variable since it is categorical"
      ]
    },
    {
      "cell_type": "code",
      "metadata": {
        "colab": {
          "base_uri": "https://localhost:8080/"
        },
        "id": "B2ug8FNUcXND",
        "outputId": "603e50dc-8ab9-42b1-bf22-0ba72f081707"
      },
      "source": [
        "import statistics\n",
        "\n",
        "test_X = feb_data.drop(['levels','cases_per_100T'],axis = 1).fillna(0) \n",
        "test_X['population_density'].fillna((feb_data['population_density'].mean()), inplace=True)\n",
        "\n",
        "country_name=pd.get_dummies(test_X['country_name'],drop_first=True)\n",
        "test_X.drop(['country_name'],axis=1,inplace=True)\n",
        "test_X=pd.concat([test_X,country_name],axis=1)\n",
        "test_X.info()"
      ],
      "execution_count": 15,
      "outputs": [
        {
          "output_type": "stream",
          "text": [
            "/usr/local/lib/python3.7/dist-packages/pandas/core/generic.py:3889: PerformanceWarning: dropping on a non-lexsorted multi-index without a level parameter may impact performance.\n",
            "  obj = obj._drop_axis(labels, axis, level=level, errors=errors)\n",
            "/usr/local/lib/python3.7/dist-packages/pandas/core/series.py:4536: SettingWithCopyWarning: \n",
            "A value is trying to be set on a copy of a slice from a DataFrame\n",
            "\n",
            "See the caveats in the documentation: https://pandas.pydata.org/pandas-docs/stable/user_guide/indexing.html#returning-a-view-versus-a-copy\n",
            "  downcast=downcast,\n"
          ],
          "name": "stderr"
        },
        {
          "output_type": "stream",
          "text": [
            "<class 'pandas.core.frame.DataFrame'>\n",
            "RangeIndex: 202 entries, 0 to 201\n",
            "Columns: 205 entries, ('population', 'mean') to Zimbabwe\n",
            "dtypes: float64(4), uint8(201)\n",
            "memory usage: 46.1 KB\n"
          ],
          "name": "stdout"
        }
      ]
    },
    {
      "cell_type": "markdown",
      "metadata": {
        "id": "EH66OzgS3MmE"
      },
      "source": [
        "## Transforming Categorical Into Numerical (Test)"
      ]
    },
    {
      "cell_type": "code",
      "metadata": {
        "colab": {
          "base_uri": "https://localhost:8080/"
        },
        "id": "SlceEPhfcZSp",
        "outputId": "f2651a09-5d4f-40ec-bbac-a2f4e555d118"
      },
      "source": [
        "num.fit(feb_data['levels'])\n",
        "feb_data['levels']=num.transform(feb_data['levels'])\n",
        "test_Y=feb_data['levels'] # checking transformation from categorical > numerical\n",
        "test_Y"
      ],
      "execution_count": 16,
      "outputs": [
        {
          "output_type": "execute_result",
          "data": {
            "text/plain": [
              "0      2\n",
              "1      0\n",
              "2      3\n",
              "3      2\n",
              "4      0\n",
              "      ..\n",
              "197    2\n",
              "198    2\n",
              "199    2\n",
              "200    0\n",
              "201    3\n",
              "Name: levels, Length: 202, dtype: int64"
            ]
          },
          "metadata": {
            "tags": []
          },
          "execution_count": 16
        }
      ]
    },
    {
      "cell_type": "code",
      "metadata": {
        "colab": {
          "base_uri": "https://localhost:8080/",
          "height": 235
        },
        "id": "kOoWPB8L52iU",
        "outputId": "65ace673-a767-4dd7-e84f-480b9745bfd7"
      },
      "source": [
        "jan_data.head() \n"
      ],
      "execution_count": 17,
      "outputs": [
        {
          "output_type": "execute_result",
          "data": {
            "text/html": [
              "<div>\n",
              "<style scoped>\n",
              "    .dataframe tbody tr th:only-of-type {\n",
              "        vertical-align: middle;\n",
              "    }\n",
              "\n",
              "    .dataframe tbody tr th {\n",
              "        vertical-align: top;\n",
              "    }\n",
              "\n",
              "    .dataframe thead tr th {\n",
              "        text-align: left;\n",
              "    }\n",
              "</style>\n",
              "<table border=\"1\" class=\"dataframe\">\n",
              "  <thead>\n",
              "    <tr>\n",
              "      <th></th>\n",
              "      <th>country_name</th>\n",
              "      <th>cases_per_100T</th>\n",
              "      <th>population</th>\n",
              "      <th>population_density</th>\n",
              "      <th>new_deceased</th>\n",
              "      <th>gdp_per_capita</th>\n",
              "      <th>levels</th>\n",
              "    </tr>\n",
              "    <tr>\n",
              "      <th></th>\n",
              "      <th></th>\n",
              "      <th>sum</th>\n",
              "      <th>mean</th>\n",
              "      <th>mean</th>\n",
              "      <th>sum</th>\n",
              "      <th>mean</th>\n",
              "      <th></th>\n",
              "    </tr>\n",
              "  </thead>\n",
              "  <tbody>\n",
              "    <tr>\n",
              "      <th>0</th>\n",
              "      <td>Afghanistan</td>\n",
              "      <td>6.51197</td>\n",
              "      <td>38928341.00000</td>\n",
              "      <td>59627.00000</td>\n",
              "      <td>194.00000</td>\n",
              "      <td>502.00000</td>\n",
              "      <td>3</td>\n",
              "    </tr>\n",
              "    <tr>\n",
              "      <th>1</th>\n",
              "      <td>Albania</td>\n",
              "      <td>708.10539</td>\n",
              "      <td>2862427.00000</td>\n",
              "      <td>99.60000</td>\n",
              "      <td>207.00000</td>\n",
              "      <td>5352.00000</td>\n",
              "      <td>0</td>\n",
              "    </tr>\n",
              "    <tr>\n",
              "      <th>2</th>\n",
              "      <td>Algeria</td>\n",
              "      <td>18.17061</td>\n",
              "      <td>43851043.00000</td>\n",
              "      <td>18411.00000</td>\n",
              "      <td>138.00000</td>\n",
              "      <td>3948.00000</td>\n",
              "      <td>3</td>\n",
              "    </tr>\n",
              "    <tr>\n",
              "      <th>3</th>\n",
              "      <td>American Samoa</td>\n",
              "      <td>0.00000</td>\n",
              "      <td>55196.00000</td>\n",
              "      <td>275985.00000</td>\n",
              "      <td>0.00000</td>\n",
              "      <td>11466.00000</td>\n",
              "      <td>2</td>\n",
              "    </tr>\n",
              "    <tr>\n",
              "      <th>4</th>\n",
              "      <td>Andorra</td>\n",
              "      <td>2400.82832</td>\n",
              "      <td>77265.00000</td>\n",
              "      <td>164394.00000</td>\n",
              "      <td>17.00000</td>\n",
              "      <td>40886.00000</td>\n",
              "      <td>0</td>\n",
              "    </tr>\n",
              "  </tbody>\n",
              "</table>\n",
              "</div>"
            ],
            "text/plain": [
              "     country_name cases_per_100T  ... gdp_per_capita levels\n",
              "                             sum  ...           mean       \n",
              "0     Afghanistan        6.51197  ...      502.00000      3\n",
              "1         Albania      708.10539  ...     5352.00000      0\n",
              "2         Algeria       18.17061  ...     3948.00000      3\n",
              "3  American Samoa        0.00000  ...    11466.00000      2\n",
              "4         Andorra     2400.82832  ...    40886.00000      0\n",
              "\n",
              "[5 rows x 7 columns]"
            ]
          },
          "metadata": {
            "tags": []
          },
          "execution_count": 17
        }
      ]
    },
    {
      "cell_type": "code",
      "metadata": {
        "colab": {
          "base_uri": "https://localhost:8080/",
          "height": 235
        },
        "id": "eF1IHHrF5FEY",
        "outputId": "a6fa740c-28be-4bdf-a1a7-57b5dae18b81"
      },
      "source": [
        "feb_data.head()"
      ],
      "execution_count": 18,
      "outputs": [
        {
          "output_type": "execute_result",
          "data": {
            "text/html": [
              "<div>\n",
              "<style scoped>\n",
              "    .dataframe tbody tr th:only-of-type {\n",
              "        vertical-align: middle;\n",
              "    }\n",
              "\n",
              "    .dataframe tbody tr th {\n",
              "        vertical-align: top;\n",
              "    }\n",
              "\n",
              "    .dataframe thead tr th {\n",
              "        text-align: left;\n",
              "    }\n",
              "</style>\n",
              "<table border=\"1\" class=\"dataframe\">\n",
              "  <thead>\n",
              "    <tr>\n",
              "      <th></th>\n",
              "      <th>country_name</th>\n",
              "      <th>cases_per_100T</th>\n",
              "      <th>population</th>\n",
              "      <th>population_density</th>\n",
              "      <th>new_deceased</th>\n",
              "      <th>gdp_per_capita</th>\n",
              "      <th>levels</th>\n",
              "    </tr>\n",
              "    <tr>\n",
              "      <th></th>\n",
              "      <th></th>\n",
              "      <th>sum</th>\n",
              "      <th>mean</th>\n",
              "      <th>mean</th>\n",
              "      <th>sum</th>\n",
              "      <th>mean</th>\n",
              "      <th></th>\n",
              "    </tr>\n",
              "  </thead>\n",
              "  <tbody>\n",
              "    <tr>\n",
              "      <th>0</th>\n",
              "      <td>Afghanistan</td>\n",
              "      <td>1.63891</td>\n",
              "      <td>38928341.00000</td>\n",
              "      <td>59627.00000</td>\n",
              "      <td>41.00000</td>\n",
              "      <td>502.00000</td>\n",
              "      <td>2</td>\n",
              "    </tr>\n",
              "    <tr>\n",
              "      <th>1</th>\n",
              "      <td>Albania</td>\n",
              "      <td>1010.99521</td>\n",
              "      <td>2862427.00000</td>\n",
              "      <td>99.60000</td>\n",
              "      <td>423.00000</td>\n",
              "      <td>5352.00000</td>\n",
              "      <td>0</td>\n",
              "    </tr>\n",
              "    <tr>\n",
              "      <th>2</th>\n",
              "      <td>Algeria</td>\n",
              "      <td>12.94610</td>\n",
              "      <td>43851043.00000</td>\n",
              "      <td>18411.00000</td>\n",
              "      <td>93.00000</td>\n",
              "      <td>3948.00000</td>\n",
              "      <td>3</td>\n",
              "    </tr>\n",
              "    <tr>\n",
              "      <th>3</th>\n",
              "      <td>American Samoa</td>\n",
              "      <td>0.00000</td>\n",
              "      <td>55196.00000</td>\n",
              "      <td>275985.00000</td>\n",
              "      <td>0.00000</td>\n",
              "      <td>11466.00000</td>\n",
              "      <td>2</td>\n",
              "    </tr>\n",
              "    <tr>\n",
              "      <th>4</th>\n",
              "      <td>Andorra</td>\n",
              "      <td>1186.82456</td>\n",
              "      <td>77265.00000</td>\n",
              "      <td>164394.00000</td>\n",
              "      <td>9.00000</td>\n",
              "      <td>40886.00000</td>\n",
              "      <td>0</td>\n",
              "    </tr>\n",
              "  </tbody>\n",
              "</table>\n",
              "</div>"
            ],
            "text/plain": [
              "     country_name cases_per_100T  ... gdp_per_capita levels\n",
              "                             sum  ...           mean       \n",
              "0     Afghanistan        1.63891  ...      502.00000      2\n",
              "1         Albania     1010.99521  ...     5352.00000      0\n",
              "2         Algeria       12.94610  ...     3948.00000      3\n",
              "3  American Samoa        0.00000  ...    11466.00000      2\n",
              "4         Andorra     1186.82456  ...    40886.00000      0\n",
              "\n",
              "[5 rows x 7 columns]"
            ]
          },
          "metadata": {
            "tags": []
          },
          "execution_count": 18
        }
      ]
    },
    {
      "cell_type": "markdown",
      "metadata": {
        "id": "FKFRq9NZ4tFM"
      },
      "source": [
        "After checking dataframe for jan_data and feb_data, our levels converted into\n",
        "\n",
        "*   3 = moderate\n",
        "*   0 = extreme\n",
        "*   2 = low\n",
        "*   1 = high\n",
        "\n",
        "\n",
        "\n"
      ]
    },
    {
      "cell_type": "markdown",
      "metadata": {
        "id": "JoWXmw4yciXX"
      },
      "source": [
        "## Oversampling\n",
        "\n",
        "Since there is class imbalance, we use the SMOTEEN package to oversample."
      ]
    },
    {
      "cell_type": "code",
      "metadata": {
        "colab": {
          "base_uri": "https://localhost:8080/"
        },
        "id": "ijd5IFBC4ND5",
        "outputId": "1b1df3af-1c0d-42c0-9808-f40cb10f0944"
      },
      "source": [
        "train_Y.value_counts()"
      ],
      "execution_count": 19,
      "outputs": [
        {
          "output_type": "execute_result",
          "data": {
            "text/plain": [
              "0    106\n",
              "3     47\n",
              "2     32\n",
              "1     17\n",
              "Name: levels, dtype: int64"
            ]
          },
          "metadata": {
            "tags": []
          },
          "execution_count": 19
        }
      ]
    },
    {
      "cell_type": "code",
      "metadata": {
        "id": "VLsTr8wpUO5u",
        "colab": {
          "base_uri": "https://localhost:8080/"
        },
        "outputId": "51d73fae-6bb8-4b8e-c881-cda525f94bd2"
      },
      "source": [
        "from collections import Counter\n",
        "from imblearn.combine import SMOTEENN\n",
        "from imblearn.over_sampling import SMOTE"
      ],
      "execution_count": 20,
      "outputs": [
        {
          "output_type": "stream",
          "text": [
            "/usr/local/lib/python3.7/dist-packages/sklearn/externals/six.py:31: FutureWarning: The module is deprecated in version 0.21 and will be removed in version 0.23 since we've dropped support for Python 2.7. Please rely on the official version of six (https://pypi.org/project/six/).\n",
            "  \"(https://pypi.org/project/six/).\", FutureWarning)\n",
            "/usr/local/lib/python3.7/dist-packages/sklearn/utils/deprecation.py:144: FutureWarning: The sklearn.neighbors.base module is  deprecated in version 0.22 and will be removed in version 0.24. The corresponding classes / functions should instead be imported from sklearn.neighbors. Anything that cannot be imported from sklearn.neighbors is now part of the private API.\n",
            "  warnings.warn(message, FutureWarning)\n"
          ],
          "name": "stderr"
        }
      ]
    },
    {
      "cell_type": "code",
      "metadata": {
        "colab": {
          "base_uri": "https://localhost:8080/",
          "height": 589
        },
        "id": "rUZKcY8mcl5Y",
        "outputId": "5ddfffad-395d-4806-da0f-bd1c3f5e1025"
      },
      "source": [
        "\n",
        "os = SMOTE(random_state=0)\n",
        "columns = train_X.columns\n",
        "os_data_X,os_data_y=os.fit_sample(train_X, train_Y)\n",
        "os_data_X = pd.DataFrame(data=os_data_X,columns=columns )\n",
        "os_data_y = pd.DataFrame(data=os_data_y,columns=['levels'])\n",
        "# we can Check the numbers of our data\n",
        "print(\"length of oversampled data is \",len(os_data_X))\n",
        "print(\"Number of countries level low in oversampled data\",len(os_data_y[os_data_y['levels']==2]))\n",
        "print(\"Number of countries level moderate in oversampled data\",len(os_data_y[os_data_y['levels']==3]))\n",
        "print(\"Number of countries level high in oversampled data\",len(os_data_y[os_data_y['levels']==1]))\n",
        "print(\"Number of countries level extreme in oversampled data\",len(os_data_y[os_data_y['levels']==0]))\n",
        "\n",
        "sns.set_theme(style=\"ticks\")\n",
        "sns.color_palette(\"husl\", 4)\n",
        "y_os = sns.catplot(x = \"levels\", kind = \"count\", data = os_data_y, order = [2, 3, 1, 0])\n"
      ],
      "execution_count": 21,
      "outputs": [
        {
          "output_type": "stream",
          "text": [
            "/usr/local/lib/python3.7/dist-packages/sklearn/utils/deprecation.py:87: FutureWarning: Function safe_indexing is deprecated; safe_indexing is deprecated in version 0.22 and will be removed in version 0.24.\n",
            "  warnings.warn(msg, category=FutureWarning)\n",
            "/usr/local/lib/python3.7/dist-packages/sklearn/utils/deprecation.py:87: FutureWarning: Function safe_indexing is deprecated; safe_indexing is deprecated in version 0.22 and will be removed in version 0.24.\n",
            "  warnings.warn(msg, category=FutureWarning)\n",
            "/usr/local/lib/python3.7/dist-packages/sklearn/utils/deprecation.py:87: FutureWarning: Function safe_indexing is deprecated; safe_indexing is deprecated in version 0.22 and will be removed in version 0.24.\n",
            "  warnings.warn(msg, category=FutureWarning)\n"
          ],
          "name": "stderr"
        },
        {
          "output_type": "stream",
          "text": [
            "length of oversampled data is  424\n",
            "Number of countries level low in oversampled data 106\n",
            "Number of countries level moderate in oversampled data 106\n",
            "Number of countries level high in oversampled data 106\n",
            "Number of countries level extreme in oversampled data 106\n"
          ],
          "name": "stdout"
        },
        {
          "output_type": "display_data",
          "data": {
            "image/png": "[encoded data removed]",
            "text/plain": [
              "<Figure size 360x360 with 1 Axes>"
            ]
          },
          "metadata": {
            "tags": []
          }
        }
      ]
    },
    {
      "cell_type": "markdown",
      "metadata": {
        "id": "hl2XlOSqc8Tm"
      },
      "source": [
        "## OVR Logistic Regression\n",
        "\n",
        "Regular Logistic Regression is for binary responses which is why we opt for different variants of logistic regression for multi-classification.\n",
        "\n"
      ]
    },
    {
      "cell_type": "code",
      "metadata": {
        "id": "7L64bGL4c6VW"
      },
      "source": [
        "from sklearn.linear_model import LogisticRegression\n",
        "logmod_ovr = LogisticRegression(multi_class='ovr',max_iter=1000).fit(os_data_X, os_data_y.values.ravel())"
      ],
      "execution_count": 22,
      "outputs": []
    },
    {
      "cell_type": "code",
      "metadata": {
        "colab": {
          "base_uri": "https://localhost:8080/"
        },
        "id": "w_zGvojNUbUl",
        "outputId": "3602d466-3c04-46a5-9041-f867c4460fe3"
      },
      "source": [
        "# accuracy for both training and testing sets to check for signs of overfitting\n",
        "print('OVR Logistic Regression Accuracy (Training):', logmod_ovr.score(train_X, train_Y)) # accuracy\n",
        "print('OVR Logistic Regression Accuracy (Testing):', logmod_ovr.score(test_X, test_Y)) # accuracy"
      ],
      "execution_count": 23,
      "outputs": [
        {
          "output_type": "stream",
          "text": [
            "OVR Logistic Regression Accuracy (Training): 0.6831683168316832\n",
            "OVR Logistic Regression Accuracy (Testing): 0.6485148514851485\n"
          ],
          "name": "stdout"
        }
      ]
    },
    {
      "cell_type": "code",
      "metadata": {
        "colab": {
          "base_uri": "https://localhost:8080/",
          "height": 285
        },
        "id": "ojZyoc-qdCIl",
        "outputId": "3e6892a2-8ecc-427b-d4d9-40543f65fb6d"
      },
      "source": [
        "from sklearn.metrics import plot_confusion_matrix, accuracy_score\n",
        "import matplotlib.pyplot as plt\n",
        "\n",
        "\n",
        "ovrdisp = plot_confusion_matrix(logmod_ovr, test_X, test_Y,\n",
        "                                 display_labels='levels',\n",
        "                                 cmap=plt.cm.Blues)\n",
        "plt.show()"
      ],
      "execution_count": 24,
      "outputs": [
        {
          "output_type": "display_data",
          "data": {
            "image/png": "[encoded data removed]",
            "text/plain": [
              "<Figure size 432x288 with 2 Axes>"
            ]
          },
          "metadata": {
            "tags": []
          }
        }
      ]
    },
    {
      "cell_type": "code",
      "metadata": {
        "colab": {
          "base_uri": "https://localhost:8080/"
        },
        "id": "PcW2j4LZdE65",
        "outputId": "8fbf3e16-4650-4928-bb2c-8efbd32dce35"
      },
      "source": [
        "import sklearn.metrics as metrics\n",
        "import plotly.figure_factory as ff\n",
        "print(metrics.classification_report(test_Y, logmod_ovr.predict(test_X))) # classification report\n",
        "\n"
      ],
      "execution_count": 25,
      "outputs": [
        {
          "output_type": "stream",
          "text": [
            "              precision    recall  f1-score   support\n",
            "\n",
            "           0       0.83      0.78      0.80        97\n",
            "           1       0.13      0.29      0.18        17\n",
            "           2       0.78      0.48      0.59        44\n",
            "           3       0.66      0.66      0.66        44\n",
            "\n",
            "    accuracy                           0.65       202\n",
            "   macro avg       0.60      0.55      0.56       202\n",
            "weighted avg       0.72      0.65      0.67       202\n",
            "\n"
          ],
          "name": "stdout"
        }
      ]
    },
    {
      "cell_type": "markdown",
      "metadata": {
        "id": "rvMXOP12dSCn"
      },
      "source": [
        "## Multinomial Logistic Regression"
      ]
    },
    {
      "cell_type": "code",
      "metadata": {
        "id": "9PYhwzgIiOnQ"
      },
      "source": [
        "logmod_multi = LogisticRegression(multi_class='multinomial',\n",
        "    solver='lbfgs',max_iter=10000).fit(os_data_X, os_data_y.values.ravel())"
      ],
      "execution_count": 26,
      "outputs": []
    },
    {
      "cell_type": "code",
      "metadata": {
        "colab": {
          "base_uri": "https://localhost:8080/"
        },
        "id": "QlvXYdsan2He",
        "outputId": "ce165d65-ba0a-450b-e172-14c41a6e57b1"
      },
      "source": [
        "print('Multinomial Logistic Regression Accuracy (Training):', logmod_multi.score(train_X, train_Y)) \n",
        "print('Multinomial Logistic Regression Accuracy (Testing):', logmod_multi.score(test_X, test_Y)) \n"
      ],
      "execution_count": 27,
      "outputs": [
        {
          "output_type": "stream",
          "text": [
            "Multinomial Logistic Regression Accuracy (Training): 0.4900990099009901\n",
            "Multinomial Logistic Regression Accuracy (Testing): 0.42574257425742573\n"
          ],
          "name": "stdout"
        }
      ]
    },
    {
      "cell_type": "code",
      "metadata": {
        "colab": {
          "base_uri": "https://localhost:8080/",
          "height": 285
        },
        "id": "XYJRhbwPivJt",
        "outputId": "2afe7bdd-35a2-42a4-c874-729f8a41e46a"
      },
      "source": [
        "multidisp = plot_confusion_matrix(logmod_multi, test_X, test_Y,\n",
        "                                 display_labels='levels',\n",
        "                                 cmap=plt.cm.Blues)\n",
        "plt.show()"
      ],
      "execution_count": 28,
      "outputs": [
        {
          "output_type": "display_data",
          "data": {
            "image/png": "[encoded data removed]",
            "text/plain": [
              "<Figure size 432x288 with 2 Axes>"
            ]
          },
          "metadata": {
            "tags": []
          }
        }
      ]
    },
    {
      "cell_type": "code",
      "metadata": {
        "colab": {
          "base_uri": "https://localhost:8080/"
        },
        "id": "08AqKKvQj9es",
        "outputId": "71af143d-c819-4d89-bb11-567eaf4694c9"
      },
      "source": [
        "print(metrics.classification_report(test_Y, logmod_multi.predict(test_X)))# classification report\n",
        "\n"
      ],
      "execution_count": 29,
      "outputs": [
        {
          "output_type": "stream",
          "text": [
            "              precision    recall  f1-score   support\n",
            "\n",
            "           0       0.61      0.56      0.58        97\n",
            "           1       0.12      0.35      0.17        17\n",
            "           2       0.00      0.00      0.00        44\n",
            "           3       0.42      0.59      0.49        44\n",
            "\n",
            "    accuracy                           0.43       202\n",
            "   macro avg       0.29      0.38      0.31       202\n",
            "weighted avg       0.40      0.43      0.40       202\n",
            "\n"
          ],
          "name": "stdout"
        },
        {
          "output_type": "stream",
          "text": [
            "/usr/local/lib/python3.7/dist-packages/sklearn/metrics/_classification.py:1272: UndefinedMetricWarning:\n",
            "\n",
            "Precision and F-score are ill-defined and being set to 0.0 in labels with no predicted samples. Use `zero_division` parameter to control this behavior.\n",
            "\n"
          ],
          "name": "stderr"
        }
      ]
    },
    {
      "cell_type": "markdown",
      "metadata": {
        "id": "Q2zuHqIo748q"
      },
      "source": [
        "## Ordinal Logistic Regression"
      ]
    },
    {
      "cell_type": "code",
      "metadata": {
        "colab": {
          "base_uri": "https://localhost:8080/"
        },
        "id": "lQ9lrPrh4dIW",
        "outputId": "8ca67901-642d-49c9-9ff1-402482fa461a"
      },
      "source": [
        "!pip install mord\n",
        "from mord import LogisticAT\n",
        "ord = LogisticAT(alpha=0)\n",
        "ord.fit(os_data_X,os_data_y.values.ravel())\n",
        "ord_y = ord.predict(test_X)\n",
        "ord_ytrain = ord.predict(train_X)\n",
        "print('Multinomial Logistic Regression Accuracy (Training):',(metrics.accuracy_score(train_Y, np.round(ord_ytrain)))) # accuracy\n",
        "print('Multinomial Logistic Regression Accuracy (Testing):',(metrics.accuracy_score(test_Y, np.round(ord_y))))\n"
      ],
      "execution_count": 30,
      "outputs": [
        {
          "output_type": "stream",
          "text": [
            "Requirement already satisfied: mord in /usr/local/lib/python3.7/dist-packages (0.6)\n",
            "Multinomial Logistic Regression Accuracy (Training): 0.4801980198019802\n",
            "Multinomial Logistic Regression Accuracy (Testing): 0.4504950495049505\n"
          ],
          "name": "stdout"
        }
      ]
    },
    {
      "cell_type": "code",
      "metadata": {
        "colab": {
          "base_uri": "https://localhost:8080/"
        },
        "id": "MPd_KEVu7_-6",
        "outputId": "c3960ce7-8c82-4f73-d34c-3a3e41f95baf"
      },
      "source": [
        "metrics.confusion_matrix(test_Y,ord_y) # confusion matrix"
      ],
      "execution_count": 31,
      "outputs": [
        {
          "output_type": "execute_result",
          "data": {
            "text/plain": [
              "array([[65, 29,  3,  0],\n",
              "       [ 6,  9,  1,  1],\n",
              "       [ 0, 29, 11,  4],\n",
              "       [ 1, 25, 12,  6]])"
            ]
          },
          "metadata": {
            "tags": []
          },
          "execution_count": 31
        }
      ]
    },
    {
      "cell_type": "code",
      "metadata": {
        "colab": {
          "base_uri": "https://localhost:8080/"
        },
        "id": "URYGJvX-7pz9",
        "outputId": "fac5222a-2962-460a-db72-b261956d5a62"
      },
      "source": [
        "print(metrics.classification_report(test_Y, ord.predict(test_X))) # classification report"
      ],
      "execution_count": 32,
      "outputs": [
        {
          "output_type": "stream",
          "text": [
            "              precision    recall  f1-score   support\n",
            "\n",
            "           0       0.90      0.67      0.77        97\n",
            "           1       0.10      0.53      0.17        17\n",
            "           2       0.41      0.25      0.31        44\n",
            "           3       0.55      0.14      0.22        44\n",
            "\n",
            "    accuracy                           0.45       202\n",
            "   macro avg       0.49      0.40      0.37       202\n",
            "weighted avg       0.65      0.45      0.50       202\n",
            "\n"
          ],
          "name": "stdout"
        }
      ]
    },
    {
      "cell_type": "markdown",
      "metadata": {
        "id": "DTgZmZrYCJ4q"
      },
      "source": [
        "## Multiclass Logistic Regression with Built in Cross Validation"
      ]
    },
    {
      "cell_type": "code",
      "metadata": {
        "id": "12zGDT2S-Vxy"
      },
      "source": [
        "from sklearn.linear_model import LogisticRegressionCV\n",
        "from sklearn.metrics import accuracy_score\n",
        "import warnings\n",
        "warnings.filterwarnings(\"ignore\")\n",
        "clf = LogisticRegressionCV(cv = 10, random_state = 0, penalty = 'l2', solver = 'newton-cg', max_iter = 1000)\n",
        "clf.fit(os_data_X, os_data_y.values.ravel())\n",
        "clf_pred = clf.predict(test_X)"
      ],
      "execution_count": 33,
      "outputs": []
    },
    {
      "cell_type": "code",
      "metadata": {
        "colab": {
          "base_uri": "https://localhost:8080/"
        },
        "id": "-U4j0fS3PKVt",
        "outputId": "5a8d0693-c61c-4631-f166-70bd818f73c8"
      },
      "source": [
        "print('Multiclass Logistic Regression with Built in Cross Validation (Training):', clf.score(train_X, train_Y)) \n",
        "print('Multiclass Logistic Regression with Built in Cross Validation (Testing):', clf.score(test_X, test_Y)) "
      ],
      "execution_count": 34,
      "outputs": [
        {
          "output_type": "stream",
          "text": [
            "Multiclass Logistic Regression with Built in Cross Validation (Training): 0.995049504950495\n",
            "Multiclass Logistic Regression with Built in Cross Validation (Testing): 0.8168316831683168\n"
          ],
          "name": "stdout"
        }
      ]
    },
    {
      "cell_type": "code",
      "metadata": {
        "colab": {
          "base_uri": "https://localhost:8080/"
        },
        "id": "hCU5ZEYAEgz0",
        "outputId": "ffad1fbb-03c1-40d8-d0a1-3b34572b7321"
      },
      "source": [
        "print(metrics.classification_report(test_Y, clf_pred)) # classification report"
      ],
      "execution_count": 35,
      "outputs": [
        {
          "output_type": "stream",
          "text": [
            "              precision    recall  f1-score   support\n",
            "\n",
            "           0       0.89      0.96      0.93        97\n",
            "           1       0.33      0.35      0.34        17\n",
            "           2       0.94      0.75      0.84        44\n",
            "           3       0.73      0.75      0.74        44\n",
            "\n",
            "    accuracy                           0.82       202\n",
            "   macro avg       0.73      0.70      0.71       202\n",
            "weighted avg       0.82      0.82      0.82       202\n",
            "\n"
          ],
          "name": "stdout"
        }
      ]
    },
    {
      "cell_type": "code",
      "metadata": {
        "colab": {
          "base_uri": "https://localhost:8080/",
          "height": 285
        },
        "id": "LmqLA5XsE_y2",
        "outputId": "1895ad9b-c6ca-4f2d-e57b-3fe5d3c21940"
      },
      "source": [
        "logcv_disp = plot_confusion_matrix(clf, test_X, test_Y,\n",
        "                                 display_labels='levels',\n",
        "                                 cmap=plt.cm.Blues)\n",
        "plt.show()"
      ],
      "execution_count": 36,
      "outputs": [
        {
          "output_type": "display_data",
          "data": {
            "image/png": "[encoded data removed]",
            "text/plain": [
              "<Figure size 432x288 with 2 Axes>"
            ]
          },
          "metadata": {
            "tags": []
          }
        }
      ]
    },
    {
      "cell_type": "markdown",
      "metadata": {
        "id": "hWCcfHx8MdDN"
      },
      "source": [
        "## SVM - RBF"
      ]
    },
    {
      "cell_type": "code",
      "metadata": {
        "id": "7wLYSbiOMbvs"
      },
      "source": [
        "from sklearn.svm import SVC\n",
        "from sklearn.metrics import accuracy_score\n",
        "\n",
        "#fit the model\n",
        "rbf_SVM = SVC(kernel='rbf', C=1E7, decision_function_shape='ovo',probability=True)\n",
        "rbf_SVM.fit(os_data_X,os_data_y)\n",
        "rbf_pred=rbf_SVM.predict(test_X)"
      ],
      "execution_count": 37,
      "outputs": []
    },
    {
      "cell_type": "code",
      "metadata": {
        "colab": {
          "base_uri": "https://localhost:8080/"
        },
        "id": "M_uFFPY5PwHY",
        "outputId": "a8d4fc7e-ef07-4806-d4e3-167a7aec7b6a"
      },
      "source": [
        "print('SVM RBF Accuracy (Training):', rbf_SVM.score(train_X, train_Y)) \n",
        "print('SVM RBF Accuracy  (Testing):', rbf_SVM.score(test_X, test_Y)) "
      ],
      "execution_count": 38,
      "outputs": [
        {
          "output_type": "stream",
          "text": [
            "SVM RBF Accuracy (Training): 0.5594059405940595\n",
            "SVM RBF Accuracy  (Testing): 0.5099009900990099\n"
          ],
          "name": "stdout"
        }
      ]
    },
    {
      "cell_type": "code",
      "metadata": {
        "colab": {
          "base_uri": "https://localhost:8080/",
          "height": 285
        },
        "id": "TAZZdWstlZ3r",
        "outputId": "f983f95f-6ede-4a7d-ef17-a851ad9fb349"
      },
      "source": [
        "svmrbf_disp = plot_confusion_matrix(rbf_SVM, test_X, test_Y,\n",
        "                                 display_labels='levels',\n",
        "                                 cmap=plt.cm.Blues)"
      ],
      "execution_count": 39,
      "outputs": [
        {
          "output_type": "display_data",
          "data": {
            "image/png": "[encoded data removed]",
            "text/plain": [
              "<Figure size 432x288 with 2 Axes>"
            ]
          },
          "metadata": {
            "tags": []
          }
        }
      ]
    },
    {
      "cell_type": "code",
      "metadata": {
        "colab": {
          "base_uri": "https://localhost:8080/"
        },
        "id": "uYz62jiFMkr2",
        "outputId": "8e6bc4bb-db3a-4a73-fda3-eb2d36a572fb"
      },
      "source": [
        "\n",
        "print(metrics.classification_report(test_Y, rbf_pred)) # classification report"
      ],
      "execution_count": 40,
      "outputs": [
        {
          "output_type": "stream",
          "text": [
            "              precision    recall  f1-score   support\n",
            "\n",
            "           0       0.81      0.58      0.67        97\n",
            "           1       0.26      0.47      0.33        17\n",
            "           2       0.36      0.59      0.45        44\n",
            "           3       0.43      0.30      0.35        44\n",
            "\n",
            "    accuracy                           0.51       202\n",
            "   macro avg       0.47      0.48      0.45       202\n",
            "weighted avg       0.58      0.51      0.53       202\n",
            "\n"
          ],
          "name": "stdout"
        }
      ]
    },
    {
      "cell_type": "code",
      "metadata": {
        "colab": {
          "base_uri": "https://localhost:8080/"
        },
        "id": "MYNsv06clQG-",
        "outputId": "c4ff8675-62b1-4603-ecea-2fbda8bec248"
      },
      "source": [
        "print('OVR Logistic Regression Accuracy:', np.round(logmod_ovr.score(test_X, test_Y)*100))\n",
        "print('Multinomial Logistic Regression Accuracy:', np.round(logmod_multi.score(test_X, test_Y)*100))\n",
        "print('Ordinal Logistic Regression Accuracy:', np.round(metrics.accuracy_score(test_Y, np.round(ord_y))*100))\n",
        "print('Multiclass Logistic Regression CV Accuracy:', np.round(accuracy_score(test_Y, clf_pred)*100))\n",
        "print('SVM RBF Accuracy:', np.round(accuracy_score(test_Y, rbf_pred)*100))"
      ],
      "execution_count": 41,
      "outputs": [
        {
          "output_type": "stream",
          "text": [
            "OVR Logistic Regression Accuracy: 65.0\n",
            "Multinomial Logistic Regression Accuracy: 43.0\n",
            "Ordinal Logistic Regression Accuracy: 45.0\n",
            "Multiclass Logistic Regression CV Accuracy: 82.0\n",
            "SVM RBF Accuracy: 51.0\n"
          ],
          "name": "stdout"
        }
      ]
    },
    {
      "cell_type": "markdown",
      "metadata": {
        "id": "r5RHK8RrrlAJ"
      },
      "source": [
        "## Model Selection/Conclusion\n",
        "\n",
        "Out of all the models we have tried, the best model is the multiclass logistic regression with cross validation. It provides the best accuracy score, classification report, and classification matrix. \n",
        "\n",
        "However, this model may have some overfitting issues since the accuracy between the train and test set is largely different. This needs to be investigated further.\n",
        "\n",
        "This model can especially be useful in underdeveloped country's that lack the technology and resources to do things such as reporting confirmed cases and tests. The model uses more accessible predictors/variables such as population and GDP to predict what infection level that country is at."
      ]
    }
  ]
}