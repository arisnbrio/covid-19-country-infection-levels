{
  "nbformat": 4,
  "nbformat_minor": 0,
  "metadata": {
    "colab": {
      "name": "CountryClassificationLog.ipynb",
      "provenance": [],
      "collapsed_sections": [],
      "include_colab_link": true
    },
    "kernelspec": {
      "display_name": "Python 3",
      "name": "python3"
    }
  },
  "cells": [
    {
      "cell_type": "markdown",
      "metadata": {
        "id": "view-in-github",
        "colab_type": "text"
      },
      "source": [
        "<a href=\"https://colab.research.google.com/github/arisnbrio/covid-19-country-infection-levels/blob/main/CountryClassificationLog.ipynb\" target=\"_parent\"><img src=\"https://colab.research.google.com/assets/colab-badge.svg\" alt=\"Open In Colab\"/></a>"
      ]
    },
    {
      "cell_type": "markdown",
      "metadata": {
        "id": "O5HMq0GbFkbj"
      },
      "source": [
        "## Import Datasets and merge together into one dataset by key values "
      ]
    },
    {
      "cell_type": "code",
      "metadata": {
        "id": "cSUKW3abLx3d"
      },
      "source": [
        "import pandas as pd\n",
        "pd.set_option('display.float_format', lambda x: '%.5f' % x)\n",
        "import numpy as np\n",
        "from functools import reduce\n",
        "import matplotlib.pyplot as plt\n",
        "import seaborn as sns\n",
        "#!pip install plotly --upgrade\n",
        "\n",
        "epid = pd.read_csv(\"https://storage.googleapis.com/covid19-open-data/v2/epidemiology.csv\", parse_dates = True)\n",
        "# deceased, deaths, recover etc\n",
        "demo = pd.read_csv(\"https://storage.googleapis.com/covid19-open-data/v2/demographics.csv\")\n",
        "# population\n",
        "ind = pd.read_csv(\"https://storage.googleapis.com/covid19-open-data/v2/index.csv\")\n",
        "\n",
        "eco = pd.read_csv(\"https://storage.googleapis.com/covid19-open-data/v2/economy.csv\")\n",
        "\n",
        "geo = pd.read_csv(\"https://storage.googleapis.com/covid19-open-data/v2/geography.csv\")\n",
        "# needed for country/country code/subregion1_code(city)\n",
        "\n",
        "\n",
        "data = epid.merge(demo,on='key').merge(ind,on='key').merge(eco,on='key').merge(geo,on='key')\n",
        "\n",
        "cases_per_100T = data['new_confirmed']/data['population'] # cases per 1 million pop\n",
        "cases_per_100T = cases_per_100T.apply(lambda x: x*100000)\n",
        "data = data.assign(cases_per_100T = cases_per_100T)"
      ],
      "execution_count": 1,
      "outputs": []
    },
    {
      "cell_type": "markdown",
      "metadata": {
        "id": "F21_N45PFrYN"
      },
      "source": [
        "# Data Cleaning/Exploratary Data Analysis\n",
        "\n",
        "\n"
      ]
    },
    {
      "cell_type": "code",
      "metadata": {
        "colab": {
          "base_uri": "https://localhost:8080/"
        },
        "id": "KCcNNunAZCJh",
        "outputId": "7490a309-7c7a-4572-d4cb-8ca3f2dcfdba"
      },
      "source": [
        "# info about entire dataset\n",
        "data.info()"
      ],
      "execution_count": 2,
      "outputs": [
        {
          "output_type": "stream",
          "text": [
            "<class 'pandas.core.frame.DataFrame'>\n",
            "Int64Index: 153133 entries, 0 to 153132\n",
            "Data columns (total 55 columns):\n",
            " #   Column                       Non-Null Count   Dtype  \n",
            "---  ------                       --------------   -----  \n",
            " 0   date                         153133 non-null  object \n",
            " 1   key                          152681 non-null  object \n",
            " 2   new_confirmed                153016 non-null  float64\n",
            " 3   new_deceased                 142188 non-null  float64\n",
            " 4   new_recovered                31440 non-null   float64\n",
            " 5   new_tested                   52802 non-null   float64\n",
            " 6   total_confirmed              153061 non-null  float64\n",
            " 7   total_deceased               142489 non-null  float64\n",
            " 8   total_recovered              30571 non-null   float64\n",
            " 9   total_tested                 53139 non-null   float64\n",
            " 10  population                   153133 non-null  float64\n",
            " 11  population_male              152227 non-null  float64\n",
            " 12  population_female            152227 non-null  float64\n",
            " 13  rural_population             91344 non-null   float64\n",
            " 14  urban_population             91344 non-null   float64\n",
            " 15  largest_city_population      66481 non-null   float64\n",
            " 16  clustered_population         52868 non-null   float64\n",
            " 17  population_density           151943 non-null  float64\n",
            " 18  human_development_index      85519 non-null   float64\n",
            " 19  population_age_00_09         152227 non-null  float64\n",
            " 20  population_age_10_19         152227 non-null  float64\n",
            " 21  population_age_20_29         152227 non-null  float64\n",
            " 22  population_age_30_39         152227 non-null  float64\n",
            " 23  population_age_40_49         152227 non-null  float64\n",
            " 24  population_age_50_59         152227 non-null  float64\n",
            " 25  population_age_60_69         152227 non-null  float64\n",
            " 26  population_age_70_79         152227 non-null  float64\n",
            " 27  population_age_80_89         141142 non-null  float64\n",
            " 28  population_age_90_99         141142 non-null  float64\n",
            " 29  population_age_80_and_older  152227 non-null  float64\n",
            " 30  place_id                     136910 non-null  object \n",
            " 31  wikidata                     153133 non-null  object \n",
            " 32  datacommons                  147701 non-null  object \n",
            " 33  country_code                 152681 non-null  object \n",
            " 34  country_name                 153133 non-null  object \n",
            " 35  subregion1_code              61789 non-null   object \n",
            " 36  subregion1_name              61789 non-null   object \n",
            " 37  subregion2_code              3151 non-null    object \n",
            " 38  subregion2_name              3151 non-null    object \n",
            " 39  locality_code                412 non-null     object \n",
            " 40  locality_name                412 non-null     object \n",
            " 41  3166-1-alpha-2               152681 non-null  object \n",
            " 42  3166-1-alpha-3               153133 non-null  object \n",
            " 43  aggregation_level            153133 non-null  int64  \n",
            " 44  gdp                          140938 non-null  float64\n",
            " 45  gdp_per_capita               153133 non-null  int64  \n",
            " 46  human_capital_index          70098 non-null   float64\n",
            " 47  open_street_maps             150873 non-null  float64\n",
            " 48  latitude                     151642 non-null  float64\n",
            " 49  longitude                    151642 non-null  float64\n",
            " 50  elevation                    31982 non-null   float64\n",
            " 51  area                         152998 non-null  float64\n",
            " 52  rural_area                   75970 non-null   float64\n",
            " 53  urban_area                   75970 non-null   float64\n",
            " 54  cases_per_100T               153016 non-null  float64\n",
            "dtypes: float64(38), int64(2), object(15)\n",
            "memory usage: 65.4+ MB\n"
          ],
          "name": "stdout"
        }
      ]
    },
    {
      "cell_type": "code",
      "metadata": {
        "colab": {
          "base_uri": "https://localhost:8080/"
        },
        "id": "wUfasccb411b",
        "outputId": "703ccee8-88ae-487f-c008-3d4d3aed3f82"
      },
      "source": [
        "# number of days of observations we have for each country\n",
        "num_days = data['date'].nunique()\n",
        "num_days"
      ],
      "execution_count": 3,
      "outputs": [
        {
          "output_type": "execute_result",
          "data": {
            "text/plain": [
              "456"
            ]
          },
          "metadata": {
            "tags": []
          },
          "execution_count": 3
        }
      ]
    },
    {
      "cell_type": "markdown",
      "metadata": {
        "id": "UBhQDuOxBSjE"
      },
      "source": [
        "## Taking only the data from Jan 2021 and Feb 2021 to reduce the amount of data we are working with"
      ]
    },
    {
      "cell_type": "code",
      "metadata": {
        "colab": {
          "base_uri": "https://localhost:8080/"
        },
        "id": "y2_Sl4g4nyx5",
        "outputId": "e7e42cfc-4ca7-47e0-f51c-6c17ccc2f8f6"
      },
      "source": [
        "country_data = data[data['subregion1_code'].isnull()] # collect rows that don't specify subregions\n",
        "country_data = country_data[(country_data['date'] >= '2021-01-01') & (country_data['date'] <= '2021-02-28')] # filter dates between jan and feb\n",
        "country_data = country_data.drop(['subregion1_code','subregion1_name','subregion2_code','subregion2_name'], axis=1) # drop column\n",
        "country_data=country_data[[\"date\",\"country_name\",\"cases_per_100T\",\"new_confirmed\", \"new_deceased\",\"population\",\"population_density\",\"gdp_per_capita\"]]\n",
        "country_data.info()\n",
        "\n"
      ],
      "execution_count": 4,
      "outputs": [
        {
          "output_type": "stream",
          "text": [
            "<class 'pandas.core.frame.DataFrame'>\n",
            "Int64Index: 11921 entries, 367 to 113280\n",
            "Data columns (total 8 columns):\n",
            " #   Column              Non-Null Count  Dtype  \n",
            "---  ------              --------------  -----  \n",
            " 0   date                11921 non-null  object \n",
            " 1   country_name        11921 non-null  object \n",
            " 2   cases_per_100T      11921 non-null  float64\n",
            " 3   new_confirmed       11921 non-null  float64\n",
            " 4   new_deceased        11921 non-null  float64\n",
            " 5   population          11921 non-null  float64\n",
            " 6   population_density  11921 non-null  float64\n",
            " 7   gdp_per_capita      11921 non-null  int64  \n",
            "dtypes: float64(5), int64(1), object(2)\n",
            "memory usage: 838.2+ KB\n"
          ],
          "name": "stdout"
        }
      ]
    },
    {
      "cell_type": "markdown",
      "metadata": {
        "id": "pIay3u9lGdWY"
      },
      "source": [
        "## Now let's take a look at the correlation matrix of all variables in the data subset we are working with to see if we have a problem with multicollinearity\n",
        "Since the Pearson method relies on the assumption of the data being normally distributed, we use the Spearman method instead because it doesn't have assumptions of the population distribution of the data, so it generalizes to our dataset better. "
      ]
    },
    {
      "cell_type": "code",
      "metadata": {
        "colab": {
          "base_uri": "https://localhost:8080/"
        },
        "id": "-cdW5a3ULL22",
        "outputId": "138c8978-04f7-45d9-9863-3992f7c6c66f"
      },
      "source": [
        "corrMatrix = country_data.corr(method = 'spearman')\n",
        "print(corrMatrix)"
      ],
      "execution_count": 5,
      "outputs": [
        {
          "output_type": "stream",
          "text": [
            "                    cases_per_100T  ...  gdp_per_capita\n",
            "cases_per_100T             1.00000  ...         0.45841\n",
            "new_confirmed              0.78593  ...         0.24029\n",
            "new_deceased               0.63938  ...         0.18181\n",
            "population                 0.06896  ...        -0.29946\n",
            "population_density        -0.25544  ...        -0.20348\n",
            "gdp_per_capita             0.45841  ...         1.00000\n",
            "\n",
            "[6 rows x 6 columns]\n"
          ],
          "name": "stdout"
        }
      ]
    },
    {
      "cell_type": "markdown",
      "metadata": {
        "id": "lR7Ov7BTomeB"
      },
      "source": [
        "## Visualize the correlation matrix with a heatmap"
      ]
    },
    {
      "cell_type": "code",
      "metadata": {
        "colab": {
          "base_uri": "https://localhost:8080/",
          "height": 354
        },
        "id": "-6Y0wYpfLVXG",
        "outputId": "afda647c-1049-4c5e-c962-97f6783f62e3"
      },
      "source": [
        "sns.heatmap(corrMatrix, annot = True, cmap = 'Blues')\n",
        "plt.show()"
      ],
      "execution_count": 6,
      "outputs": [
        {
          "output_type": "display_data",
          "data": {
            "image/png": "[encoded data removed]",
            "text/plain": [
              "<Figure size 432x288 with 2 Axes>"
            ]
          },
          "metadata": {
            "tags": [],
            "needs_background": "light"
          }
        }
      ]
    },
    {
      "cell_type": "code",
      "metadata": {
        "colab": {
          "base_uri": "https://localhost:8080/",
          "height": 514
        },
        "id": "dd9igUtFo6gF",
        "outputId": "c01dea8b-6dc0-4f19-a4d1-5c09f71c3e3c"
      },
      "source": [
        "covMatrix = pd.DataFrame.cov(country_data)\n",
        "print(covMatrix)\n",
        "sns.heatmap(covMatrix, annot = False, cmap = 'Blues', robust = True)\n",
        "plt.show()"
      ],
      "execution_count": 7,
      "outputs": [
        {
          "output_type": "stream",
          "text": [
            "                     cases_per_100T  ...      gdp_per_capita\n",
            "cases_per_100T            408.50161  ...        146697.65111\n",
            "new_confirmed           61504.13969  ...      39575583.08551\n",
            "new_deceased             1042.01429  ...        806596.92338\n",
            "population         -184943392.37570  ... -236798757206.62366\n",
            "population_density    3741984.17204  ...   24789402267.63024\n",
            "gdp_per_capita         146697.65111  ...     689430612.06290\n",
            "\n",
            "[6 rows x 6 columns]\n"
          ],
          "name": "stdout"
        },
        {
          "output_type": "display_data",
          "data": {
            "image/png": "[encoded data removed]",
            "text/plain": [
              "<Figure size 432x288 with 2 Axes>"
            ]
          },
          "metadata": {
            "tags": [],
            "needs_background": "light"
          }
        }
      ]
    },
    {
      "cell_type": "markdown",
      "metadata": {
        "id": "m81cZtyhXkNf"
      },
      "source": [
        "## Split into Months \n",
        "Using January data as our training set, and February data as our test set. CDC recognizes infection severity levels by the last 28 days which is roughly a month so we use these constraints to determine our levels for the months of January and February. We then summarize our data to get our CDC levels."
      ]
    },
    {
      "cell_type": "code",
      "metadata": {
        "colab": {
          "base_uri": "https://localhost:8080/"
        },
        "id": "BTCYSrMS6PzQ",
        "outputId": "e63e38fb-ffe4-453f-a326-66d42ebe46e3"
      },
      "source": [
        "jan_data = country_data[(country_data['date'] >= '2021-01-01') & (country_data['date'] < '2021-02-01')]\n",
        "\n",
        "jan_data = jan_data.groupby(\n",
        "   ['country_name']\n",
        ").agg(\n",
        "    {   'cases_per_100T': ['sum'], # sum of total new cases in the time span per 1M ppl\n",
        "        'new_confirmed':['sum'],   # cumulative number of cases over the past 59 days \n",
        "        'population': ['mean'],\n",
        "        'population_density': ['mean'],\n",
        "        'new_deceased': ['sum'],\n",
        "        'gdp_per_capita': ['mean']\n",
        "    }\n",
        ").reset_index()\n",
        "\n",
        "\n",
        "\n",
        "conditions = [  # if else basically\n",
        "    (jan_data['cases_per_100T'] < 5), # low\n",
        "    (jan_data['cases_per_100T'] >= 5) & (jan_data['cases_per_100T'] <= 50), # medium\n",
        "    (jan_data['cases_per_100T'] > 50) & (jan_data['cases_per_100T'] <= 100), # high\n",
        "    (jan_data['cases_per_100T'] > 100) # extreme\n",
        "    ]\n",
        "values = ['low', 'moderate', 'high', 'extreme']\n",
        "\n",
        "## true labels for our training data\n",
        "jan_data['levels'] = np.select(conditions, values)\n",
        "\n",
        "jan_data.info()"
      ],
      "execution_count": 8,
      "outputs": [
        {
          "output_type": "stream",
          "text": [
            "<class 'pandas.core.frame.DataFrame'>\n",
            "RangeIndex: 203 entries, 0 to 202\n",
            "Data columns (total 8 columns):\n",
            " #   Column                      Non-Null Count  Dtype  \n",
            "---  ------                      --------------  -----  \n",
            " 0   (country_name, )            203 non-null    object \n",
            " 1   (cases_per_100T, sum)       203 non-null    float64\n",
            " 2   (new_confirmed, sum)        203 non-null    float64\n",
            " 3   (population, mean)          203 non-null    float64\n",
            " 4   (population_density, mean)  203 non-null    float64\n",
            " 5   (new_deceased, sum)         203 non-null    float64\n",
            " 6   (gdp_per_capita, mean)      203 non-null    int64  \n",
            " 7   (levels, )                  203 non-null    object \n",
            "dtypes: float64(5), int64(1), object(2)\n",
            "memory usage: 12.8+ KB\n"
          ],
          "name": "stdout"
        }
      ]
    },
    {
      "cell_type": "code",
      "metadata": {
        "colab": {
          "base_uri": "https://localhost:8080/"
        },
        "id": "Klx4sKkzg6WB",
        "outputId": "cb7d5f5e-3ba9-4b07-a96c-2e0231cdc227"
      },
      "source": [
        "feb_data = country_data[(country_data['date'] >= '2021-02-01') & (country_data['date'] <= '2021-02-28')]\n",
        "\n",
        "feb_data = feb_data.groupby(\n",
        "   ['country_name']\n",
        ").agg(\n",
        "    {   'cases_per_100T': ['sum'], # sum of total new cases in the time span per 1M ppl\n",
        "        'new_confirmed':['sum'],   # cumulative number of cases over the past 59 days \n",
        "        'population': ['mean'],\n",
        "        'population_density': ['mean'],\n",
        "        'new_deceased': ['sum'],\n",
        "        'gdp_per_capita': ['mean']\n",
        "    }\n",
        ").reset_index()\n",
        "\n",
        "\n",
        "conditions = [  # if else basically\n",
        "    (feb_data['cases_per_100T'] < 5), # low\n",
        "    (feb_data['cases_per_100T'] >= 5) & (feb_data['cases_per_100T'] <= 50), # medium\n",
        "    (feb_data['cases_per_100T'] > 50) & (feb_data['cases_per_100T'] <= 100), # high\n",
        "    (feb_data['cases_per_100T'] > 100) # extreme\n",
        "    ]\n",
        "values = ['low', 'moderate', 'high', 'extreme']\n",
        "\n",
        "## true labels for our training data\n",
        "feb_data['levels'] = np.select(conditions, values)\n",
        "\n",
        "feb_data.info()"
      ],
      "execution_count": 9,
      "outputs": [
        {
          "output_type": "stream",
          "text": [
            "<class 'pandas.core.frame.DataFrame'>\n",
            "RangeIndex: 202 entries, 0 to 201\n",
            "Data columns (total 8 columns):\n",
            " #   Column                      Non-Null Count  Dtype  \n",
            "---  ------                      --------------  -----  \n",
            " 0   (country_name, )            202 non-null    object \n",
            " 1   (cases_per_100T, sum)       202 non-null    float64\n",
            " 2   (new_confirmed, sum)        202 non-null    float64\n",
            " 3   (population, mean)          202 non-null    float64\n",
            " 4   (population_density, mean)  202 non-null    float64\n",
            " 5   (new_deceased, sum)         202 non-null    float64\n",
            " 6   (gdp_per_capita, mean)      202 non-null    int64  \n",
            " 7   (levels, )                  202 non-null    object \n",
            "dtypes: float64(5), int64(1), object(2)\n",
            "memory usage: 12.8+ KB\n"
          ],
          "name": "stdout"
        }
      ]
    },
    {
      "cell_type": "markdown",
      "metadata": {
        "id": "bIK8WoyT8_lG"
      },
      "source": [
        "## Uneven Dimensions Most Likely Due to Missing country_name in February Data"
      ]
    },
    {
      "cell_type": "code",
      "metadata": {
        "colab": {
          "base_uri": "https://localhost:8080/",
          "height": 111
        },
        "id": "7ZJj4RzG9J2F",
        "outputId": "838ca1b5-936c-4f23-a80d-2c7abb5fdd02"
      },
      "source": [
        "# Finding missing country from February data\n",
        "jan_data.loc[~jan_data.country_name.isin(feb_data['country_name'])]"
      ],
      "execution_count": 10,
      "outputs": [
        {
          "output_type": "execute_result",
          "data": {
            "text/html": [
              "<div>\n",
              "<style scoped>\n",
              "    .dataframe tbody tr th:only-of-type {\n",
              "        vertical-align: middle;\n",
              "    }\n",
              "\n",
              "    .dataframe tbody tr th {\n",
              "        vertical-align: top;\n",
              "    }\n",
              "\n",
              "    .dataframe thead tr th {\n",
              "        text-align: left;\n",
              "    }\n",
              "</style>\n",
              "<table border=\"1\" class=\"dataframe\">\n",
              "  <thead>\n",
              "    <tr>\n",
              "      <th></th>\n",
              "      <th>country_name</th>\n",
              "      <th>cases_per_100T</th>\n",
              "      <th>new_confirmed</th>\n",
              "      <th>population</th>\n",
              "      <th>population_density</th>\n",
              "      <th>new_deceased</th>\n",
              "      <th>gdp_per_capita</th>\n",
              "      <th>levels</th>\n",
              "    </tr>\n",
              "    <tr>\n",
              "      <th></th>\n",
              "      <th></th>\n",
              "      <th>sum</th>\n",
              "      <th>sum</th>\n",
              "      <th>mean</th>\n",
              "      <th>mean</th>\n",
              "      <th>sum</th>\n",
              "      <th>mean</th>\n",
              "      <th></th>\n",
              "    </tr>\n",
              "  </thead>\n",
              "  <tbody>\n",
              "    <tr>\n",
              "      <th>107</th>\n",
              "      <td>Macau</td>\n",
              "      <td>0.15400</td>\n",
              "      <td>1.00000</td>\n",
              "      <td>649342.00000</td>\n",
              "      <td>21717124.00000</td>\n",
              "      <td>0.00000</td>\n",
              "      <td>84096</td>\n",
              "      <td>low</td>\n",
              "    </tr>\n",
              "  </tbody>\n",
              "</table>\n",
              "</div>"
            ],
            "text/plain": [
              "    country_name cases_per_100T  ... gdp_per_capita levels\n",
              "                            sum  ...           mean       \n",
              "107        Macau        0.15400  ...          84096    low\n",
              "\n",
              "[1 rows x 8 columns]"
            ]
          },
          "metadata": {
            "tags": []
          },
          "execution_count": 10
        }
      ]
    },
    {
      "cell_type": "code",
      "metadata": {
        "colab": {
          "base_uri": "https://localhost:8080/"
        },
        "id": "9JYZOiT89Snu",
        "outputId": "966aeef3-c872-4bcb-9738-96f25f88f663"
      },
      "source": [
        "\n",
        "jan_data = jan_data[jan_data.country_name != 'Macau']\n",
        "print('Shape of January Data:', jan_data.shape)\n",
        "print('Shape of February Data:', feb_data.shape)\n",
        "# removing Macau so that dimensions match"
      ],
      "execution_count": 11,
      "outputs": [
        {
          "output_type": "stream",
          "text": [
            "Shape of January Data: (202, 8)\n",
            "Shape of February Data: (202, 8)\n"
          ],
          "name": "stdout"
        }
      ]
    },
    {
      "cell_type": "markdown",
      "metadata": {
        "id": "IcMxqBj3ATlr"
      },
      "source": [
        "## Infection Levels for January and February"
      ]
    },
    {
      "cell_type": "code",
      "metadata": {
        "colab": {
          "base_uri": "https://localhost:8080/",
          "height": 350
        },
        "id": "6UMO8xGREYrD",
        "outputId": "e2b3e34d-c598-4829-8dbc-cc65053a9376"
      },
      "source": [
        "import seaborn as sns\n",
        "sns.countplot(jan_data['levels'])"
      ],
      "execution_count": 12,
      "outputs": [
        {
          "output_type": "stream",
          "text": [
            "/usr/local/lib/python3.7/dist-packages/seaborn/_decorators.py:43: FutureWarning: Pass the following variable as a keyword arg: x. From version 0.12, the only valid positional argument will be `data`, and passing other arguments without an explicit keyword will result in an error or misinterpretation.\n",
            "  FutureWarning\n"
          ],
          "name": "stderr"
        },
        {
          "output_type": "execute_result",
          "data": {
            "text/plain": [
              "<matplotlib.axes._subplots.AxesSubplot at 0x7f6b018a7410>"
            ]
          },
          "metadata": {
            "tags": []
          },
          "execution_count": 12
        },
        {
          "output_type": "display_data",
          "data": {
            "image/png": "[encoded data removed]",
            "text/plain": [
              "<Figure size 432x288 with 1 Axes>"
            ]
          },
          "metadata": {
            "tags": [],
            "needs_background": "light"
          }
        }
      ]
    },
    {
      "cell_type": "code",
      "metadata": {
        "colab": {
          "base_uri": "https://localhost:8080/",
          "height": 350
        },
        "id": "qdISoETl-OZp",
        "outputId": "52873881-4bcf-4e5d-fba5-037eb3a327d9"
      },
      "source": [
        "sns.countplot(feb_data['levels'])"
      ],
      "execution_count": 13,
      "outputs": [
        {
          "output_type": "stream",
          "text": [
            "/usr/local/lib/python3.7/dist-packages/seaborn/_decorators.py:43: FutureWarning: Pass the following variable as a keyword arg: x. From version 0.12, the only valid positional argument will be `data`, and passing other arguments without an explicit keyword will result in an error or misinterpretation.\n",
            "  FutureWarning\n"
          ],
          "name": "stderr"
        },
        {
          "output_type": "execute_result",
          "data": {
            "text/plain": [
              "<matplotlib.axes._subplots.AxesSubplot at 0x7f6b01886590>"
            ]
          },
          "metadata": {
            "tags": []
          },
          "execution_count": 13
        },
        {
          "output_type": "display_data",
          "data": {
            "image/png": "[encoded data removed]",
            "text/plain": [
              "<Figure size 432x288 with 1 Axes>"
            ]
          },
          "metadata": {
            "tags": [],
            "needs_background": "light"
          }
        }
      ]
    },
    {
      "cell_type": "markdown",
      "metadata": {
        "id": "j4fVAMZiGv9I"
      },
      "source": [
        "## Training set\n",
        "\n",
        "Turning country_name into a dummy variable since it is categorical"
      ]
    },
    {
      "cell_type": "code",
      "metadata": {
        "colab": {
          "base_uri": "https://localhost:8080/"
        },
        "id": "p4GklmPacRnj",
        "outputId": "3e3b92a1-db1b-426c-80de-e88018195a07"
      },
      "source": [
        "\n",
        "train_X = jan_data.drop(['levels'], axis = 1)\n",
        "train_X['population_density'].fillna((feb_data['population_density'].mean()), inplace=True)\n",
        "train_X\n",
        "\n",
        "country_name=pd.get_dummies(train_X['country_name'],drop_first=True)\n",
        "train_X.drop(['country_name'],axis=1,inplace=True)\n",
        "train_X = pd.concat([train_X,country_name],axis=1)\n",
        "train_X.info()"
      ],
      "execution_count": 14,
      "outputs": [
        {
          "output_type": "stream",
          "text": [
            "/usr/local/lib/python3.7/dist-packages/pandas/core/generic.py:3889: PerformanceWarning: dropping on a non-lexsorted multi-index without a level parameter may impact performance.\n",
            "  obj = obj._drop_axis(labels, axis, level=level, errors=errors)\n",
            "/usr/local/lib/python3.7/dist-packages/pandas/core/series.py:4536: SettingWithCopyWarning: \n",
            "A value is trying to be set on a copy of a slice from a DataFrame\n",
            "\n",
            "See the caveats in the documentation: https://pandas.pydata.org/pandas-docs/stable/user_guide/indexing.html#returning-a-view-versus-a-copy\n",
            "  downcast=downcast,\n"
          ],
          "name": "stderr"
        },
        {
          "output_type": "stream",
          "text": [
            "<class 'pandas.core.frame.DataFrame'>\n",
            "Int64Index: 202 entries, 0 to 202\n",
            "Columns: 207 entries, ('cases_per_100T', 'sum') to Zimbabwe\n",
            "dtypes: float64(5), int64(1), uint8(201)\n",
            "memory usage: 60.7 KB\n"
          ],
          "name": "stdout"
        }
      ]
    },
    {
      "cell_type": "markdown",
      "metadata": {
        "id": "Tug90srQ3Hk7"
      },
      "source": [
        "## Transforming Categorical Into Numerical (Train)"
      ]
    },
    {
      "cell_type": "code",
      "metadata": {
        "id": "0hXqDIe6YKzO"
      },
      "source": [
        "from sklearn import preprocessing\n",
        "num=preprocessing.LabelEncoder()\n",
        "num.fit(jan_data['levels'])\n",
        "jan_data['levels']=num.transform(jan_data['levels'])\n",
        "train_Y=jan_data['levels'] # checking transformation from categorical > numerical"
      ],
      "execution_count": 15,
      "outputs": []
    },
    {
      "cell_type": "markdown",
      "metadata": {
        "id": "Vuvax-xBG0ZM"
      },
      "source": [
        "## Testing Set\n",
        "\n",
        "Turning country_name into a dummy variable since it is categorical"
      ]
    },
    {
      "cell_type": "code",
      "metadata": {
        "colab": {
          "base_uri": "https://localhost:8080/"
        },
        "id": "B2ug8FNUcXND",
        "outputId": "3ec0a152-a931-40a1-b48b-e6be1afd7425"
      },
      "source": [
        "import statistics\n",
        "\n",
        "test_X = feb_data.drop(['levels'],axis = 1).fillna(0)\n",
        "test_X['population_density'].fillna((feb_data['population_density'].mean()), inplace=True)\n",
        "\n",
        "country_name=pd.get_dummies(test_X['country_name'],drop_first=True)\n",
        "test_X.drop(['country_name'],axis=1,inplace=True)\n",
        "test_X=pd.concat([test_X,country_name],axis=1)\n",
        "test_X.info()"
      ],
      "execution_count": 16,
      "outputs": [
        {
          "output_type": "stream",
          "text": [
            "/usr/local/lib/python3.7/dist-packages/pandas/core/generic.py:3889: PerformanceWarning: dropping on a non-lexsorted multi-index without a level parameter may impact performance.\n",
            "  obj = obj._drop_axis(labels, axis, level=level, errors=errors)\n"
          ],
          "name": "stderr"
        },
        {
          "output_type": "stream",
          "text": [
            "<class 'pandas.core.frame.DataFrame'>\n",
            "RangeIndex: 202 entries, 0 to 201\n",
            "Columns: 207 entries, ('cases_per_100T', 'sum') to Zimbabwe\n",
            "dtypes: float64(5), int64(1), uint8(201)\n",
            "memory usage: 49.2 KB\n"
          ],
          "name": "stdout"
        },
        {
          "output_type": "stream",
          "text": [
            "/usr/local/lib/python3.7/dist-packages/pandas/core/series.py:4536: SettingWithCopyWarning: \n",
            "A value is trying to be set on a copy of a slice from a DataFrame\n",
            "\n",
            "See the caveats in the documentation: https://pandas.pydata.org/pandas-docs/stable/user_guide/indexing.html#returning-a-view-versus-a-copy\n",
            "  downcast=downcast,\n"
          ],
          "name": "stderr"
        }
      ]
    },
    {
      "cell_type": "markdown",
      "metadata": {
        "id": "EH66OzgS3MmE"
      },
      "source": [
        "## Transforming Categorical Into Numerical (Test)"
      ]
    },
    {
      "cell_type": "code",
      "metadata": {
        "colab": {
          "base_uri": "https://localhost:8080/"
        },
        "id": "SlceEPhfcZSp",
        "outputId": "78d41cf9-3497-4110-b512-976b2c382103"
      },
      "source": [
        "num.fit(feb_data['levels'])\n",
        "feb_data['levels']=num.transform(feb_data['levels'])\n",
        "test_Y=feb_data['levels'] # checking transformation from categorical > numerical\n",
        "test_Y"
      ],
      "execution_count": 17,
      "outputs": [
        {
          "output_type": "execute_result",
          "data": {
            "text/plain": [
              "0      2\n",
              "1      0\n",
              "2      3\n",
              "3      2\n",
              "4      0\n",
              "      ..\n",
              "197    2\n",
              "198    2\n",
              "199    2\n",
              "200    0\n",
              "201    3\n",
              "Name: levels, Length: 202, dtype: int64"
            ]
          },
          "metadata": {
            "tags": []
          },
          "execution_count": 17
        }
      ]
    },
    {
      "cell_type": "code",
      "metadata": {
        "colab": {
          "base_uri": "https://localhost:8080/",
          "height": 235
        },
        "id": "kOoWPB8L52iU",
        "outputId": "5e3d1228-246b-4240-d74f-5926d74ee986"
      },
      "source": [
        "jan_data.head()\n"
      ],
      "execution_count": 18,
      "outputs": [
        {
          "output_type": "execute_result",
          "data": {
            "text/html": [
              "<div>\n",
              "<style scoped>\n",
              "    .dataframe tbody tr th:only-of-type {\n",
              "        vertical-align: middle;\n",
              "    }\n",
              "\n",
              "    .dataframe tbody tr th {\n",
              "        vertical-align: top;\n",
              "    }\n",
              "\n",
              "    .dataframe thead tr th {\n",
              "        text-align: left;\n",
              "    }\n",
              "</style>\n",
              "<table border=\"1\" class=\"dataframe\">\n",
              "  <thead>\n",
              "    <tr>\n",
              "      <th></th>\n",
              "      <th>country_name</th>\n",
              "      <th>cases_per_100T</th>\n",
              "      <th>new_confirmed</th>\n",
              "      <th>population</th>\n",
              "      <th>population_density</th>\n",
              "      <th>new_deceased</th>\n",
              "      <th>gdp_per_capita</th>\n",
              "      <th>levels</th>\n",
              "    </tr>\n",
              "    <tr>\n",
              "      <th></th>\n",
              "      <th></th>\n",
              "      <th>sum</th>\n",
              "      <th>sum</th>\n",
              "      <th>mean</th>\n",
              "      <th>mean</th>\n",
              "      <th>sum</th>\n",
              "      <th>mean</th>\n",
              "      <th></th>\n",
              "    </tr>\n",
              "  </thead>\n",
              "  <tbody>\n",
              "    <tr>\n",
              "      <th>0</th>\n",
              "      <td>Afghanistan</td>\n",
              "      <td>6.51197</td>\n",
              "      <td>2535.00000</td>\n",
              "      <td>38928341.00000</td>\n",
              "      <td>59627.00000</td>\n",
              "      <td>194.00000</td>\n",
              "      <td>502</td>\n",
              "      <td>3</td>\n",
              "    </tr>\n",
              "    <tr>\n",
              "      <th>1</th>\n",
              "      <td>Albania</td>\n",
              "      <td>708.10539</td>\n",
              "      <td>20269.00000</td>\n",
              "      <td>2862427.00000</td>\n",
              "      <td>99.60000</td>\n",
              "      <td>207.00000</td>\n",
              "      <td>5352</td>\n",
              "      <td>0</td>\n",
              "    </tr>\n",
              "    <tr>\n",
              "      <th>2</th>\n",
              "      <td>Algeria</td>\n",
              "      <td>18.17061</td>\n",
              "      <td>7968.00000</td>\n",
              "      <td>43851043.00000</td>\n",
              "      <td>18411.00000</td>\n",
              "      <td>138.00000</td>\n",
              "      <td>3948</td>\n",
              "      <td>3</td>\n",
              "    </tr>\n",
              "    <tr>\n",
              "      <th>3</th>\n",
              "      <td>American Samoa</td>\n",
              "      <td>0.00000</td>\n",
              "      <td>0.00000</td>\n",
              "      <td>55196.00000</td>\n",
              "      <td>275985.00000</td>\n",
              "      <td>0.00000</td>\n",
              "      <td>11466</td>\n",
              "      <td>2</td>\n",
              "    </tr>\n",
              "    <tr>\n",
              "      <th>4</th>\n",
              "      <td>Andorra</td>\n",
              "      <td>2400.82832</td>\n",
              "      <td>1855.00000</td>\n",
              "      <td>77265.00000</td>\n",
              "      <td>164394.00000</td>\n",
              "      <td>17.00000</td>\n",
              "      <td>40886</td>\n",
              "      <td>0</td>\n",
              "    </tr>\n",
              "  </tbody>\n",
              "</table>\n",
              "</div>"
            ],
            "text/plain": [
              "     country_name cases_per_100T  ... gdp_per_capita levels\n",
              "                             sum  ...           mean       \n",
              "0     Afghanistan        6.51197  ...            502      3\n",
              "1         Albania      708.10539  ...           5352      0\n",
              "2         Algeria       18.17061  ...           3948      3\n",
              "3  American Samoa        0.00000  ...          11466      2\n",
              "4         Andorra     2400.82832  ...          40886      0\n",
              "\n",
              "[5 rows x 8 columns]"
            ]
          },
          "metadata": {
            "tags": []
          },
          "execution_count": 18
        }
      ]
    },
    {
      "cell_type": "code",
      "metadata": {
        "colab": {
          "base_uri": "https://localhost:8080/",
          "height": 235
        },
        "id": "eF1IHHrF5FEY",
        "outputId": "b21ecad5-df6c-4627-d8b5-78f3bbac7b68"
      },
      "source": [
        "feb_data.head()"
      ],
      "execution_count": 19,
      "outputs": [
        {
          "output_type": "execute_result",
          "data": {
            "text/html": [
              "<div>\n",
              "<style scoped>\n",
              "    .dataframe tbody tr th:only-of-type {\n",
              "        vertical-align: middle;\n",
              "    }\n",
              "\n",
              "    .dataframe tbody tr th {\n",
              "        vertical-align: top;\n",
              "    }\n",
              "\n",
              "    .dataframe thead tr th {\n",
              "        text-align: left;\n",
              "    }\n",
              "</style>\n",
              "<table border=\"1\" class=\"dataframe\">\n",
              "  <thead>\n",
              "    <tr>\n",
              "      <th></th>\n",
              "      <th>country_name</th>\n",
              "      <th>cases_per_100T</th>\n",
              "      <th>new_confirmed</th>\n",
              "      <th>population</th>\n",
              "      <th>population_density</th>\n",
              "      <th>new_deceased</th>\n",
              "      <th>gdp_per_capita</th>\n",
              "      <th>levels</th>\n",
              "    </tr>\n",
              "    <tr>\n",
              "      <th></th>\n",
              "      <th></th>\n",
              "      <th>sum</th>\n",
              "      <th>sum</th>\n",
              "      <th>mean</th>\n",
              "      <th>mean</th>\n",
              "      <th>sum</th>\n",
              "      <th>mean</th>\n",
              "      <th></th>\n",
              "    </tr>\n",
              "  </thead>\n",
              "  <tbody>\n",
              "    <tr>\n",
              "      <th>0</th>\n",
              "      <td>Afghanistan</td>\n",
              "      <td>1.63891</td>\n",
              "      <td>638.00000</td>\n",
              "      <td>38928341.00000</td>\n",
              "      <td>59627.00000</td>\n",
              "      <td>41.00000</td>\n",
              "      <td>502</td>\n",
              "      <td>2</td>\n",
              "    </tr>\n",
              "    <tr>\n",
              "      <th>1</th>\n",
              "      <td>Albania</td>\n",
              "      <td>1010.99521</td>\n",
              "      <td>28939.00000</td>\n",
              "      <td>2862427.00000</td>\n",
              "      <td>99.60000</td>\n",
              "      <td>423.00000</td>\n",
              "      <td>5352</td>\n",
              "      <td>0</td>\n",
              "    </tr>\n",
              "    <tr>\n",
              "      <th>2</th>\n",
              "      <td>Algeria</td>\n",
              "      <td>12.94610</td>\n",
              "      <td>5677.00000</td>\n",
              "      <td>43851043.00000</td>\n",
              "      <td>18411.00000</td>\n",
              "      <td>93.00000</td>\n",
              "      <td>3948</td>\n",
              "      <td>3</td>\n",
              "    </tr>\n",
              "    <tr>\n",
              "      <th>3</th>\n",
              "      <td>American Samoa</td>\n",
              "      <td>0.00000</td>\n",
              "      <td>0.00000</td>\n",
              "      <td>55196.00000</td>\n",
              "      <td>275985.00000</td>\n",
              "      <td>0.00000</td>\n",
              "      <td>11466</td>\n",
              "      <td>2</td>\n",
              "    </tr>\n",
              "    <tr>\n",
              "      <th>4</th>\n",
              "      <td>Andorra</td>\n",
              "      <td>1186.82456</td>\n",
              "      <td>917.00000</td>\n",
              "      <td>77265.00000</td>\n",
              "      <td>164394.00000</td>\n",
              "      <td>9.00000</td>\n",
              "      <td>40886</td>\n",
              "      <td>0</td>\n",
              "    </tr>\n",
              "  </tbody>\n",
              "</table>\n",
              "</div>"
            ],
            "text/plain": [
              "     country_name cases_per_100T  ... gdp_per_capita levels\n",
              "                             sum  ...           mean       \n",
              "0     Afghanistan        1.63891  ...            502      2\n",
              "1         Albania     1010.99521  ...           5352      0\n",
              "2         Algeria       12.94610  ...           3948      3\n",
              "3  American Samoa        0.00000  ...          11466      2\n",
              "4         Andorra     1186.82456  ...          40886      0\n",
              "\n",
              "[5 rows x 8 columns]"
            ]
          },
          "metadata": {
            "tags": []
          },
          "execution_count": 19
        }
      ]
    },
    {
      "cell_type": "markdown",
      "metadata": {
        "id": "FKFRq9NZ4tFM"
      },
      "source": [
        "After checking dataframe for jan_data and feb_data, our levels converted into\n",
        "\n",
        "*   3 = moderate\n",
        "*   0 = extreme\n",
        "*   2 = low\n",
        "*   1 = high\n",
        "\n",
        "\n",
        "\n"
      ]
    },
    {
      "cell_type": "markdown",
      "metadata": {
        "id": "JoWXmw4yciXX"
      },
      "source": [
        "## Oversampling\n",
        "\n",
        "Since there is class imbalance, we use the SMOTEEN package to oversample."
      ]
    },
    {
      "cell_type": "code",
      "metadata": {
        "colab": {
          "base_uri": "https://localhost:8080/"
        },
        "id": "ijd5IFBC4ND5",
        "outputId": "87632520-2211-43e5-ec0d-8726501c019f"
      },
      "source": [
        "train_Y.value_counts()"
      ],
      "execution_count": 20,
      "outputs": [
        {
          "output_type": "execute_result",
          "data": {
            "text/plain": [
              "0    106\n",
              "3     47\n",
              "2     32\n",
              "1     17\n",
              "Name: levels, dtype: int64"
            ]
          },
          "metadata": {
            "tags": []
          },
          "execution_count": 20
        }
      ]
    },
    {
      "cell_type": "code",
      "metadata": {
        "id": "VLsTr8wpUO5u",
        "colab": {
          "base_uri": "https://localhost:8080/"
        },
        "outputId": "c7ceed5a-8d3a-4dc1-9f69-50085d8d7cd8"
      },
      "source": [
        "from collections import Counter\n",
        "from imblearn.combine import SMOTEENN\n",
        "from imblearn.over_sampling import SMOTE"
      ],
      "execution_count": 21,
      "outputs": [
        {
          "output_type": "stream",
          "text": [
            "/usr/local/lib/python3.7/dist-packages/sklearn/externals/six.py:31: FutureWarning: The module is deprecated in version 0.21 and will be removed in version 0.23 since we've dropped support for Python 2.7. Please rely on the official version of six (https://pypi.org/project/six/).\n",
            "  \"(https://pypi.org/project/six/).\", FutureWarning)\n",
            "/usr/local/lib/python3.7/dist-packages/sklearn/utils/deprecation.py:144: FutureWarning: The sklearn.neighbors.base module is  deprecated in version 0.22 and will be removed in version 0.24. The corresponding classes / functions should instead be imported from sklearn.neighbors. Anything that cannot be imported from sklearn.neighbors is now part of the private API.\n",
            "  warnings.warn(message, FutureWarning)\n"
          ],
          "name": "stderr"
        }
      ]
    },
    {
      "cell_type": "code",
      "metadata": {
        "colab": {
          "base_uri": "https://localhost:8080/",
          "height": 589
        },
        "id": "rUZKcY8mcl5Y",
        "outputId": "35b2ea0e-123e-4868-87ed-d63b5b79731a"
      },
      "source": [
        "\n",
        "os = SMOTE(random_state=0)\n",
        "columns = train_X.columns\n",
        "os_data_X,os_data_y=os.fit_sample(train_X, train_Y)\n",
        "os_data_X = pd.DataFrame(data=os_data_X,columns=columns )\n",
        "os_data_y = pd.DataFrame(data=os_data_y,columns=['levels'])\n",
        "# we can Check the numbers of our data\n",
        "print(\"length of oversampled data is \",len(os_data_X))\n",
        "print(\"Number of countries level low in oversampled data\",len(os_data_y[os_data_y['levels']==2]))\n",
        "print(\"Number of countries level moderate in oversampled data\",len(os_data_y[os_data_y['levels']==3]))\n",
        "print(\"Number of countries level high in oversampled data\",len(os_data_y[os_data_y['levels']==1]))\n",
        "print(\"Number of countries level extreme in oversampled data\",len(os_data_y[os_data_y['levels']==0]))\n",
        "\n",
        "sns.set_theme(style=\"ticks\")\n",
        "sns.color_palette(\"husl\", 4)\n",
        "y_os = sns.catplot(x = \"levels\", kind = \"count\", data = os_data_y, order = [2, 3, 1, 0])\n"
      ],
      "execution_count": 22,
      "outputs": [
        {
          "output_type": "stream",
          "text": [
            "/usr/local/lib/python3.7/dist-packages/sklearn/utils/deprecation.py:87: FutureWarning: Function safe_indexing is deprecated; safe_indexing is deprecated in version 0.22 and will be removed in version 0.24.\n",
            "  warnings.warn(msg, category=FutureWarning)\n",
            "/usr/local/lib/python3.7/dist-packages/sklearn/utils/deprecation.py:87: FutureWarning: Function safe_indexing is deprecated; safe_indexing is deprecated in version 0.22 and will be removed in version 0.24.\n",
            "  warnings.warn(msg, category=FutureWarning)\n",
            "/usr/local/lib/python3.7/dist-packages/sklearn/utils/deprecation.py:87: FutureWarning: Function safe_indexing is deprecated; safe_indexing is deprecated in version 0.22 and will be removed in version 0.24.\n",
            "  warnings.warn(msg, category=FutureWarning)\n"
          ],
          "name": "stderr"
        },
        {
          "output_type": "stream",
          "text": [
            "length of oversampled data is  424\n",
            "Number of countries level low in oversampled data 106\n",
            "Number of countries level moderate in oversampled data 106\n",
            "Number of countries level high in oversampled data 106\n",
            "Number of countries level extreme in oversampled data 106\n"
          ],
          "name": "stdout"
        },
        {
          "output_type": "display_data",
          "data": {
            "image/png": "[encoded data removed]",
            "text/plain": [
              "<Figure size 360x360 with 1 Axes>"
            ]
          },
          "metadata": {
            "tags": []
          }
        }
      ]
    },
    {
      "cell_type": "markdown",
      "metadata": {
        "id": "hl2XlOSqc8Tm"
      },
      "source": [
        "## OVR Logistic Regression\n",
        "\n",
        "Regular Logistic Regression is for binary responses which is why we opt for different variants of logistic regression for multi-classification.\n",
        "\n"
      ]
    },
    {
      "cell_type": "code",
      "metadata": {
        "id": "7L64bGL4c6VW"
      },
      "source": [
        "from sklearn.linear_model import LogisticRegression\n",
        "logmod_ovr = LogisticRegression(multi_class='ovr',max_iter=1000).fit(os_data_X, os_data_y.values.ravel())"
      ],
      "execution_count": 23,
      "outputs": []
    },
    {
      "cell_type": "code",
      "metadata": {
        "colab": {
          "base_uri": "https://localhost:8080/"
        },
        "id": "w_zGvojNUbUl",
        "outputId": "a1901b36-63a3-459e-8d51-347cb385f830"
      },
      "source": [
        "# accuracy for both training and testing sets to check for signs of overfitting\n",
        "print('OVR Logistic Regression Accuracy (Training):', logmod_ovr.score(train_X, train_Y)) # accuracy\n",
        "print('OVR Logistic Regression Accuracy (Testing):', logmod_ovr.score(test_X, test_Y)) # accuracy"
      ],
      "execution_count": 24,
      "outputs": [
        {
          "output_type": "stream",
          "text": [
            "OVR Logistic Regression Accuracy (Training): 0.8910891089108911\n",
            "OVR Logistic Regression Accuracy (Testing): 0.8861386138613861\n"
          ],
          "name": "stdout"
        }
      ]
    },
    {
      "cell_type": "code",
      "metadata": {
        "colab": {
          "base_uri": "https://localhost:8080/",
          "height": 285
        },
        "id": "ojZyoc-qdCIl",
        "outputId": "55a282c5-40c4-433e-df3f-9fb042b70fc9"
      },
      "source": [
        "from sklearn.metrics import plot_confusion_matrix, accuracy_score\n",
        "import matplotlib.pyplot as plt\n",
        "\n",
        "\n",
        "ovrdisp = plot_confusion_matrix(logmod_ovr, test_X, test_Y,\n",
        "                                 display_labels='levels',\n",
        "                                 cmap=plt.cm.Blues)\n",
        "plt.show()"
      ],
      "execution_count": 25,
      "outputs": [
        {
          "output_type": "display_data",
          "data": {
            "image/png": "[encoded data removed]",
            "text/plain": [
              "<Figure size 432x288 with 2 Axes>"
            ]
          },
          "metadata": {
            "tags": []
          }
        }
      ]
    },
    {
      "cell_type": "code",
      "metadata": {
        "colab": {
          "base_uri": "https://localhost:8080/"
        },
        "id": "PcW2j4LZdE65",
        "outputId": "09fd205c-1db3-4d28-d45f-972b237dbf4a"
      },
      "source": [
        "import sklearn.metrics as metrics\n",
        "import plotly.figure_factory as ff\n",
        "print(metrics.classification_report(test_Y, logmod_ovr.predict(test_X))) # classification report\n",
        "\n"
      ],
      "execution_count": 26,
      "outputs": [
        {
          "output_type": "stream",
          "text": [
            "              precision    recall  f1-score   support\n",
            "\n",
            "           0       1.00      0.98      0.99        97\n",
            "           1       0.39      0.41      0.40        17\n",
            "           2       0.98      0.98      0.98        44\n",
            "           3       0.76      0.77      0.76        44\n",
            "\n",
            "    accuracy                           0.89       202\n",
            "   macro avg       0.78      0.79      0.78       202\n",
            "weighted avg       0.89      0.89      0.89       202\n",
            "\n"
          ],
          "name": "stdout"
        }
      ]
    },
    {
      "cell_type": "markdown",
      "metadata": {
        "id": "rvMXOP12dSCn"
      },
      "source": [
        "## Multinomial Logistic Regression"
      ]
    },
    {
      "cell_type": "code",
      "metadata": {
        "id": "9PYhwzgIiOnQ"
      },
      "source": [
        "logmod_multi = LogisticRegression(multi_class='multinomial',\n",
        "    solver='lbfgs',max_iter=10000).fit(os_data_X, os_data_y.values.ravel())"
      ],
      "execution_count": 27,
      "outputs": []
    },
    {
      "cell_type": "code",
      "metadata": {
        "colab": {
          "base_uri": "https://localhost:8080/"
        },
        "id": "QlvXYdsan2He",
        "outputId": "c8869c72-a804-42c5-e1d9-109fedca37a2"
      },
      "source": [
        "print('Multinomial Logistic Regression Accuracy (Training):', logmod_multi.score(train_X, train_Y)) \n",
        "print('Multinomial Logistic Regression Accuracy (Testing):', logmod_multi.score(test_X, test_Y)) \n"
      ],
      "execution_count": 28,
      "outputs": [
        {
          "output_type": "stream",
          "text": [
            "Multinomial Logistic Regression Accuracy (Training): 0.995049504950495\n",
            "Multinomial Logistic Regression Accuracy (Testing): 0.9702970297029703\n"
          ],
          "name": "stdout"
        }
      ]
    },
    {
      "cell_type": "code",
      "metadata": {
        "colab": {
          "base_uri": "https://localhost:8080/",
          "height": 285
        },
        "id": "XYJRhbwPivJt",
        "outputId": "2daecfce-8c95-483e-d61f-049da8a82621"
      },
      "source": [
        "multidisp = plot_confusion_matrix(logmod_multi, test_X, test_Y,\n",
        "                                 display_labels='levels',\n",
        "                                 cmap=plt.cm.Blues)\n",
        "plt.show()"
      ],
      "execution_count": 29,
      "outputs": [
        {
          "output_type": "display_data",
          "data": {
            "image/png": "[encoded data removed]",
            "text/plain": [
              "<Figure size 432x288 with 2 Axes>"
            ]
          },
          "metadata": {
            "tags": []
          }
        }
      ]
    },
    {
      "cell_type": "code",
      "metadata": {
        "colab": {
          "base_uri": "https://localhost:8080/"
        },
        "id": "08AqKKvQj9es",
        "outputId": "3629a422-b7d8-45cb-a09f-48870ece57fd"
      },
      "source": [
        "print(metrics.classification_report(test_Y, logmod_multi.predict(test_X)))# classification report\n",
        "\n"
      ],
      "execution_count": 30,
      "outputs": [
        {
          "output_type": "stream",
          "text": [
            "              precision    recall  f1-score   support\n",
            "\n",
            "           0       1.00      0.99      0.99        97\n",
            "           1       1.00      1.00      1.00        17\n",
            "           2       0.91      0.95      0.93        44\n",
            "           3       0.95      0.93      0.94        44\n",
            "\n",
            "    accuracy                           0.97       202\n",
            "   macro avg       0.97      0.97      0.97       202\n",
            "weighted avg       0.97      0.97      0.97       202\n",
            "\n"
          ],
          "name": "stdout"
        }
      ]
    },
    {
      "cell_type": "markdown",
      "metadata": {
        "id": "Q2zuHqIo748q"
      },
      "source": [
        "## Ordinal Logistic Regression"
      ]
    },
    {
      "cell_type": "code",
      "metadata": {
        "colab": {
          "base_uri": "https://localhost:8080/"
        },
        "id": "lQ9lrPrh4dIW",
        "outputId": "62901f31-2fff-46e0-ba8c-7ddc561f46af"
      },
      "source": [
        "!pip install mord\n",
        "from mord import LogisticAT\n",
        "ord = LogisticAT(alpha=0)\n",
        "ord.fit(os_data_X,os_data_y.values.ravel())\n",
        "ord_y = ord.predict(test_X)\n",
        "ord_ytrain = ord.predict(train_X)\n",
        "print('Multinomial Logistic Regression Accuracy (Training):',(metrics.accuracy_score(train_Y, np.round(ord_ytrain)))) # accuracy\n",
        "print('Multinomial Logistic Regression Accuracy (Testing):',(metrics.accuracy_score(test_Y, np.round(ord_y))))\n"
      ],
      "execution_count": 31,
      "outputs": [
        {
          "output_type": "stream",
          "text": [
            "Requirement already satisfied: mord in /usr/local/lib/python3.7/dist-packages (0.6)\n",
            "Multinomial Logistic Regression Accuracy (Training): 0.6188118811881188\n",
            "Multinomial Logistic Regression Accuracy (Testing): 0.594059405940594\n"
          ],
          "name": "stdout"
        }
      ]
    },
    {
      "cell_type": "code",
      "metadata": {
        "colab": {
          "base_uri": "https://localhost:8080/"
        },
        "id": "MPd_KEVu7_-6",
        "outputId": "0b6d0871-f5ef-47bd-aa49-aa2b2668c336"
      },
      "source": [
        "metrics.confusion_matrix(test_Y,ord_y) # confusion matrix"
      ],
      "execution_count": 32,
      "outputs": [
        {
          "output_type": "execute_result",
          "data": {
            "text/plain": [
              "array([[94,  1,  1,  1],\n",
              "       [10,  3,  3,  1],\n",
              "       [ 0, 26, 12,  6],\n",
              "       [ 6, 17, 10, 11]])"
            ]
          },
          "metadata": {
            "tags": []
          },
          "execution_count": 32
        }
      ]
    },
    {
      "cell_type": "code",
      "metadata": {
        "colab": {
          "base_uri": "https://localhost:8080/"
        },
        "id": "URYGJvX-7pz9",
        "outputId": "a71f151a-f7c8-4779-d244-1aa543022e89"
      },
      "source": [
        "print(metrics.classification_report(test_Y, ord.predict(test_X))) # classification report"
      ],
      "execution_count": 33,
      "outputs": [
        {
          "output_type": "stream",
          "text": [
            "              precision    recall  f1-score   support\n",
            "\n",
            "           0       0.85      0.97      0.91        97\n",
            "           1       0.06      0.18      0.09        17\n",
            "           2       0.46      0.27      0.34        44\n",
            "           3       0.58      0.25      0.35        44\n",
            "\n",
            "    accuracy                           0.59       202\n",
            "   macro avg       0.49      0.42      0.42       202\n",
            "weighted avg       0.64      0.59      0.59       202\n",
            "\n"
          ],
          "name": "stdout"
        }
      ]
    },
    {
      "cell_type": "markdown",
      "metadata": {
        "id": "DTgZmZrYCJ4q"
      },
      "source": [
        "## Multiclass Logistic Regression with Built in Cross Validation"
      ]
    },
    {
      "cell_type": "code",
      "metadata": {
        "id": "12zGDT2S-Vxy"
      },
      "source": [
        "from sklearn.linear_model import LogisticRegressionCV\n",
        "from sklearn.metrics import accuracy_score\n",
        "import warnings\n",
        "warnings.filterwarnings(\"ignore\")\n",
        "clf = LogisticRegressionCV(cv = 10, random_state = 0, penalty = 'l2', solver = 'newton-cg', max_iter = 1000)\n",
        "clf.fit(os_data_X, os_data_y.values.ravel())\n",
        "clf_pred = clf.predict(test_X)"
      ],
      "execution_count": 34,
      "outputs": []
    },
    {
      "cell_type": "code",
      "metadata": {
        "colab": {
          "base_uri": "https://localhost:8080/"
        },
        "id": "-U4j0fS3PKVt",
        "outputId": "b05d97e8-245d-4cec-89b1-115ca5bdd33b"
      },
      "source": [
        "print('Multiclass Logistic Regression with Built in Cross Validation (Training):', clf.score(train_X, train_Y)) \n",
        "print('Multiclass Logistic Regression with Built in Cross Validation (Testing):', clf.score(test_X, test_Y)) "
      ],
      "execution_count": 35,
      "outputs": [
        {
          "output_type": "stream",
          "text": [
            "Multiclass Logistic Regression with Built in Cross Validation (Training): 1.0\n",
            "Multiclass Logistic Regression with Built in Cross Validation (Testing): 0.9851485148514851\n"
          ],
          "name": "stdout"
        }
      ]
    },
    {
      "cell_type": "code",
      "metadata": {
        "colab": {
          "base_uri": "https://localhost:8080/"
        },
        "id": "hCU5ZEYAEgz0",
        "outputId": "3cb3fb2b-05da-4835-eff3-91a6ceb58512"
      },
      "source": [
        "print(metrics.classification_report(test_Y, clf_pred)) # classification report"
      ],
      "execution_count": 36,
      "outputs": [
        {
          "output_type": "stream",
          "text": [
            "              precision    recall  f1-score   support\n",
            "\n",
            "           0       1.00      0.99      0.99        97\n",
            "           1       0.94      1.00      0.97        17\n",
            "           2       1.00      0.95      0.98        44\n",
            "           3       0.96      1.00      0.98        44\n",
            "\n",
            "    accuracy                           0.99       202\n",
            "   macro avg       0.98      0.99      0.98       202\n",
            "weighted avg       0.99      0.99      0.99       202\n",
            "\n"
          ],
          "name": "stdout"
        }
      ]
    },
    {
      "cell_type": "code",
      "metadata": {
        "colab": {
          "base_uri": "https://localhost:8080/",
          "height": 285
        },
        "id": "LmqLA5XsE_y2",
        "outputId": "1f1e1786-e334-43b4-a44e-5930b1a7a3f3"
      },
      "source": [
        "logcv_disp = plot_confusion_matrix(clf, test_X, test_Y,\n",
        "                                 display_labels='levels',\n",
        "                                 cmap=plt.cm.Blues)\n",
        "plt.show()"
      ],
      "execution_count": 37,
      "outputs": [
        {
          "output_type": "display_data",
          "data": {
            "image/png": "[encoded data removed]",
            "text/plain": [
              "<Figure size 432x288 with 2 Axes>"
            ]
          },
          "metadata": {
            "tags": []
          }
        }
      ]
    },
    {
      "cell_type": "markdown",
      "metadata": {
        "id": "hWCcfHx8MdDN"
      },
      "source": [
        "## SVM - RBF"
      ]
    },
    {
      "cell_type": "code",
      "metadata": {
        "id": "7wLYSbiOMbvs"
      },
      "source": [
        "from sklearn.svm import SVC\n",
        "from sklearn.metrics import accuracy_score\n",
        "\n",
        "#fit the model\n",
        "rbf_SVM = SVC(kernel='rbf', C=1E7, decision_function_shape='ovo',probability=True)\n",
        "rbf_SVM.fit(os_data_X,os_data_y)\n",
        "rbf_pred=rbf_SVM.predict(test_X)"
      ],
      "execution_count": 38,
      "outputs": []
    },
    {
      "cell_type": "code",
      "metadata": {
        "colab": {
          "base_uri": "https://localhost:8080/"
        },
        "id": "M_uFFPY5PwHY",
        "outputId": "7d70a8c6-7d77-4998-ce99-4d317f6f0bd4"
      },
      "source": [
        "print('SVM RBF Accuracy (Training):', rbf_SVM.score(train_X, train_Y)) \n",
        "print('SVM RBF Accuracy  (Testing):', rbf_SVM.score(test_X, test_Y)) "
      ],
      "execution_count": 39,
      "outputs": [
        {
          "output_type": "stream",
          "text": [
            "SVM RBF Accuracy (Training): 0.7277227722772277\n",
            "SVM RBF Accuracy  (Testing): 0.6534653465346535\n"
          ],
          "name": "stdout"
        }
      ]
    },
    {
      "cell_type": "code",
      "metadata": {
        "colab": {
          "base_uri": "https://localhost:8080/",
          "height": 285
        },
        "id": "TAZZdWstlZ3r",
        "outputId": "24027620-4d64-4fef-d9a9-0b8458a2638b"
      },
      "source": [
        "svmrbf_disp = plot_confusion_matrix(rbf_SVM, test_X, test_Y,\n",
        "                                 display_labels='levels',\n",
        "                                 cmap=plt.cm.Blues)"
      ],
      "execution_count": 40,
      "outputs": [
        {
          "output_type": "display_data",
          "data": {
            "image/png": "[encoded data removed]",
            "text/plain": [
              "<Figure size 432x288 with 2 Axes>"
            ]
          },
          "metadata": {
            "tags": []
          }
        }
      ]
    },
    {
      "cell_type": "code",
      "metadata": {
        "colab": {
          "base_uri": "https://localhost:8080/"
        },
        "id": "uYz62jiFMkr2",
        "outputId": "e66b6bb8-8513-436d-b478-19f1c73a2131"
      },
      "source": [
        "\n",
        "print(metrics.classification_report(test_Y, rbf_pred)) # classification report"
      ],
      "execution_count": 41,
      "outputs": [
        {
          "output_type": "stream",
          "text": [
            "              precision    recall  f1-score   support\n",
            "\n",
            "           0       0.95      0.76      0.85        97\n",
            "           1       0.33      0.65      0.44        17\n",
            "           2       0.47      0.66      0.55        44\n",
            "           3       0.62      0.41      0.49        44\n",
            "\n",
            "    accuracy                           0.65       202\n",
            "   macro avg       0.59      0.62      0.58       202\n",
            "weighted avg       0.72      0.65      0.67       202\n",
            "\n"
          ],
          "name": "stdout"
        }
      ]
    },
    {
      "cell_type": "markdown",
      "metadata": {
        "id": "vTZ-_HzxVBYz"
      },
      "source": [
        "## Model Selection/Conclusion\n",
        "\n",
        "Out of all the logistic regression variants we have tried, the best accuracy, classification matrix, and classification report is Multinomial Logistic Regression and the multiclass logistic regression with cross validation model. These two are pretty close in performance with Multiclass Logistic Regression CV having slightly better performance in these measures."
      ]
    },
    {
      "cell_type": "code",
      "metadata": {
        "colab": {
          "base_uri": "https://localhost:8080/"
        },
        "id": "MYNsv06clQG-",
        "outputId": "844f0c62-26f4-4f73-e048-a1a43da245db"
      },
      "source": [
        "print('OVR Logistic Regression Accuracy:', np.round(logmod_ovr.score(test_X, test_Y)*100))\n",
        "print('Multinomial Logistic Regression Accuracy:', np.round(logmod_multi.score(test_X, test_Y)*100))\n",
        "print('Ordinal Logistic Regression Accuracy:', np.round(metrics.accuracy_score(test_Y, np.round(ord_y))*100))\n",
        "print('Multiclass Logistic Regression CV Accuracy:', np.round(accuracy_score(test_Y, clf_pred)*100))\n",
        "print('SVM RBF Accuracy:', np.round(accuracy_score(test_Y, rbf_pred)*100))"
      ],
      "execution_count": 42,
      "outputs": [
        {
          "output_type": "stream",
          "text": [
            "OVR Logistic Regression Accuracy: 89.0\n",
            "Multinomial Logistic Regression Accuracy: 97.0\n",
            "Ordinal Logistic Regression Accuracy: 59.0\n",
            "Multiclass Logistic Regression CV Accuracy: 99.0\n",
            "SVM RBF Accuracy: 65.0\n"
          ],
          "name": "stdout"
        }
      ]
    }
  ]
}