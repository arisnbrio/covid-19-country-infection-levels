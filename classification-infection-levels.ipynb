{
  "nbformat": 4,
  "nbformat_minor": 0,
  "metadata": {
    "colab": {
      "name": "Version1231312_STA_142A_FinalProject.ipynb",
      "provenance": [],
      "collapsed_sections": []
    },
    "kernelspec": {
      "name": "python3",
      "display_name": "Python 3"
    }
  },
  "cells": [
    {
      "cell_type": "markdown",
      "metadata": {
        "id": "XxR9S7oY4f1q"
      },
      "source": [
        "* Aris: Logistic Regression\n",
        "* Allen: Support Vector Machine\n",
        "* Sophia: Naive Bayes Classifier"
      ]
    },
    {
      "cell_type": "code",
      "metadata": {
        "id": "cSUKW3abLx3d"
      },
      "source": [
        "import pandas as pd\n",
        "pd.set_option('display.float_format', lambda x: '%.5f' % x)\n",
        "import numpy as np\n",
        "\n",
        "epid = pd.read_csv(\"https://storage.googleapis.com/covid19-open-data/v2/epidemiology.csv\", parse_dates = True) \n",
        "# deceased, deaths, recover etc\n",
        "demo = pd.read_csv(\"https://storage.googleapis.com/covid19-open-data/v2/demographics.csv\")\n",
        "# population\n",
        "ind = pd.read_csv(\"https://storage.googleapis.com/covid19-open-data/v2/index.csv\") \n",
        "# needed for country/country code/subregion1_code(city)\n",
        "data = pd.merge(pd.merge(epid, demo, on = 'key'), ind, on = 'key')  # join by key \n",
        "\n",
        "# add column new confirm vs total confirm | add column total confirmed cases vs population\n",
        "data = data.assign(nconfirmed_tconfirmed = lambda x: data['new_confirmed'] \n",
        "                               / data['total_confirmed']).assign(confirmed_pop = lambda x: data['total_confirmed'] \n",
        "                               / data['population'])\n",
        "\n",
        "cases_per_1M = data['new_confirmed']/data['population'] # cases per 1 million pop\n",
        "cases_per_1M = cases_per_1M.apply(lambda x: x*1000000)\n",
        "data = data.assign(cases_per_1M = cases_per_1M) # create new column cases_per_1M\n"
      ],
      "execution_count": null,
      "outputs": []
    },
    {
      "cell_type": "code",
      "metadata": {
        "colab": {
          "base_uri": "https://localhost:8080/"
        },
        "id": "KCcNNunAZCJh",
        "outputId": "035989fe-b55a-4225-8dc9-68b44067554e"
      },
      "source": [
        "#data.describe()\n",
        "#data.info()\n",
        "data.head()\n",
        "data.info\n",
        "# number of days of observations we have for each country\n",
        "num_days = data['date'].unique()\n",
        "num_days.shape"
      ],
      "execution_count": null,
      "outputs": [
        {
          "output_type": "execute_result",
          "data": {
            "text/plain": [
              "(696,)"
            ]
          },
          "metadata": {
            "tags": []
          },
          "execution_count": 2
        }
      ]
    },
    {
      "cell_type": "markdown",
      "metadata": {
        "id": "WX3digiB7Fvg"
      },
      "source": [
        "## Sampled dataset for the months of January and February 2021"
      ]
    },
    {
      "cell_type": "code",
      "metadata": {
        "id": "C__Ok_ZTFg9v",
        "colab": {
          "base_uri": "https://localhost:8080/"
        },
        "outputId": "ee51385b-f79b-4ba2-9a27-8c97d7f5148e"
      },
      "source": [
        "country_data = data[data['subregion1_code'].isnull()] # collect rows that don't specify subregions\r\n",
        "country_data = country_data[(country_data['date'] >= '2021-01-01') & (country_data['date'] <= '2021-02-28')] # filter dates between jan and feb\r\n",
        "country_data = country_data.drop(['subregion1_code','subregion1_name','subregion2_code','subregion2_name'], axis=1) # drop column\r\n",
        "country_data.info()\r\n",
        "\r\n"
      ],
      "execution_count": null,
      "outputs": [
        {
          "output_type": "stream",
          "text": [
            "<class 'pandas.core.frame.DataFrame'>\n",
            "Int64Index: 13632 entries, 367 to 1572850\n",
            "Data columns (total 43 columns):\n",
            " #   Column                       Non-Null Count  Dtype  \n",
            "---  ------                       --------------  -----  \n",
            " 0   date                         13632 non-null  object \n",
            " 1   key                          13573 non-null  object \n",
            " 2   new_confirmed                13624 non-null  float64\n",
            " 3   new_deceased                 13594 non-null  float64\n",
            " 4   new_recovered                990 non-null    float64\n",
            " 5   new_tested                   5569 non-null   float64\n",
            " 6   total_confirmed              13624 non-null  float64\n",
            " 7   total_deceased               13594 non-null  float64\n",
            " 8   total_recovered              909 non-null    float64\n",
            " 9   total_tested                 5537 non-null   float64\n",
            " 10  population                   13632 non-null  float64\n",
            " 11  population_male              13396 non-null  float64\n",
            " 12  population_female            13396 non-null  float64\n",
            " 13  rural_population             12511 non-null  float64\n",
            " 14  urban_population             12511 non-null  float64\n",
            " 15  largest_city_population      8912 non-null   float64\n",
            " 16  clustered_population         7139 non-null   float64\n",
            " 17  population_density           12393 non-null  float64\n",
            " 18  human_development_index      10974 non-null  float64\n",
            " 19  population_age_00_09         13101 non-null  float64\n",
            " 20  population_age_10_19         13101 non-null  float64\n",
            " 21  population_age_20_29         13101 non-null  float64\n",
            " 22  population_age_30_39         13101 non-null  float64\n",
            " 23  population_age_40_49         13101 non-null  float64\n",
            " 24  population_age_50_59         13101 non-null  float64\n",
            " 25  population_age_60_69         13101 non-null  float64\n",
            " 26  population_age_70_79         13101 non-null  float64\n",
            " 27  population_age_80_89         13042 non-null  float64\n",
            " 28  population_age_90_99         13042 non-null  float64\n",
            " 29  population_age_80_and_older  13101 non-null  float64\n",
            " 30  place_id                     12924 non-null  object \n",
            " 31  wikidata                     13632 non-null  object \n",
            " 32  datacommons                  13219 non-null  object \n",
            " 33  country_code                 13573 non-null  object \n",
            " 34  country_name                 13632 non-null  object \n",
            " 35  locality_code                59 non-null     object \n",
            " 36  locality_name                59 non-null     object \n",
            " 37  3166-1-alpha-2               13573 non-null  object \n",
            " 38  3166-1-alpha-3               13632 non-null  object \n",
            " 39  aggregation_level            13632 non-null  int64  \n",
            " 40  nconfirmed_tconfirmed        12857 non-null  float64\n",
            " 41  confirmed_pop                13624 non-null  float64\n",
            " 42  cases_per_1M                 13624 non-null  float64\n",
            "dtypes: float64(31), int64(1), object(11)\n",
            "memory usage: 4.6+ MB\n"
          ],
          "name": "stdout"
        }
      ]
    },
    {
      "cell_type": "markdown",
      "metadata": {
        "id": "m81cZtyhXkNf"
      },
      "source": [
        "## Split into Months\r\n"
      ]
    },
    {
      "cell_type": "code",
      "metadata": {
        "colab": {
          "base_uri": "https://localhost:8080/"
        },
        "id": "BTCYSrMS6PzQ",
        "outputId": "88bad02a-1a45-4177-8401-6b0e7986b283"
      },
      "source": [
        "jan_data = country_data[(country_data['date'] >= '2021-01-01') & (country_data['date'] < '2021-02-01')]\n",
        "\n",
        "jan_data = jan_data.groupby(\n",
        "   ['country_name']\n",
        ").agg(\n",
        "    {   'cases_per_1M': ['sum'], # mean of total new cases in that week per 1M ppl\n",
        "        'new_confirmed':['mean'],   # cumulative number of cases over the past 59 days \n",
        "        'total_confirmed': ['mean'], #  mean of total cases of that week\n",
        "        'confirmed_pop': ['mean'],\n",
        "        'population': ['mean'],\n",
        "        'new_deceased': ['mean'],\n",
        "        'total_deceased': ['max']\n",
        "    }\n",
        ").reset_index()\n",
        "\n",
        "\n",
        "\n",
        "conditions = [  # if else basically\n",
        "    (jan_data['cases_per_1M'] < 500),\n",
        "    (jan_data['cases_per_1M'] >= 500) & (jan_data['cases_per_1M'] < 1000),\n",
        "    (jan_data['cases_per_1M'] >=  1000)\n",
        "    ]\n",
        "values = [1, 2, 3]\n",
        "\n",
        "## true labels for our training data\n",
        "jan_data['levels'] = np.select(conditions, values)\n",
        "\n",
        "jan_data.info()"
      ],
      "execution_count": null,
      "outputs": [
        {
          "output_type": "stream",
          "text": [
            "<class 'pandas.core.frame.DataFrame'>\n",
            "RangeIndex: 231 entries, 0 to 230\n",
            "Data columns (total 9 columns):\n",
            " #   Column                   Non-Null Count  Dtype  \n",
            "---  ------                   --------------  -----  \n",
            " 0   (country_name, )         231 non-null    object \n",
            " 1   (cases_per_1M, sum)      231 non-null    float64\n",
            " 2   (new_confirmed, mean)    231 non-null    float64\n",
            " 3   (total_confirmed, mean)  231 non-null    float64\n",
            " 4   (confirmed_pop, mean)    231 non-null    float64\n",
            " 5   (population, mean)       231 non-null    float64\n",
            " 6   (new_deceased, mean)     231 non-null    float64\n",
            " 7   (total_deceased, max)    231 non-null    float64\n",
            " 8   (levels, )               231 non-null    int64  \n",
            "dtypes: float64(7), int64(1), object(1)\n",
            "memory usage: 16.4+ KB\n"
          ],
          "name": "stdout"
        }
      ]
    },
    {
      "cell_type": "code",
      "metadata": {
        "id": "b2t_Vs29adZh"
      },
      "source": [
        "jan_data = jan_data.set_index(['country_name'])"
      ],
      "execution_count": null,
      "outputs": []
    },
    {
      "cell_type": "code",
      "metadata": {
        "colab": {
          "base_uri": "https://localhost:8080/"
        },
        "id": "Klx4sKkzg6WB",
        "outputId": "25d15645-5752-4c67-e8db-ea4e861063a5"
      },
      "source": [
        "feb_data = country_data[(country_data['date'] >= '2021-02-01') & (country_data['date'] <= '2021-02-28')]\r\n",
        "\r\n",
        "feb_data = feb_data.groupby(\r\n",
        "   ['country_name']\r\n",
        ").agg(\r\n",
        "    {   'cases_per_1M': ['sum'], # mean of total new cases in that week per 1M ppl\r\n",
        "        'new_confirmed':['mean'],   # cumulative number of cases over the past 59 days \r\n",
        "        'total_confirmed': ['mean'], #  mean of total cases of that week\r\n",
        "        'confirmed_pop': ['mean'],\r\n",
        "        'population': ['mean'],\r\n",
        "        'new_deceased': ['mean'],\r\n",
        "        'total_deceased': ['max']\r\n",
        "    }\r\n",
        ").reset_index()\r\n",
        "\r\n",
        "\r\n",
        "conditions = [  # if else basically\r\n",
        "    (feb_data['cases_per_1M'] < 500),\r\n",
        "    (feb_data['cases_per_1M'] >= 500) & (feb_data['cases_per_1M'] < 1000),\r\n",
        "    (feb_data['cases_per_1M'] >=  1000)\r\n",
        "    ]\r\n",
        "values = [1, 2, 3]\r\n",
        "\r\n",
        "## true labels for our testing data \r\n",
        "feb_data['levels'] = np.select(conditions, values)\r\n",
        "\r\n",
        "feb_data.info()"
      ],
      "execution_count": null,
      "outputs": [
        {
          "output_type": "stream",
          "text": [
            "<class 'pandas.core.frame.DataFrame'>\n",
            "RangeIndex: 230 entries, 0 to 229\n",
            "Data columns (total 9 columns):\n",
            " #   Column                   Non-Null Count  Dtype  \n",
            "---  ------                   --------------  -----  \n",
            " 0   (country_name, )         230 non-null    object \n",
            " 1   (cases_per_1M, sum)      230 non-null    float64\n",
            " 2   (new_confirmed, mean)    230 non-null    float64\n",
            " 3   (total_confirmed, mean)  230 non-null    float64\n",
            " 4   (confirmed_pop, mean)    230 non-null    float64\n",
            " 5   (population, mean)       230 non-null    float64\n",
            " 6   (new_deceased, mean)     229 non-null    float64\n",
            " 7   (total_deceased, max)    229 non-null    float64\n",
            " 8   (levels, )               230 non-null    int64  \n",
            "dtypes: float64(7), int64(1), object(1)\n",
            "memory usage: 16.3+ KB\n"
          ],
          "name": "stdout"
        }
      ]
    },
    {
      "cell_type": "code",
      "metadata": {
        "id": "uoGAkf56_dIu"
      },
      "source": [
        "feb_data = feb_data.set_index(['country_name'])"
      ],
      "execution_count": null,
      "outputs": []
    },
    {
      "cell_type": "code",
      "metadata": {
        "id": "KC8zmWEvbcDL",
        "colab": {
          "base_uri": "https://localhost:8080/",
          "height": 595
        },
        "outputId": "f09f3c0f-5e8c-4743-f9da-49876d95013f"
      },
      "source": [
        "country_data_sum = country_data.groupby( # grouping by country (takes into account all dates between jan and feb instead of by week)\n",
        "   ['country_name']\n",
        ").agg(\n",
        "    {   'cases_per_1M': ['sum'], # mean of total new cases in that week per 1M ppl\n",
        "        'new_confirmed':['mean'],   # cumulative number of cases over the past 59 days \n",
        "        'total_confirmed': ['mean'], #  mean of total cases of that week\n",
        "        'nconfirmed_tconfirmed': ['mean'], # mean\n",
        "        'confirmed_pop': ['mean'],\n",
        "        'population': ['mean'],\n",
        "        'new_deceased': ['mean'],\n",
        "        'total_deceased': ['max'],\n",
        "        'new_tested':\t['mean'],\n",
        "        'total_tested': ['max'],\n",
        "    }\n",
        ").reset_index()\n",
        "# these numbers represent the entire 2 months we've filtered\n",
        "\n",
        "conditions = [ # if else basically\n",
        "    (country_data_sum['cases_per_1M'] < 500),\n",
        "    (country_data_sum['cases_per_1M'] >= 500) & (country_data_sum['cases_per_1M'] < 1000),\n",
        "    (country_data_sum['cases_per_1M'] >=  1000)\n",
        "    ]\n",
        "values = [1, 2, 3] # levels\n",
        "\n",
        "country_data_sum['levels'] = np.select(conditions, values) # creates column for df\n",
        "\n",
        "# similar to CDC, cases over january and february per 1M population put into levels\n",
        "\n",
        "country_data_sum.info()\n",
        "\n",
        "country_data_sum.head()"
      ],
      "execution_count": null,
      "outputs": [
        {
          "output_type": "stream",
          "text": [
            "<class 'pandas.core.frame.DataFrame'>\n",
            "RangeIndex: 231 entries, 0 to 230\n",
            "Data columns (total 12 columns):\n",
            " #   Column                         Non-Null Count  Dtype  \n",
            "---  ------                         --------------  -----  \n",
            " 0   (country_name, )               231 non-null    object \n",
            " 1   (cases_per_1M, sum)            231 non-null    float64\n",
            " 2   (new_confirmed, mean)          231 non-null    float64\n",
            " 3   (total_confirmed, mean)        231 non-null    float64\n",
            " 4   (nconfirmed_tconfirmed, mean)  218 non-null    float64\n",
            " 5   (confirmed_pop, mean)          231 non-null    float64\n",
            " 6   (population, mean)             231 non-null    float64\n",
            " 7   (new_deceased, mean)           231 non-null    float64\n",
            " 8   (total_deceased, max)          231 non-null    float64\n",
            " 9   (new_tested, mean)             106 non-null    float64\n",
            " 10  (total_tested, max)            110 non-null    float64\n",
            " 11  (levels, )                     231 non-null    int64  \n",
            "dtypes: float64(10), int64(1), object(1)\n",
            "memory usage: 21.8+ KB\n"
          ],
          "name": "stdout"
        },
        {
          "output_type": "execute_result",
          "data": {
            "text/html": [
              "<div>\n",
              "<style scoped>\n",
              "    .dataframe tbody tr th:only-of-type {\n",
              "        vertical-align: middle;\n",
              "    }\n",
              "\n",
              "    .dataframe tbody tr th {\n",
              "        vertical-align: top;\n",
              "    }\n",
              "\n",
              "    .dataframe thead tr th {\n",
              "        text-align: left;\n",
              "    }\n",
              "</style>\n",
              "<table border=\"1\" class=\"dataframe\">\n",
              "  <thead>\n",
              "    <tr>\n",
              "      <th></th>\n",
              "      <th>country_name</th>\n",
              "      <th>cases_per_1M</th>\n",
              "      <th>new_confirmed</th>\n",
              "      <th>total_confirmed</th>\n",
              "      <th>nconfirmed_tconfirmed</th>\n",
              "      <th>confirmed_pop</th>\n",
              "      <th>population</th>\n",
              "      <th>new_deceased</th>\n",
              "      <th>total_deceased</th>\n",
              "      <th>new_tested</th>\n",
              "      <th>total_tested</th>\n",
              "      <th>levels</th>\n",
              "    </tr>\n",
              "    <tr>\n",
              "      <th></th>\n",
              "      <th></th>\n",
              "      <th>sum</th>\n",
              "      <th>mean</th>\n",
              "      <th>mean</th>\n",
              "      <th>mean</th>\n",
              "      <th>mean</th>\n",
              "      <th>mean</th>\n",
              "      <th>mean</th>\n",
              "      <th>max</th>\n",
              "      <th>mean</th>\n",
              "      <th>max</th>\n",
              "      <th></th>\n",
              "    </tr>\n",
              "  </thead>\n",
              "  <tbody>\n",
              "    <tr>\n",
              "      <th>0</th>\n",
              "      <td>Afghanistan</td>\n",
              "      <td>83.40835</td>\n",
              "      <td>53.77966</td>\n",
              "      <td>54757.28814</td>\n",
              "      <td>0.00099</td>\n",
              "      <td>0.00144</td>\n",
              "      <td>38041754.00000</td>\n",
              "      <td>3.98305</td>\n",
              "      <td>2446.00000</td>\n",
              "      <td>nan</td>\n",
              "      <td>nan</td>\n",
              "      <td>1</td>\n",
              "    </tr>\n",
              "    <tr>\n",
              "      <th>1</th>\n",
              "      <td>Albania</td>\n",
              "      <td>17191.00609</td>\n",
              "      <td>834.03390</td>\n",
              "      <td>80483.94915</td>\n",
              "      <td>0.01026</td>\n",
              "      <td>0.02812</td>\n",
              "      <td>2862427.00000</td>\n",
              "      <td>10.67797</td>\n",
              "      <td>1816.00000</td>\n",
              "      <td>3469.80702</td>\n",
              "      <td>447163.00000</td>\n",
              "      <td>3</td>\n",
              "    </tr>\n",
              "    <tr>\n",
              "      <th>2</th>\n",
              "      <td>Algeria</td>\n",
              "      <td>313.14852</td>\n",
              "      <td>228.50847</td>\n",
              "      <td>107117.06780</td>\n",
              "      <td>0.00215</td>\n",
              "      <td>0.00249</td>\n",
              "      <td>43053054.00000</td>\n",
              "      <td>3.84746</td>\n",
              "      <td>2983.00000</td>\n",
              "      <td>nan</td>\n",
              "      <td>nan</td>\n",
              "      <td>1</td>\n",
              "    </tr>\n",
              "    <tr>\n",
              "      <th>3</th>\n",
              "      <td>American Samoa</td>\n",
              "      <td>0.00000</td>\n",
              "      <td>0.00000</td>\n",
              "      <td>0.00000</td>\n",
              "      <td>nan</td>\n",
              "      <td>0.00000</td>\n",
              "      <td>55312.00000</td>\n",
              "      <td>0.00000</td>\n",
              "      <td>0.00000</td>\n",
              "      <td>nan</td>\n",
              "      <td>nan</td>\n",
              "      <td>1</td>\n",
              "    </tr>\n",
              "    <tr>\n",
              "      <th>4</th>\n",
              "      <td>Andorra</td>\n",
              "      <td>35933.73260</td>\n",
              "      <td>46.98305</td>\n",
              "      <td>9754.64407</td>\n",
              "      <td>0.00496</td>\n",
              "      <td>0.12645</td>\n",
              "      <td>77142.00000</td>\n",
              "      <td>0.44068</td>\n",
              "      <td>110.00000</td>\n",
              "      <td>nan</td>\n",
              "      <td>157356.00000</td>\n",
              "      <td>3</td>\n",
              "    </tr>\n",
              "  </tbody>\n",
              "</table>\n",
              "</div>"
            ],
            "text/plain": [
              "     country_name cases_per_1M new_confirmed  ... new_tested total_tested levels\n",
              "                           sum          mean  ...       mean          max       \n",
              "0     Afghanistan     83.40835      53.77966  ...        nan          nan      1\n",
              "1         Albania  17191.00609     834.03390  ... 3469.80702 447163.00000      3\n",
              "2         Algeria    313.14852     228.50847  ...        nan          nan      1\n",
              "3  American Samoa      0.00000       0.00000  ...        nan          nan      1\n",
              "4         Andorra  35933.73260      46.98305  ...        nan 157356.00000      3\n",
              "\n",
              "[5 rows x 12 columns]"
            ]
          },
          "metadata": {
            "tags": []
          },
          "execution_count": 8
        }
      ]
    },
    {
      "cell_type": "markdown",
      "metadata": {
        "id": "znJ6lEK4UAga"
      },
      "source": [
        "## Construct our Response Variable: Each countries labels (overall for january and february)"
      ]
    },
    {
      "cell_type": "code",
      "metadata": {
        "id": "Bsu20ot-b-4A",
        "colab": {
          "base_uri": "https://localhost:8080/",
          "height": 433
        },
        "outputId": "23ae6c6f-210d-4360-b6c6-e1b701b58d79"
      },
      "source": [
        "response_var = country_data_sum[['levels']].copy() # new dataframe containing only the 'levels' column, indexed by country \n",
        "response_var"
      ],
      "execution_count": null,
      "outputs": [
        {
          "output_type": "execute_result",
          "data": {
            "text/html": [
              "<div>\n",
              "<style scoped>\n",
              "    .dataframe tbody tr th:only-of-type {\n",
              "        vertical-align: middle;\n",
              "    }\n",
              "\n",
              "    .dataframe tbody tr th {\n",
              "        vertical-align: top;\n",
              "    }\n",
              "\n",
              "    .dataframe thead tr th {\n",
              "        text-align: left;\n",
              "    }\n",
              "</style>\n",
              "<table border=\"1\" class=\"dataframe\">\n",
              "  <thead>\n",
              "    <tr>\n",
              "      <th></th>\n",
              "      <th>levels</th>\n",
              "    </tr>\n",
              "    <tr>\n",
              "      <th></th>\n",
              "      <th></th>\n",
              "    </tr>\n",
              "  </thead>\n",
              "  <tbody>\n",
              "    <tr>\n",
              "      <th>0</th>\n",
              "      <td>1</td>\n",
              "    </tr>\n",
              "    <tr>\n",
              "      <th>1</th>\n",
              "      <td>3</td>\n",
              "    </tr>\n",
              "    <tr>\n",
              "      <th>2</th>\n",
              "      <td>1</td>\n",
              "    </tr>\n",
              "    <tr>\n",
              "      <th>3</th>\n",
              "      <td>1</td>\n",
              "    </tr>\n",
              "    <tr>\n",
              "      <th>4</th>\n",
              "      <td>3</td>\n",
              "    </tr>\n",
              "    <tr>\n",
              "      <th>...</th>\n",
              "      <td>...</td>\n",
              "    </tr>\n",
              "    <tr>\n",
              "      <th>226</th>\n",
              "      <td>1</td>\n",
              "    </tr>\n",
              "    <tr>\n",
              "      <th>227</th>\n",
              "      <td>1</td>\n",
              "    </tr>\n",
              "    <tr>\n",
              "      <th>228</th>\n",
              "      <td>1</td>\n",
              "    </tr>\n",
              "    <tr>\n",
              "      <th>229</th>\n",
              "      <td>3</td>\n",
              "    </tr>\n",
              "    <tr>\n",
              "      <th>230</th>\n",
              "      <td>3</td>\n",
              "    </tr>\n",
              "  </tbody>\n",
              "</table>\n",
              "<p>231 rows × 1 columns</p>\n",
              "</div>"
            ],
            "text/plain": [
              "    levels\n",
              "          \n",
              "0        1\n",
              "1        3\n",
              "2        1\n",
              "3        1\n",
              "4        3\n",
              "..     ...\n",
              "226      1\n",
              "227      1\n",
              "228      1\n",
              "229      3\n",
              "230      3\n",
              "\n",
              "[231 rows x 1 columns]"
            ]
          },
          "metadata": {
            "tags": []
          },
          "execution_count": 9
        }
      ]
    },
    {
      "cell_type": "code",
      "metadata": {
        "id": "0u3VUv8qcJI2",
        "colab": {
          "base_uri": "https://localhost:8080/"
        },
        "outputId": "52757300-4eff-4ae2-8cee-0055a00c0ee5"
      },
      "source": [
        "response_var.value_counts()"
      ],
      "execution_count": null,
      "outputs": [
        {
          "output_type": "execute_result",
          "data": {
            "text/plain": [
              "(levels, )\n",
              "3             132\n",
              "1              86\n",
              "2              13\n",
              "dtype: int64"
            ]
          },
          "metadata": {
            "tags": []
          },
          "execution_count": 10
        }
      ]
    },
    {
      "cell_type": "code",
      "metadata": {
        "id": "7qLZYbX9cJrO",
        "colab": {
          "base_uri": "https://localhost:8080/",
          "height": 382
        },
        "outputId": "e010b47e-2a35-405e-b543-4f314445f5c5"
      },
      "source": [
        "import seaborn as sns\n",
        "sns.set_theme(style=\"ticks\")\n",
        "sns.color_palette(\"husl\", 3)\n",
        "g = sns.catplot(x = \"levels\", kind = \"count\", palette = \"husl\", data = response_var, order = [1, 2, 3])"
      ],
      "execution_count": null,
      "outputs": [
        {
          "output_type": "display_data",
          "data": {
            "image/png": "[encoded data removed]",
            "text/plain": [
              "<Figure size 360x360 with 1 Axes>"
            ]
          },
          "metadata": {
            "tags": []
          }
        }
      ]
    },
    {
      "cell_type": "markdown",
      "metadata": {
        "id": "LOd8bC1mcRGK"
      },
      "source": [
        ""
      ]
    },
    {
      "cell_type": "code",
      "metadata": {
        "id": "p4GklmPacRnj",
        "colab": {
          "base_uri": "https://localhost:8080/",
          "height": 481
        },
        "outputId": "29b06194-1518-46a3-bb04-4e18051c60e4"
      },
      "source": [
        "train_X = jan_data.drop(['levels'], axis = 1)\n",
        "train_X"
      ],
      "execution_count": null,
      "outputs": [
        {
          "output_type": "execute_result",
          "data": {
            "text/html": [
              "<div>\n",
              "<style scoped>\n",
              "    .dataframe tbody tr th:only-of-type {\n",
              "        vertical-align: middle;\n",
              "    }\n",
              "\n",
              "    .dataframe tbody tr th {\n",
              "        vertical-align: top;\n",
              "    }\n",
              "\n",
              "    .dataframe thead tr th {\n",
              "        text-align: left;\n",
              "    }\n",
              "\n",
              "    .dataframe thead tr:last-of-type th {\n",
              "        text-align: right;\n",
              "    }\n",
              "</style>\n",
              "<table border=\"1\" class=\"dataframe\">\n",
              "  <thead>\n",
              "    <tr>\n",
              "      <th></th>\n",
              "      <th>cases_per_1M</th>\n",
              "      <th>new_confirmed</th>\n",
              "      <th>total_confirmed</th>\n",
              "      <th>confirmed_pop</th>\n",
              "      <th>population</th>\n",
              "      <th>new_deceased</th>\n",
              "      <th>total_deceased</th>\n",
              "    </tr>\n",
              "    <tr>\n",
              "      <th></th>\n",
              "      <th>sum</th>\n",
              "      <th>mean</th>\n",
              "      <th>mean</th>\n",
              "      <th>mean</th>\n",
              "      <th>mean</th>\n",
              "      <th>mean</th>\n",
              "      <th>max</th>\n",
              "    </tr>\n",
              "    <tr>\n",
              "      <th>country_name</th>\n",
              "      <th></th>\n",
              "      <th></th>\n",
              "      <th></th>\n",
              "      <th></th>\n",
              "      <th></th>\n",
              "      <th></th>\n",
              "      <th></th>\n",
              "    </tr>\n",
              "  </thead>\n",
              "  <tbody>\n",
              "    <tr>\n",
              "      <th>Afghanistan</th>\n",
              "      <td>66.63731</td>\n",
              "      <td>81.77419</td>\n",
              "      <td>54075.48387</td>\n",
              "      <td>0.00142</td>\n",
              "      <td>38041754.00000</td>\n",
              "      <td>6.25806</td>\n",
              "      <td>2405.00000</td>\n",
              "    </tr>\n",
              "    <tr>\n",
              "      <th>Albania</th>\n",
              "      <td>7081.05394</td>\n",
              "      <td>653.83871</td>\n",
              "      <td>68027.06452</td>\n",
              "      <td>0.02377</td>\n",
              "      <td>2862427.00000</td>\n",
              "      <td>6.67742</td>\n",
              "      <td>1393.00000</td>\n",
              "    </tr>\n",
              "    <tr>\n",
              "      <th>Algeria</th>\n",
              "      <td>185.07398</td>\n",
              "      <td>257.03226</td>\n",
              "      <td>103804.64516</td>\n",
              "      <td>0.00241</td>\n",
              "      <td>43053054.00000</td>\n",
              "      <td>4.45161</td>\n",
              "      <td>2894.00000</td>\n",
              "    </tr>\n",
              "    <tr>\n",
              "      <th>American Samoa</th>\n",
              "      <td>0.00000</td>\n",
              "      <td>0.00000</td>\n",
              "      <td>0.00000</td>\n",
              "      <td>0.00000</td>\n",
              "      <td>55312.00000</td>\n",
              "      <td>0.00000</td>\n",
              "      <td>0.00000</td>\n",
              "    </tr>\n",
              "    <tr>\n",
              "      <th>Andorra</th>\n",
              "      <td>24046.56348</td>\n",
              "      <td>59.83871</td>\n",
              "      <td>9070.80645</td>\n",
              "      <td>0.11759</td>\n",
              "      <td>77142.00000</td>\n",
              "      <td>0.54839</td>\n",
              "      <td>101.00000</td>\n",
              "    </tr>\n",
              "    <tr>\n",
              "      <th>...</th>\n",
              "      <td>...</td>\n",
              "      <td>...</td>\n",
              "      <td>...</td>\n",
              "      <td>...</td>\n",
              "      <td>...</td>\n",
              "      <td>...</td>\n",
              "      <td>...</td>\n",
              "    </tr>\n",
              "    <tr>\n",
              "      <th>Vietnam</th>\n",
              "      <td>3.90827</td>\n",
              "      <td>12.16129</td>\n",
              "      <td>1565.61290</td>\n",
              "      <td>0.00002</td>\n",
              "      <td>96462106.00000</td>\n",
              "      <td>0.00000</td>\n",
              "      <td>35.00000</td>\n",
              "    </tr>\n",
              "    <tr>\n",
              "      <th>Wallis and Futuna</th>\n",
              "      <td>81.98737</td>\n",
              "      <td>0.03226</td>\n",
              "      <td>4.25806</td>\n",
              "      <td>0.00035</td>\n",
              "      <td>12197.00000</td>\n",
              "      <td>0.00000</td>\n",
              "      <td>0.00000</td>\n",
              "    </tr>\n",
              "    <tr>\n",
              "      <th>Yemen</th>\n",
              "      <td>0.72012</td>\n",
              "      <td>0.67742</td>\n",
              "      <td>2115.54839</td>\n",
              "      <td>0.00007</td>\n",
              "      <td>29161922.00000</td>\n",
              "      <td>0.16129</td>\n",
              "      <td>616.00000</td>\n",
              "    </tr>\n",
              "    <tr>\n",
              "      <th>Zambia</th>\n",
              "      <td>1921.33376</td>\n",
              "      <td>1107.00000</td>\n",
              "      <td>36982.35484</td>\n",
              "      <td>0.00207</td>\n",
              "      <td>17861030.00000</td>\n",
              "      <td>12.64516</td>\n",
              "      <td>780.00000</td>\n",
              "    </tr>\n",
              "    <tr>\n",
              "      <th>Zimbabwe</th>\n",
              "      <td>1343.82868</td>\n",
              "      <td>634.87097</td>\n",
              "      <td>26016.77419</td>\n",
              "      <td>0.00178</td>\n",
              "      <td>14645468.00000</td>\n",
              "      <td>28.09677</td>\n",
              "      <td>1234.00000</td>\n",
              "    </tr>\n",
              "  </tbody>\n",
              "</table>\n",
              "<p>231 rows × 7 columns</p>\n",
              "</div>"
            ],
            "text/plain": [
              "                  cases_per_1M new_confirmed  ... new_deceased total_deceased\n",
              "                           sum          mean  ...         mean            max\n",
              "country_name                                  ...                            \n",
              "Afghanistan           66.63731      81.77419  ...      6.25806     2405.00000\n",
              "Albania             7081.05394     653.83871  ...      6.67742     1393.00000\n",
              "Algeria              185.07398     257.03226  ...      4.45161     2894.00000\n",
              "American Samoa         0.00000       0.00000  ...      0.00000        0.00000\n",
              "Andorra            24046.56348      59.83871  ...      0.54839      101.00000\n",
              "...                        ...           ...  ...          ...            ...\n",
              "Vietnam                3.90827      12.16129  ...      0.00000       35.00000\n",
              "Wallis and Futuna     81.98737       0.03226  ...      0.00000        0.00000\n",
              "Yemen                  0.72012       0.67742  ...      0.16129      616.00000\n",
              "Zambia              1921.33376    1107.00000  ...     12.64516      780.00000\n",
              "Zimbabwe            1343.82868     634.87097  ...     28.09677     1234.00000\n",
              "\n",
              "[231 rows x 7 columns]"
            ]
          },
          "metadata": {
            "tags": []
          },
          "execution_count": 12
        }
      ]
    },
    {
      "cell_type": "code",
      "metadata": {
        "colab": {
          "base_uri": "https://localhost:8080/"
        },
        "id": "0hXqDIe6YKzO",
        "outputId": "7fa94028-871e-47fb-9c01-2a1d6e5c250e"
      },
      "source": [
        "train_Y = jan_data['levels']\n",
        "train_Y"
      ],
      "execution_count": null,
      "outputs": [
        {
          "output_type": "execute_result",
          "data": {
            "text/plain": [
              "country_name\n",
              "Afghanistan          1\n",
              "Albania              3\n",
              "Algeria              1\n",
              "American Samoa       1\n",
              "Andorra              3\n",
              "                    ..\n",
              "Vietnam              1\n",
              "Wallis and Futuna    1\n",
              "Yemen                1\n",
              "Zambia               3\n",
              "Zimbabwe             3\n",
              "Name: levels, Length: 231, dtype: int64"
            ]
          },
          "metadata": {
            "tags": []
          },
          "execution_count": 13
        }
      ]
    },
    {
      "cell_type": "code",
      "metadata": {
        "id": "B2ug8FNUcXND",
        "colab": {
          "base_uri": "https://localhost:8080/",
          "height": 481
        },
        "outputId": "55ffd91e-6f97-465c-fde0-99fdb41bb975"
      },
      "source": [
        "test_X = feb_data.drop(['levels'],axis = 1).fillna(0)\n",
        "test_X"
      ],
      "execution_count": null,
      "outputs": [
        {
          "output_type": "execute_result",
          "data": {
            "text/html": [
              "<div>\n",
              "<style scoped>\n",
              "    .dataframe tbody tr th:only-of-type {\n",
              "        vertical-align: middle;\n",
              "    }\n",
              "\n",
              "    .dataframe tbody tr th {\n",
              "        vertical-align: top;\n",
              "    }\n",
              "\n",
              "    .dataframe thead tr th {\n",
              "        text-align: left;\n",
              "    }\n",
              "\n",
              "    .dataframe thead tr:last-of-type th {\n",
              "        text-align: right;\n",
              "    }\n",
              "</style>\n",
              "<table border=\"1\" class=\"dataframe\">\n",
              "  <thead>\n",
              "    <tr>\n",
              "      <th></th>\n",
              "      <th>cases_per_1M</th>\n",
              "      <th>new_confirmed</th>\n",
              "      <th>total_confirmed</th>\n",
              "      <th>confirmed_pop</th>\n",
              "      <th>population</th>\n",
              "      <th>new_deceased</th>\n",
              "      <th>total_deceased</th>\n",
              "    </tr>\n",
              "    <tr>\n",
              "      <th></th>\n",
              "      <th>sum</th>\n",
              "      <th>mean</th>\n",
              "      <th>mean</th>\n",
              "      <th>mean</th>\n",
              "      <th>mean</th>\n",
              "      <th>mean</th>\n",
              "      <th>max</th>\n",
              "    </tr>\n",
              "    <tr>\n",
              "      <th>country_name</th>\n",
              "      <th></th>\n",
              "      <th></th>\n",
              "      <th></th>\n",
              "      <th></th>\n",
              "      <th></th>\n",
              "      <th></th>\n",
              "      <th></th>\n",
              "    </tr>\n",
              "  </thead>\n",
              "  <tbody>\n",
              "    <tr>\n",
              "      <th>Afghanistan</th>\n",
              "      <td>16.77105</td>\n",
              "      <td>22.78571</td>\n",
              "      <td>55512.14286</td>\n",
              "      <td>0.00146</td>\n",
              "      <td>38041754.00000</td>\n",
              "      <td>1.46429</td>\n",
              "      <td>2446.00000</td>\n",
              "    </tr>\n",
              "    <tr>\n",
              "      <th>Albania</th>\n",
              "      <td>10109.95215</td>\n",
              "      <td>1033.53571</td>\n",
              "      <td>94275.50000</td>\n",
              "      <td>0.03294</td>\n",
              "      <td>2862427.00000</td>\n",
              "      <td>15.10714</td>\n",
              "      <td>1816.00000</td>\n",
              "    </tr>\n",
              "    <tr>\n",
              "      <th>Algeria</th>\n",
              "      <td>128.07454</td>\n",
              "      <td>196.92857</td>\n",
              "      <td>110784.39286</td>\n",
              "      <td>0.00257</td>\n",
              "      <td>43053054.00000</td>\n",
              "      <td>3.17857</td>\n",
              "      <td>2983.00000</td>\n",
              "    </tr>\n",
              "    <tr>\n",
              "      <th>American Samoa</th>\n",
              "      <td>0.00000</td>\n",
              "      <td>0.00000</td>\n",
              "      <td>0.00000</td>\n",
              "      <td>0.00000</td>\n",
              "      <td>55312.00000</td>\n",
              "      <td>0.00000</td>\n",
              "      <td>0.00000</td>\n",
              "    </tr>\n",
              "    <tr>\n",
              "      <th>Andorra</th>\n",
              "      <td>11887.16912</td>\n",
              "      <td>32.75000</td>\n",
              "      <td>10511.75000</td>\n",
              "      <td>0.13626</td>\n",
              "      <td>77142.00000</td>\n",
              "      <td>0.32143</td>\n",
              "      <td>110.00000</td>\n",
              "    </tr>\n",
              "    <tr>\n",
              "      <th>...</th>\n",
              "      <td>...</td>\n",
              "      <td>...</td>\n",
              "      <td>...</td>\n",
              "      <td>...</td>\n",
              "      <td>...</td>\n",
              "      <td>...</td>\n",
              "      <td>...</td>\n",
              "    </tr>\n",
              "    <tr>\n",
              "      <th>Vietnam</th>\n",
              "      <td>6.43776</td>\n",
              "      <td>22.17857</td>\n",
              "      <td>2231.42857</td>\n",
              "      <td>0.00002</td>\n",
              "      <td>96462106.00000</td>\n",
              "      <td>0.00000</td>\n",
              "      <td>35.00000</td>\n",
              "    </tr>\n",
              "    <tr>\n",
              "      <th>Wallis and Futuna</th>\n",
              "      <td>327.94950</td>\n",
              "      <td>0.14286</td>\n",
              "      <td>8.14286</td>\n",
              "      <td>0.00067</td>\n",
              "      <td>12197.00000</td>\n",
              "      <td>0.00000</td>\n",
              "      <td>0.00000</td>\n",
              "    </tr>\n",
              "    <tr>\n",
              "      <th>Yemen</th>\n",
              "      <td>6.44676</td>\n",
              "      <td>6.71429</td>\n",
              "      <td>2173.03571</td>\n",
              "      <td>0.00007</td>\n",
              "      <td>29161922.00000</td>\n",
              "      <td>0.67857</td>\n",
              "      <td>635.00000</td>\n",
              "    </tr>\n",
              "    <tr>\n",
              "      <th>Zambia</th>\n",
              "      <td>1341.46799</td>\n",
              "      <td>855.71429</td>\n",
              "      <td>69471.96429</td>\n",
              "      <td>0.00389</td>\n",
              "      <td>17861030.00000</td>\n",
              "      <td>11.35714</td>\n",
              "      <td>1098.00000</td>\n",
              "    </tr>\n",
              "    <tr>\n",
              "      <th>Zimbabwe</th>\n",
              "      <td>175.27606</td>\n",
              "      <td>91.67857</td>\n",
              "      <td>35223.85714</td>\n",
              "      <td>0.00241</td>\n",
              "      <td>14645468.00000</td>\n",
              "      <td>8.35714</td>\n",
              "      <td>1468.00000</td>\n",
              "    </tr>\n",
              "  </tbody>\n",
              "</table>\n",
              "<p>230 rows × 7 columns</p>\n",
              "</div>"
            ],
            "text/plain": [
              "                  cases_per_1M new_confirmed  ... new_deceased total_deceased\n",
              "                           sum          mean  ...         mean            max\n",
              "country_name                                  ...                            \n",
              "Afghanistan           16.77105      22.78571  ...      1.46429     2446.00000\n",
              "Albania            10109.95215    1033.53571  ...     15.10714     1816.00000\n",
              "Algeria              128.07454     196.92857  ...      3.17857     2983.00000\n",
              "American Samoa         0.00000       0.00000  ...      0.00000        0.00000\n",
              "Andorra            11887.16912      32.75000  ...      0.32143      110.00000\n",
              "...                        ...           ...  ...          ...            ...\n",
              "Vietnam                6.43776      22.17857  ...      0.00000       35.00000\n",
              "Wallis and Futuna    327.94950       0.14286  ...      0.00000        0.00000\n",
              "Yemen                  6.44676       6.71429  ...      0.67857      635.00000\n",
              "Zambia              1341.46799     855.71429  ...     11.35714     1098.00000\n",
              "Zimbabwe             175.27606      91.67857  ...      8.35714     1468.00000\n",
              "\n",
              "[230 rows x 7 columns]"
            ]
          },
          "metadata": {
            "tags": []
          },
          "execution_count": 14
        }
      ]
    },
    {
      "cell_type": "code",
      "metadata": {
        "id": "SlceEPhfcZSp",
        "colab": {
          "base_uri": "https://localhost:8080/"
        },
        "outputId": "af504a59-15f0-487d-8e98-faafa36abde3"
      },
      "source": [
        "test_Y = feb_data['levels']\n",
        "test_Y"
      ],
      "execution_count": null,
      "outputs": [
        {
          "output_type": "execute_result",
          "data": {
            "text/plain": [
              "country_name\n",
              "Afghanistan          1\n",
              "Albania              3\n",
              "Algeria              1\n",
              "American Samoa       1\n",
              "Andorra              3\n",
              "                    ..\n",
              "Vietnam              1\n",
              "Wallis and Futuna    1\n",
              "Yemen                1\n",
              "Zambia               3\n",
              "Zimbabwe             1\n",
              "Name: levels, Length: 230, dtype: int64"
            ]
          },
          "metadata": {
            "tags": []
          },
          "execution_count": 15
        }
      ]
    },
    {
      "cell_type": "markdown",
      "metadata": {
        "id": "JoWXmw4yciXX"
      },
      "source": [
        "## Oversampling\r\n",
        "\r\n",
        "Since there is class imbalance especially among level 2, we use the SMOTEEN package to oversample."
      ]
    },
    {
      "cell_type": "code",
      "metadata": {
        "colab": {
          "base_uri": "https://localhost:8080/"
        },
        "id": "VLsTr8wpUO5u",
        "outputId": "e07d14c3-6f5c-4fde-bf3e-531629061598"
      },
      "source": [
        "from collections import Counter\n",
        "from imblearn.combine import SMOTEENN"
      ],
      "execution_count": null,
      "outputs": [
        {
          "output_type": "stream",
          "text": [
            "/usr/local/lib/python3.7/dist-packages/sklearn/externals/six.py:31: FutureWarning: The module is deprecated in version 0.21 and will be removed in version 0.23 since we've dropped support for Python 2.7. Please rely on the official version of six (https://pypi.org/project/six/).\n",
            "  \"(https://pypi.org/project/six/).\", FutureWarning)\n",
            "/usr/local/lib/python3.7/dist-packages/sklearn/utils/deprecation.py:144: FutureWarning: The sklearn.neighbors.base module is  deprecated in version 0.22 and will be removed in version 0.24. The corresponding classes / functions should instead be imported from sklearn.neighbors. Anything that cannot be imported from sklearn.neighbors is now part of the private API.\n",
            "  warnings.warn(message, FutureWarning)\n"
          ],
          "name": "stderr"
        }
      ]
    },
    {
      "cell_type": "code",
      "metadata": {
        "id": "rUZKcY8mcl5Y",
        "colab": {
          "base_uri": "https://localhost:8080/"
        },
        "outputId": "5fdf1957-4b0b-4fff-bb7e-475812d09803"
      },
      "source": [
        "from imblearn.over_sampling import SMOTE\n",
        "os = SMOTE(random_state=0)\n",
        "columns = train_X.columns\n",
        "os_data_X,os_data_y=os.fit_sample(train_X, train_Y)\n",
        "os_data_X = pd.DataFrame(data=os_data_X,columns=columns )\n",
        "os_data_y= pd.DataFrame(data=os_data_y,columns=['levels'])\n",
        "# we can Check the numbers of our data\n",
        "print(\"length of oversampled data is \",len(os_data_X))\n",
        "print(\"Number of countries level 1 in oversampled data\",len(os_data_y[os_data_y['levels']==1]))\n",
        "print(\"Number of countries level 2 in oversampled data\",len(os_data_y[os_data_y['levels']==2]))\n",
        "print(\"Number of countries level 3 in oversampled data\",len(os_data_y[os_data_y['levels']==3]))"
      ],
      "execution_count": null,
      "outputs": [
        {
          "output_type": "stream",
          "text": [
            "length of oversampled data is  354\n",
            "Number of countries level 1 in oversampled data 118\n",
            "Number of countries level 2 in oversampled data 118\n",
            "Number of countries level 3 in oversampled data 118\n"
          ],
          "name": "stdout"
        },
        {
          "output_type": "stream",
          "text": [
            "/usr/local/lib/python3.7/dist-packages/sklearn/utils/deprecation.py:87: FutureWarning: Function safe_indexing is deprecated; safe_indexing is deprecated in version 0.22 and will be removed in version 0.24.\n",
            "  warnings.warn(msg, category=FutureWarning)\n",
            "/usr/local/lib/python3.7/dist-packages/sklearn/utils/deprecation.py:87: FutureWarning: Function safe_indexing is deprecated; safe_indexing is deprecated in version 0.22 and will be removed in version 0.24.\n",
            "  warnings.warn(msg, category=FutureWarning)\n"
          ],
          "name": "stderr"
        }
      ]
    },
    {
      "cell_type": "markdown",
      "metadata": {
        "id": "hl2XlOSqc8Tm"
      },
      "source": [
        "## OVR Logistic Regression"
      ]
    },
    {
      "cell_type": "code",
      "metadata": {
        "id": "7L64bGL4c6VW",
        "colab": {
          "base_uri": "https://localhost:8080/"
        },
        "outputId": "1381e8fd-eb90-4faa-bb80-729b1fd382da"
      },
      "source": [
        "from sklearn.linear_model import LogisticRegression\n",
        "logmod_ovr = LogisticRegression(multi_class='ovr').fit(os_data_X, os_data_y)\n",
        "logy_pred = logmod_ovr.predict(test_X)"
      ],
      "execution_count": null,
      "outputs": [
        {
          "output_type": "stream",
          "text": [
            "/usr/local/lib/python3.7/dist-packages/sklearn/utils/validation.py:760: DataConversionWarning: A column-vector y was passed when a 1d array was expected. Please change the shape of y to (n_samples, ), for example using ravel().\n",
            "  y = column_or_1d(y, warn=True)\n",
            "/usr/local/lib/python3.7/dist-packages/sklearn/linear_model/_logistic.py:940: ConvergenceWarning: lbfgs failed to converge (status=1):\n",
            "STOP: TOTAL NO. of ITERATIONS REACHED LIMIT.\n",
            "\n",
            "Increase the number of iterations (max_iter) or scale the data as shown in:\n",
            "    https://scikit-learn.org/stable/modules/preprocessing.html\n",
            "Please also refer to the documentation for alternative solver options:\n",
            "    https://scikit-learn.org/stable/modules/linear_model.html#logistic-regression\n",
            "  extra_warning_msg=_LOGISTIC_SOLVER_CONVERGENCE_MSG)\n",
            "/usr/local/lib/python3.7/dist-packages/sklearn/linear_model/_logistic.py:940: ConvergenceWarning: lbfgs failed to converge (status=1):\n",
            "STOP: TOTAL NO. of ITERATIONS REACHED LIMIT.\n",
            "\n",
            "Increase the number of iterations (max_iter) or scale the data as shown in:\n",
            "    https://scikit-learn.org/stable/modules/preprocessing.html\n",
            "Please also refer to the documentation for alternative solver options:\n",
            "    https://scikit-learn.org/stable/modules/linear_model.html#logistic-regression\n",
            "  extra_warning_msg=_LOGISTIC_SOLVER_CONVERGENCE_MSG)\n"
          ],
          "name": "stderr"
        }
      ]
    },
    {
      "cell_type": "code",
      "metadata": {
        "colab": {
          "base_uri": "https://localhost:8080/"
        },
        "id": "w_zGvojNUbUl",
        "outputId": "f89f7d09-3353-439f-8ab6-ba53029804d2"
      },
      "source": [
        "print(logmod_ovr.score(os_data_X, os_data_y))"
      ],
      "execution_count": null,
      "outputs": [
        {
          "output_type": "stream",
          "text": [
            "0.827683615819209\n"
          ],
          "name": "stdout"
        }
      ]
    },
    {
      "cell_type": "code",
      "metadata": {
        "id": "ojZyoc-qdCIl"
      },
      "source": [
        "from sklearn.metrics import plot_confusion_matrix, accuracy_score\n",
        "levels = ['1','2','3']\n",
        "ovrdisp = plot_confusion_matrix(logmod_ovr, test_X, test_Y,\n",
        "                                 display_labels=levels,\n",
        "                                 cmap=plt.cm.Blues)\n",
        "plt.show()"
      ],
      "execution_count": null,
      "outputs": []
    },
    {
      "cell_type": "code",
      "metadata": {
        "id": "PcW2j4LZdE65"
      },
      "source": [
        "print(metrics.classification_report(test_Y, logmod_ovr.predict(test_X)))"
      ],
      "execution_count": null,
      "outputs": []
    },
    {
      "cell_type": "code",
      "metadata": {
        "id": "fGozfwsZdP0s"
      },
      "source": [
        "accuracy_score(test_Y, logy_pred)"
      ],
      "execution_count": null,
      "outputs": []
    },
    {
      "cell_type": "markdown",
      "metadata": {
        "id": "rvMXOP12dSCn"
      },
      "source": [
        "## Multinomial Logistic Regression"
      ]
    },
    {
      "cell_type": "code",
      "metadata": {
        "colab": {
          "base_uri": "https://localhost:8080/"
        },
        "id": "9PYhwzgIiOnQ",
        "outputId": "1eae5f83-9fb7-496b-f6b4-a500abf8df7e"
      },
      "source": [
        "logmod_multi = LogisticRegression(multi_class='multinomial',\r\n",
        "    solver='lbfgs').fit(os_data_X, os_data_y)\r\n",
        "print('Accuracy: %1.4f\\n' % (logmod_multi.score(test_X, test_Y)))"
      ],
      "execution_count": null,
      "outputs": [
        {
          "output_type": "stream",
          "text": [
            "Accuracy: 0.8182\n",
            "\n"
          ],
          "name": "stdout"
        },
        {
          "output_type": "stream",
          "text": [
            "/usr/local/lib/python3.7/dist-packages/sklearn/utils/validation.py:760: DataConversionWarning: A column-vector y was passed when a 1d array was expected. Please change the shape of y to (n_samples, ), for example using ravel().\n",
            "  y = column_or_1d(y, warn=True)\n"
          ],
          "name": "stderr"
        }
      ]
    },
    {
      "cell_type": "code",
      "metadata": {
        "colab": {
          "base_uri": "https://localhost:8080/"
        },
        "id": "QlvXYdsan2He",
        "outputId": "3d7132a2-b50e-4ff2-e83c-350766d6f58a"
      },
      "source": [
        "logmod_multi.score(test_X, test_Y)"
      ],
      "execution_count": null,
      "outputs": [
        {
          "output_type": "execute_result",
          "data": {
            "text/plain": [
              "0.8181818181818182"
            ]
          },
          "metadata": {
            "tags": []
          },
          "execution_count": 85
        }
      ]
    },
    {
      "cell_type": "code",
      "metadata": {
        "colab": {
          "base_uri": "https://localhost:8080/",
          "height": 285
        },
        "id": "XYJRhbwPivJt",
        "outputId": "1d120bed-676c-4ae1-cf43-556d5b69044d"
      },
      "source": [
        "multidisp = plot_confusion_matrix(logmod_multi, test_X, test_Y,\r\n",
        "                                 display_labels=levels,\r\n",
        "                                 cmap=plt.cm.Blues)\r\n",
        "plt.show()"
      ],
      "execution_count": null,
      "outputs": [
        {
          "output_type": "display_data",
          "data": {
            "image/png": "[encoded data removed]",
            "text/plain": [
              "<Figure size 432x288 with 2 Axes>"
            ]
          },
          "metadata": {
            "tags": []
          }
        }
      ]
    },
    {
      "cell_type": "code",
      "metadata": {
        "colab": {
          "base_uri": "https://localhost:8080/"
        },
        "id": "08AqKKvQj9es",
        "outputId": "61d1da34-9a68-4fa2-8f04-6b05d30e7380"
      },
      "source": [
        "print(metrics.classification_report(test_Y, logmod_multi.predict(test_X)))"
      ],
      "execution_count": null,
      "outputs": [
        {
          "output_type": "stream",
          "text": [
            "              precision    recall  f1-score   support\n",
            "\n",
            "           1       0.94      0.78      0.85       105\n",
            "           2       0.14      0.05      0.08        19\n",
            "           3       0.77      0.99      0.87       107\n",
            "\n",
            "    accuracy                           0.82       231\n",
            "   macro avg       0.62      0.61      0.60       231\n",
            "weighted avg       0.80      0.82      0.80       231\n",
            "\n"
          ],
          "name": "stdout"
        }
      ]
    },
    {
      "cell_type": "code",
      "metadata": {
        "colab": {
          "base_uri": "https://localhost:8080/"
        },
        "id": "2QUIwzXIXjmV",
        "outputId": "b2f4b5b7-1aa8-41a3-9865-d284bf861bdf"
      },
      "source": [
        "accuracy_score(test_Y, logmod_multi.predict(test_X))"
      ],
      "execution_count": null,
      "outputs": [
        {
          "output_type": "execute_result",
          "data": {
            "text/plain": [
              "0.8181818181818182"
            ]
          },
          "metadata": {
            "tags": []
          },
          "execution_count": 39
        }
      ]
    },
    {
      "cell_type": "markdown",
      "metadata": {
        "id": "m12TDMUmdnRS"
      },
      "source": [
        "## Ordered Logistic Regression"
      ]
    },
    {
      "cell_type": "code",
      "metadata": {
        "colab": {
          "base_uri": "https://localhost:8080/",
          "height": 531
        },
        "id": "Ctlu_OkRjCmB",
        "outputId": "27d96347-048e-4b40-d55d-ca61b2863ad5"
      },
      "source": [
        "!pip install mord\r\n",
        "import mord as m\r\n",
        "logmod_ord = m.LogisticAT(alpha=0)\r\n",
        "logmod_ord.fit(os_data_X, os_data_y)\r\n",
        "ord_y = logmod_ord.predict(test_X)"
      ],
      "execution_count": null,
      "outputs": [
        {
          "output_type": "stream",
          "text": [
            "Collecting mord\n",
            "  Downloading https://files.pythonhosted.org/packages/67/9d/c791c841501d9ff4ecb76b57f208dec6cf9f925109c59c995ddec80f9b32/mord-0.6.tar.gz\n",
            "Building wheels for collected packages: mord\n",
            "  Building wheel for mord (setup.py) ... \u001b[?25l\u001b[?25hdone\n",
            "  Created wheel for mord: filename=mord-0.6-cp37-none-any.whl size=6007 sha256=381089a3bfeddeedd67e744b611676797a7b68ab4422b66dc11db434d0ce3c65\n",
            "  Stored in directory: /root/.cache/pip/wheels/98/14/b2/244c2cec93a0c6edb29b488bd6b2710ded7e9d457033b86366\n",
            "Successfully built mord\n",
            "Installing collected packages: mord\n",
            "Successfully installed mord-0.6\n"
          ],
          "name": "stdout"
        },
        {
          "output_type": "error",
          "ename": "ValueError",
          "evalue": "ignored",
          "traceback": [
            "\u001b[0;31m---------------------------------------------------------------------------\u001b[0m",
            "\u001b[0;31mValueError\u001b[0m                                Traceback (most recent call last)",
            "\u001b[0;32m<ipython-input-20-ecdab47bc804>\u001b[0m in \u001b[0;36m<module>\u001b[0;34m()\u001b[0m\n\u001b[1;32m      2\u001b[0m \u001b[0;32mimport\u001b[0m \u001b[0mmord\u001b[0m \u001b[0;32mas\u001b[0m \u001b[0mm\u001b[0m\u001b[0;34m\u001b[0m\u001b[0;34m\u001b[0m\u001b[0m\n\u001b[1;32m      3\u001b[0m \u001b[0mlogmod_ord\u001b[0m \u001b[0;34m=\u001b[0m \u001b[0mm\u001b[0m\u001b[0;34m.\u001b[0m\u001b[0mLogisticAT\u001b[0m\u001b[0;34m(\u001b[0m\u001b[0malpha\u001b[0m\u001b[0;34m=\u001b[0m\u001b[0;36m0\u001b[0m\u001b[0;34m)\u001b[0m\u001b[0;34m\u001b[0m\u001b[0;34m\u001b[0m\u001b[0m\n\u001b[0;32m----> 4\u001b[0;31m \u001b[0mlogmod_ord\u001b[0m\u001b[0;34m.\u001b[0m\u001b[0mfit\u001b[0m\u001b[0;34m(\u001b[0m\u001b[0mos_data_X\u001b[0m\u001b[0;34m,\u001b[0m \u001b[0mos_data_y\u001b[0m\u001b[0;34m)\u001b[0m\u001b[0;34m\u001b[0m\u001b[0;34m\u001b[0m\u001b[0m\n\u001b[0m\u001b[1;32m      5\u001b[0m \u001b[0mord_y\u001b[0m \u001b[0;34m=\u001b[0m \u001b[0mlogmod_ord\u001b[0m\u001b[0;34m.\u001b[0m\u001b[0mpredict\u001b[0m\u001b[0;34m(\u001b[0m\u001b[0mtest_X\u001b[0m\u001b[0;34m)\u001b[0m\u001b[0;34m\u001b[0m\u001b[0;34m\u001b[0m\u001b[0m\n",
            "\u001b[0;32m/usr/local/lib/python3.7/dist-packages/mord/threshold_based.py\u001b[0m in \u001b[0;36mfit\u001b[0;34m(self, X, y, sample_weight)\u001b[0m\n\u001b[1;32m    188\u001b[0m     \u001b[0;32mdef\u001b[0m \u001b[0mfit\u001b[0m\u001b[0;34m(\u001b[0m\u001b[0mself\u001b[0m\u001b[0;34m,\u001b[0m \u001b[0mX\u001b[0m\u001b[0;34m,\u001b[0m \u001b[0my\u001b[0m\u001b[0;34m,\u001b[0m \u001b[0msample_weight\u001b[0m\u001b[0;34m=\u001b[0m\u001b[0;32mNone\u001b[0m\u001b[0;34m)\u001b[0m\u001b[0;34m:\u001b[0m\u001b[0;34m\u001b[0m\u001b[0;34m\u001b[0m\u001b[0m\n\u001b[1;32m    189\u001b[0m         \u001b[0m_y\u001b[0m \u001b[0;34m=\u001b[0m \u001b[0mnp\u001b[0m\u001b[0;34m.\u001b[0m\u001b[0marray\u001b[0m\u001b[0;34m(\u001b[0m\u001b[0my\u001b[0m\u001b[0;34m)\u001b[0m\u001b[0;34m.\u001b[0m\u001b[0mastype\u001b[0m\u001b[0;34m(\u001b[0m\u001b[0mnp\u001b[0m\u001b[0;34m.\u001b[0m\u001b[0mint\u001b[0m\u001b[0;34m)\u001b[0m\u001b[0;34m\u001b[0m\u001b[0;34m\u001b[0m\u001b[0m\n\u001b[0;32m--> 190\u001b[0;31m         \u001b[0;32mif\u001b[0m \u001b[0mnp\u001b[0m\u001b[0;34m.\u001b[0m\u001b[0mabs\u001b[0m\u001b[0;34m(\u001b[0m\u001b[0m_y\u001b[0m \u001b[0;34m-\u001b[0m \u001b[0my\u001b[0m\u001b[0;34m)\u001b[0m\u001b[0;34m.\u001b[0m\u001b[0msum\u001b[0m\u001b[0;34m(\u001b[0m\u001b[0;34m)\u001b[0m \u001b[0;34m>\u001b[0m \u001b[0;36m0.1\u001b[0m\u001b[0;34m:\u001b[0m\u001b[0;34m\u001b[0m\u001b[0;34m\u001b[0m\u001b[0m\n\u001b[0m\u001b[1;32m    191\u001b[0m             \u001b[0;32mraise\u001b[0m \u001b[0mValueError\u001b[0m\u001b[0;34m(\u001b[0m\u001b[0;34m'y must only contain integer values'\u001b[0m\u001b[0;34m)\u001b[0m\u001b[0;34m\u001b[0m\u001b[0;34m\u001b[0m\u001b[0m\n\u001b[1;32m    192\u001b[0m         \u001b[0mself\u001b[0m\u001b[0;34m.\u001b[0m\u001b[0mclasses_\u001b[0m \u001b[0;34m=\u001b[0m \u001b[0mnp\u001b[0m\u001b[0;34m.\u001b[0m\u001b[0munique\u001b[0m\u001b[0;34m(\u001b[0m\u001b[0my\u001b[0m\u001b[0;34m)\u001b[0m\u001b[0;34m\u001b[0m\u001b[0;34m\u001b[0m\u001b[0m\n",
            "\u001b[0;32m/usr/local/lib/python3.7/dist-packages/pandas/core/generic.py\u001b[0m in \u001b[0;36m__nonzero__\u001b[0;34m(self)\u001b[0m\n\u001b[1;32m   1328\u001b[0m     \u001b[0;32mdef\u001b[0m \u001b[0m__nonzero__\u001b[0m\u001b[0;34m(\u001b[0m\u001b[0mself\u001b[0m\u001b[0;34m)\u001b[0m\u001b[0;34m:\u001b[0m\u001b[0;34m\u001b[0m\u001b[0;34m\u001b[0m\u001b[0m\n\u001b[1;32m   1329\u001b[0m         raise ValueError(\n\u001b[0;32m-> 1330\u001b[0;31m             \u001b[0;34mf\"The truth value of a {type(self).__name__} is ambiguous. \"\u001b[0m\u001b[0;34m\u001b[0m\u001b[0;34m\u001b[0m\u001b[0m\n\u001b[0m\u001b[1;32m   1331\u001b[0m             \u001b[0;34m\"Use a.empty, a.bool(), a.item(), a.any() or a.all().\"\u001b[0m\u001b[0;34m\u001b[0m\u001b[0;34m\u001b[0m\u001b[0m\n\u001b[1;32m   1332\u001b[0m         )\n",
            "\u001b[0;31mValueError\u001b[0m: The truth value of a Series is ambiguous. Use a.empty, a.bool(), a.item(), a.any() or a.all()."
          ]
        }
      ]
    },
    {
      "cell_type": "code",
      "metadata": {
        "colab": {
          "base_uri": "https://localhost:8080/"
        },
        "id": "9KE8EsHLlTJm",
        "outputId": "a401061f-8f94-44bb-b487-75bf285a4e1c"
      },
      "source": [
        "print('Accuracy: %1.4f\\n' % (metrics.accuracy_score(test_Y, np.round(ord_y))))"
      ],
      "execution_count": null,
      "outputs": [
        {
          "output_type": "stream",
          "text": [
            "Accuracy: 0.8874\n",
            "\n"
          ],
          "name": "stdout"
        }
      ]
    },
    {
      "cell_type": "code",
      "metadata": {
        "colab": {
          "base_uri": "https://localhost:8080/"
        },
        "id": "CMfvBxnamn2w",
        "outputId": "37d8340e-cd30-452b-d843-013d0f3b7ef1"
      },
      "source": [
        "print(metrics.classification_report(test_Y,  \r\n",
        "             np.round(ord_y).astype(int)))"
      ],
      "execution_count": null,
      "outputs": [
        {
          "output_type": "stream",
          "text": [
            "              precision    recall  f1-score   support\n",
            "\n",
            "           1       0.98      0.90      0.94       105\n",
            "           2       0.23      0.16      0.19        19\n",
            "           3       0.88      1.00      0.94       107\n",
            "\n",
            "    accuracy                           0.89       231\n",
            "   macro avg       0.70      0.69      0.69       231\n",
            "weighted avg       0.87      0.89      0.88       231\n",
            "\n"
          ],
          "name": "stdout"
        }
      ]
    },
    {
      "cell_type": "markdown",
      "metadata": {
        "id": "xIDGCvfWuPH5"
      },
      "source": [
        "Ordered Logistic Regression gives the best classification report and overall accuracy."
      ]
    },
    {
      "cell_type": "markdown",
      "metadata": {
        "id": "sBUe8HDqSr5C"
      },
      "source": [
        "# SVM"
      ]
    },
    {
      "cell_type": "code",
      "metadata": {
        "id": "c81o7v9RQiX_",
        "colab": {
          "base_uri": "https://localhost:8080/"
        },
        "outputId": "72bd3314-e12c-4e7f-ff98-79867abe6864"
      },
      "source": [
        "import pandas as pd\r\n",
        "from sklearn.svm import SVC\r\n",
        "\r\n",
        "test_x = pd.read_csv('/content/test_x.csv')\r\n",
        "train_x = pd.read_csv('/content/train_x.csv')\r\n",
        "test_y = pd.read_csv('/content/test_y.csv')\r\n",
        "train_y = pd.read_csv('/content/train_y.csv')\r\n",
        "\r\n",
        "#remove the extra cols and change the datafrmae to a matrix\r\n",
        "x = train_x.drop(['id','country_name'],axis = 1)\r\n",
        "x = x.values.reshape(-1,7)\r\n",
        "y = train_y['levels']\r\n",
        "y = y.values\r\n",
        "\r\n",
        "#reduce sample\r\n",
        "x = x[1:20]\r\n",
        "y = y[1:20]\r\n",
        "\r\n",
        "#fit the model\r\n",
        "model = SVC(kernel='linear', C=1E10)\r\n",
        "model.fit(x,y)"
      ],
      "execution_count": null,
      "outputs": [
        {
          "output_type": "execute_result",
          "data": {
            "text/plain": [
              "SVC(C=10000000000.0, break_ties=False, cache_size=200, class_weight=None,\n",
              "    coef0=0.0, decision_function_shape='ovr', degree=3, gamma='scale',\n",
              "    kernel='linear', max_iter=-1, probability=False, random_state=None,\n",
              "    shrinking=True, tol=0.001, verbose=False)"
            ]
          },
          "metadata": {
            "tags": []
          },
          "execution_count": 1
        }
      ]
    },
    {
      "cell_type": "code",
      "metadata": {
        "colab": {
          "base_uri": "https://localhost:8080/"
        },
        "id": "qkNJ9ARdRc0i",
        "outputId": "14dcad66-9c73-40df-c3bb-f7a53dbf1a9c"
      },
      "source": [
        "from sklearn.metrics import accuracy_score\r\n",
        "\r\n",
        "x_test = test_x.drop(['id','country_name'],axis = 1)\r\n",
        "x_test = x_test.values.reshape(-1,7)\r\n",
        "y_test = test_y['levels']\r\n",
        "y_test = y_test.values\r\n",
        "\r\n",
        "predict = model.predict(x_test)\r\n",
        "accurate = accuracy_score(y_test,predict,normalize=False)\r\n",
        "#model.score(x_test,y_test)\r\n",
        "accuracy_score(y_test,predict)"
      ],
      "execution_count": null,
      "outputs": [
        {
          "output_type": "execute_result",
          "data": {
            "text/plain": [
              "0.8095238095238095"
            ]
          },
          "metadata": {
            "tags": []
          },
          "execution_count": 2
        }
      ]
    },
    {
      "cell_type": "code",
      "metadata": {
        "colab": {
          "base_uri": "https://localhost:8080/"
        },
        "id": "vblUZrwdAcN-",
        "outputId": "b31f8d36-1a09-4062-8de9-b2f6f0f1ef7d"
      },
      "source": [
        "#SVM with reduced variable\r\n",
        "\r\n",
        "x = train_x.drop(['id','country_name','population mean'],axis = 1)\r\n",
        "x = x.values.reshape(-1,6)\r\n",
        "y = train_y['levels']\r\n",
        "y = y.values\r\n",
        "\r\n",
        "model = SVC(kernel='linear', C=1E10)\r\n",
        "model.fit(x,y)"
      ],
      "execution_count": null,
      "outputs": [
        {
          "output_type": "execute_result",
          "data": {
            "text/plain": [
              "SVC(C=10000000000.0, break_ties=False, cache_size=200, class_weight=None,\n",
              "    coef0=0.0, decision_function_shape='ovr', degree=3, gamma='scale',\n",
              "    kernel='linear', max_iter=-1, probability=False, random_state=None,\n",
              "    shrinking=True, tol=0.001, verbose=False)"
            ]
          },
          "metadata": {
            "tags": []
          },
          "execution_count": 3
        }
      ]
    },
    {
      "cell_type": "code",
      "metadata": {
        "colab": {
          "base_uri": "https://localhost:8080/"
        },
        "id": "Xx9sWNx1BDqa",
        "outputId": "01a21806-b598-40c3-c4e0-d2982c921cf8"
      },
      "source": [
        "x_test = test_x.drop(['id','country_name','population mean'],axis = 1)\r\n",
        "x_test = x_test.values.reshape(-1,6)\r\n",
        "y_test = test_y['levels']\r\n",
        "y_test = y_test.values\r\n",
        "\r\n",
        "predict = model.predict(x_test)\r\n",
        "accurate = accuracy_score(y_test,predict,normalize=False)\r\n",
        "#model.score(x_test,y_test)\r\n",
        "accuracy_score(y_test,predict)"
      ],
      "execution_count": null,
      "outputs": [
        {
          "output_type": "execute_result",
          "data": {
            "text/plain": [
              "0.974025974025974"
            ]
          },
          "metadata": {
            "tags": []
          },
          "execution_count": 5
        }
      ]
    },
    {
      "cell_type": "markdown",
      "metadata": {
        "id": "Eim5gBLRd6Q3"
      },
      "source": [
        "# Naive Bayes Classifier - Gaussian"
      ]
    },
    {
      "cell_type": "code",
      "metadata": {
        "colab": {
          "base_uri": "https://localhost:8080/"
        },
        "id": "PmR5h6AxT3EM",
        "outputId": "bededde4-6219-4989-dd37-01521609993e"
      },
      "source": [
        "from sklearn.naive_bayes import GaussianNB\n",
        "gNB = GaussianNB()\n",
        "gNB_train = gNB.fit(os_data_X, os_data_y)\n",
        "gNB_pred = gNB_train.predict(test_X)"
      ],
      "execution_count": null,
      "outputs": [
        {
          "output_type": "stream",
          "text": [
            "/usr/local/lib/python3.7/dist-packages/sklearn/naive_bayes.py:206: DataConversionWarning: A column-vector y was passed when a 1d array was expected. Please change the shape of y to (n_samples, ), for example using ravel().\n",
            "  y = column_or_1d(y, warn=True)\n"
          ],
          "name": "stderr"
        }
      ]
    },
    {
      "cell_type": "code",
      "metadata": {
        "colab": {
          "base_uri": "https://localhost:8080/"
        },
        "id": "YPpoB9GTUYFf",
        "outputId": "17fce654-cf70-45d2-f10f-e52c76c231b1"
      },
      "source": [
        "from sklearn.metrics import accuracy_score\n",
        "# Classification accuracy on the training data\n",
        "print('Classification Accuracy on training set:', gNB_train.score(os_data_X, os_data_y))\n",
        "# Classification accuracy on the testing data \n",
        "print('Classification Accuracy on testing set:', accuracy_score(test_Y, gNB_pred))"
      ],
      "execution_count": null,
      "outputs": [
        {
          "output_type": "stream",
          "text": [
            "Classification Accuracy on training set: 0.423728813559322\n",
            "Classification Accuracy on testing set: 0.21212121212121213\n"
          ],
          "name": "stdout"
        }
      ]
    },
    {
      "cell_type": "markdown",
      "metadata": {
        "id": "3rMwvvLpeCdS"
      },
      "source": [
        "# Naive Bayes Classifier - Multinomial"
      ]
    },
    {
      "cell_type": "code",
      "metadata": {
        "colab": {
          "base_uri": "https://localhost:8080/"
        },
        "id": "veWuI0YjUuVK",
        "outputId": "1ffcbe87-17cb-43db-aa05-9f0e600f2d98"
      },
      "source": [
        "from sklearn.naive_bayes import MultinomialNB\n",
        "mNB = MultinomialNB() # multinomial naive bayes classifier for multiclass classification \n",
        "mNB_train = mNB.fit(os_data_X, os_data_y)\n",
        "mNB_pred = mNB_train.predict(test_X)"
      ],
      "execution_count": null,
      "outputs": [
        {
          "output_type": "stream",
          "text": [
            "/usr/local/lib/python3.7/dist-packages/sklearn/utils/validation.py:760: DataConversionWarning: A column-vector y was passed when a 1d array was expected. Please change the shape of y to (n_samples, ), for example using ravel().\n",
            "  y = column_or_1d(y, warn=True)\n"
          ],
          "name": "stderr"
        }
      ]
    },
    {
      "cell_type": "code",
      "metadata": {
        "colab": {
          "base_uri": "https://localhost:8080/"
        },
        "id": "q1ADcRNmVWMf",
        "outputId": "36e465b8-8183-4eb8-c8e8-644a6398ae86"
      },
      "source": [
        "# Classification accuracy on the training data\n",
        "print('Classification Accuracy on training set:', mNB_train.score(os_data_X, os_data_y))\n",
        "# Classification accuracy on the testing data \n",
        "print('Classification Accuracy on testing set:', accuracy_score(test_Y, mNB_pred))"
      ],
      "execution_count": null,
      "outputs": [
        {
          "output_type": "stream",
          "text": [
            "Classification Accuracy on training set: 0.7146892655367232\n",
            "Classification Accuracy on testing set: 0.7965367965367965\n"
          ],
          "name": "stdout"
        }
      ]
    }
  ]
}